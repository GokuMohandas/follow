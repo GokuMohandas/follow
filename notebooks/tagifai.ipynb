{
  "nbformat": 4,
  "nbformat_minor": 0,
  "metadata": {
    "accelerator": "GPU",
    "colab": {
      "name": "tagifai.ipynb",
      "provenance": [],
      "collapsed_sections": [],
      "toc_visible": true
    },
    "kernelspec": {
      "display_name": "Python 3",
      "language": "python",
      "name": "python3"
    },
    "language_info": {
      "codemirror_mode": {
        "name": "ipython",
        "version": 3
      },
      "file_extension": ".py",
      "mimetype": "text/x-python",
      "name": "python",
      "nbconvert_exporter": "python",
      "pygments_lexer": "ipython3",
      "version": "3.7.10"
    },
    "toc-autonumbering": false,
    "toc-showcode": false,
    "toc-showmarkdowntxt": false,
    "toc-showtags": false,
    "widgets": {
      "application/vnd.jupyter.widget-state+json": {
        "bdcf0a4e930047d4bf0233ec50c48de5": {
          "model_module": "@jupyter-widgets/controls",
          "model_name": "VBoxModel",
          "model_module_version": "1.5.0",
          "state": {
            "_view_name": "VBoxView",
            "_dom_classes": [
              "widget-interact"
            ],
            "_model_name": "VBoxModel",
            "_view_module": "@jupyter-widgets/controls",
            "_model_module_version": "1.5.0",
            "_view_count": null,
            "_view_module_version": "1.5.0",
            "box_style": "",
            "layout": "IPY_MODEL_f084e9794c0342c3ba4b7497472f3c86",
            "_model_module": "@jupyter-widgets/controls",
            "children": [
              "IPY_MODEL_c3489da1f1094829a61f7a8a0d3d8de6",
              "IPY_MODEL_63ca8ab59f9e4eb9a514524b7e3890c2"
            ]
          }
        },
        "f084e9794c0342c3ba4b7497472f3c86": {
          "model_module": "@jupyter-widgets/base",
          "model_name": "LayoutModel",
          "model_module_version": "1.2.0",
          "state": {
            "_view_name": "LayoutView",
            "grid_template_rows": null,
            "right": null,
            "justify_content": null,
            "_view_module": "@jupyter-widgets/base",
            "overflow": null,
            "_model_module_version": "1.2.0",
            "_view_count": null,
            "flex_flow": null,
            "width": null,
            "min_width": null,
            "border": null,
            "align_items": null,
            "bottom": null,
            "_model_module": "@jupyter-widgets/base",
            "top": null,
            "grid_column": null,
            "overflow_y": null,
            "overflow_x": null,
            "grid_auto_flow": null,
            "grid_area": null,
            "grid_template_columns": null,
            "flex": null,
            "_model_name": "LayoutModel",
            "justify_items": null,
            "grid_row": null,
            "max_height": null,
            "align_content": null,
            "visibility": null,
            "align_self": null,
            "height": null,
            "min_height": null,
            "padding": null,
            "grid_auto_rows": null,
            "grid_gap": null,
            "max_width": null,
            "order": null,
            "_view_module_version": "1.2.0",
            "grid_template_areas": null,
            "object_position": null,
            "object_fit": null,
            "grid_auto_columns": null,
            "margin": null,
            "display": null,
            "left": null
          }
        },
        "c3489da1f1094829a61f7a8a0d3d8de6": {
          "model_module": "@jupyter-widgets/controls",
          "model_name": "DropdownModel",
          "model_module_version": "1.5.0",
          "state": {
            "_options_labels": [
              "3d",
              "action-localization",
              "action-recognition",
              "active-learning",
              "activity-recognition",
              "adversarial-attacks",
              "adversarial-defense",
              "adversarial-image-detection",
              "adversarial-learning",
              "adversarial-text",
              "angular",
              "animations",
              "annotation",
              "anomaly-detection",
              "arima",
              "artificial-general-intelligence",
              "attention",
              "audio-classification",
              "audio-generation",
              "audio-tagging",
              "autoencoders",
              "automl",
              "autonomous-vehicles",
              "aws",
              "azure",
              "backend",
              "bayesian-deep-learning",
              "bayesian-inference",
              "bidaf",
              "boundary-detection",
              "c",
              "c#",
              "c++",
              "caffe",
              "calibration",
              "camera-localization",
              "captioning",
              "causal-inference",
              "chainer",
              "character-embeddings",
              "chunking",
              "ci-cd",
              "classification",
              "clustering",
              "code-generation",
              "code-summarization",
              "collaborative-filtering",
              "collaborative-ranking",
              "colorization",
              "common-sense-reasoning",
              "computer-vision",
              "conditional-random-fields",
              "conditional-variational-autoencoders",
              "constituency-parsing",
              "contextualized-embeddings",
              "contour-detection",
              "contrastive-loss",
              "conversational-ai",
              "convolutional-neural-networks",
              "coreference-resolution",
              "coreml",
              "counterfactuals",
              "cropping",
              "cross-lingual",
              "crowd-counting",
              "css",
              "d3",
              "data-augmentation",
              "data-mining",
              "data-science",
              "data-summarization",
              "databases",
              "deblurring",
              "decision-making",
              "decision-trees",
              "deconvolution",
              "deep-learning",
              "deep-q-networks",
              "denoising",
              "density-estimation",
              "dependency-parsing",
              "depth-completion",
              "depth-estimation",
              "devops",
              "dialogue",
              "dictionary-learning",
              "dimensionality-reduction",
              "disease-prediction",
              "disparity-estimation",
              "distributed-training",
              "django",
              "dl4j",
              "dlib",
              "docker",
              "document-classification",
              "document-embeddings",
              "document-ranking",
              "domain-adaptation",
              "drug-discovery",
              "dynet",
              "edge-detection",
              "embeddings",
              "emotion-recognition",
              "enhancement",
              "entity-alignment",
              "entity-disambiguation",
              "entity-extraction",
              "entity-linking",
              "entity-resolution",
              "entity-typing",
              "expectation-maximization",
              "experiment-tracking",
              "exploratory-data-analysis",
              "face-detection",
              "face-generation",
              "face-reconstruction",
              "fake-news-detection",
              "fastai",
              "fastapi",
              "fasttext",
              "feature-engineering",
              "feature-importance",
              "feature-selection",
              "few-shot-learning",
              "fine-tuning",
              "flask",
              "forecasting",
              "fraud-detection",
              "frontend",
              "gated-recurrent-units",
              "gaussian-processes",
              "gaze-estimation",
              "generation",
              "generative-adversarial-networks",
              "geometric-deep-learning",
              "gesture-recognition",
              "git",
              "gluon",
              "go",
              "gpt",
              "gradient-boosting",
              "graph-classification",
              "graph-clustering",
              "graph-construction",
              "graph-convolutional-networks",
              "graph-embedding",
              "graph-neural-networks",
              "graph-representation-learning",
              "graph-similarity",
              "graphql",
              "graphs",
              "grasping",
              "h2o",
              "hand-pose-estimation",
              "haskell",
              "hidden-markov-models",
              "hierarchical-reinforcement-learning",
              "highway-networks",
              "html",
              "huggingface",
              "human-detection",
              "hyperparameter-optimization",
              "image-captioning",
              "image-categorization",
              "image-classification",
              "image-clustering",
              "image-compression",
              "image-enhancement",
              "image-generation",
              "image-imputation",
              "image-recognition",
              "image-reconstruction",
              "image-restoration",
              "image-similarity-search",
              "image-to-image-translation",
              "imitation-learning",
              "imputation",
              "inference",
              "information-extraction",
              "information-retrieval",
              "instance-segmentation",
              "integration-tests",
              "intent-classification",
              "intent-detection",
              "interpretability",
              "java",
              "javascript",
              "jax",
              "julia",
              "k-nearest-neighbors",
              "keras",
              "keyword-extraction",
              "keyword-spotting",
              "knowledge-base",
              "knowledge-base-question-answering",
              "knowledge-distillation",
              "knowledge-graphs",
              "kuberflow",
              "kubernetes",
              "language-identification",
              "language-modeling",
              "latent-dirichlet-allocation",
              "learning-rates",
              "lemmatization",
              "lexical-simplification",
              "linear-discriminant-analysis",
              "linear-regression",
              "linguistic-acceptability",
              "logistic-regression",
              "lstm",
              "machine-learning",
              "machine-translation",
              "matplotlib",
              "medical-imaging",
              "meta-learning",
              "metrics",
              "mlops",
              "model-compression",
              "model-management",
              "model-selection",
              "morphological-analysis",
              "morphological-inflection",
              "morphological-tagging",
              "mortality-prediction",
              "motion-capture",
              "motion-estimation",
              "motion-planning",
              "motion-segmentation",
              "multi-agent-reinforcement-learning",
              "multi-armed-bandits",
              "multi-modal",
              "multi-task-learning",
              "multilayer-perceptrons",
              "multilingual",
              "multinomial-regression",
              "music-generation",
              "mxnet",
              "naive-bayes",
              "named-entity-recognition",
              "natural-language-inference",
              "natural-language-processing",
              "natural-language-understanding",
              "navigation",
              "neural-networks",
              "node-classification",
              "node-js",
              "object-classification",
              "object-counting",
              "object-detection",
              "object-localization",
              "object-recognition",
              "object-reconstruction",
              "object-tracking",
              "one-shot-learning",
              "onnx",
              "open-refine",
              "optical-character-recognition",
              "optical-flow-estimation",
              "optimizer",
              "outlier-detection",
              "paddlepaddle",
              "paraphrase-identification",
              "part-of-speech-tagging",
              "passage-re-ranking",
              "phenotyping",
              "php",
              "phrase-grounding",
              "point-cloud-generation",
              "policy-gradient-methods",
              "pose-estimation",
              "pose-tracking",
              "preprocessing",
              "pretraining",
              "principal-component-analysis",
              "privacy",
              "production",
              "pruning",
              "python",
              "pytorch",
              "q-learning",
              "quantization",
              "quantum-machine-learning",
              "quasi-recurrent-neural-networks",
              "question-answering",
              "question-generation",
              "question-similarity",
              "r",
              "random-forests",
              "react",
              "reading-comprehension",
              "recommendation-systems",
              "recurrent-neural-networks",
              "recursive-neural-networks",
              "regression",
              "reinforcement-learning",
              "relation-classification",
              "relation-extraction",
              "relational-reasoning",
              "representation-learning",
              "residual-networks",
              "robotics",
              "ruby",
              "saas",
              "safe-exploration",
              "sarcasm-detection",
              "scala",
              "scene-classification",
              "scene-generation",
              "scikit-learn",
              "search",
              "segmentation",
              "self-attention",
              "self-supervised-learning",
              "semantic-composition",
              "semantic-parsing",
              "semantic-role-labeling",
              "semantic-segmentation",
              "semi-supervised-learning",
              "sentence-embeddings",
              "sentiment-analysis",
              "sequence-to-sequence",
              "siamese-networks",
              "similarity-search",
              "slot-filling",
              "sonnet",
              "spacy",
              "spark",
              "spatial-temporal-cnn",
              "speaker-diarization",
              "speaker-identification",
              "speaker-separation",
              "speaker-verification",
              "speech",
              "speech-enhancement",
              "speech-recognition",
              "speech-separation",
              "speech-synthesis",
              "spoken-dialogue-systems",
              "sql",
              "stance-detection",
              "stata",
              "stereo-matching",
              "stochastic-optimization",
              "streaming-data",
              "streamlit",
              "style-transfer",
              "subjectivity-analysis",
              "super-resolution",
              "support-vector-machines",
              "surveillance",
              "survival-analysis",
              "swift",
              "systems-design",
              "tabular",
              "temporal-cnn",
              "tensor-networks",
              "tensorflow",
              "tensorflow-js",
              "tensorflow-lite",
              "text-attribute-transfer",
              "text-classification",
              "text-generation",
              "text-matching",
              "text-similarity",
              "text-simplification",
              "text-summarization",
              "text-to-speech-synthesis",
              "theano",
              "time-series",
              "time-series-classification",
              "time-series-clustering",
              "time-series-forecasting",
              "time-series-prediction",
              "tokenization",
              "topic-modeling",
              "torch",
              "transfer-learning",
              "transformers",
              "unit-tests",
              "unsupervised-learning",
              "variational-autoencoders",
              "video-captioning",
              "video-classification",
              "video-question-answering",
              "video-semantic-segmentation",
              "video-summarization",
              "visual-navigation",
              "visual-odometry",
              "visual-question-answering",
              "visual-reasoning",
              "visual-tracking",
              "visualization",
              "wandb",
              "word-alignment",
              "word-embeddings",
              "word-sense-disambiguation",
              "word-sense-induction",
              "xgboost",
              "xlnet",
              "zero-shot-learning"
            ],
            "_view_name": "DropdownView",
            "style": "IPY_MODEL_3ff1259660ac48b0956b3819fa95b5c0",
            "_dom_classes": [],
            "description": "tag",
            "_model_name": "DropdownModel",
            "index": 283,
            "_view_module": "@jupyter-widgets/controls",
            "_model_module_version": "1.5.0",
            "_view_count": null,
            "disabled": false,
            "_view_module_version": "1.5.0",
            "description_tooltip": null,
            "_model_module": "@jupyter-widgets/controls",
            "layout": "IPY_MODEL_02166c9af03d4476bb8b94f6424ed40e"
          }
        },
        "63ca8ab59f9e4eb9a514524b7e3890c2": {
          "model_module": "@jupyter-widgets/output",
          "model_name": "OutputModel",
          "model_module_version": "1.0.0",
          "state": {
            "_view_name": "OutputView",
            "msg_id": "",
            "_dom_classes": [],
            "_model_name": "OutputModel",
            "outputs": [
              {
                "output_type": "stream",
                "name": "stdout",
                "text": [
                  "{\n",
                  "  \"aliases\": [\n",
                  "    \"qa\"\n",
                  "  ],\n",
                  "  \"parents\": [\n",
                  "    \"natural-language-processing\"\n",
                  "  ]\n",
                  "}\n"
                ]
              }
            ],
            "_view_module": "@jupyter-widgets/output",
            "_model_module_version": "1.0.0",
            "_view_count": null,
            "_view_module_version": "1.0.0",
            "layout": "IPY_MODEL_15fe95599879419280726a9295b169a3",
            "_model_module": "@jupyter-widgets/output"
          }
        },
        "3ff1259660ac48b0956b3819fa95b5c0": {
          "model_module": "@jupyter-widgets/controls",
          "model_name": "DescriptionStyleModel",
          "model_module_version": "1.5.0",
          "state": {
            "_view_name": "StyleView",
            "_model_name": "DescriptionStyleModel",
            "description_width": "",
            "_view_module": "@jupyter-widgets/base",
            "_model_module_version": "1.5.0",
            "_view_count": null,
            "_view_module_version": "1.2.0",
            "_model_module": "@jupyter-widgets/controls"
          }
        },
        "02166c9af03d4476bb8b94f6424ed40e": {
          "model_module": "@jupyter-widgets/base",
          "model_name": "LayoutModel",
          "model_module_version": "1.2.0",
          "state": {
            "_view_name": "LayoutView",
            "grid_template_rows": null,
            "right": null,
            "justify_content": null,
            "_view_module": "@jupyter-widgets/base",
            "overflow": null,
            "_model_module_version": "1.2.0",
            "_view_count": null,
            "flex_flow": null,
            "width": null,
            "min_width": null,
            "border": null,
            "align_items": null,
            "bottom": null,
            "_model_module": "@jupyter-widgets/base",
            "top": null,
            "grid_column": null,
            "overflow_y": null,
            "overflow_x": null,
            "grid_auto_flow": null,
            "grid_area": null,
            "grid_template_columns": null,
            "flex": null,
            "_model_name": "LayoutModel",
            "justify_items": null,
            "grid_row": null,
            "max_height": null,
            "align_content": null,
            "visibility": null,
            "align_self": null,
            "height": null,
            "min_height": null,
            "padding": null,
            "grid_auto_rows": null,
            "grid_gap": null,
            "max_width": null,
            "order": null,
            "_view_module_version": "1.2.0",
            "grid_template_areas": null,
            "object_position": null,
            "object_fit": null,
            "grid_auto_columns": null,
            "margin": null,
            "display": null,
            "left": null
          }
        },
        "15fe95599879419280726a9295b169a3": {
          "model_module": "@jupyter-widgets/base",
          "model_name": "LayoutModel",
          "model_module_version": "1.2.0",
          "state": {
            "_view_name": "LayoutView",
            "grid_template_rows": null,
            "right": null,
            "justify_content": null,
            "_view_module": "@jupyter-widgets/base",
            "overflow": null,
            "_model_module_version": "1.2.0",
            "_view_count": null,
            "flex_flow": null,
            "width": null,
            "min_width": null,
            "border": null,
            "align_items": null,
            "bottom": null,
            "_model_module": "@jupyter-widgets/base",
            "top": null,
            "grid_column": null,
            "overflow_y": null,
            "overflow_x": null,
            "grid_auto_flow": null,
            "grid_area": null,
            "grid_template_columns": null,
            "flex": null,
            "_model_name": "LayoutModel",
            "justify_items": null,
            "grid_row": null,
            "max_height": null,
            "align_content": null,
            "visibility": null,
            "align_self": null,
            "height": null,
            "min_height": null,
            "padding": null,
            "grid_auto_rows": null,
            "grid_gap": null,
            "max_width": null,
            "order": null,
            "_view_module_version": "1.2.0",
            "grid_template_areas": null,
            "object_position": null,
            "object_fit": null,
            "grid_auto_columns": null,
            "margin": null,
            "display": null,
            "left": null
          }
        },
        "8e4860a2a7e94b26960e65c928f4850f": {
          "model_module": "@jupyter-widgets/controls",
          "model_name": "VBoxModel",
          "model_module_version": "1.5.0",
          "state": {
            "_view_name": "VBoxView",
            "_dom_classes": [
              "widget-interact"
            ],
            "_model_name": "VBoxModel",
            "_view_module": "@jupyter-widgets/controls",
            "_model_module_version": "1.5.0",
            "_view_count": null,
            "_view_module_version": "1.5.0",
            "box_style": "",
            "layout": "IPY_MODEL_674a18b7ecfc484eb7fd3ef912810c91",
            "_model_module": "@jupyter-widgets/controls",
            "children": [
              "IPY_MODEL_ecafbdf41693451a98e72e5a8b8c9656",
              "IPY_MODEL_9a10f66838db4dc8b4b3939fc04beb70"
            ]
          }
        },
        "674a18b7ecfc484eb7fd3ef912810c91": {
          "model_module": "@jupyter-widgets/base",
          "model_name": "LayoutModel",
          "model_module_version": "1.2.0",
          "state": {
            "_view_name": "LayoutView",
            "grid_template_rows": null,
            "right": null,
            "justify_content": null,
            "_view_module": "@jupyter-widgets/base",
            "overflow": null,
            "_model_module_version": "1.2.0",
            "_view_count": null,
            "flex_flow": null,
            "width": null,
            "min_width": null,
            "border": null,
            "align_items": null,
            "bottom": null,
            "_model_module": "@jupyter-widgets/base",
            "top": null,
            "grid_column": null,
            "overflow_y": null,
            "overflow_x": null,
            "grid_auto_flow": null,
            "grid_area": null,
            "grid_template_columns": null,
            "flex": null,
            "_model_name": "LayoutModel",
            "justify_items": null,
            "grid_row": null,
            "max_height": null,
            "align_content": null,
            "visibility": null,
            "align_self": null,
            "height": null,
            "min_height": null,
            "padding": null,
            "grid_auto_rows": null,
            "grid_gap": null,
            "max_width": null,
            "order": null,
            "_view_module_version": "1.2.0",
            "grid_template_areas": null,
            "object_position": null,
            "object_fit": null,
            "grid_auto_columns": null,
            "margin": null,
            "display": null,
            "left": null
          }
        },
        "ecafbdf41693451a98e72e5a8b8c9656": {
          "model_module": "@jupyter-widgets/controls",
          "model_name": "IntSliderModel",
          "model_module_version": "1.5.0",
          "state": {
            "_view_name": "IntSliderView",
            "style": "IPY_MODEL_37cca4ad29c34f54a42531848e94af16",
            "_dom_classes": [],
            "description": "min_tag_freq",
            "step": 1,
            "_model_name": "IntSliderModel",
            "orientation": "horizontal",
            "max": 424,
            "_view_module": "@jupyter-widgets/controls",
            "_model_module_version": "1.5.0",
            "value": 30,
            "_view_count": null,
            "disabled": false,
            "_view_module_version": "1.5.0",
            "min": 0,
            "continuous_update": true,
            "readout_format": "d",
            "description_tooltip": null,
            "readout": true,
            "_model_module": "@jupyter-widgets/controls",
            "layout": "IPY_MODEL_1a1b57d2031c496cb07d63db5766bcd3"
          }
        },
        "9a10f66838db4dc8b4b3939fc04beb70": {
          "model_module": "@jupyter-widgets/output",
          "model_name": "OutputModel",
          "model_module_version": "1.0.0",
          "state": {
            "_view_name": "OutputView",
            "msg_id": "",
            "_dom_classes": [],
            "_model_name": "OutputModel",
            "outputs": [
              {
                "output_type": "stream",
                "name": "stdout",
                "text": [
                  "Most popular tags:\n",
                  " [('natural-language-processing', 424), ('computer-vision', 388), ('pytorch', 258), ('tensorflow', 213), ('transformers', 196)]\n",
                  "\n",
                  "Tags that just made the cut:\n",
                  " [('flask', 34), ('time-series', 34), ('node-classification', 33), ('question-answering', 32), ('pretraining', 30)]\n",
                  "\n",
                  "Tags that just missed the cut:\n",
                  " [('fastai', 29), ('graph-classification', 29), ('model-compression', 29), ('recurrent-neural-networks', 28), ('adversarial-learning', 28)]\n"
                ]
              }
            ],
            "_view_module": "@jupyter-widgets/output",
            "_model_module_version": "1.0.0",
            "_view_count": null,
            "_view_module_version": "1.0.0",
            "layout": "IPY_MODEL_ae2f241082ef4c57aef0f63b0766ea32",
            "_model_module": "@jupyter-widgets/output"
          }
        },
        "37cca4ad29c34f54a42531848e94af16": {
          "model_module": "@jupyter-widgets/controls",
          "model_name": "SliderStyleModel",
          "model_module_version": "1.5.0",
          "state": {
            "_view_name": "StyleView",
            "handle_color": null,
            "_model_name": "SliderStyleModel",
            "description_width": "",
            "_view_module": "@jupyter-widgets/base",
            "_model_module_version": "1.5.0",
            "_view_count": null,
            "_view_module_version": "1.2.0",
            "_model_module": "@jupyter-widgets/controls"
          }
        },
        "1a1b57d2031c496cb07d63db5766bcd3": {
          "model_module": "@jupyter-widgets/base",
          "model_name": "LayoutModel",
          "model_module_version": "1.2.0",
          "state": {
            "_view_name": "LayoutView",
            "grid_template_rows": null,
            "right": null,
            "justify_content": null,
            "_view_module": "@jupyter-widgets/base",
            "overflow": null,
            "_model_module_version": "1.2.0",
            "_view_count": null,
            "flex_flow": null,
            "width": null,
            "min_width": null,
            "border": null,
            "align_items": null,
            "bottom": null,
            "_model_module": "@jupyter-widgets/base",
            "top": null,
            "grid_column": null,
            "overflow_y": null,
            "overflow_x": null,
            "grid_auto_flow": null,
            "grid_area": null,
            "grid_template_columns": null,
            "flex": null,
            "_model_name": "LayoutModel",
            "justify_items": null,
            "grid_row": null,
            "max_height": null,
            "align_content": null,
            "visibility": null,
            "align_self": null,
            "height": null,
            "min_height": null,
            "padding": null,
            "grid_auto_rows": null,
            "grid_gap": null,
            "max_width": null,
            "order": null,
            "_view_module_version": "1.2.0",
            "grid_template_areas": null,
            "object_position": null,
            "object_fit": null,
            "grid_auto_columns": null,
            "margin": null,
            "display": null,
            "left": null
          }
        },
        "ae2f241082ef4c57aef0f63b0766ea32": {
          "model_module": "@jupyter-widgets/base",
          "model_name": "LayoutModel",
          "model_module_version": "1.2.0",
          "state": {
            "_view_name": "LayoutView",
            "grid_template_rows": null,
            "right": null,
            "justify_content": null,
            "_view_module": "@jupyter-widgets/base",
            "overflow": null,
            "_model_module_version": "1.2.0",
            "_view_count": null,
            "flex_flow": null,
            "width": null,
            "min_width": null,
            "border": null,
            "align_items": null,
            "bottom": null,
            "_model_module": "@jupyter-widgets/base",
            "top": null,
            "grid_column": null,
            "overflow_y": null,
            "overflow_x": null,
            "grid_auto_flow": null,
            "grid_area": null,
            "grid_template_columns": null,
            "flex": null,
            "_model_name": "LayoutModel",
            "justify_items": null,
            "grid_row": null,
            "max_height": null,
            "align_content": null,
            "visibility": null,
            "align_self": null,
            "height": null,
            "min_height": null,
            "padding": null,
            "grid_auto_rows": null,
            "grid_gap": null,
            "max_width": null,
            "order": null,
            "_view_module_version": "1.2.0",
            "grid_template_areas": null,
            "object_position": null,
            "object_fit": null,
            "grid_auto_columns": null,
            "margin": null,
            "display": null,
            "left": null
          }
        },
        "3cf807aca9ba4d708ff2576684028ad4": {
          "model_module": "@jupyter-widgets/controls",
          "model_name": "VBoxModel",
          "model_module_version": "1.5.0",
          "state": {
            "_view_name": "VBoxView",
            "_dom_classes": [
              "widget-interact"
            ],
            "_model_name": "VBoxModel",
            "_view_module": "@jupyter-widgets/controls",
            "_model_module_version": "1.5.0",
            "_view_count": null,
            "_view_module_version": "1.5.0",
            "box_style": "",
            "layout": "IPY_MODEL_91a3841aa87a40c8bf9718361b667421",
            "_model_module": "@jupyter-widgets/controls",
            "children": [
              "IPY_MODEL_0125d686888e444891002c469c9900b5",
              "IPY_MODEL_305981f69def4456a6e9cc587bb551a0",
              "IPY_MODEL_319c832b5aa14b87bfadddbada2b2da1"
            ]
          }
        },
        "91a3841aa87a40c8bf9718361b667421": {
          "model_module": "@jupyter-widgets/base",
          "model_name": "LayoutModel",
          "model_module_version": "1.2.0",
          "state": {
            "_view_name": "LayoutView",
            "grid_template_rows": null,
            "right": null,
            "justify_content": null,
            "_view_module": "@jupyter-widgets/base",
            "overflow": null,
            "_model_module_version": "1.2.0",
            "_view_count": null,
            "flex_flow": null,
            "width": null,
            "min_width": null,
            "border": null,
            "align_items": null,
            "bottom": null,
            "_model_module": "@jupyter-widgets/base",
            "top": null,
            "grid_column": null,
            "overflow_y": null,
            "overflow_x": null,
            "grid_auto_flow": null,
            "grid_area": null,
            "grid_template_columns": null,
            "flex": null,
            "_model_name": "LayoutModel",
            "justify_items": null,
            "grid_row": null,
            "max_height": null,
            "align_content": null,
            "visibility": null,
            "align_self": null,
            "height": null,
            "min_height": null,
            "padding": null,
            "grid_auto_rows": null,
            "grid_gap": null,
            "max_width": null,
            "order": null,
            "_view_module_version": "1.2.0",
            "grid_template_areas": null,
            "object_position": null,
            "object_fit": null,
            "grid_auto_columns": null,
            "margin": null,
            "display": null,
            "left": null
          }
        },
        "0125d686888e444891002c469c9900b5": {
          "model_module": "@jupyter-widgets/controls",
          "model_name": "CheckboxModel",
          "model_module_version": "1.5.0",
          "state": {
            "_view_name": "CheckboxView",
            "style": "IPY_MODEL_d704e961a2c24e9d8d4d1c9211fed9ad",
            "_dom_classes": [],
            "description": "lower",
            "_model_name": "CheckboxModel",
            "_view_module": "@jupyter-widgets/controls",
            "_model_module_version": "1.5.0",
            "value": true,
            "_view_count": null,
            "disabled": false,
            "_view_module_version": "1.5.0",
            "indent": true,
            "description_tooltip": null,
            "_model_module": "@jupyter-widgets/controls",
            "layout": "IPY_MODEL_d304af7635b741b0842223d6ae61b084"
          }
        },
        "305981f69def4456a6e9cc587bb551a0": {
          "model_module": "@jupyter-widgets/controls",
          "model_name": "CheckboxModel",
          "model_module_version": "1.5.0",
          "state": {
            "_view_name": "CheckboxView",
            "style": "IPY_MODEL_02b70c2aa0f34e50973e1acee2192a25",
            "_dom_classes": [],
            "description": "stem",
            "_model_name": "CheckboxModel",
            "_view_module": "@jupyter-widgets/controls",
            "_model_module_version": "1.5.0",
            "value": false,
            "_view_count": null,
            "disabled": false,
            "_view_module_version": "1.5.0",
            "indent": true,
            "description_tooltip": null,
            "_model_module": "@jupyter-widgets/controls",
            "layout": "IPY_MODEL_16371fcd16644a3299dc0a3a8dab171b"
          }
        },
        "319c832b5aa14b87bfadddbada2b2da1": {
          "model_module": "@jupyter-widgets/output",
          "model_name": "OutputModel",
          "model_module_version": "1.0.0",
          "state": {
            "_view_name": "OutputView",
            "msg_id": "",
            "_dom_classes": [],
            "_model_name": "OutputModel",
            "outputs": [
              {
                "output_type": "stream",
                "name": "stdout",
                "text": [
                  "conditional image generation using variational autoencoders gans\n"
                ]
              }
            ],
            "_view_module": "@jupyter-widgets/output",
            "_model_module_version": "1.0.0",
            "_view_count": null,
            "_view_module_version": "1.0.0",
            "layout": "IPY_MODEL_d433fbc1e3744ed79d55aa03e4fafe1a",
            "_model_module": "@jupyter-widgets/output"
          }
        },
        "d704e961a2c24e9d8d4d1c9211fed9ad": {
          "model_module": "@jupyter-widgets/controls",
          "model_name": "DescriptionStyleModel",
          "model_module_version": "1.5.0",
          "state": {
            "_view_name": "StyleView",
            "_model_name": "DescriptionStyleModel",
            "description_width": "",
            "_view_module": "@jupyter-widgets/base",
            "_model_module_version": "1.5.0",
            "_view_count": null,
            "_view_module_version": "1.2.0",
            "_model_module": "@jupyter-widgets/controls"
          }
        },
        "d304af7635b741b0842223d6ae61b084": {
          "model_module": "@jupyter-widgets/base",
          "model_name": "LayoutModel",
          "model_module_version": "1.2.0",
          "state": {
            "_view_name": "LayoutView",
            "grid_template_rows": null,
            "right": null,
            "justify_content": null,
            "_view_module": "@jupyter-widgets/base",
            "overflow": null,
            "_model_module_version": "1.2.0",
            "_view_count": null,
            "flex_flow": null,
            "width": null,
            "min_width": null,
            "border": null,
            "align_items": null,
            "bottom": null,
            "_model_module": "@jupyter-widgets/base",
            "top": null,
            "grid_column": null,
            "overflow_y": null,
            "overflow_x": null,
            "grid_auto_flow": null,
            "grid_area": null,
            "grid_template_columns": null,
            "flex": null,
            "_model_name": "LayoutModel",
            "justify_items": null,
            "grid_row": null,
            "max_height": null,
            "align_content": null,
            "visibility": null,
            "align_self": null,
            "height": null,
            "min_height": null,
            "padding": null,
            "grid_auto_rows": null,
            "grid_gap": null,
            "max_width": null,
            "order": null,
            "_view_module_version": "1.2.0",
            "grid_template_areas": null,
            "object_position": null,
            "object_fit": null,
            "grid_auto_columns": null,
            "margin": null,
            "display": null,
            "left": null
          }
        },
        "02b70c2aa0f34e50973e1acee2192a25": {
          "model_module": "@jupyter-widgets/controls",
          "model_name": "DescriptionStyleModel",
          "model_module_version": "1.5.0",
          "state": {
            "_view_name": "StyleView",
            "_model_name": "DescriptionStyleModel",
            "description_width": "",
            "_view_module": "@jupyter-widgets/base",
            "_model_module_version": "1.5.0",
            "_view_count": null,
            "_view_module_version": "1.2.0",
            "_model_module": "@jupyter-widgets/controls"
          }
        },
        "16371fcd16644a3299dc0a3a8dab171b": {
          "model_module": "@jupyter-widgets/base",
          "model_name": "LayoutModel",
          "model_module_version": "1.2.0",
          "state": {
            "_view_name": "LayoutView",
            "grid_template_rows": null,
            "right": null,
            "justify_content": null,
            "_view_module": "@jupyter-widgets/base",
            "overflow": null,
            "_model_module_version": "1.2.0",
            "_view_count": null,
            "flex_flow": null,
            "width": null,
            "min_width": null,
            "border": null,
            "align_items": null,
            "bottom": null,
            "_model_module": "@jupyter-widgets/base",
            "top": null,
            "grid_column": null,
            "overflow_y": null,
            "overflow_x": null,
            "grid_auto_flow": null,
            "grid_area": null,
            "grid_template_columns": null,
            "flex": null,
            "_model_name": "LayoutModel",
            "justify_items": null,
            "grid_row": null,
            "max_height": null,
            "align_content": null,
            "visibility": null,
            "align_self": null,
            "height": null,
            "min_height": null,
            "padding": null,
            "grid_auto_rows": null,
            "grid_gap": null,
            "max_width": null,
            "order": null,
            "_view_module_version": "1.2.0",
            "grid_template_areas": null,
            "object_position": null,
            "object_fit": null,
            "grid_auto_columns": null,
            "margin": null,
            "display": null,
            "left": null
          }
        },
        "d433fbc1e3744ed79d55aa03e4fafe1a": {
          "model_module": "@jupyter-widgets/base",
          "model_name": "LayoutModel",
          "model_module_version": "1.2.0",
          "state": {
            "_view_name": "LayoutView",
            "grid_template_rows": null,
            "right": null,
            "justify_content": null,
            "_view_module": "@jupyter-widgets/base",
            "overflow": null,
            "_model_module_version": "1.2.0",
            "_view_count": null,
            "flex_flow": null,
            "width": null,
            "min_width": null,
            "border": null,
            "align_items": null,
            "bottom": null,
            "_model_module": "@jupyter-widgets/base",
            "top": null,
            "grid_column": null,
            "overflow_y": null,
            "overflow_x": null,
            "grid_auto_flow": null,
            "grid_area": null,
            "grid_template_columns": null,
            "flex": null,
            "_model_name": "LayoutModel",
            "justify_items": null,
            "grid_row": null,
            "max_height": null,
            "align_content": null,
            "visibility": null,
            "align_self": null,
            "height": null,
            "min_height": null,
            "padding": null,
            "grid_auto_rows": null,
            "grid_gap": null,
            "max_width": null,
            "order": null,
            "_view_module_version": "1.2.0",
            "grid_template_areas": null,
            "object_position": null,
            "object_fit": null,
            "grid_auto_columns": null,
            "margin": null,
            "display": null,
            "left": null
          }
        },
        "865b1767dc1841069d80d437617851ea": {
          "model_module": "@jupyter-widgets/controls",
          "model_name": "VBoxModel",
          "model_module_version": "1.5.0",
          "state": {
            "_view_name": "VBoxView",
            "_dom_classes": [
              "widget-interact"
            ],
            "_model_name": "VBoxModel",
            "_view_module": "@jupyter-widgets/controls",
            "_model_module_version": "1.5.0",
            "_view_count": null,
            "_view_module_version": "1.5.0",
            "box_style": "",
            "layout": "IPY_MODEL_50a4d6d73187402ea93ce1dd55b93e6f",
            "_model_module": "@jupyter-widgets/controls",
            "children": [
              "IPY_MODEL_8491dca93c1344be88a0c5308865762d",
              "IPY_MODEL_7aaf0551653340868c77d1b07767b630"
            ]
          }
        },
        "50a4d6d73187402ea93ce1dd55b93e6f": {
          "model_module": "@jupyter-widgets/base",
          "model_name": "LayoutModel",
          "model_module_version": "1.2.0",
          "state": {
            "_view_name": "LayoutView",
            "grid_template_rows": null,
            "right": null,
            "justify_content": null,
            "_view_module": "@jupyter-widgets/base",
            "overflow": null,
            "_model_module_version": "1.2.0",
            "_view_count": null,
            "flex_flow": null,
            "width": null,
            "min_width": null,
            "border": null,
            "align_items": null,
            "bottom": null,
            "_model_module": "@jupyter-widgets/base",
            "top": null,
            "grid_column": null,
            "overflow_y": null,
            "overflow_x": null,
            "grid_auto_flow": null,
            "grid_area": null,
            "grid_template_columns": null,
            "flex": null,
            "_model_name": "LayoutModel",
            "justify_items": null,
            "grid_row": null,
            "max_height": null,
            "align_content": null,
            "visibility": null,
            "align_self": null,
            "height": null,
            "min_height": null,
            "padding": null,
            "grid_auto_rows": null,
            "grid_gap": null,
            "max_width": null,
            "order": null,
            "_view_module_version": "1.2.0",
            "grid_template_areas": null,
            "object_position": null,
            "object_fit": null,
            "grid_auto_columns": null,
            "margin": null,
            "display": null,
            "left": null
          }
        },
        "8491dca93c1344be88a0c5308865762d": {
          "model_module": "@jupyter-widgets/controls",
          "model_name": "DropdownModel",
          "model_module_version": "1.5.0",
          "state": {
            "_options_labels": [
              "natural-language-processing",
              "computer-vision",
              "pytorch",
              "tensorflow",
              "transformers",
              "attention",
              "convolutional-neural-networks",
              "keras",
              "graphs",
              "embeddings",
              "generative-adversarial-networks",
              "object-detection",
              "huggingface",
              "scikit-learn",
              "reinforcement-learning",
              "representation-learning",
              "interpretability",
              "graph-neural-networks",
              "language-modeling",
              "image-classification",
              "production",
              "regression",
              "segmentation",
              "transfer-learning",
              "autoencoders",
              "data-augmentation",
              "self-supervised-learning",
              "tensorflow-js",
              "unsupervised-learning",
              "flask",
              "time-series",
              "node-classification",
              "question-answering",
              "pretraining"
            ],
            "_view_name": "DropdownView",
            "style": "IPY_MODEL_be045013601748f593d89de3c447c251",
            "_dom_classes": [],
            "description": "tag",
            "_model_name": "DropdownModel",
            "index": 2,
            "_view_module": "@jupyter-widgets/controls",
            "_model_module_version": "1.5.0",
            "_view_count": null,
            "disabled": false,
            "_view_module_version": "1.5.0",
            "description_tooltip": null,
            "_model_module": "@jupyter-widgets/controls",
            "layout": "IPY_MODEL_919c78de6ac048c5bf5ac451201c0d61"
          }
        },
        "7aaf0551653340868c77d1b07767b630": {
          "model_module": "@jupyter-widgets/output",
          "model_name": "OutputModel",
          "model_module_version": "1.0.0",
          "state": {
            "_view_name": "OutputView",
            "msg_id": "",
            "_dom_classes": [],
            "_model_name": "OutputModel",
            "outputs": [
              {
                "output_type": "display_data",
                "data": {
                  "image/png": "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\n",
                  "text/plain": "<Figure size 1080x360 with 1 Axes>"
                },
                "metadata": {}
              }
            ],
            "_view_module": "@jupyter-widgets/output",
            "_model_module_version": "1.0.0",
            "_view_count": null,
            "_view_module_version": "1.0.0",
            "layout": "IPY_MODEL_f047d8dbe7f5433d998388446bfc09bb",
            "_model_module": "@jupyter-widgets/output"
          }
        },
        "be045013601748f593d89de3c447c251": {
          "model_module": "@jupyter-widgets/controls",
          "model_name": "DescriptionStyleModel",
          "model_module_version": "1.5.0",
          "state": {
            "_view_name": "StyleView",
            "_model_name": "DescriptionStyleModel",
            "description_width": "",
            "_view_module": "@jupyter-widgets/base",
            "_model_module_version": "1.5.0",
            "_view_count": null,
            "_view_module_version": "1.2.0",
            "_model_module": "@jupyter-widgets/controls"
          }
        },
        "919c78de6ac048c5bf5ac451201c0d61": {
          "model_module": "@jupyter-widgets/base",
          "model_name": "LayoutModel",
          "model_module_version": "1.2.0",
          "state": {
            "_view_name": "LayoutView",
            "grid_template_rows": null,
            "right": null,
            "justify_content": null,
            "_view_module": "@jupyter-widgets/base",
            "overflow": null,
            "_model_module_version": "1.2.0",
            "_view_count": null,
            "flex_flow": null,
            "width": null,
            "min_width": null,
            "border": null,
            "align_items": null,
            "bottom": null,
            "_model_module": "@jupyter-widgets/base",
            "top": null,
            "grid_column": null,
            "overflow_y": null,
            "overflow_x": null,
            "grid_auto_flow": null,
            "grid_area": null,
            "grid_template_columns": null,
            "flex": null,
            "_model_name": "LayoutModel",
            "justify_items": null,
            "grid_row": null,
            "max_height": null,
            "align_content": null,
            "visibility": null,
            "align_self": null,
            "height": null,
            "min_height": null,
            "padding": null,
            "grid_auto_rows": null,
            "grid_gap": null,
            "max_width": null,
            "order": null,
            "_view_module_version": "1.2.0",
            "grid_template_areas": null,
            "object_position": null,
            "object_fit": null,
            "grid_auto_columns": null,
            "margin": null,
            "display": null,
            "left": null
          }
        },
        "f047d8dbe7f5433d998388446bfc09bb": {
          "model_module": "@jupyter-widgets/base",
          "model_name": "LayoutModel",
          "model_module_version": "1.2.0",
          "state": {
            "_view_name": "LayoutView",
            "grid_template_rows": null,
            "right": null,
            "justify_content": null,
            "_view_module": "@jupyter-widgets/base",
            "overflow": null,
            "_model_module_version": "1.2.0",
            "_view_count": null,
            "flex_flow": null,
            "width": null,
            "min_width": null,
            "border": null,
            "align_items": null,
            "bottom": null,
            "_model_module": "@jupyter-widgets/base",
            "top": null,
            "grid_column": null,
            "overflow_y": null,
            "overflow_x": null,
            "grid_auto_flow": null,
            "grid_area": null,
            "grid_template_columns": null,
            "flex": null,
            "_model_name": "LayoutModel",
            "justify_items": null,
            "grid_row": null,
            "max_height": null,
            "align_content": null,
            "visibility": null,
            "align_self": null,
            "height": null,
            "min_height": null,
            "padding": null,
            "grid_auto_rows": null,
            "grid_gap": null,
            "max_width": null,
            "order": null,
            "_view_module_version": "1.2.0",
            "grid_template_areas": null,
            "object_position": null,
            "object_fit": null,
            "grid_auto_columns": null,
            "margin": null,
            "display": null,
            "left": null
          }
        },
        "e886090b074c466eb8e0f14f5ef954ca": {
          "model_module": "@jupyter-widgets/controls",
          "model_name": "HBoxModel",
          "model_module_version": "1.5.0",
          "state": {
            "_view_name": "HBoxView",
            "_dom_classes": [],
            "_model_name": "HBoxModel",
            "_view_module": "@jupyter-widgets/controls",
            "_model_module_version": "1.5.0",
            "_view_count": null,
            "_view_module_version": "1.5.0",
            "box_style": "",
            "layout": "IPY_MODEL_747c2da3eb1947fda304f47049f4474b",
            "_model_module": "@jupyter-widgets/controls",
            "children": [
              "IPY_MODEL_73d2d77130b24f3d81034d5f7b127c68",
              "IPY_MODEL_55e5adaa7a4f4a0ab3da028ac952382d",
              "IPY_MODEL_7aa6fb7eca57477895777072bd120515"
            ]
          }
        },
        "747c2da3eb1947fda304f47049f4474b": {
          "model_module": "@jupyter-widgets/base",
          "model_name": "LayoutModel",
          "model_module_version": "1.2.0",
          "state": {
            "_view_name": "LayoutView",
            "grid_template_rows": null,
            "right": null,
            "justify_content": null,
            "_view_module": "@jupyter-widgets/base",
            "overflow": null,
            "_model_module_version": "1.2.0",
            "_view_count": null,
            "flex_flow": null,
            "width": null,
            "min_width": null,
            "border": null,
            "align_items": null,
            "bottom": null,
            "_model_module": "@jupyter-widgets/base",
            "top": null,
            "grid_column": null,
            "overflow_y": null,
            "overflow_x": null,
            "grid_auto_flow": null,
            "grid_area": null,
            "grid_template_columns": null,
            "flex": null,
            "_model_name": "LayoutModel",
            "justify_items": null,
            "grid_row": null,
            "max_height": null,
            "align_content": null,
            "visibility": null,
            "align_self": null,
            "height": null,
            "min_height": null,
            "padding": null,
            "grid_auto_rows": null,
            "grid_gap": null,
            "max_width": null,
            "order": null,
            "_view_module_version": "1.2.0",
            "grid_template_areas": null,
            "object_position": null,
            "object_fit": null,
            "grid_auto_columns": null,
            "margin": null,
            "display": null,
            "left": null
          }
        },
        "73d2d77130b24f3d81034d5f7b127c68": {
          "model_module": "@jupyter-widgets/controls",
          "model_name": "HTMLModel",
          "model_module_version": "1.5.0",
          "state": {
            "_view_name": "HTMLView",
            "style": "IPY_MODEL_03ab4f108cab486e88fe8369aa8f0175",
            "_dom_classes": [],
            "description": "",
            "_model_name": "HTMLModel",
            "placeholder": "​",
            "_view_module": "@jupyter-widgets/controls",
            "_model_module_version": "1.5.0",
            "value": "Downloading: 100%",
            "_view_count": null,
            "_view_module_version": "1.5.0",
            "description_tooltip": null,
            "_model_module": "@jupyter-widgets/controls",
            "layout": "IPY_MODEL_c0d68d668f6747e1acc4fc50462eb7e9"
          }
        },
        "55e5adaa7a4f4a0ab3da028ac952382d": {
          "model_module": "@jupyter-widgets/controls",
          "model_name": "FloatProgressModel",
          "model_module_version": "1.5.0",
          "state": {
            "_view_name": "ProgressView",
            "style": "IPY_MODEL_8e9c83977ac64258a9e5e263f1a6bc45",
            "_dom_classes": [],
            "description": "",
            "_model_name": "FloatProgressModel",
            "bar_style": "success",
            "max": 442,
            "_view_module": "@jupyter-widgets/controls",
            "_model_module_version": "1.5.0",
            "value": 442,
            "_view_count": null,
            "_view_module_version": "1.5.0",
            "orientation": "horizontal",
            "min": 0,
            "description_tooltip": null,
            "_model_module": "@jupyter-widgets/controls",
            "layout": "IPY_MODEL_cc05303ebebf4b65a46f53cec8db30b3"
          }
        },
        "7aa6fb7eca57477895777072bd120515": {
          "model_module": "@jupyter-widgets/controls",
          "model_name": "HTMLModel",
          "model_module_version": "1.5.0",
          "state": {
            "_view_name": "HTMLView",
            "style": "IPY_MODEL_3f046b73bf1b49e6ac3cf100d0e95482",
            "_dom_classes": [],
            "description": "",
            "_model_name": "HTMLModel",
            "placeholder": "​",
            "_view_module": "@jupyter-widgets/controls",
            "_model_module_version": "1.5.0",
            "value": " 442/442 [00:00&lt;00:00, 9.81kB/s]",
            "_view_count": null,
            "_view_module_version": "1.5.0",
            "description_tooltip": null,
            "_model_module": "@jupyter-widgets/controls",
            "layout": "IPY_MODEL_615397f7995d4c55b596ccc110a8ab94"
          }
        },
        "03ab4f108cab486e88fe8369aa8f0175": {
          "model_module": "@jupyter-widgets/controls",
          "model_name": "DescriptionStyleModel",
          "model_module_version": "1.5.0",
          "state": {
            "_view_name": "StyleView",
            "_model_name": "DescriptionStyleModel",
            "description_width": "",
            "_view_module": "@jupyter-widgets/base",
            "_model_module_version": "1.5.0",
            "_view_count": null,
            "_view_module_version": "1.2.0",
            "_model_module": "@jupyter-widgets/controls"
          }
        },
        "c0d68d668f6747e1acc4fc50462eb7e9": {
          "model_module": "@jupyter-widgets/base",
          "model_name": "LayoutModel",
          "model_module_version": "1.2.0",
          "state": {
            "_view_name": "LayoutView",
            "grid_template_rows": null,
            "right": null,
            "justify_content": null,
            "_view_module": "@jupyter-widgets/base",
            "overflow": null,
            "_model_module_version": "1.2.0",
            "_view_count": null,
            "flex_flow": null,
            "width": null,
            "min_width": null,
            "border": null,
            "align_items": null,
            "bottom": null,
            "_model_module": "@jupyter-widgets/base",
            "top": null,
            "grid_column": null,
            "overflow_y": null,
            "overflow_x": null,
            "grid_auto_flow": null,
            "grid_area": null,
            "grid_template_columns": null,
            "flex": null,
            "_model_name": "LayoutModel",
            "justify_items": null,
            "grid_row": null,
            "max_height": null,
            "align_content": null,
            "visibility": null,
            "align_self": null,
            "height": null,
            "min_height": null,
            "padding": null,
            "grid_auto_rows": null,
            "grid_gap": null,
            "max_width": null,
            "order": null,
            "_view_module_version": "1.2.0",
            "grid_template_areas": null,
            "object_position": null,
            "object_fit": null,
            "grid_auto_columns": null,
            "margin": null,
            "display": null,
            "left": null
          }
        },
        "8e9c83977ac64258a9e5e263f1a6bc45": {
          "model_module": "@jupyter-widgets/controls",
          "model_name": "ProgressStyleModel",
          "model_module_version": "1.5.0",
          "state": {
            "_view_name": "StyleView",
            "_model_name": "ProgressStyleModel",
            "description_width": "",
            "_view_module": "@jupyter-widgets/base",
            "_model_module_version": "1.5.0",
            "_view_count": null,
            "_view_module_version": "1.2.0",
            "bar_color": null,
            "_model_module": "@jupyter-widgets/controls"
          }
        },
        "cc05303ebebf4b65a46f53cec8db30b3": {
          "model_module": "@jupyter-widgets/base",
          "model_name": "LayoutModel",
          "model_module_version": "1.2.0",
          "state": {
            "_view_name": "LayoutView",
            "grid_template_rows": null,
            "right": null,
            "justify_content": null,
            "_view_module": "@jupyter-widgets/base",
            "overflow": null,
            "_model_module_version": "1.2.0",
            "_view_count": null,
            "flex_flow": null,
            "width": null,
            "min_width": null,
            "border": null,
            "align_items": null,
            "bottom": null,
            "_model_module": "@jupyter-widgets/base",
            "top": null,
            "grid_column": null,
            "overflow_y": null,
            "overflow_x": null,
            "grid_auto_flow": null,
            "grid_area": null,
            "grid_template_columns": null,
            "flex": null,
            "_model_name": "LayoutModel",
            "justify_items": null,
            "grid_row": null,
            "max_height": null,
            "align_content": null,
            "visibility": null,
            "align_self": null,
            "height": null,
            "min_height": null,
            "padding": null,
            "grid_auto_rows": null,
            "grid_gap": null,
            "max_width": null,
            "order": null,
            "_view_module_version": "1.2.0",
            "grid_template_areas": null,
            "object_position": null,
            "object_fit": null,
            "grid_auto_columns": null,
            "margin": null,
            "display": null,
            "left": null
          }
        },
        "3f046b73bf1b49e6ac3cf100d0e95482": {
          "model_module": "@jupyter-widgets/controls",
          "model_name": "DescriptionStyleModel",
          "model_module_version": "1.5.0",
          "state": {
            "_view_name": "StyleView",
            "_model_name": "DescriptionStyleModel",
            "description_width": "",
            "_view_module": "@jupyter-widgets/base",
            "_model_module_version": "1.5.0",
            "_view_count": null,
            "_view_module_version": "1.2.0",
            "_model_module": "@jupyter-widgets/controls"
          }
        },
        "615397f7995d4c55b596ccc110a8ab94": {
          "model_module": "@jupyter-widgets/base",
          "model_name": "LayoutModel",
          "model_module_version": "1.2.0",
          "state": {
            "_view_name": "LayoutView",
            "grid_template_rows": null,
            "right": null,
            "justify_content": null,
            "_view_module": "@jupyter-widgets/base",
            "overflow": null,
            "_model_module_version": "1.2.0",
            "_view_count": null,
            "flex_flow": null,
            "width": null,
            "min_width": null,
            "border": null,
            "align_items": null,
            "bottom": null,
            "_model_module": "@jupyter-widgets/base",
            "top": null,
            "grid_column": null,
            "overflow_y": null,
            "overflow_x": null,
            "grid_auto_flow": null,
            "grid_area": null,
            "grid_template_columns": null,
            "flex": null,
            "_model_name": "LayoutModel",
            "justify_items": null,
            "grid_row": null,
            "max_height": null,
            "align_content": null,
            "visibility": null,
            "align_self": null,
            "height": null,
            "min_height": null,
            "padding": null,
            "grid_auto_rows": null,
            "grid_gap": null,
            "max_width": null,
            "order": null,
            "_view_module_version": "1.2.0",
            "grid_template_areas": null,
            "object_position": null,
            "object_fit": null,
            "grid_auto_columns": null,
            "margin": null,
            "display": null,
            "left": null
          }
        },
        "fccb3deb253e4eaaa8dd28cf86eec1bc": {
          "model_module": "@jupyter-widgets/controls",
          "model_name": "HBoxModel",
          "model_module_version": "1.5.0",
          "state": {
            "_view_name": "HBoxView",
            "_dom_classes": [],
            "_model_name": "HBoxModel",
            "_view_module": "@jupyter-widgets/controls",
            "_model_module_version": "1.5.0",
            "_view_count": null,
            "_view_module_version": "1.5.0",
            "box_style": "",
            "layout": "IPY_MODEL_580299e4813a485ca6e203af3a6852fb",
            "_model_module": "@jupyter-widgets/controls",
            "children": [
              "IPY_MODEL_04c93557baa14faf8c2063a509909928",
              "IPY_MODEL_0e314fcf971c4aff995a2f3027db1526",
              "IPY_MODEL_9f5c7f6e8fab4007a9a4527cf3ca8118"
            ]
          }
        },
        "580299e4813a485ca6e203af3a6852fb": {
          "model_module": "@jupyter-widgets/base",
          "model_name": "LayoutModel",
          "model_module_version": "1.2.0",
          "state": {
            "_view_name": "LayoutView",
            "grid_template_rows": null,
            "right": null,
            "justify_content": null,
            "_view_module": "@jupyter-widgets/base",
            "overflow": null,
            "_model_module_version": "1.2.0",
            "_view_count": null,
            "flex_flow": null,
            "width": null,
            "min_width": null,
            "border": null,
            "align_items": null,
            "bottom": null,
            "_model_module": "@jupyter-widgets/base",
            "top": null,
            "grid_column": null,
            "overflow_y": null,
            "overflow_x": null,
            "grid_auto_flow": null,
            "grid_area": null,
            "grid_template_columns": null,
            "flex": null,
            "_model_name": "LayoutModel",
            "justify_items": null,
            "grid_row": null,
            "max_height": null,
            "align_content": null,
            "visibility": null,
            "align_self": null,
            "height": null,
            "min_height": null,
            "padding": null,
            "grid_auto_rows": null,
            "grid_gap": null,
            "max_width": null,
            "order": null,
            "_view_module_version": "1.2.0",
            "grid_template_areas": null,
            "object_position": null,
            "object_fit": null,
            "grid_auto_columns": null,
            "margin": null,
            "display": null,
            "left": null
          }
        },
        "04c93557baa14faf8c2063a509909928": {
          "model_module": "@jupyter-widgets/controls",
          "model_name": "HTMLModel",
          "model_module_version": "1.5.0",
          "state": {
            "_view_name": "HTMLView",
            "style": "IPY_MODEL_88358dedacf6419a9f32bf7509aaf9ae",
            "_dom_classes": [],
            "description": "",
            "_model_name": "HTMLModel",
            "placeholder": "​",
            "_view_module": "@jupyter-widgets/controls",
            "_model_module_version": "1.5.0",
            "value": "Downloading: 100%",
            "_view_count": null,
            "_view_module_version": "1.5.0",
            "description_tooltip": null,
            "_model_module": "@jupyter-widgets/controls",
            "layout": "IPY_MODEL_42fbf1b4af8a469b9d6a11e21ef5ecf2"
          }
        },
        "0e314fcf971c4aff995a2f3027db1526": {
          "model_module": "@jupyter-widgets/controls",
          "model_name": "FloatProgressModel",
          "model_module_version": "1.5.0",
          "state": {
            "_view_name": "ProgressView",
            "style": "IPY_MODEL_dad5ee231ca442a69668edd577ffc7ab",
            "_dom_classes": [],
            "description": "",
            "_model_name": "FloatProgressModel",
            "bar_style": "success",
            "max": 231508,
            "_view_module": "@jupyter-widgets/controls",
            "_model_module_version": "1.5.0",
            "value": 231508,
            "_view_count": null,
            "_view_module_version": "1.5.0",
            "orientation": "horizontal",
            "min": 0,
            "description_tooltip": null,
            "_model_module": "@jupyter-widgets/controls",
            "layout": "IPY_MODEL_f6e7bdca0a194bf7971a8e701bf8a4a3"
          }
        },
        "9f5c7f6e8fab4007a9a4527cf3ca8118": {
          "model_module": "@jupyter-widgets/controls",
          "model_name": "HTMLModel",
          "model_module_version": "1.5.0",
          "state": {
            "_view_name": "HTMLView",
            "style": "IPY_MODEL_2d0e90ca24d84c05b61aca0e0b9cb60f",
            "_dom_classes": [],
            "description": "",
            "_model_name": "HTMLModel",
            "placeholder": "​",
            "_view_module": "@jupyter-widgets/controls",
            "_model_module_version": "1.5.0",
            "value": " 232k/232k [00:00&lt;00:00, 1.42MB/s]",
            "_view_count": null,
            "_view_module_version": "1.5.0",
            "description_tooltip": null,
            "_model_module": "@jupyter-widgets/controls",
            "layout": "IPY_MODEL_1a442c694cfb43aab86b6bd5ec474997"
          }
        },
        "88358dedacf6419a9f32bf7509aaf9ae": {
          "model_module": "@jupyter-widgets/controls",
          "model_name": "DescriptionStyleModel",
          "model_module_version": "1.5.0",
          "state": {
            "_view_name": "StyleView",
            "_model_name": "DescriptionStyleModel",
            "description_width": "",
            "_view_module": "@jupyter-widgets/base",
            "_model_module_version": "1.5.0",
            "_view_count": null,
            "_view_module_version": "1.2.0",
            "_model_module": "@jupyter-widgets/controls"
          }
        },
        "42fbf1b4af8a469b9d6a11e21ef5ecf2": {
          "model_module": "@jupyter-widgets/base",
          "model_name": "LayoutModel",
          "model_module_version": "1.2.0",
          "state": {
            "_view_name": "LayoutView",
            "grid_template_rows": null,
            "right": null,
            "justify_content": null,
            "_view_module": "@jupyter-widgets/base",
            "overflow": null,
            "_model_module_version": "1.2.0",
            "_view_count": null,
            "flex_flow": null,
            "width": null,
            "min_width": null,
            "border": null,
            "align_items": null,
            "bottom": null,
            "_model_module": "@jupyter-widgets/base",
            "top": null,
            "grid_column": null,
            "overflow_y": null,
            "overflow_x": null,
            "grid_auto_flow": null,
            "grid_area": null,
            "grid_template_columns": null,
            "flex": null,
            "_model_name": "LayoutModel",
            "justify_items": null,
            "grid_row": null,
            "max_height": null,
            "align_content": null,
            "visibility": null,
            "align_self": null,
            "height": null,
            "min_height": null,
            "padding": null,
            "grid_auto_rows": null,
            "grid_gap": null,
            "max_width": null,
            "order": null,
            "_view_module_version": "1.2.0",
            "grid_template_areas": null,
            "object_position": null,
            "object_fit": null,
            "grid_auto_columns": null,
            "margin": null,
            "display": null,
            "left": null
          }
        },
        "dad5ee231ca442a69668edd577ffc7ab": {
          "model_module": "@jupyter-widgets/controls",
          "model_name": "ProgressStyleModel",
          "model_module_version": "1.5.0",
          "state": {
            "_view_name": "StyleView",
            "_model_name": "ProgressStyleModel",
            "description_width": "",
            "_view_module": "@jupyter-widgets/base",
            "_model_module_version": "1.5.0",
            "_view_count": null,
            "_view_module_version": "1.2.0",
            "bar_color": null,
            "_model_module": "@jupyter-widgets/controls"
          }
        },
        "f6e7bdca0a194bf7971a8e701bf8a4a3": {
          "model_module": "@jupyter-widgets/base",
          "model_name": "LayoutModel",
          "model_module_version": "1.2.0",
          "state": {
            "_view_name": "LayoutView",
            "grid_template_rows": null,
            "right": null,
            "justify_content": null,
            "_view_module": "@jupyter-widgets/base",
            "overflow": null,
            "_model_module_version": "1.2.0",
            "_view_count": null,
            "flex_flow": null,
            "width": null,
            "min_width": null,
            "border": null,
            "align_items": null,
            "bottom": null,
            "_model_module": "@jupyter-widgets/base",
            "top": null,
            "grid_column": null,
            "overflow_y": null,
            "overflow_x": null,
            "grid_auto_flow": null,
            "grid_area": null,
            "grid_template_columns": null,
            "flex": null,
            "_model_name": "LayoutModel",
            "justify_items": null,
            "grid_row": null,
            "max_height": null,
            "align_content": null,
            "visibility": null,
            "align_self": null,
            "height": null,
            "min_height": null,
            "padding": null,
            "grid_auto_rows": null,
            "grid_gap": null,
            "max_width": null,
            "order": null,
            "_view_module_version": "1.2.0",
            "grid_template_areas": null,
            "object_position": null,
            "object_fit": null,
            "grid_auto_columns": null,
            "margin": null,
            "display": null,
            "left": null
          }
        },
        "2d0e90ca24d84c05b61aca0e0b9cb60f": {
          "model_module": "@jupyter-widgets/controls",
          "model_name": "DescriptionStyleModel",
          "model_module_version": "1.5.0",
          "state": {
            "_view_name": "StyleView",
            "_model_name": "DescriptionStyleModel",
            "description_width": "",
            "_view_module": "@jupyter-widgets/base",
            "_model_module_version": "1.5.0",
            "_view_count": null,
            "_view_module_version": "1.2.0",
            "_model_module": "@jupyter-widgets/controls"
          }
        },
        "1a442c694cfb43aab86b6bd5ec474997": {
          "model_module": "@jupyter-widgets/base",
          "model_name": "LayoutModel",
          "model_module_version": "1.2.0",
          "state": {
            "_view_name": "LayoutView",
            "grid_template_rows": null,
            "right": null,
            "justify_content": null,
            "_view_module": "@jupyter-widgets/base",
            "overflow": null,
            "_model_module_version": "1.2.0",
            "_view_count": null,
            "flex_flow": null,
            "width": null,
            "min_width": null,
            "border": null,
            "align_items": null,
            "bottom": null,
            "_model_module": "@jupyter-widgets/base",
            "top": null,
            "grid_column": null,
            "overflow_y": null,
            "overflow_x": null,
            "grid_auto_flow": null,
            "grid_area": null,
            "grid_template_columns": null,
            "flex": null,
            "_model_name": "LayoutModel",
            "justify_items": null,
            "grid_row": null,
            "max_height": null,
            "align_content": null,
            "visibility": null,
            "align_self": null,
            "height": null,
            "min_height": null,
            "padding": null,
            "grid_auto_rows": null,
            "grid_gap": null,
            "max_width": null,
            "order": null,
            "_view_module_version": "1.2.0",
            "grid_template_areas": null,
            "object_position": null,
            "object_fit": null,
            "grid_auto_columns": null,
            "margin": null,
            "display": null,
            "left": null
          }
        },
        "f6bcc60cacf74c95996fbcd61d9d07e7": {
          "model_module": "@jupyter-widgets/controls",
          "model_name": "HBoxModel",
          "model_module_version": "1.5.0",
          "state": {
            "_view_name": "HBoxView",
            "_dom_classes": [],
            "_model_name": "HBoxModel",
            "_view_module": "@jupyter-widgets/controls",
            "_model_module_version": "1.5.0",
            "_view_count": null,
            "_view_module_version": "1.5.0",
            "box_style": "",
            "layout": "IPY_MODEL_3892e35b326c4c9782229a628f1a6381",
            "_model_module": "@jupyter-widgets/controls",
            "children": [
              "IPY_MODEL_44f5204113ac42a2b0c91608f13299d3",
              "IPY_MODEL_e5ada0f4e3f842cd8b87c32d1345cd78",
              "IPY_MODEL_4cd456c6928a418fbf1b7e7ecf61db6b"
            ]
          }
        },
        "3892e35b326c4c9782229a628f1a6381": {
          "model_module": "@jupyter-widgets/base",
          "model_name": "LayoutModel",
          "model_module_version": "1.2.0",
          "state": {
            "_view_name": "LayoutView",
            "grid_template_rows": null,
            "right": null,
            "justify_content": null,
            "_view_module": "@jupyter-widgets/base",
            "overflow": null,
            "_model_module_version": "1.2.0",
            "_view_count": null,
            "flex_flow": null,
            "width": null,
            "min_width": null,
            "border": null,
            "align_items": null,
            "bottom": null,
            "_model_module": "@jupyter-widgets/base",
            "top": null,
            "grid_column": null,
            "overflow_y": null,
            "overflow_x": null,
            "grid_auto_flow": null,
            "grid_area": null,
            "grid_template_columns": null,
            "flex": null,
            "_model_name": "LayoutModel",
            "justify_items": null,
            "grid_row": null,
            "max_height": null,
            "align_content": null,
            "visibility": null,
            "align_self": null,
            "height": null,
            "min_height": null,
            "padding": null,
            "grid_auto_rows": null,
            "grid_gap": null,
            "max_width": null,
            "order": null,
            "_view_module_version": "1.2.0",
            "grid_template_areas": null,
            "object_position": null,
            "object_fit": null,
            "grid_auto_columns": null,
            "margin": null,
            "display": null,
            "left": null
          }
        },
        "44f5204113ac42a2b0c91608f13299d3": {
          "model_module": "@jupyter-widgets/controls",
          "model_name": "HTMLModel",
          "model_module_version": "1.5.0",
          "state": {
            "_view_name": "HTMLView",
            "style": "IPY_MODEL_33a6c41a241f44c3b5c28eaf93b39418",
            "_dom_classes": [],
            "description": "",
            "_model_name": "HTMLModel",
            "placeholder": "​",
            "_view_module": "@jupyter-widgets/controls",
            "_model_module_version": "1.5.0",
            "value": "Downloading: 100%",
            "_view_count": null,
            "_view_module_version": "1.5.0",
            "description_tooltip": null,
            "_model_module": "@jupyter-widgets/controls",
            "layout": "IPY_MODEL_25e3abe146a14a18ad5eacd19f4d79b3"
          }
        },
        "e5ada0f4e3f842cd8b87c32d1345cd78": {
          "model_module": "@jupyter-widgets/controls",
          "model_name": "FloatProgressModel",
          "model_module_version": "1.5.0",
          "state": {
            "_view_name": "ProgressView",
            "style": "IPY_MODEL_ba07fa7580784b0780c477249e345996",
            "_dom_classes": [],
            "description": "",
            "_model_name": "FloatProgressModel",
            "bar_style": "success",
            "max": 267967963,
            "_view_module": "@jupyter-widgets/controls",
            "_model_module_version": "1.5.0",
            "value": 267967963,
            "_view_count": null,
            "_view_module_version": "1.5.0",
            "orientation": "horizontal",
            "min": 0,
            "description_tooltip": null,
            "_model_module": "@jupyter-widgets/controls",
            "layout": "IPY_MODEL_2459b647cc014babaceb3719cba1913e"
          }
        },
        "4cd456c6928a418fbf1b7e7ecf61db6b": {
          "model_module": "@jupyter-widgets/controls",
          "model_name": "HTMLModel",
          "model_module_version": "1.5.0",
          "state": {
            "_view_name": "HTMLView",
            "style": "IPY_MODEL_c79a85d893004d33823a2189a301e037",
            "_dom_classes": [],
            "description": "",
            "_model_name": "HTMLModel",
            "placeholder": "​",
            "_view_module": "@jupyter-widgets/controls",
            "_model_module_version": "1.5.0",
            "value": " 268M/268M [00:14&lt;00:00, 14.7MB/s]",
            "_view_count": null,
            "_view_module_version": "1.5.0",
            "description_tooltip": null,
            "_model_module": "@jupyter-widgets/controls",
            "layout": "IPY_MODEL_47806adb2a27451b8dcaa398c33a46b3"
          }
        },
        "33a6c41a241f44c3b5c28eaf93b39418": {
          "model_module": "@jupyter-widgets/controls",
          "model_name": "DescriptionStyleModel",
          "model_module_version": "1.5.0",
          "state": {
            "_view_name": "StyleView",
            "_model_name": "DescriptionStyleModel",
            "description_width": "",
            "_view_module": "@jupyter-widgets/base",
            "_model_module_version": "1.5.0",
            "_view_count": null,
            "_view_module_version": "1.2.0",
            "_model_module": "@jupyter-widgets/controls"
          }
        },
        "25e3abe146a14a18ad5eacd19f4d79b3": {
          "model_module": "@jupyter-widgets/base",
          "model_name": "LayoutModel",
          "model_module_version": "1.2.0",
          "state": {
            "_view_name": "LayoutView",
            "grid_template_rows": null,
            "right": null,
            "justify_content": null,
            "_view_module": "@jupyter-widgets/base",
            "overflow": null,
            "_model_module_version": "1.2.0",
            "_view_count": null,
            "flex_flow": null,
            "width": null,
            "min_width": null,
            "border": null,
            "align_items": null,
            "bottom": null,
            "_model_module": "@jupyter-widgets/base",
            "top": null,
            "grid_column": null,
            "overflow_y": null,
            "overflow_x": null,
            "grid_auto_flow": null,
            "grid_area": null,
            "grid_template_columns": null,
            "flex": null,
            "_model_name": "LayoutModel",
            "justify_items": null,
            "grid_row": null,
            "max_height": null,
            "align_content": null,
            "visibility": null,
            "align_self": null,
            "height": null,
            "min_height": null,
            "padding": null,
            "grid_auto_rows": null,
            "grid_gap": null,
            "max_width": null,
            "order": null,
            "_view_module_version": "1.2.0",
            "grid_template_areas": null,
            "object_position": null,
            "object_fit": null,
            "grid_auto_columns": null,
            "margin": null,
            "display": null,
            "left": null
          }
        },
        "ba07fa7580784b0780c477249e345996": {
          "model_module": "@jupyter-widgets/controls",
          "model_name": "ProgressStyleModel",
          "model_module_version": "1.5.0",
          "state": {
            "_view_name": "StyleView",
            "_model_name": "ProgressStyleModel",
            "description_width": "",
            "_view_module": "@jupyter-widgets/base",
            "_model_module_version": "1.5.0",
            "_view_count": null,
            "_view_module_version": "1.2.0",
            "bar_color": null,
            "_model_module": "@jupyter-widgets/controls"
          }
        },
        "2459b647cc014babaceb3719cba1913e": {
          "model_module": "@jupyter-widgets/base",
          "model_name": "LayoutModel",
          "model_module_version": "1.2.0",
          "state": {
            "_view_name": "LayoutView",
            "grid_template_rows": null,
            "right": null,
            "justify_content": null,
            "_view_module": "@jupyter-widgets/base",
            "overflow": null,
            "_model_module_version": "1.2.0",
            "_view_count": null,
            "flex_flow": null,
            "width": null,
            "min_width": null,
            "border": null,
            "align_items": null,
            "bottom": null,
            "_model_module": "@jupyter-widgets/base",
            "top": null,
            "grid_column": null,
            "overflow_y": null,
            "overflow_x": null,
            "grid_auto_flow": null,
            "grid_area": null,
            "grid_template_columns": null,
            "flex": null,
            "_model_name": "LayoutModel",
            "justify_items": null,
            "grid_row": null,
            "max_height": null,
            "align_content": null,
            "visibility": null,
            "align_self": null,
            "height": null,
            "min_height": null,
            "padding": null,
            "grid_auto_rows": null,
            "grid_gap": null,
            "max_width": null,
            "order": null,
            "_view_module_version": "1.2.0",
            "grid_template_areas": null,
            "object_position": null,
            "object_fit": null,
            "grid_auto_columns": null,
            "margin": null,
            "display": null,
            "left": null
          }
        },
        "c79a85d893004d33823a2189a301e037": {
          "model_module": "@jupyter-widgets/controls",
          "model_name": "DescriptionStyleModel",
          "model_module_version": "1.5.0",
          "state": {
            "_view_name": "StyleView",
            "_model_name": "DescriptionStyleModel",
            "description_width": "",
            "_view_module": "@jupyter-widgets/base",
            "_model_module_version": "1.5.0",
            "_view_count": null,
            "_view_module_version": "1.2.0",
            "_model_module": "@jupyter-widgets/controls"
          }
        },
        "47806adb2a27451b8dcaa398c33a46b3": {
          "model_module": "@jupyter-widgets/base",
          "model_name": "LayoutModel",
          "model_module_version": "1.2.0",
          "state": {
            "_view_name": "LayoutView",
            "grid_template_rows": null,
            "right": null,
            "justify_content": null,
            "_view_module": "@jupyter-widgets/base",
            "overflow": null,
            "_model_module_version": "1.2.0",
            "_view_count": null,
            "flex_flow": null,
            "width": null,
            "min_width": null,
            "border": null,
            "align_items": null,
            "bottom": null,
            "_model_module": "@jupyter-widgets/base",
            "top": null,
            "grid_column": null,
            "overflow_y": null,
            "overflow_x": null,
            "grid_auto_flow": null,
            "grid_area": null,
            "grid_template_columns": null,
            "flex": null,
            "_model_name": "LayoutModel",
            "justify_items": null,
            "grid_row": null,
            "max_height": null,
            "align_content": null,
            "visibility": null,
            "align_self": null,
            "height": null,
            "min_height": null,
            "padding": null,
            "grid_auto_rows": null,
            "grid_gap": null,
            "max_width": null,
            "order": null,
            "_view_module_version": "1.2.0",
            "grid_template_areas": null,
            "object_position": null,
            "object_fit": null,
            "grid_auto_columns": null,
            "margin": null,
            "display": null,
            "left": null
          }
        },
        "71c8c4424a7d4ac99dd8c198b4804558": {
          "model_module": "@jupyter-widgets/controls",
          "model_name": "VBoxModel",
          "model_module_version": "1.5.0",
          "state": {
            "_view_name": "VBoxView",
            "_dom_classes": [
              "widget-interact"
            ],
            "_model_name": "VBoxModel",
            "_view_module": "@jupyter-widgets/controls",
            "_model_module_version": "1.5.0",
            "_view_count": null,
            "_view_module_version": "1.5.0",
            "box_style": "",
            "layout": "IPY_MODEL_3f0e873fc4a043eabce5603462e9f5a1",
            "_model_module": "@jupyter-widgets/controls",
            "children": [
              "IPY_MODEL_4cbf6da0bdff4f9f874227d2fa9709ee",
              "IPY_MODEL_f7a3a46903124946a0c54b6c37c3dc1d"
            ]
          }
        },
        "3f0e873fc4a043eabce5603462e9f5a1": {
          "model_module": "@jupyter-widgets/base",
          "model_name": "LayoutModel",
          "model_module_version": "1.2.0",
          "state": {
            "_view_name": "LayoutView",
            "grid_template_rows": null,
            "right": null,
            "justify_content": null,
            "_view_module": "@jupyter-widgets/base",
            "overflow": null,
            "_model_module_version": "1.2.0",
            "_view_count": null,
            "flex_flow": null,
            "width": null,
            "min_width": null,
            "border": null,
            "align_items": null,
            "bottom": null,
            "_model_module": "@jupyter-widgets/base",
            "top": null,
            "grid_column": null,
            "overflow_y": null,
            "overflow_x": null,
            "grid_auto_flow": null,
            "grid_area": null,
            "grid_template_columns": null,
            "flex": null,
            "_model_name": "LayoutModel",
            "justify_items": null,
            "grid_row": null,
            "max_height": null,
            "align_content": null,
            "visibility": null,
            "align_self": null,
            "height": null,
            "min_height": null,
            "padding": null,
            "grid_auto_rows": null,
            "grid_gap": null,
            "max_width": null,
            "order": null,
            "_view_module_version": "1.2.0",
            "grid_template_areas": null,
            "object_position": null,
            "object_fit": null,
            "grid_auto_columns": null,
            "margin": null,
            "display": null,
            "left": null
          }
        },
        "4cbf6da0bdff4f9f874227d2fa9709ee": {
          "model_module": "@jupyter-widgets/controls",
          "model_name": "DropdownModel",
          "model_module_version": "1.5.0",
          "state": {
            "_options_labels": [
              "autoencoders",
              "transfer-learning",
              "time-series",
              "segmentation",
              "tensorflow",
              "graphs",
              "huggingface",
              "tensorflow-js",
              "object-detection",
              "embeddings",
              "natural-language-processing",
              "graph-neural-networks",
              "keras",
              "pytorch",
              "computer-vision",
              "node-classification",
              "production",
              "unsupervised-learning",
              "language-modeling",
              "transformers",
              "interpretability",
              "reinforcement-learning",
              "data-augmentation",
              "generative-adversarial-networks",
              "attention",
              "representation-learning",
              "scikit-learn",
              "self-supervised-learning",
              "regression",
              "image-classification",
              "convolutional-neural-networks",
              "flask",
              "pretraining",
              "question-answering"
            ],
            "_view_name": "DropdownView",
            "style": "IPY_MODEL_2b82c7e02f994bc196162c462b5dfdbd",
            "_dom_classes": [],
            "description": "tag",
            "_model_name": "DropdownModel",
            "index": 19,
            "_view_module": "@jupyter-widgets/controls",
            "_model_module_version": "1.5.0",
            "_view_count": null,
            "disabled": false,
            "_view_module_version": "1.5.0",
            "description_tooltip": null,
            "_model_module": "@jupyter-widgets/controls",
            "layout": "IPY_MODEL_2d557aaa2185415b97e1f00047b2235f"
          }
        },
        "f7a3a46903124946a0c54b6c37c3dc1d": {
          "model_module": "@jupyter-widgets/output",
          "model_name": "OutputModel",
          "model_module_version": "1.0.0",
          "state": {
            "_view_name": "OutputView",
            "msg_id": "",
            "_dom_classes": [],
            "_model_name": "OutputModel",
            "outputs": [
              {
                "output_type": "stream",
                "name": "stdout",
                "text": [
                  "{\n",
                  "  \"precision\": 0.6206896551724138,\n",
                  "  \"recall\": 0.6428571428571429,\n",
                  "  \"f1\": 0.6315789473684211,\n",
                  "  \"num_samples\": 28.0\n",
                  "}\n",
                  "\n",
                  "=== True positives ===\n",
                  "  simple transformers transformers classification ner qa language modeling language generation t5 multi modal conversational ai\n",
                  "    true: ['language-modeling', 'natural-language-processing', 'question-answering', 'transformers']\n",
                  "    pred: ['attention', 'huggingface', 'language-modeling', 'natural-language-processing', 'transformers']\n",
                  "\n",
                  "  bertviz tool visualizing attention transformer model bert gpt 2 albert xlnet roberta ctrl etc\n",
                  "    true: ['attention', 'interpretability', 'natural-language-processing', 'transformers']\n",
                  "    pred: ['attention', 'natural-language-processing', 'transformers']\n",
                  "\n",
                  "  summary transformers models high level summary differences model huggingfacetransformer library\n",
                  "    true: ['huggingface', 'natural-language-processing', 'transformers']\n",
                  "    pred: ['huggingface', 'natural-language-processing', 'transformers']\n",
                  "\n",
                  "=== False positives === \n",
                  "  help read text summarization using flask huggingface text summarization translation questions answers generation using huggingface deployed using flask streamlit detailed guide github\n",
                  "    true: ['huggingface', 'natural-language-processing']\n",
                  "    pred: ['huggingface', 'natural-language-processing', 'transformers']\n",
                  "\n",
                  "  silero models pre trained enterprise grade stt models silero speech text models provide enterprise grade stt compact form factor several commonly spoken languages\n",
                  "    true: ['pytorch', 'tensorflow']\n",
                  "    pred: ['natural-language-processing', 'transformers']\n",
                  "\n",
                  "  evaluation metrics language modeling article focus traditional intrinsic metrics extremely useful process training language model\n",
                  "    true: ['language-modeling', 'natural-language-processing']\n",
                  "    pred: ['language-modeling', 'natural-language-processing', 'transformers']\n",
                  "\n",
                  "=== False negatives ===\n",
                  "  t5 fine tuning colab notebook showcase fine tune t5 model various nlp tasks especially non text 2 text tasks text 2 text approach\n",
                  "    true: ['natural-language-processing', 'transformers']\n",
                  "    pred: ['natural-language-processing']\n",
                  "\n",
                  "  universal adversarial triggers attacking analyzing nlp create short phrases cause specific model prediction concatenated input dataset\n",
                  "    true: ['natural-language-processing', 'transformers']\n",
                  "    pred: ['natural-language-processing']\n",
                  "\n",
                  "  tempering expectations gpt 3 openai api closer look magic behind gpt 3 caveats aware\n",
                  "    true: ['natural-language-processing', 'transformers']\n",
                  "    pred: []\n",
                  "\n"
                ]
              }
            ],
            "_view_module": "@jupyter-widgets/output",
            "_model_module_version": "1.0.0",
            "_view_count": null,
            "_view_module_version": "1.0.0",
            "layout": "IPY_MODEL_f95efc06318e4ac8889af520c1ff06c8",
            "_model_module": "@jupyter-widgets/output"
          }
        },
        "2b82c7e02f994bc196162c462b5dfdbd": {
          "model_module": "@jupyter-widgets/controls",
          "model_name": "DescriptionStyleModel",
          "model_module_version": "1.5.0",
          "state": {
            "_view_name": "StyleView",
            "_model_name": "DescriptionStyleModel",
            "description_width": "",
            "_view_module": "@jupyter-widgets/base",
            "_model_module_version": "1.5.0",
            "_view_count": null,
            "_view_module_version": "1.2.0",
            "_model_module": "@jupyter-widgets/controls"
          }
        },
        "2d557aaa2185415b97e1f00047b2235f": {
          "model_module": "@jupyter-widgets/base",
          "model_name": "LayoutModel",
          "model_module_version": "1.2.0",
          "state": {
            "_view_name": "LayoutView",
            "grid_template_rows": null,
            "right": null,
            "justify_content": null,
            "_view_module": "@jupyter-widgets/base",
            "overflow": null,
            "_model_module_version": "1.2.0",
            "_view_count": null,
            "flex_flow": null,
            "width": null,
            "min_width": null,
            "border": null,
            "align_items": null,
            "bottom": null,
            "_model_module": "@jupyter-widgets/base",
            "top": null,
            "grid_column": null,
            "overflow_y": null,
            "overflow_x": null,
            "grid_auto_flow": null,
            "grid_area": null,
            "grid_template_columns": null,
            "flex": null,
            "_model_name": "LayoutModel",
            "justify_items": null,
            "grid_row": null,
            "max_height": null,
            "align_content": null,
            "visibility": null,
            "align_self": null,
            "height": null,
            "min_height": null,
            "padding": null,
            "grid_auto_rows": null,
            "grid_gap": null,
            "max_width": null,
            "order": null,
            "_view_module_version": "1.2.0",
            "grid_template_areas": null,
            "object_position": null,
            "object_fit": null,
            "grid_auto_columns": null,
            "margin": null,
            "display": null,
            "left": null
          }
        },
        "f95efc06318e4ac8889af520c1ff06c8": {
          "model_module": "@jupyter-widgets/base",
          "model_name": "LayoutModel",
          "model_module_version": "1.2.0",
          "state": {
            "_view_name": "LayoutView",
            "grid_template_rows": null,
            "right": null,
            "justify_content": null,
            "_view_module": "@jupyter-widgets/base",
            "overflow": null,
            "_model_module_version": "1.2.0",
            "_view_count": null,
            "flex_flow": null,
            "width": null,
            "min_width": null,
            "border": null,
            "align_items": null,
            "bottom": null,
            "_model_module": "@jupyter-widgets/base",
            "top": null,
            "grid_column": null,
            "overflow_y": null,
            "overflow_x": null,
            "grid_auto_flow": null,
            "grid_area": null,
            "grid_template_columns": null,
            "flex": null,
            "_model_name": "LayoutModel",
            "justify_items": null,
            "grid_row": null,
            "max_height": null,
            "align_content": null,
            "visibility": null,
            "align_self": null,
            "height": null,
            "min_height": null,
            "padding": null,
            "grid_auto_rows": null,
            "grid_gap": null,
            "max_width": null,
            "order": null,
            "_view_module_version": "1.2.0",
            "grid_template_areas": null,
            "object_position": null,
            "object_fit": null,
            "grid_auto_columns": null,
            "margin": null,
            "display": null,
            "left": null
          }
        }
      }
    }
  },
  "cells": [
    {
      "cell_type": "markdown",
      "metadata": {
        "id": "acbetMKBt825"
      },
      "source": [
        "<div align=\"center\">\n",
        "<h1><img width=\"30\" src=\"https://madewithml.com/static/images/rounded_logo.png\">&nbsp;<a href=\"https://madewithml.com/\">Made With ML</a></h1>\n",
        "Applied ML · MLOps · Production\n",
        "<br>\n",
        "Join 30K+ developers in learning how to responsibly <a href=\"https://madewithml.com/about/\">deliver value</a> with ML.\n",
        "    <br>\n",
        "</div>\n",
        "\n",
        "<br>\n",
        "\n",
        "<div align=\"center\">\n",
        "    <a target=\"_blank\" href=\"https://newsletter.madewithml.com\"><img src=\"https://img.shields.io/badge/Subscribe-30K-brightgreen\"></a>&nbsp;\n",
        "    <a target=\"_blank\" href=\"https://github.com/GokuMohandas/MadeWithML\"><img src=\"https://img.shields.io/github/stars/GokuMohandas/MadeWithML.svg?style=social&label=Star\"></a>&nbsp;\n",
        "    <a target=\"_blank\" href=\"https://www.linkedin.com/in/goku\"><img src=\"https://img.shields.io/badge/style--5eba00.svg?label=LinkedIn&logo=linkedin&style=social\"></a>&nbsp;\n",
        "    <a target=\"_blank\" href=\"https://twitter.com/GokuMohandas\"><img src=\"https://img.shields.io/twitter/follow/GokuMohandas.svg?label=Follow&style=social\"></a>\n",
        "    <br>\n",
        "    🔥&nbsp; Among the <a href=\"https://github.com/topics/mlops\" target=\"_blank\">top MLOps</a> repositories on GitHub\n",
        "</div>\n",
        "\n",
        "<br>\n",
        "<hr>"
      ]
    },
    {
      "cell_type": "markdown",
      "metadata": {
        "id": "ZbHqEEy3NkSU"
      },
      "source": [
        "# MLOps - Tagifai"
      ]
    },
    {
      "cell_type": "markdown",
      "metadata": {
        "id": "XTNsIiUrqoJW"
      },
      "source": [
        "<div align=\"left\">\n",
        "<a target=\"_blank\" href=\"https://madewithml.com/#mlops\"><img src=\"https://img.shields.io/badge/📖 Read-lessons-9cf\"></a>&nbsp;\n",
        "<a href=\"https://github.com/GokuMohandas/MLOps/blob/main/notebooks/tagifai.ipynb\" role=\"button\"><img src=\"https://img.shields.io/static/v1?label=&amp;message=View%20On%20GitHub&amp;color=586069&amp;logo=github&amp;labelColor=2f363d\"></a>&nbsp;\n",
        "<a href=\"https://colab.research.google.com/github/GokuMohandas/MLOps/blob/main/notebooks/tagifai.ipynb\"><img src=\"https://colab.research.google.com/assets/colab-badge.svg\" alt=\"Open In Colab\"></a>\n",
        "</div>"
      ]
    },
    {
      "cell_type": "markdown",
      "metadata": {
        "id": "oh-HuNfDrPg0"
      },
      "source": [
        "This notebooks contains the code for our `Tagifai` feature including 🔢&nbsp; Data and 📈&nbsp; Modeling. After this, we'll be moving all of this code to Python scripts with proper styling, testing, etc.\n",
        "\n",
        "> Be sure to checkout the accompanying [lessons](https://madewithml.com/courses/mlops) as opposed to just running the code here. The lessons will help us develop an intuition before jumping into the application."
      ]
    },
    {
      "cell_type": "markdown",
      "metadata": {
        "id": "lbqAqitENkSU"
      },
      "source": [
        "# 🔢&nbsp; Data"
      ]
    },
    {
      "cell_type": "markdown",
      "metadata": {
        "id": "2ROgHAeQNkSU"
      },
      "source": [
        "## Labeling"
      ]
    },
    {
      "cell_type": "code",
      "metadata": {
        "id": "VdrrsquiNkSU"
      },
      "source": [
        "from collections import Counter, OrderedDict\n",
        "import ipywidgets as widgets\n",
        "import itertools\n",
        "import json\n",
        "import pandas as pd\n",
        "from urllib.request import urlopen"
      ],
      "execution_count": 1,
      "outputs": []
    },
    {
      "cell_type": "code",
      "metadata": {
        "id": "WB-2nm6NNkSU",
        "colab": {
          "base_uri": "https://localhost:8080/"
        },
        "outputId": "3c568eeb-8658-4370-e423-efd084fcc5dc"
      },
      "source": [
        "# Load projects\n",
        "url = \"https://raw.githubusercontent.com/GokuMohandas/MadeWithML/main/datasets/projects.json\"\n",
        "projects = json.loads(urlopen(url).read())\n",
        "print (json.dumps(projects[-305], indent=2))"
      ],
      "execution_count": 2,
      "outputs": [
        {
          "output_type": "stream",
          "name": "stdout",
          "text": [
            "{\n",
            "  \"id\": 2106,\n",
            "  \"created_on\": \"2020-08-08 15:06:18\",\n",
            "  \"title\": \"Fast NST for Videos (+ person segmentation) \\ud83c\\udfa5 + \\u26a1\\ud83d\\udcbb + \\ud83c\\udfa8 = \\u2764\\ufe0f\",\n",
            "  \"description\": \"Create NST videos and pick separate styles for the person in the video and for the background.\",\n",
            "  \"tags\": [\n",
            "    \"code\",\n",
            "    \"tutorial\",\n",
            "    \"video\",\n",
            "    \"computer-vision\",\n",
            "    \"style-transfer\",\n",
            "    \"neural-style-transfer\"\n",
            "  ]\n",
            "}\n"
          ]
        }
      ]
    },
    {
      "cell_type": "code",
      "metadata": {
        "id": "_pJcQOR7NkSU",
        "colab": {
          "base_uri": "https://localhost:8080/"
        },
        "outputId": "a0ffda5f-4b50-460d-a49c-39fbea03244d"
      },
      "source": [
        "# Load tags\n",
        "url = \"https://raw.githubusercontent.com/GokuMohandas/MadeWithML/main/datasets/tags.json\"\n",
        "tags = json.loads(urlopen(url).read())\n",
        "tags_dict = {}\n",
        "for item in tags:\n",
        "    key = item.pop(\"tag\")\n",
        "    tags_dict[key] = item\n",
        "print (f\"{len(tags_dict)} tags\")"
      ],
      "execution_count": 3,
      "outputs": [
        {
          "output_type": "stream",
          "name": "stdout",
          "text": [
            "400 tags\n"
          ]
        }
      ]
    },
    {
      "cell_type": "code",
      "metadata": {
        "id": "l8GWm_unNkSU",
        "colab": {
          "base_uri": "https://localhost:8080/",
          "height": 185,
          "referenced_widgets": [
            "bdcf0a4e930047d4bf0233ec50c48de5",
            "f084e9794c0342c3ba4b7497472f3c86",
            "c3489da1f1094829a61f7a8a0d3d8de6",
            "63ca8ab59f9e4eb9a514524b7e3890c2",
            "3ff1259660ac48b0956b3819fa95b5c0",
            "02166c9af03d4476bb8b94f6424ed40e",
            "15fe95599879419280726a9295b169a3"
          ]
        },
        "outputId": "7bed2260-cffd-4095-eb03-f7f5db2133f5"
      },
      "source": [
        "@widgets.interact(tag=list(tags_dict.keys()))\n",
        "def display_tag_details(tag='question-answering'):\n",
        "    print (json.dumps(tags_dict[tag], indent=2))"
      ],
      "execution_count": 4,
      "outputs": [
        {
          "output_type": "display_data",
          "data": {
            "application/vnd.jupyter.widget-view+json": {
              "model_id": "bdcf0a4e930047d4bf0233ec50c48de5",
              "version_minor": 0,
              "version_major": 2
            },
            "text/plain": [
              "interactive(children=(Dropdown(description='tag', index=283, options=('3d', 'action-localization', 'action-rec…"
            ]
          },
          "metadata": {}
        }
      ]
    },
    {
      "cell_type": "code",
      "metadata": {
        "id": "ZAYXvZ_TNkSU",
        "colab": {
          "base_uri": "https://localhost:8080/",
          "height": 221
        },
        "outputId": "f419a816-0e00-4f2b-8e1b-abbf05071f94"
      },
      "source": [
        "# Create dataframe\n",
        "df = pd.DataFrame(projects)\n",
        "print (f\"{len(df)} projects\")\n",
        "df.head(5)"
      ],
      "execution_count": 5,
      "outputs": [
        {
          "output_type": "stream",
          "name": "stdout",
          "text": [
            "2032 projects\n"
          ]
        },
        {
          "output_type": "execute_result",
          "data": {
            "text/html": [
              "<div>\n",
              "<style scoped>\n",
              "    .dataframe tbody tr th:only-of-type {\n",
              "        vertical-align: middle;\n",
              "    }\n",
              "\n",
              "    .dataframe tbody tr th {\n",
              "        vertical-align: top;\n",
              "    }\n",
              "\n",
              "    .dataframe thead th {\n",
              "        text-align: right;\n",
              "    }\n",
              "</style>\n",
              "<table border=\"1\" class=\"dataframe\">\n",
              "  <thead>\n",
              "    <tr style=\"text-align: right;\">\n",
              "      <th></th>\n",
              "      <th>id</th>\n",
              "      <th>created_on</th>\n",
              "      <th>title</th>\n",
              "      <th>description</th>\n",
              "      <th>tags</th>\n",
              "    </tr>\n",
              "  </thead>\n",
              "  <tbody>\n",
              "    <tr>\n",
              "      <th>0</th>\n",
              "      <td>1</td>\n",
              "      <td>2020-02-17 06:30:41</td>\n",
              "      <td>Machine Learning Basics</td>\n",
              "      <td>A practical set of notebooks on machine learni...</td>\n",
              "      <td>[code, tutorial, keras, pytorch, tensorflow, d...</td>\n",
              "    </tr>\n",
              "    <tr>\n",
              "      <th>1</th>\n",
              "      <td>2</td>\n",
              "      <td>2020-02-17 06:41:45</td>\n",
              "      <td>Deep Learning with Electronic Health Record (E...</td>\n",
              "      <td>A comprehensive look at recent machine learnin...</td>\n",
              "      <td>[article, tutorial, deep-learning, health, ehr]</td>\n",
              "    </tr>\n",
              "    <tr>\n",
              "      <th>2</th>\n",
              "      <td>3</td>\n",
              "      <td>2020-02-20 06:07:59</td>\n",
              "      <td>Automatic Parking Management using computer vi...</td>\n",
              "      <td>Detecting empty and parked spaces in car parki...</td>\n",
              "      <td>[code, tutorial, video, python, machine-learni...</td>\n",
              "    </tr>\n",
              "    <tr>\n",
              "      <th>3</th>\n",
              "      <td>4</td>\n",
              "      <td>2020-02-20 06:21:57</td>\n",
              "      <td>Easy street parking using region proposal netw...</td>\n",
              "      <td>Get a text on your phone whenever a nearby par...</td>\n",
              "      <td>[code, tutorial, python, pytorch, machine-lear...</td>\n",
              "    </tr>\n",
              "    <tr>\n",
              "      <th>4</th>\n",
              "      <td>5</td>\n",
              "      <td>2020-02-20 06:29:18</td>\n",
              "      <td>Deep Learning based parking management system ...</td>\n",
              "      <td>Fastai provides easy to use wrappers to quickl...</td>\n",
              "      <td>[code, tutorial, fastai, deep-learning, parkin...</td>\n",
              "    </tr>\n",
              "  </tbody>\n",
              "</table>\n",
              "</div>"
            ],
            "text/plain": [
              "   id  ...                                               tags\n",
              "0   1  ...  [code, tutorial, keras, pytorch, tensorflow, d...\n",
              "1   2  ...    [article, tutorial, deep-learning, health, ehr]\n",
              "2   3  ...  [code, tutorial, video, python, machine-learni...\n",
              "3   4  ...  [code, tutorial, python, pytorch, machine-lear...\n",
              "4   5  ...  [code, tutorial, fastai, deep-learning, parkin...\n",
              "\n",
              "[5 rows x 5 columns]"
            ]
          },
          "metadata": {},
          "execution_count": 5
        }
      ]
    },
    {
      "cell_type": "markdown",
      "metadata": {
        "id": "HFifXKl_eKsN"
      },
      "source": [
        "## Preprocessing"
      ]
    },
    {
      "cell_type": "markdown",
      "metadata": {
        "id": "RxAZ1AmteRaD"
      },
      "source": [
        "Preprocessing the data via feature engineering, filtering and cleaning. Certain preprocessing steps are global (don't depend on our dataset, ex. lower casing text, removing stop words, etc.) and others are local (constructs are learned only from the training split, ex. vocabulary, standardization, etc.). For the local, dataset-dependent preprocessing steps, we want to ensure that we [split](https://madewithml.com/courses/mlops/splitting) the data first before preprocessing to avoid data leaks."
      ]
    },
    {
      "cell_type": "markdown",
      "metadata": {
        "id": "U_001GPyMZsC"
      },
      "source": [
        "We can combine existing input features to create new meaningful signal (helping the model learn). "
      ]
    },
    {
      "cell_type": "code",
      "metadata": {
        "id": "3x1ldAFQNkSU"
      },
      "source": [
        "# Feature engineering\n",
        "df[\"text\"] = df.title + \" \" + df.description"
      ],
      "execution_count": 6,
      "outputs": []
    },
    {
      "cell_type": "markdown",
      "metadata": {
        "id": "spTOm3UvMdtH"
      },
      "source": [
        "Filter tags above a certain frequency threshold because those with fewer samples won't be adequate for training."
      ]
    },
    {
      "cell_type": "code",
      "metadata": {
        "id": "Lt9j3gz1NkSU"
      },
      "source": [
        "def filter(l, include=[], exclude=[]):\n",
        "    \"\"\"Filter a list using inclusion and exclusion lists of items.\"\"\"\n",
        "    filtered = [item for item in l if item in include and item not in exclude]\n",
        "    return filtered"
      ],
      "execution_count": 7,
      "outputs": []
    },
    {
      "cell_type": "code",
      "metadata": {
        "id": "Q1H1lnKXNkSU"
      },
      "source": [
        "# Inclusion/exclusion criteria for tags\n",
        "include = list(tags_dict.keys())\n",
        "exclude = [\"machine-learning\", \"deep-learning\",  \"data-science\",\n",
        "           \"neural-networks\", \"python\", \"r\", \"visualization\", \"wandb\"]"
      ],
      "execution_count": 8,
      "outputs": []
    },
    {
      "cell_type": "code",
      "metadata": {
        "id": "FF9cfyfaNkSU"
      },
      "source": [
        "# Filter tags for each project\n",
        "df.tags = df.tags.apply(filter, include=include, exclude=exclude)\n",
        "tags = Counter(itertools.chain.from_iterable(df.tags.values))"
      ],
      "execution_count": 9,
      "outputs": []
    },
    {
      "cell_type": "markdown",
      "metadata": {
        "id": "Av4fPxjDMjAM"
      },
      "source": [
        "We're also going to restrict the mapping to only tags that are above a certain frequency threshold. The tags that don't have enough projects will not have enough samples to model their relationships."
      ]
    },
    {
      "cell_type": "code",
      "metadata": {
        "id": "k1GcLzL6NkSU",
        "tags": [
          "hide-input"
        ],
        "colab": {
          "base_uri": "https://localhost:8080/",
          "height": 185,
          "referenced_widgets": [
            "8e4860a2a7e94b26960e65c928f4850f",
            "674a18b7ecfc484eb7fd3ef912810c91",
            "ecafbdf41693451a98e72e5a8b8c9656",
            "9a10f66838db4dc8b4b3939fc04beb70",
            "37cca4ad29c34f54a42531848e94af16",
            "1a1b57d2031c496cb07d63db5766bcd3",
            "ae2f241082ef4c57aef0f63b0766ea32"
          ]
        },
        "outputId": "88d1e2fc-b47b-4fb2-fd30-bee2c573a578"
      },
      "source": [
        "@widgets.interact(min_tag_freq=(0, tags.most_common()[0][1]))\n",
        "def separate_tags_by_freq(min_tag_freq=30):\n",
        "    tags_above_freq = Counter(tag for tag in tags.elements()\n",
        "                                    if tags[tag] >= min_tag_freq)\n",
        "    tags_below_freq = Counter(tag for tag in tags.elements()\n",
        "                                    if tags[tag] < min_tag_freq)\n",
        "    print (\"Most popular tags:\\n\", tags_above_freq.most_common(5))\n",
        "    print (\"\\nTags that just made the cut:\\n\", tags_above_freq.most_common()[-5:])\n",
        "    print (\"\\nTags that just missed the cut:\\n\", tags_below_freq.most_common(5))"
      ],
      "execution_count": 10,
      "outputs": [
        {
          "output_type": "display_data",
          "data": {
            "application/vnd.jupyter.widget-view+json": {
              "model_id": "8e4860a2a7e94b26960e65c928f4850f",
              "version_minor": 0,
              "version_major": 2
            },
            "text/plain": [
              "interactive(children=(IntSlider(value=30, description='min_tag_freq', max=424), Output()), _dom_classes=('widg…"
            ]
          },
          "metadata": {}
        }
      ]
    },
    {
      "cell_type": "code",
      "metadata": {
        "id": "JjaEbjzONkSV"
      },
      "source": [
        "# Filter tags that have fewer than <min_tag_freq> occurrences\n",
        "min_tag_freq = 30\n",
        "tags_above_freq = Counter(tag for tag in tags.elements() \n",
        "                          if tags[tag] >= min_tag_freq)\n",
        "df.tags = df.tags.apply(filter, include=list(tags_above_freq.keys()))"
      ],
      "execution_count": 11,
      "outputs": []
    },
    {
      "cell_type": "markdown",
      "metadata": {
        "id": "-KI1xupRMtgw"
      },
      "source": [
        "Remove inputs that have no remaining (not enough frequency) tags."
      ]
    },
    {
      "cell_type": "code",
      "metadata": {
        "id": "PTdbpY73LdP9"
      },
      "source": [
        "import nltk\n",
        "from nltk.corpus import stopwords\n",
        "from nltk.stem import PorterStemmer\n",
        "import re"
      ],
      "execution_count": 12,
      "outputs": []
    },
    {
      "cell_type": "code",
      "metadata": {
        "id": "xRK_c_CFNkSV",
        "colab": {
          "base_uri": "https://localhost:8080/"
        },
        "outputId": "daef6e0c-c07a-4373-dec6-e7b62617dc72"
      },
      "source": [
        "# Remove projects with no more remaining relevant tags\n",
        "df = df[df.tags.map(len) > 0]\n",
        "print (f\"{len(df)} projects\")"
      ],
      "execution_count": 13,
      "outputs": [
        {
          "output_type": "stream",
          "name": "stdout",
          "text": [
            "1439 projects\n"
          ]
        }
      ]
    },
    {
      "cell_type": "markdown",
      "metadata": {
        "id": "8_f1LpKpMwzO"
      },
      "source": [
        "Since we're dealing with text data, we can apply some of the common preparation processes:"
      ]
    },
    {
      "cell_type": "code",
      "metadata": {
        "id": "VDXLH6QeLd0F",
        "colab": {
          "base_uri": "https://localhost:8080/"
        },
        "outputId": "1a52e80b-110c-49a2-c85f-88d144fef7e1"
      },
      "source": [
        "nltk.download('stopwords')\n",
        "STOPWORDS = stopwords.words('english')\n",
        "porter = PorterStemmer()"
      ],
      "execution_count": 14,
      "outputs": [
        {
          "output_type": "stream",
          "name": "stdout",
          "text": [
            "[nltk_data] Downloading package stopwords to /root/nltk_data...\n",
            "[nltk_data]   Unzipping corpora/stopwords.zip.\n"
          ]
        }
      ]
    },
    {
      "cell_type": "code",
      "metadata": {
        "id": "VfdWkkV8LlNR"
      },
      "source": [
        "def preprocess(text, lower=True, stem=False, \n",
        "               filters=\"[!\\\"'#$%&()*\\+,-./:;<=>?@\\\\\\[\\]^_`{|}~]\", \n",
        "               stopwords=STOPWORDS):\n",
        "    \"\"\"Conditional preprocessing on our text unique to our task.\"\"\"\n",
        "    # Lower\n",
        "    if lower: \n",
        "        text = text.lower()\n",
        "\n",
        "    # Remove stopwords\n",
        "    pattern = re.compile(r'\\b(' + r'|'.join(stopwords) + r')\\b\\s*')\n",
        "    text = pattern.sub('', text)\n",
        "\n",
        "    # Spacing and filters\n",
        "    text = re.sub(r\"([-;;.,!?<=>])\", r\" \\1 \", text)\n",
        "    text = re.sub(filters, r\"\", text)\n",
        "    text = re.sub('[^A-Za-z0-9]+', ' ', text) # remove non alphanumeric chars\n",
        "    text = re.sub(' +', ' ', text)  # remove multiple spaces\n",
        "    text = text.strip()\n",
        "\n",
        "    # Remove links\n",
        "    text = re.sub(r'http\\S+', '', text)\n",
        "\n",
        "    # Stemming\n",
        "    if stem:\n",
        "        text = \" \".join([porter.stem(word) for word in text.split(' ')])\n",
        "\n",
        "    return text"
      ],
      "execution_count": 15,
      "outputs": []
    },
    {
      "cell_type": "code",
      "metadata": {
        "id": "L6aKH-g0LlQt",
        "colab": {
          "base_uri": "https://localhost:8080/",
          "height": 98,
          "referenced_widgets": [
            "3cf807aca9ba4d708ff2576684028ad4",
            "91a3841aa87a40c8bf9718361b667421",
            "0125d686888e444891002c469c9900b5",
            "305981f69def4456a6e9cc587bb551a0",
            "319c832b5aa14b87bfadddbada2b2da1",
            "d704e961a2c24e9d8d4d1c9211fed9ad",
            "d304af7635b741b0842223d6ae61b084",
            "02b70c2aa0f34e50973e1acee2192a25",
            "16371fcd16644a3299dc0a3a8dab171b",
            "d433fbc1e3744ed79d55aa03e4fafe1a"
          ]
        },
        "outputId": "efa84dd2-77e6-4860-9a19-c45a6226edb4"
      },
      "source": [
        "@widgets.interact(lower=True, stem=False)\n",
        "def display_preprocessed_text(lower, stem):\n",
        "    text = \"Conditional image generation using Variational Autoencoders and GANs.\"\n",
        "    preprocessed_text = preprocess(text=text, lower=lower, stem=stem)\n",
        "    print (preprocessed_text)    "
      ],
      "execution_count": 16,
      "outputs": [
        {
          "output_type": "display_data",
          "data": {
            "application/vnd.jupyter.widget-view+json": {
              "model_id": "3cf807aca9ba4d708ff2576684028ad4",
              "version_minor": 0,
              "version_major": 2
            },
            "text/plain": [
              "interactive(children=(Checkbox(value=True, description='lower'), Checkbox(value=False, description='stem'), Ou…"
            ]
          },
          "metadata": {}
        }
      ]
    },
    {
      "cell_type": "code",
      "metadata": {
        "id": "3LRaq0_5LpE4",
        "colab": {
          "base_uri": "https://localhost:8080/"
        },
        "outputId": "145d600f-30e0-4bdf-e13a-db91d7ad1c4b"
      },
      "source": [
        "# Apply to dataframe\n",
        "original_df = df.copy()\n",
        "df.text = df.text.apply(preprocess, lower=True, stem=False)\n",
        "print (f\"{original_df.text.values[0]}\\n{df.text.values[0]}\")"
      ],
      "execution_count": 17,
      "outputs": [
        {
          "output_type": "stream",
          "name": "stdout",
          "text": [
            "Machine Learning Basics A practical set of notebooks on machine learning basics, implemented in both TF2.0 + Keras and PyTorch.\n",
            "machine learning basics practical set notebooks machine learning basics implemented tf2 0 keras pytorch\n"
          ]
        }
      ]
    },
    {
      "cell_type": "markdown",
      "metadata": {
        "id": "WuCrsbxbNkSV"
      },
      "source": [
        "## Exploratory Data Analysis (EDA)"
      ]
    },
    {
      "cell_type": "code",
      "metadata": {
        "id": "tHdQmqTBNkSV"
      },
      "source": [
        "import matplotlib.pyplot as plt\n",
        "import seaborn as sns\n",
        "import warnings\n",
        "from wordcloud import WordCloud, STOPWORDS\n",
        "sns.set_theme()\n",
        "warnings.filterwarnings(\"ignore\")"
      ],
      "execution_count": 18,
      "outputs": []
    },
    {
      "cell_type": "code",
      "metadata": {
        "id": "2hGuYu5ONkSV",
        "colab": {
          "base_uri": "https://localhost:8080/",
          "height": 258
        },
        "outputId": "83f412a3-5c99-49b1-f515-0aa6ff990f77"
      },
      "source": [
        "# Number of tags per project\n",
        "num_tags_per_project = [len(tags) for tags in df.tags]\n",
        "num_tags, num_projects = zip(*Counter(num_tags_per_project).items())\n",
        "plt.figure(figsize=(10, 3))\n",
        "ax = sns.barplot(list(num_tags), list(num_projects))\n",
        "plt.title(\"Tags per project\", fontsize=20)\n",
        "plt.xlabel(\"Number of tags\", fontsize=16)\n",
        "ax.set_xticklabels(range(1, len(num_tags)+1), rotation=0, fontsize=16)\n",
        "plt.ylabel(\"Number of projects\", fontsize=16)\n",
        "plt.show()"
      ],
      "execution_count": 19,
      "outputs": [
        {
          "output_type": "display_data",
          "data": {
            "image/png": "[encoded data removed]",
            "text/plain": [
              "<Figure size 720x216 with 1 Axes>"
            ]
          },
          "metadata": {}
        }
      ]
    },
    {
      "cell_type": "code",
      "metadata": {
        "id": "5JuX5Ju-NkSV",
        "colab": {
          "base_uri": "https://localhost:8080/",
          "height": 580
        },
        "outputId": "4bdf9935-09b6-4ee9-ffe2-737b6d595f48"
      },
      "source": [
        "# Distribution of tags\n",
        "all_tags = list(itertools.chain.from_iterable(df.tags.values))\n",
        "tags, tag_counts = zip(*Counter(all_tags).most_common())\n",
        "plt.figure(figsize=(25, 5))\n",
        "ax = sns.barplot(list(tags), list(tag_counts))\n",
        "plt.title(\"Tag distribution\", fontsize=20)\n",
        "plt.xlabel(\"Tag\", fontsize=16)\n",
        "ax.set_xticklabels(tags, rotation=90, fontsize=14)\n",
        "plt.ylabel(\"Number of projects\", fontsize=16)\n",
        "plt.show()"
      ],
      "execution_count": 20,
      "outputs": [
        {
          "output_type": "display_data",
          "data": {
            "image/png": "[encoded data removed]",
            "text/plain": [
              "<Figure size 1800x360 with 1 Axes>"
            ]
          },
          "metadata": {}
        }
      ]
    },
    {
      "cell_type": "code",
      "metadata": {
        "id": "NgMGuIQrNkSV",
        "colab": {
          "base_uri": "https://localhost:8080/",
          "height": 335,
          "referenced_widgets": [
            "865b1767dc1841069d80d437617851ea",
            "50a4d6d73187402ea93ce1dd55b93e6f",
            "8491dca93c1344be88a0c5308865762d",
            "7aaf0551653340868c77d1b07767b630",
            "be045013601748f593d89de3c447c251",
            "919c78de6ac048c5bf5ac451201c0d61",
            "f047d8dbe7f5433d998388446bfc09bb"
          ]
        },
        "outputId": "b8dd38a8-bf06-49b2-dd53-e59bb28fd8ec"
      },
      "source": [
        "@widgets.interact(tag=list(tags))\n",
        "def display_word_cloud(tag=\"pytorch\"):\n",
        "    # Plot word clouds top top tags\n",
        "    plt.figure(figsize=(15, 5))\n",
        "    subset = df[df.tags.apply(lambda tags: tag in tags)]\n",
        "    text = subset.text.values\n",
        "    cloud = WordCloud(\n",
        "        stopwords=STOPWORDS, background_color=\"black\", collocations=False,\n",
        "        width=500, height=300).generate(\" \".join(text))\n",
        "    plt.axis(\"off\")\n",
        "    plt.imshow(cloud)"
      ],
      "execution_count": 21,
      "outputs": [
        {
          "output_type": "display_data",
          "data": {
            "application/vnd.jupyter.widget-view+json": {
              "model_id": "865b1767dc1841069d80d437617851ea",
              "version_minor": 0,
              "version_major": 2
            },
            "text/plain": [
              "interactive(children=(Dropdown(description='tag', index=2, options=('natural-language-processing', 'computer-v…"
            ]
          },
          "metadata": {}
        }
      ]
    },
    {
      "cell_type": "markdown",
      "metadata": {
        "id": "7sfzg9CMNkSV"
      },
      "source": [
        "## Label encoding"
      ]
    },
    {
      "cell_type": "code",
      "metadata": {
        "id": "DYKtkRjlNkSV"
      },
      "source": [
        "import numpy as np\n",
        "import random"
      ],
      "execution_count": 22,
      "outputs": []
    },
    {
      "cell_type": "code",
      "metadata": {
        "id": "U-khYwAVNkSV"
      },
      "source": [
        "# Set seeds for reproducibility\n",
        "seed = 42\n",
        "np.random.seed(seed)\n",
        "random.seed(seed)"
      ],
      "execution_count": 23,
      "outputs": []
    },
    {
      "cell_type": "code",
      "metadata": {
        "id": "ytQ6_8v7NkSV"
      },
      "source": [
        "# Shuffle\n",
        "df = df.sample(frac=1).reset_index(drop=True)"
      ],
      "execution_count": 24,
      "outputs": []
    },
    {
      "cell_type": "code",
      "metadata": {
        "id": "j4lC_E14NkSV"
      },
      "source": [
        "# Get data\n",
        "X = df.text.to_numpy()\n",
        "y = df.tags"
      ],
      "execution_count": 25,
      "outputs": []
    },
    {
      "cell_type": "markdown",
      "metadata": {
        "id": "zT6FHkqyNkSV"
      },
      "source": [
        "We'll be writing our own LabelEncoder which is based on scikit-learn's [implementation](https://scikit-learn.org/stable/modules/generated/sklearn.preprocessing.LabelEncoder.html). "
      ]
    },
    {
      "cell_type": "code",
      "metadata": {
        "id": "YHPmj1XANkSV"
      },
      "source": [
        "class LabelEncoder(object):\n",
        "    \"\"\"Label encoder for tag labels.\"\"\"\n",
        "    def __init__(self, class_to_index={}):\n",
        "        self.class_to_index = class_to_index\n",
        "        self.index_to_class = {v: k for k, v in self.class_to_index.items()}\n",
        "        self.classes = list(self.class_to_index.keys())\n",
        "\n",
        "    def __len__(self):\n",
        "        return len(self.class_to_index)\n",
        "\n",
        "    def __str__(self):\n",
        "        return f\"<LabelEncoder(num_classes={len(self)})>\"\n",
        "\n",
        "    def fit(self, y):\n",
        "        classes = np.unique(list(itertools.chain.from_iterable(y)))\n",
        "        for i, class_ in enumerate(classes):\n",
        "            self.class_to_index[class_] = i\n",
        "        self.index_to_class = {v: k for k, v in self.class_to_index.items()}\n",
        "        self.classes = list(self.class_to_index.keys())\n",
        "        return self\n",
        "\n",
        "    def encode(self, y):\n",
        "        y_one_hot = np.zeros((len(y), len(self.class_to_index)), dtype=int)\n",
        "        for i, item in enumerate(y):\n",
        "            for class_ in item:\n",
        "                y_one_hot[i][self.class_to_index[class_]] = 1\n",
        "        return y_one_hot\n",
        "\n",
        "    def decode(self, y):\n",
        "        classes = []\n",
        "        for i, item in enumerate(y):\n",
        "            indices = np.where(item == 1)[0]\n",
        "            classes.append([self.index_to_class[index] for index in indices])\n",
        "        return classes\n",
        "\n",
        "    def save(self, fp):\n",
        "        with open(fp, 'w') as fp:\n",
        "            contents = {'class_to_index': self.class_to_index}\n",
        "            json.dump(contents, fp, indent=4, sort_keys=False)\n",
        "\n",
        "    @classmethod\n",
        "    def load(cls, fp):\n",
        "        with open(fp, 'r') as fp:\n",
        "            kwargs = json.load(fp=fp)\n",
        "        return cls(**kwargs)"
      ],
      "execution_count": 26,
      "outputs": []
    },
    {
      "cell_type": "code",
      "metadata": {
        "id": "fIcGw6MNNkSV"
      },
      "source": [
        "# Encode\n",
        "label_encoder = LabelEncoder()\n",
        "label_encoder.fit(y)\n",
        "num_classes = len(label_encoder)"
      ],
      "execution_count": 27,
      "outputs": []
    },
    {
      "cell_type": "code",
      "metadata": {
        "id": "pLzecFwWNkSV",
        "colab": {
          "base_uri": "https://localhost:8080/"
        },
        "outputId": "d7fb1bf6-92e8-46e0-da04-f5f6546b0733"
      },
      "source": [
        "label_encoder.class_to_index"
      ],
      "execution_count": 28,
      "outputs": [
        {
          "output_type": "execute_result",
          "data": {
            "text/plain": [
              "{'attention': 0,\n",
              " 'autoencoders': 1,\n",
              " 'computer-vision': 2,\n",
              " 'convolutional-neural-networks': 3,\n",
              " 'data-augmentation': 4,\n",
              " 'embeddings': 5,\n",
              " 'flask': 6,\n",
              " 'generative-adversarial-networks': 7,\n",
              " 'graph-neural-networks': 8,\n",
              " 'graphs': 9,\n",
              " 'huggingface': 10,\n",
              " 'image-classification': 11,\n",
              " 'interpretability': 12,\n",
              " 'keras': 13,\n",
              " 'language-modeling': 14,\n",
              " 'natural-language-processing': 15,\n",
              " 'node-classification': 16,\n",
              " 'object-detection': 17,\n",
              " 'pretraining': 18,\n",
              " 'production': 19,\n",
              " 'pytorch': 20,\n",
              " 'question-answering': 21,\n",
              " 'regression': 22,\n",
              " 'reinforcement-learning': 23,\n",
              " 'representation-learning': 24,\n",
              " 'scikit-learn': 25,\n",
              " 'segmentation': 26,\n",
              " 'self-supervised-learning': 27,\n",
              " 'tensorflow': 28,\n",
              " 'tensorflow-js': 29,\n",
              " 'time-series': 30,\n",
              " 'transfer-learning': 31,\n",
              " 'transformers': 32,\n",
              " 'unsupervised-learning': 33}"
            ]
          },
          "metadata": {},
          "execution_count": 28
        }
      ]
    },
    {
      "cell_type": "code",
      "metadata": {
        "id": "l8na7YazNkSW",
        "colab": {
          "base_uri": "https://localhost:8080/"
        },
        "outputId": "280c6d43-7972-4561-e90c-53edb6607942"
      },
      "source": [
        "# Sample\n",
        "label_encoder.encode([[\"attention\", \"data-augmentation\"]])"
      ],
      "execution_count": 29,
      "outputs": [
        {
          "output_type": "execute_result",
          "data": {
            "text/plain": [
              "array([[1, 0, 0, 0, 1, 0, 0, 0, 0, 0, 0, 0, 0, 0, 0, 0, 0, 0, 0, 0, 0, 0,\n",
              "        0, 0, 0, 0, 0, 0, 0, 0, 0, 0, 0, 0]])"
            ]
          },
          "metadata": {},
          "execution_count": 29
        }
      ]
    },
    {
      "cell_type": "code",
      "metadata": {
        "id": "iMyIbacNNkSW",
        "colab": {
          "base_uri": "https://localhost:8080/"
        },
        "outputId": "67cfb772-ead4-4520-b9cd-7c9f9bc4f270"
      },
      "source": [
        "# Encode all our labels\n",
        "y = label_encoder.encode(y)\n",
        "print (y.shape)"
      ],
      "execution_count": 30,
      "outputs": [
        {
          "output_type": "stream",
          "name": "stdout",
          "text": [
            "(1439, 34)\n"
          ]
        }
      ]
    },
    {
      "cell_type": "markdown",
      "metadata": {
        "id": "ufCNlDjQNkSW"
      },
      "source": [
        "## Splitting"
      ]
    },
    {
      "cell_type": "code",
      "metadata": {
        "id": "XOfLfpMKNxy3",
        "colab": {
          "base_uri": "https://localhost:8080/"
        },
        "outputId": "c5fe36fa-4dad-43d3-9b36-90e6a9781ce0"
      },
      "source": [
        "!pip install scikit-multilearn==0.2.0 -q"
      ],
      "execution_count": 31,
      "outputs": [
        {
          "output_type": "stream",
          "name": "stdout",
          "text": [
            "\u001b[?25l\r\u001b[K     |███▊                            | 10 kB 26.6 MB/s eta 0:00:01\r\u001b[K     |███████▍                        | 20 kB 25.0 MB/s eta 0:00:01\r\u001b[K     |███████████                     | 30 kB 11.3 MB/s eta 0:00:01\r\u001b[K     |██████████████▊                 | 40 kB 9.3 MB/s eta 0:00:01\r\u001b[K     |██████████████████▍             | 51 kB 5.3 MB/s eta 0:00:01\r\u001b[K     |██████████████████████          | 61 kB 5.9 MB/s eta 0:00:01\r\u001b[K     |█████████████████████████▊      | 71 kB 5.7 MB/s eta 0:00:01\r\u001b[K     |█████████████████████████████▍  | 81 kB 6.3 MB/s eta 0:00:01\r\u001b[K     |████████████████████████████████| 89 kB 3.9 MB/s \n",
            "\u001b[?25h"
          ]
        }
      ]
    },
    {
      "cell_type": "markdown",
      "metadata": {
        "id": "BBRwUKtfNkSW"
      },
      "source": [
        "You need to [clean](https://madewithml.com/courses/applied-ml/preprocessing/) your data first before splitting, at least for the features that splitting depends on. So the process is more like: preprocessing (global, cleaning) → splitting → preprocessing (local, transformations). We're splitting using the tag labels which have already been inspected and cleaned during EDA. "
      ]
    },
    {
      "cell_type": "markdown",
      "metadata": {
        "id": "2XMXpueENkSW"
      },
      "source": [
        "**Naive split**"
      ]
    },
    {
      "cell_type": "code",
      "metadata": {
        "id": "WEhp9SMFNkSW"
      },
      "source": [
        "from sklearn.model_selection import train_test_split\n",
        "from skmultilearn.model_selection.measures import get_combination_wise_output_matrix"
      ],
      "execution_count": 32,
      "outputs": []
    },
    {
      "cell_type": "code",
      "metadata": {
        "id": "TTUju11uNkSW"
      },
      "source": [
        "# Split sizes\n",
        "train_size = 0.7\n",
        "val_size = 0.15\n",
        "test_size = 0.15"
      ],
      "execution_count": 33,
      "outputs": []
    },
    {
      "cell_type": "markdown",
      "metadata": {
        "id": "DTRQWabKNkSW"
      },
      "source": [
        "For simple multiclass classification, you can specify how to stratify the split by adding the [`stratify`](https://scikit-learn.org/stable/modules/generated/sklearn.model_selection.train_test_split.html) keyword argument. But our task is multilabel classification, so we'll need to use other techniques to create even splits."
      ]
    },
    {
      "cell_type": "code",
      "metadata": {
        "id": "fw83_zitNkSW"
      },
      "source": [
        "# Split (train)\n",
        "X_train, X_, y_train, y_ = train_test_split(X, y, train_size=train_size)"
      ],
      "execution_count": 34,
      "outputs": []
    },
    {
      "cell_type": "code",
      "metadata": {
        "id": "WPVutu_dNkSW",
        "colab": {
          "base_uri": "https://localhost:8080/"
        },
        "outputId": "f673c17a-8df8-4643-9c84-381b786ac753"
      },
      "source": [
        "print (f\"train: {len(X_train)} ({(len(X_train) / len(X)):.2f})\\n\"\n",
        "       f\"remaining: {len(X_)} ({(len(X_) / len(X)):.2f})\")"
      ],
      "execution_count": 35,
      "outputs": [
        {
          "output_type": "stream",
          "name": "stdout",
          "text": [
            "train: 1007 (0.70)\n",
            "remaining: 432 (0.30)\n"
          ]
        }
      ]
    },
    {
      "cell_type": "code",
      "metadata": {
        "id": "u-CFrR7pNkSW"
      },
      "source": [
        "# Split (test)\n",
        "X_val, X_test, y_val, y_test = train_test_split(\n",
        "    X_, y_, train_size=0.5)"
      ],
      "execution_count": 36,
      "outputs": []
    },
    {
      "cell_type": "code",
      "metadata": {
        "id": "-evG0mc1NkSW",
        "colab": {
          "base_uri": "https://localhost:8080/"
        },
        "outputId": "577f4898-6be9-409e-f0f3-87edf33bf5ae"
      },
      "source": [
        "print(f\"train: {len(X_train)} ({len(X_train)/len(X):.2f})\\n\"\n",
        "      f\"val: {len(X_val)} ({len(X_val)/len(X):.2f})\\n\"\n",
        "      f\"test: {len(X_test)} ({len(X_test)/len(X):.2f})\")"
      ],
      "execution_count": 37,
      "outputs": [
        {
          "output_type": "stream",
          "name": "stdout",
          "text": [
            "train: 1007 (0.70)\n",
            "val: 216 (0.15)\n",
            "test: 216 (0.15)\n"
          ]
        }
      ]
    },
    {
      "cell_type": "code",
      "metadata": {
        "id": "Jw7KBZxsNkSW"
      },
      "source": [
        "# Get counts for each class\n",
        "counts = {}\n",
        "counts['train_counts'] = Counter(str(combination) for row in get_combination_wise_output_matrix(\n",
        "    y_train, order=1) for combination in row)\n",
        "counts['val_counts'] = Counter(str(combination) for row in get_combination_wise_output_matrix(\n",
        "    y_val, order=1) for combination in row)\n",
        "counts['test_counts'] = Counter(str(combination) for row in get_combination_wise_output_matrix(\n",
        "    y_test, order=1) for combination in row)"
      ],
      "execution_count": 38,
      "outputs": []
    },
    {
      "cell_type": "code",
      "metadata": {
        "id": "XsqdznxBNkSW",
        "colab": {
          "base_uri": "https://localhost:8080/",
          "height": 162
        },
        "outputId": "75bb126a-e9d5-4576-d655-713aa99d58be"
      },
      "source": [
        "# View distributions\n",
        "pd.DataFrame({\n",
        "    \"train\": counts[\"train_counts\"],\n",
        "    \"val\": counts[\"val_counts\"],\n",
        "    \"test\": counts[\"test_counts\"]\n",
        "}).T.fillna(0)"
      ],
      "execution_count": 39,
      "outputs": [
        {
          "output_type": "execute_result",
          "data": {
            "text/html": [
              "<div>\n",
              "<style scoped>\n",
              "    .dataframe tbody tr th:only-of-type {\n",
              "        vertical-align: middle;\n",
              "    }\n",
              "\n",
              "    .dataframe tbody tr th {\n",
              "        vertical-align: top;\n",
              "    }\n",
              "\n",
              "    .dataframe thead th {\n",
              "        text-align: right;\n",
              "    }\n",
              "</style>\n",
              "<table border=\"1\" class=\"dataframe\">\n",
              "  <thead>\n",
              "    <tr style=\"text-align: right;\">\n",
              "      <th></th>\n",
              "      <th>(25,)</th>\n",
              "      <th>(15,)</th>\n",
              "      <th>(20,)</th>\n",
              "      <th>(21,)</th>\n",
              "      <th>(7,)</th>\n",
              "      <th>(33,)</th>\n",
              "      <th>(13,)</th>\n",
              "      <th>(28,)</th>\n",
              "      <th>(2,)</th>\n",
              "      <th>(3,)</th>\n",
              "      <th>(12,)</th>\n",
              "      <th>(22,)</th>\n",
              "      <th>(23,)</th>\n",
              "      <th>(32,)</th>\n",
              "      <th>(0,)</th>\n",
              "      <th>(1,)</th>\n",
              "      <th>(5,)</th>\n",
              "      <th>(4,)</th>\n",
              "      <th>(10,)</th>\n",
              "      <th>(14,)</th>\n",
              "      <th>(27,)</th>\n",
              "      <th>(29,)</th>\n",
              "      <th>(31,)</th>\n",
              "      <th>(24,)</th>\n",
              "      <th>(16,)</th>\n",
              "      <th>(9,)</th>\n",
              "      <th>(19,)</th>\n",
              "      <th>(26,)</th>\n",
              "      <th>(17,)</th>\n",
              "      <th>(11,)</th>\n",
              "      <th>(30,)</th>\n",
              "      <th>(18,)</th>\n",
              "      <th>(8,)</th>\n",
              "      <th>(6,)</th>\n",
              "    </tr>\n",
              "  </thead>\n",
              "  <tbody>\n",
              "    <tr>\n",
              "      <th>train</th>\n",
              "      <td>48</td>\n",
              "      <td>292</td>\n",
              "      <td>181</td>\n",
              "      <td>25</td>\n",
              "      <td>47</td>\n",
              "      <td>23</td>\n",
              "      <td>59</td>\n",
              "      <td>143</td>\n",
              "      <td>270</td>\n",
              "      <td>67</td>\n",
              "      <td>39</td>\n",
              "      <td>41</td>\n",
              "      <td>38</td>\n",
              "      <td>135</td>\n",
              "      <td>85</td>\n",
              "      <td>27</td>\n",
              "      <td>57</td>\n",
              "      <td>27</td>\n",
              "      <td>43</td>\n",
              "      <td>33</td>\n",
              "      <td>26</td>\n",
              "      <td>29</td>\n",
              "      <td>28</td>\n",
              "      <td>45</td>\n",
              "      <td>27</td>\n",
              "      <td>59</td>\n",
              "      <td>31</td>\n",
              "      <td>36</td>\n",
              "      <td>48</td>\n",
              "      <td>35</td>\n",
              "      <td>26</td>\n",
              "      <td>24</td>\n",
              "      <td>38</td>\n",
              "      <td>25</td>\n",
              "    </tr>\n",
              "    <tr>\n",
              "      <th>val</th>\n",
              "      <td>7</td>\n",
              "      <td>61</td>\n",
              "      <td>35</td>\n",
              "      <td>6</td>\n",
              "      <td>12</td>\n",
              "      <td>7</td>\n",
              "      <td>16</td>\n",
              "      <td>44</td>\n",
              "      <td>62</td>\n",
              "      <td>18</td>\n",
              "      <td>9</td>\n",
              "      <td>4</td>\n",
              "      <td>10</td>\n",
              "      <td>23</td>\n",
              "      <td>12</td>\n",
              "      <td>6</td>\n",
              "      <td>7</td>\n",
              "      <td>6</td>\n",
              "      <td>11</td>\n",
              "      <td>9</td>\n",
              "      <td>7</td>\n",
              "      <td>7</td>\n",
              "      <td>8</td>\n",
              "      <td>5</td>\n",
              "      <td>3</td>\n",
              "      <td>9</td>\n",
              "      <td>11</td>\n",
              "      <td>6</td>\n",
              "      <td>14</td>\n",
              "      <td>7</td>\n",
              "      <td>5</td>\n",
              "      <td>4</td>\n",
              "      <td>7</td>\n",
              "      <td>6</td>\n",
              "    </tr>\n",
              "    <tr>\n",
              "      <th>test</th>\n",
              "      <td>5</td>\n",
              "      <td>71</td>\n",
              "      <td>42</td>\n",
              "      <td>1</td>\n",
              "      <td>14</td>\n",
              "      <td>9</td>\n",
              "      <td>18</td>\n",
              "      <td>26</td>\n",
              "      <td>56</td>\n",
              "      <td>21</td>\n",
              "      <td>7</td>\n",
              "      <td>4</td>\n",
              "      <td>11</td>\n",
              "      <td>38</td>\n",
              "      <td>23</td>\n",
              "      <td>8</td>\n",
              "      <td>11</td>\n",
              "      <td>8</td>\n",
              "      <td>10</td>\n",
              "      <td>9</td>\n",
              "      <td>7</td>\n",
              "      <td>4</td>\n",
              "      <td>10</td>\n",
              "      <td>7</td>\n",
              "      <td>3</td>\n",
              "      <td>10</td>\n",
              "      <td>9</td>\n",
              "      <td>6</td>\n",
              "      <td>7</td>\n",
              "      <td>9</td>\n",
              "      <td>3</td>\n",
              "      <td>2</td>\n",
              "      <td>6</td>\n",
              "      <td>3</td>\n",
              "    </tr>\n",
              "  </tbody>\n",
              "</table>\n",
              "</div>"
            ],
            "text/plain": [
              "       (25,)  (15,)  (20,)  (21,)  (7,)  ...  (11,)  (30,)  (18,)  (8,)  (6,)\n",
              "train     48    292    181     25    47  ...     35     26     24    38    25\n",
              "val        7     61     35      6    12  ...      7      5      4     7     6\n",
              "test       5     71     42      1    14  ...      9      3      2     6     3\n",
              "\n",
              "[3 rows x 34 columns]"
            ]
          },
          "metadata": {},
          "execution_count": 39
        }
      ]
    },
    {
      "cell_type": "markdown",
      "metadata": {
        "id": "_UIGPYZCNkSW"
      },
      "source": [
        "It's hard to compare these because our train and test proportions are different. Let's see what the distribution looks like once we balance it out. What do we need to multiply our test ratio by so that we have the same amount as our train ratio?\n",
        "\n",
        "$$ \\alpha * N_{test} = N_{train} $$\n",
        "\n",
        "$$ \\alpha = \\frac{N_{train}}{N_{test}} $$"
      ]
    },
    {
      "cell_type": "code",
      "metadata": {
        "id": "Nu1CRlQRNkSW"
      },
      "source": [
        "# Adjust counts across splits\n",
        "for k in counts[\"val_counts\"].keys():\n",
        "    counts[\"val_counts\"][k] = int(counts[\"val_counts\"][k] * \\\n",
        "        (train_size/val_size))\n",
        "for k in counts[\"test_counts\"].keys():\n",
        "    counts[\"test_counts\"][k] = int(counts[\"test_counts\"][k] * \\\n",
        "        (train_size/test_size))"
      ],
      "execution_count": 40,
      "outputs": []
    },
    {
      "cell_type": "code",
      "metadata": {
        "id": "TRZcPnAkNkSW",
        "colab": {
          "base_uri": "https://localhost:8080/",
          "height": 162
        },
        "outputId": "864bb271-5db1-4dcf-f602-0f772b4a1920"
      },
      "source": [
        "dist_df = pd.DataFrame({\n",
        "    \"train\": counts[\"train_counts\"],\n",
        "    \"val\": counts[\"val_counts\"],\n",
        "    \"test\": counts[\"test_counts\"]\n",
        "}).T.fillna(0)\n",
        "dist_df"
      ],
      "execution_count": 41,
      "outputs": [
        {
          "output_type": "execute_result",
          "data": {
            "text/html": [
              "<div>\n",
              "<style scoped>\n",
              "    .dataframe tbody tr th:only-of-type {\n",
              "        vertical-align: middle;\n",
              "    }\n",
              "\n",
              "    .dataframe tbody tr th {\n",
              "        vertical-align: top;\n",
              "    }\n",
              "\n",
              "    .dataframe thead th {\n",
              "        text-align: right;\n",
              "    }\n",
              "</style>\n",
              "<table border=\"1\" class=\"dataframe\">\n",
              "  <thead>\n",
              "    <tr style=\"text-align: right;\">\n",
              "      <th></th>\n",
              "      <th>(25,)</th>\n",
              "      <th>(15,)</th>\n",
              "      <th>(20,)</th>\n",
              "      <th>(21,)</th>\n",
              "      <th>(7,)</th>\n",
              "      <th>(33,)</th>\n",
              "      <th>(13,)</th>\n",
              "      <th>(28,)</th>\n",
              "      <th>(2,)</th>\n",
              "      <th>(3,)</th>\n",
              "      <th>(12,)</th>\n",
              "      <th>(22,)</th>\n",
              "      <th>(23,)</th>\n",
              "      <th>(32,)</th>\n",
              "      <th>(0,)</th>\n",
              "      <th>(1,)</th>\n",
              "      <th>(5,)</th>\n",
              "      <th>(4,)</th>\n",
              "      <th>(10,)</th>\n",
              "      <th>(14,)</th>\n",
              "      <th>(27,)</th>\n",
              "      <th>(29,)</th>\n",
              "      <th>(31,)</th>\n",
              "      <th>(24,)</th>\n",
              "      <th>(16,)</th>\n",
              "      <th>(9,)</th>\n",
              "      <th>(19,)</th>\n",
              "      <th>(26,)</th>\n",
              "      <th>(17,)</th>\n",
              "      <th>(11,)</th>\n",
              "      <th>(30,)</th>\n",
              "      <th>(18,)</th>\n",
              "      <th>(8,)</th>\n",
              "      <th>(6,)</th>\n",
              "    </tr>\n",
              "  </thead>\n",
              "  <tbody>\n",
              "    <tr>\n",
              "      <th>train</th>\n",
              "      <td>48</td>\n",
              "      <td>292</td>\n",
              "      <td>181</td>\n",
              "      <td>25</td>\n",
              "      <td>47</td>\n",
              "      <td>23</td>\n",
              "      <td>59</td>\n",
              "      <td>143</td>\n",
              "      <td>270</td>\n",
              "      <td>67</td>\n",
              "      <td>39</td>\n",
              "      <td>41</td>\n",
              "      <td>38</td>\n",
              "      <td>135</td>\n",
              "      <td>85</td>\n",
              "      <td>27</td>\n",
              "      <td>57</td>\n",
              "      <td>27</td>\n",
              "      <td>43</td>\n",
              "      <td>33</td>\n",
              "      <td>26</td>\n",
              "      <td>29</td>\n",
              "      <td>28</td>\n",
              "      <td>45</td>\n",
              "      <td>27</td>\n",
              "      <td>59</td>\n",
              "      <td>31</td>\n",
              "      <td>36</td>\n",
              "      <td>48</td>\n",
              "      <td>35</td>\n",
              "      <td>26</td>\n",
              "      <td>24</td>\n",
              "      <td>38</td>\n",
              "      <td>25</td>\n",
              "    </tr>\n",
              "    <tr>\n",
              "      <th>val</th>\n",
              "      <td>32</td>\n",
              "      <td>284</td>\n",
              "      <td>163</td>\n",
              "      <td>28</td>\n",
              "      <td>56</td>\n",
              "      <td>32</td>\n",
              "      <td>74</td>\n",
              "      <td>205</td>\n",
              "      <td>289</td>\n",
              "      <td>84</td>\n",
              "      <td>42</td>\n",
              "      <td>18</td>\n",
              "      <td>46</td>\n",
              "      <td>107</td>\n",
              "      <td>56</td>\n",
              "      <td>28</td>\n",
              "      <td>32</td>\n",
              "      <td>28</td>\n",
              "      <td>51</td>\n",
              "      <td>42</td>\n",
              "      <td>32</td>\n",
              "      <td>32</td>\n",
              "      <td>37</td>\n",
              "      <td>23</td>\n",
              "      <td>14</td>\n",
              "      <td>42</td>\n",
              "      <td>51</td>\n",
              "      <td>28</td>\n",
              "      <td>65</td>\n",
              "      <td>32</td>\n",
              "      <td>23</td>\n",
              "      <td>18</td>\n",
              "      <td>32</td>\n",
              "      <td>28</td>\n",
              "    </tr>\n",
              "    <tr>\n",
              "      <th>test</th>\n",
              "      <td>23</td>\n",
              "      <td>331</td>\n",
              "      <td>196</td>\n",
              "      <td>4</td>\n",
              "      <td>65</td>\n",
              "      <td>42</td>\n",
              "      <td>84</td>\n",
              "      <td>121</td>\n",
              "      <td>261</td>\n",
              "      <td>98</td>\n",
              "      <td>32</td>\n",
              "      <td>18</td>\n",
              "      <td>51</td>\n",
              "      <td>177</td>\n",
              "      <td>107</td>\n",
              "      <td>37</td>\n",
              "      <td>51</td>\n",
              "      <td>37</td>\n",
              "      <td>46</td>\n",
              "      <td>42</td>\n",
              "      <td>32</td>\n",
              "      <td>18</td>\n",
              "      <td>46</td>\n",
              "      <td>32</td>\n",
              "      <td>14</td>\n",
              "      <td>46</td>\n",
              "      <td>42</td>\n",
              "      <td>28</td>\n",
              "      <td>32</td>\n",
              "      <td>42</td>\n",
              "      <td>14</td>\n",
              "      <td>9</td>\n",
              "      <td>28</td>\n",
              "      <td>14</td>\n",
              "    </tr>\n",
              "  </tbody>\n",
              "</table>\n",
              "</div>"
            ],
            "text/plain": [
              "       (25,)  (15,)  (20,)  (21,)  (7,)  ...  (11,)  (30,)  (18,)  (8,)  (6,)\n",
              "train     48    292    181     25    47  ...     35     26     24    38    25\n",
              "val       32    284    163     28    56  ...     32     23     18    32    28\n",
              "test      23    331    196      4    65  ...     42     14      9    28    14\n",
              "\n",
              "[3 rows x 34 columns]"
            ]
          },
          "metadata": {},
          "execution_count": 41
        }
      ]
    },
    {
      "cell_type": "markdown",
      "metadata": {
        "id": "o-XWskGRNkSW"
      },
      "source": [
        "We can see how much deviance there is in our naive data splits by computing the standard deviation of each split's class counts from the mean (ideal split).\n",
        "\n",
        "$ \\sigma = \\sqrt{\\frac{(x - \\bar{x})^2}{N}} $"
      ]
    },
    {
      "cell_type": "code",
      "metadata": {
        "id": "jYL9nvKvNkSW",
        "colab": {
          "base_uri": "https://localhost:8080/"
        },
        "outputId": "51240f9c-c3af-413a-ac40-36e8178bc1af"
      },
      "source": [
        "# Standard deviation\n",
        "np.mean(np.std(dist_df.to_numpy(), axis=0))"
      ],
      "execution_count": 42,
      "outputs": [
        {
          "output_type": "execute_result",
          "data": {
            "text/plain": [
              "9.62301581396703"
            ]
          },
          "metadata": {},
          "execution_count": 42
        }
      ]
    },
    {
      "cell_type": "markdown",
      "metadata": {
        "id": "vorJjssYNkSW"
      },
      "source": [
        "Some of these distributions are not great. Let's try and balance this out a bit better."
      ]
    },
    {
      "cell_type": "markdown",
      "metadata": {
        "id": "etOP2EetNkSW"
      },
      "source": [
        "**Stratified split**"
      ]
    },
    {
      "cell_type": "markdown",
      "metadata": {
        "id": "whQp6BPxvQaz"
      },
      "source": [
        "Now we'll apply [iterative stratification](http://lpis.csd.auth.gr/publications/sechidis-ecmlpkdd-2011.pdf) via the [skmultilearn](http://scikit.ml/index.html) library, which essentially splits each input into subsets (where each label is considered individually) and then it distributes the samples starting with fewest \"positive\" samples and working up to the inputs that have the most labels."
      ]
    },
    {
      "cell_type": "code",
      "metadata": {
        "id": "31BlT7xPNkSW"
      },
      "source": [
        "from skmultilearn.model_selection import IterativeStratification"
      ],
      "execution_count": 43,
      "outputs": []
    },
    {
      "cell_type": "code",
      "metadata": {
        "id": "m1WZAQJGNkSW"
      },
      "source": [
        "def iterative_train_test_split(X, y, train_size):\n",
        "    \"\"\"Custom iterative train test split which \n",
        "    'maintains balanced representation with respect \n",
        "    to order-th label combinations.'\n",
        "    \"\"\"\n",
        "    stratifier = IterativeStratification(\n",
        "        n_splits=2, order=1, sample_distribution_per_fold=[1.0-train_size, train_size, ])\n",
        "    train_indices, test_indices = next(stratifier.split(X, y))\n",
        "    X_train, y_train = X[train_indices], y[train_indices]\n",
        "    X_test, y_test = X[test_indices], y[test_indices]\n",
        "    return X_train, X_test, y_train, y_test"
      ],
      "execution_count": 44,
      "outputs": []
    },
    {
      "cell_type": "code",
      "metadata": {
        "id": "jghaS1edNkSW"
      },
      "source": [
        "# Get data\n",
        "X = df.text.to_numpy()\n",
        "y = df.tags"
      ],
      "execution_count": 45,
      "outputs": []
    },
    {
      "cell_type": "code",
      "metadata": {
        "id": "Rv0baiseNkSW"
      },
      "source": [
        "# Binarize y\n",
        "label_encoder = LabelEncoder()\n",
        "label_encoder.fit(y)\n",
        "y = label_encoder.encode(y)"
      ],
      "execution_count": 46,
      "outputs": []
    },
    {
      "cell_type": "code",
      "metadata": {
        "id": "YMaDgwX7NkSW"
      },
      "source": [
        "# Split\n",
        "X_train, X_, y_train, y_ = iterative_train_test_split(\n",
        "    X, y, train_size=train_size)\n",
        "X_val, X_test, y_val, y_test = iterative_train_test_split(\n",
        "    X_, y_, train_size=0.5)"
      ],
      "execution_count": 47,
      "outputs": []
    },
    {
      "cell_type": "code",
      "metadata": {
        "id": "qV1HlPP_NkSW",
        "colab": {
          "base_uri": "https://localhost:8080/"
        },
        "outputId": "086238e6-7491-4fa1-8125-f5ffd2ac99ae"
      },
      "source": [
        "print(f\"train: {len(X_train)} ({len(X_train)/len(X):.2f})\\n\"\n",
        "      f\"val: {len(X_val)} ({len(X_val)/len(X):.2f})\\n\"\n",
        "      f\"test: {len(X_test)} ({len(X_test)/len(X):.2f})\")"
      ],
      "execution_count": 48,
      "outputs": [
        {
          "output_type": "stream",
          "name": "stdout",
          "text": [
            "train: 1005 (0.70)\n",
            "val: 228 (0.16)\n",
            "test: 206 (0.14)\n"
          ]
        }
      ]
    },
    {
      "cell_type": "code",
      "metadata": {
        "id": "QqjXL-lRNkSX"
      },
      "source": [
        "# Get counts for each class\n",
        "counts = {}\n",
        "counts[\"train_counts\"] = Counter(str(combination) for row in get_combination_wise_output_matrix(\n",
        "    y_train, order=1) for combination in row)\n",
        "counts[\"val_counts\"] = Counter(str(combination) for row in get_combination_wise_output_matrix(\n",
        "    y_val, order=1) for combination in row)\n",
        "counts[\"test_counts\"] = Counter(str(combination) for row in get_combination_wise_output_matrix(\n",
        "    y_test, order=1) for combination in row)"
      ],
      "execution_count": 49,
      "outputs": []
    },
    {
      "cell_type": "code",
      "metadata": {
        "id": "AKFGUgfkNkSX"
      },
      "source": [
        "# Adjust counts across splits\n",
        "for k in counts[\"val_counts\"].keys():\n",
        "    counts[\"val_counts\"][k] = int(counts[\"val_counts\"][k] * \\\n",
        "        (train_size/val_size))\n",
        "for k in counts[\"test_counts\"].keys():\n",
        "    counts[\"test_counts\"][k] = int(counts[\"test_counts\"][k] * \\\n",
        "        (train_size/test_size))"
      ],
      "execution_count": 50,
      "outputs": []
    },
    {
      "cell_type": "code",
      "metadata": {
        "id": "Pn6kIt0HNkSX",
        "colab": {
          "base_uri": "https://localhost:8080/",
          "height": 162
        },
        "outputId": "3ee147bf-2a16-4780-cf97-ec3db677b3ca"
      },
      "source": [
        "# View distributions\n",
        "pd.DataFrame({\n",
        "    \"train\": counts[\"train_counts\"],\n",
        "    \"val\": counts[\"val_counts\"],\n",
        "    \"test\": counts[\"test_counts\"]\n",
        "}).T.fillna(0)"
      ],
      "execution_count": 51,
      "outputs": [
        {
          "output_type": "execute_result",
          "data": {
            "text/html": [
              "<div>\n",
              "<style scoped>\n",
              "    .dataframe tbody tr th:only-of-type {\n",
              "        vertical-align: middle;\n",
              "    }\n",
              "\n",
              "    .dataframe tbody tr th {\n",
              "        vertical-align: top;\n",
              "    }\n",
              "\n",
              "    .dataframe thead th {\n",
              "        text-align: right;\n",
              "    }\n",
              "</style>\n",
              "<table border=\"1\" class=\"dataframe\">\n",
              "  <thead>\n",
              "    <tr style=\"text-align: right;\">\n",
              "      <th></th>\n",
              "      <th>(15,)</th>\n",
              "      <th>(21,)</th>\n",
              "      <th>(0,)</th>\n",
              "      <th>(32,)</th>\n",
              "      <th>(10,)</th>\n",
              "      <th>(2,)</th>\n",
              "      <th>(8,)</th>\n",
              "      <th>(9,)</th>\n",
              "      <th>(26,)</th>\n",
              "      <th>(19,)</th>\n",
              "      <th>(33,)</th>\n",
              "      <th>(25,)</th>\n",
              "      <th>(22,)</th>\n",
              "      <th>(13,)</th>\n",
              "      <th>(11,)</th>\n",
              "      <th>(6,)</th>\n",
              "      <th>(3,)</th>\n",
              "      <th>(20,)</th>\n",
              "      <th>(1,)</th>\n",
              "      <th>(28,)</th>\n",
              "      <th>(30,)</th>\n",
              "      <th>(12,)</th>\n",
              "      <th>(14,)</th>\n",
              "      <th>(17,)</th>\n",
              "      <th>(5,)</th>\n",
              "      <th>(7,)</th>\n",
              "      <th>(27,)</th>\n",
              "      <th>(23,)</th>\n",
              "      <th>(29,)</th>\n",
              "      <th>(16,)</th>\n",
              "      <th>(24,)</th>\n",
              "      <th>(31,)</th>\n",
              "      <th>(18,)</th>\n",
              "      <th>(4,)</th>\n",
              "    </tr>\n",
              "  </thead>\n",
              "  <tbody>\n",
              "    <tr>\n",
              "      <th>train</th>\n",
              "      <td>297</td>\n",
              "      <td>24</td>\n",
              "      <td>78</td>\n",
              "      <td>135</td>\n",
              "      <td>44</td>\n",
              "      <td>272</td>\n",
              "      <td>36</td>\n",
              "      <td>55</td>\n",
              "      <td>37</td>\n",
              "      <td>36</td>\n",
              "      <td>27</td>\n",
              "      <td>42</td>\n",
              "      <td>34</td>\n",
              "      <td>60</td>\n",
              "      <td>38</td>\n",
              "      <td>24</td>\n",
              "      <td>74</td>\n",
              "      <td>181</td>\n",
              "      <td>29</td>\n",
              "      <td>149</td>\n",
              "      <td>24</td>\n",
              "      <td>38</td>\n",
              "      <td>35</td>\n",
              "      <td>55</td>\n",
              "      <td>52</td>\n",
              "      <td>51</td>\n",
              "      <td>28</td>\n",
              "      <td>41</td>\n",
              "      <td>26</td>\n",
              "      <td>27</td>\n",
              "      <td>40</td>\n",
              "      <td>32</td>\n",
              "      <td>21</td>\n",
              "      <td>29</td>\n",
              "    </tr>\n",
              "    <tr>\n",
              "      <th>val</th>\n",
              "      <td>294</td>\n",
              "      <td>4</td>\n",
              "      <td>84</td>\n",
              "      <td>135</td>\n",
              "      <td>51</td>\n",
              "      <td>270</td>\n",
              "      <td>46</td>\n",
              "      <td>56</td>\n",
              "      <td>28</td>\n",
              "      <td>32</td>\n",
              "      <td>28</td>\n",
              "      <td>42</td>\n",
              "      <td>37</td>\n",
              "      <td>65</td>\n",
              "      <td>32</td>\n",
              "      <td>23</td>\n",
              "      <td>74</td>\n",
              "      <td>177</td>\n",
              "      <td>28</td>\n",
              "      <td>149</td>\n",
              "      <td>23</td>\n",
              "      <td>42</td>\n",
              "      <td>37</td>\n",
              "      <td>32</td>\n",
              "      <td>56</td>\n",
              "      <td>46</td>\n",
              "      <td>28</td>\n",
              "      <td>42</td>\n",
              "      <td>37</td>\n",
              "      <td>14</td>\n",
              "      <td>42</td>\n",
              "      <td>32</td>\n",
              "      <td>23</td>\n",
              "      <td>23</td>\n",
              "    </tr>\n",
              "    <tr>\n",
              "      <th>test</th>\n",
              "      <td>298</td>\n",
              "      <td>32</td>\n",
              "      <td>112</td>\n",
              "      <td>149</td>\n",
              "      <td>42</td>\n",
              "      <td>270</td>\n",
              "      <td>23</td>\n",
              "      <td>51</td>\n",
              "      <td>23</td>\n",
              "      <td>37</td>\n",
              "      <td>28</td>\n",
              "      <td>42</td>\n",
              "      <td>32</td>\n",
              "      <td>88</td>\n",
              "      <td>28</td>\n",
              "      <td>23</td>\n",
              "      <td>74</td>\n",
              "      <td>182</td>\n",
              "      <td>28</td>\n",
              "      <td>149</td>\n",
              "      <td>23</td>\n",
              "      <td>37</td>\n",
              "      <td>37</td>\n",
              "      <td>32</td>\n",
              "      <td>51</td>\n",
              "      <td>56</td>\n",
              "      <td>28</td>\n",
              "      <td>42</td>\n",
              "      <td>28</td>\n",
              "      <td>14</td>\n",
              "      <td>37</td>\n",
              "      <td>32</td>\n",
              "      <td>18</td>\n",
              "      <td>32</td>\n",
              "    </tr>\n",
              "  </tbody>\n",
              "</table>\n",
              "</div>"
            ],
            "text/plain": [
              "       (15,)  (21,)  (0,)  (32,)  (10,)  ...  (16,)  (24,)  (31,)  (18,)  (4,)\n",
              "train    297     24    78    135     44  ...     27     40     32     21    29\n",
              "val      294      4    84    135     51  ...     14     42     32     23    23\n",
              "test     298     32   112    149     42  ...     14     37     32     18    32\n",
              "\n",
              "[3 rows x 34 columns]"
            ]
          },
          "metadata": {},
          "execution_count": 51
        }
      ]
    },
    {
      "cell_type": "code",
      "metadata": {
        "id": "ftgmBEVdNkSX"
      },
      "source": [
        "dist_df = pd.DataFrame({\n",
        "    'train': counts['train_counts'],\n",
        "    'val': counts['val_counts'],\n",
        "    'test': counts['test_counts']\n",
        "}).T.fillna(0)"
      ],
      "execution_count": 52,
      "outputs": []
    },
    {
      "cell_type": "code",
      "metadata": {
        "id": "c02UhVufNkSX",
        "colab": {
          "base_uri": "https://localhost:8080/"
        },
        "outputId": "db142599-6ba4-4932-90d8-26c2cab26d03"
      },
      "source": [
        "# Standard deviation\n",
        "np.mean(np.std(dist_df.to_numpy(), axis=0))"
      ],
      "execution_count": 53,
      "outputs": [
        {
          "output_type": "execute_result",
          "data": {
            "text/plain": [
              "3.5602876409411723"
            ]
          },
          "metadata": {},
          "execution_count": 53
        }
      ]
    },
    {
      "cell_type": "markdown",
      "metadata": {
        "id": "1GvMA5m0vWVr"
      },
      "source": [
        "> [Iterative stratification](http://scikit.ml/_modules/skmultilearn/model_selection/iterative_stratification.html#IterativeStratification) essentially creates splits while \"trying to maintain balanced representation with respect to order-th label combinations\". We used to an `order=1` for our iterative split which means we cared about providing representative distribution of each tag across the splits. But we can account for [higher-order](https://arxiv.org/abs/1704.08756) label relationships as well where we may care about the distribution of label combinations."
      ]
    },
    {
      "cell_type": "code",
      "metadata": {
        "id": "rf2b7aGVK_nb",
        "colab": {
          "base_uri": "https://localhost:8080/",
          "height": 204
        },
        "outputId": "8524eb26-86dd-4129-c6ae-7b93d37cd691"
      },
      "source": [
        "# Split DataFrames\n",
        "train_df = pd.DataFrame({\"text\": X_train, \"tags\": label_encoder.decode(y_train)})\n",
        "val_df = pd.DataFrame({\"text\": X_val, \"tags\": label_encoder.decode(y_val)})\n",
        "test_df = pd.DataFrame({\"text\": X_test, \"tags\": label_encoder.decode(y_test)})\n",
        "train_df.head()"
      ],
      "execution_count": 54,
      "outputs": [
        {
          "output_type": "execute_result",
          "data": {
            "text/html": [
              "<div>\n",
              "<style scoped>\n",
              "    .dataframe tbody tr th:only-of-type {\n",
              "        vertical-align: middle;\n",
              "    }\n",
              "\n",
              "    .dataframe tbody tr th {\n",
              "        vertical-align: top;\n",
              "    }\n",
              "\n",
              "    .dataframe thead th {\n",
              "        text-align: right;\n",
              "    }\n",
              "</style>\n",
              "<table border=\"1\" class=\"dataframe\">\n",
              "  <thead>\n",
              "    <tr style=\"text-align: right;\">\n",
              "      <th></th>\n",
              "      <th>text</th>\n",
              "      <th>tags</th>\n",
              "    </tr>\n",
              "  </thead>\n",
              "  <tbody>\n",
              "    <tr>\n",
              "      <th>0</th>\n",
              "      <td>hugging face achieved 2x performance boost qa ...</td>\n",
              "      <td>[attention, huggingface, natural-language-proc...</td>\n",
              "    </tr>\n",
              "    <tr>\n",
              "      <th>1</th>\n",
              "      <td>graph convolution structured documents convert...</td>\n",
              "      <td>[computer-vision, graph-neural-networks, graphs]</td>\n",
              "    </tr>\n",
              "    <tr>\n",
              "      <th>2</th>\n",
              "      <td>build production ready deep learning training ...</td>\n",
              "      <td>[computer-vision, production, segmentation]</td>\n",
              "    </tr>\n",
              "    <tr>\n",
              "      <th>3</th>\n",
              "      <td>introduction k means clustering python scikit ...</td>\n",
              "      <td>[scikit-learn, unsupervised-learning]</td>\n",
              "    </tr>\n",
              "    <tr>\n",
              "      <th>4</th>\n",
              "      <td>programming probabilistically book data scienc...</td>\n",
              "      <td>[regression]</td>\n",
              "    </tr>\n",
              "  </tbody>\n",
              "</table>\n",
              "</div>"
            ],
            "text/plain": [
              "                                                text                                               tags\n",
              "0  hugging face achieved 2x performance boost qa ...  [attention, huggingface, natural-language-proc...\n",
              "1  graph convolution structured documents convert...   [computer-vision, graph-neural-networks, graphs]\n",
              "2  build production ready deep learning training ...        [computer-vision, production, segmentation]\n",
              "3  introduction k means clustering python scikit ...              [scikit-learn, unsupervised-learning]\n",
              "4  programming probabilistically book data scienc...                                       [regression]"
            ]
          },
          "metadata": {},
          "execution_count": 54
        }
      ]
    },
    {
      "cell_type": "markdown",
      "metadata": {
        "id": "ZsR6To1zNkSX"
      },
      "source": [
        "## Augmentation"
      ]
    },
    {
      "cell_type": "markdown",
      "metadata": {
        "id": "BZQNks8TNkSX"
      },
      "source": [
        "We'll often want to increase the size and diversity of our training data split through data augmentation. It involves using the existing samples to generate synthetic, yet realistic, examples."
      ]
    },
    {
      "cell_type": "code",
      "metadata": {
        "id": "PR9WLz0jc3GO",
        "colab": {
          "base_uri": "https://localhost:8080/"
        },
        "outputId": "e19d65a5-7524-4454-f86b-a86d23220688"
      },
      "source": [
        "!pip install nlpaug==1.1.0 transformers==3.0.2 -q\n",
        "!pip install snorkel==0.9.7 -q"
      ],
      "execution_count": 55,
      "outputs": [
        {
          "output_type": "stream",
          "name": "stdout",
          "text": [
            "\u001b[K     |████████████████████████████████| 380 kB 5.3 MB/s \n",
            "\u001b[K     |████████████████████████████████| 769 kB 37.3 MB/s \n",
            "\u001b[K     |████████████████████████████████| 1.2 MB 26.5 MB/s \n",
            "\u001b[K     |████████████████████████████████| 3.0 MB 37.8 MB/s \n",
            "\u001b[K     |████████████████████████████████| 895 kB 37.9 MB/s \n",
            "\u001b[K     |████████████████████████████████| 145 kB 5.3 MB/s \n",
            "\u001b[K     |████████████████████████████████| 1.7 MB 37.8 MB/s \n",
            "\u001b[K     |████████████████████████████████| 3.8 MB 34.4 MB/s \n",
            "\u001b[?25h  Building wheel for networkx (setup.py) ... \u001b[?25l\u001b[?25hdone\n",
            "\u001b[31mERROR: pip's dependency resolver does not currently take into account all the packages that are installed. This behaviour is the source of the following dependency conflicts.\n",
            "tensorflow 2.6.0 requires tensorboard~=2.6, but you have tensorboard 1.15.0 which is incompatible.\n",
            "albumentations 0.1.12 requires imgaug<0.2.7,>=0.2.5, but you have imgaug 0.2.9 which is incompatible.\u001b[0m\n"
          ]
        }
      ]
    },
    {
      "cell_type": "code",
      "metadata": {
        "id": "C6MX5Gm8NkSX"
      },
      "source": [
        "import nlpaug.augmenter.word as naw"
      ],
      "execution_count": 56,
      "outputs": []
    },
    {
      "cell_type": "code",
      "metadata": {
        "id": "A9kUIKpsNkSX",
        "colab": {
          "base_uri": "https://localhost:8080/",
          "height": 113,
          "referenced_widgets": [
            "e886090b074c466eb8e0f14f5ef954ca",
            "747c2da3eb1947fda304f47049f4474b",
            "73d2d77130b24f3d81034d5f7b127c68",
            "55e5adaa7a4f4a0ab3da028ac952382d",
            "7aa6fb7eca57477895777072bd120515",
            "03ab4f108cab486e88fe8369aa8f0175",
            "c0d68d668f6747e1acc4fc50462eb7e9",
            "8e9c83977ac64258a9e5e263f1a6bc45",
            "cc05303ebebf4b65a46f53cec8db30b3",
            "3f046b73bf1b49e6ac3cf100d0e95482",
            "615397f7995d4c55b596ccc110a8ab94",
            "fccb3deb253e4eaaa8dd28cf86eec1bc",
            "580299e4813a485ca6e203af3a6852fb",
            "04c93557baa14faf8c2063a509909928",
            "0e314fcf971c4aff995a2f3027db1526",
            "9f5c7f6e8fab4007a9a4527cf3ca8118",
            "88358dedacf6419a9f32bf7509aaf9ae",
            "42fbf1b4af8a469b9d6a11e21ef5ecf2",
            "dad5ee231ca442a69668edd577ffc7ab",
            "f6e7bdca0a194bf7971a8e701bf8a4a3",
            "2d0e90ca24d84c05b61aca0e0b9cb60f",
            "1a442c694cfb43aab86b6bd5ec474997",
            "f6bcc60cacf74c95996fbcd61d9d07e7",
            "3892e35b326c4c9782229a628f1a6381",
            "44f5204113ac42a2b0c91608f13299d3",
            "e5ada0f4e3f842cd8b87c32d1345cd78",
            "4cd456c6928a418fbf1b7e7ecf61db6b",
            "33a6c41a241f44c3b5c28eaf93b39418",
            "25e3abe146a14a18ad5eacd19f4d79b3",
            "ba07fa7580784b0780c477249e345996",
            "2459b647cc014babaceb3719cba1913e",
            "c79a85d893004d33823a2189a301e037",
            "47806adb2a27451b8dcaa398c33a46b3"
          ]
        },
        "outputId": "2e2e620d-dcdb-4b82-aeda-929a4d89054e"
      },
      "source": [
        "# Load tokenizers and transformers\n",
        "substitution = naw.ContextualWordEmbsAug(model_path=\"distilbert-base-uncased\", action=\"substitute\")\n",
        "insertion = naw.ContextualWordEmbsAug(model_path=\"distilbert-base-uncased\", action=\"insert\")"
      ],
      "execution_count": 57,
      "outputs": [
        {
          "output_type": "display_data",
          "data": {
            "application/vnd.jupyter.widget-view+json": {
              "model_id": "e886090b074c466eb8e0f14f5ef954ca",
              "version_minor": 0,
              "version_major": 2
            },
            "text/plain": [
              "Downloading:   0%|          | 0.00/442 [00:00<?, ?B/s]"
            ]
          },
          "metadata": {}
        },
        {
          "output_type": "display_data",
          "data": {
            "application/vnd.jupyter.widget-view+json": {
              "model_id": "fccb3deb253e4eaaa8dd28cf86eec1bc",
              "version_minor": 0,
              "version_major": 2
            },
            "text/plain": [
              "Downloading:   0%|          | 0.00/232k [00:00<?, ?B/s]"
            ]
          },
          "metadata": {}
        },
        {
          "output_type": "display_data",
          "data": {
            "application/vnd.jupyter.widget-view+json": {
              "model_id": "f6bcc60cacf74c95996fbcd61d9d07e7",
              "version_minor": 0,
              "version_major": 2
            },
            "text/plain": [
              "Downloading:   0%|          | 0.00/268M [00:00<?, ?B/s]"
            ]
          },
          "metadata": {}
        }
      ]
    },
    {
      "cell_type": "code",
      "metadata": {
        "id": "3YWn96hxNkSX"
      },
      "source": [
        "text = \"Conditional image generation using Variational Autoencoders and GANs.\""
      ],
      "execution_count": 58,
      "outputs": []
    },
    {
      "cell_type": "code",
      "metadata": {
        "id": "NLt1kYXkg3L8",
        "colab": {
          "base_uri": "https://localhost:8080/"
        },
        "outputId": "22c442d4-7a51-4f98-a19a-93392e95d1f3"
      },
      "source": [
        "# Substitutions\n",
        "augmented_text = substitution.augment(text)\n",
        "print (augmented_text)"
      ],
      "execution_count": 59,
      "outputs": [
        {
          "output_type": "stream",
          "name": "stdout",
          "text": [
            "scientific information retrieval using variational models and gans.\n"
          ]
        }
      ]
    },
    {
      "cell_type": "markdown",
      "metadata": {
        "id": "36DzpSqbNkSX"
      },
      "source": [
        "Substitution doesn't seem like a great idea for us because there are certain keywords that provide strong signal for our tags so we don't want to alter those. Also, note that these augmentations are NOT deterministic and will vary every time we run them. Let's try insertion..."
      ]
    },
    {
      "cell_type": "code",
      "metadata": {
        "id": "bK8PV0FWb7pE",
        "colab": {
          "base_uri": "https://localhost:8080/"
        },
        "outputId": "72b09ea4-0583-4ccc-ceed-cff82e8f9847"
      },
      "source": [
        "# Insertions\n",
        "augmented_text = insertion.augment(text)\n",
        "print (augmented_text)"
      ],
      "execution_count": 60,
      "outputs": [
        {
          "output_type": "stream",
          "name": "stdout",
          "text": [
            "using conditional dynamic image generation achieved using alternating variational autoencoders and gans.\n"
          ]
        }
      ]
    },
    {
      "cell_type": "markdown",
      "metadata": {
        "id": "x5K29gM5NkSX"
      },
      "source": [
        "A little better but still quite fragile and now it can potentially insert key words that can influence false positive tags to appear. Maybe instead of substituting or inserting new tokens, let's try simply swapping machine learning related keywords with their aliases from our [auxiliary data](https://raw.githubusercontent.com/GokuMohandas/MadeWithML/main/datasets/tags.json). We'll use Snorkel's [transformation functions](https://www.snorkel.org/use-cases/02-spam-data-augmentation-tutorial) to easily achieve this."
      ]
    },
    {
      "cell_type": "code",
      "metadata": {
        "id": "-8EchR_16aIn"
      },
      "source": [
        "import inflect\n",
        "from snorkel.augmentation import transformation_function\n",
        "inflect = inflect.engine()"
      ],
      "execution_count": 61,
      "outputs": []
    },
    {
      "cell_type": "code",
      "metadata": {
        "id": "LJoGgiKD_wog",
        "colab": {
          "base_uri": "https://localhost:8080/"
        },
        "outputId": "956cf939-9594-45de-eba1-4697848a07cb"
      },
      "source": [
        "# Inflect\n",
        "print (inflect.singular_noun(\"graphs\"))\n",
        "print (inflect.singular_noun(\"graph\"))\n",
        "print (inflect.plural_noun(\"graph\"))\n",
        "print (inflect.plural_noun(\"graphs\"))"
      ],
      "execution_count": 62,
      "outputs": [
        {
          "output_type": "stream",
          "name": "stdout",
          "text": [
            "graph\n",
            "False\n",
            "graphs\n",
            "graphss\n"
          ]
        }
      ]
    },
    {
      "cell_type": "code",
      "metadata": {
        "id": "J-WP46Zs0rko"
      },
      "source": [
        "def replace_dash(x):\n",
        "    return x.replace(\"-\", \" \")"
      ],
      "execution_count": 63,
      "outputs": []
    },
    {
      "cell_type": "code",
      "metadata": {
        "id": "YLComLRexHTN"
      },
      "source": [
        "flat_tags_dict = {}\n",
        "for tag, info in tags_dict.items():\n",
        "    tag = tag.replace(\"-\", \" \")\n",
        "    aliases = list(map(replace_dash, info[\"aliases\"]))\n",
        "    if len(aliases):\n",
        "        flat_tags_dict[tag] = aliases\n",
        "    for alias in aliases:\n",
        "        _aliases = aliases + [tag]\n",
        "        _aliases.remove(alias)\n",
        "        flat_tags_dict[alias] = _aliases"
      ],
      "execution_count": 64,
      "outputs": []
    },
    {
      "cell_type": "code",
      "metadata": {
        "id": "8TkafOfS8Iqa"
      },
      "source": [
        "# Tags that could be singular or plural\n",
        "can_be_singular = [\n",
        "    'animations',\n",
        "    'cartoons',\n",
        "    'autoencoders',\n",
        "    'conditional random fields',\n",
        "    'convolutional neural networks',\n",
        "    'databases',\n",
        "    'deep q networks',\n",
        "    'gated recurrent units',\n",
        "    'gaussian processes',\n",
        "    'generative adversarial networks',\n",
        "    'graph convolutional networks',\n",
        "    'graph neural networks',\n",
        "    'k nearest neighbors',\n",
        "    'learning rates',\n",
        "    'multilayer perceptrons',\n",
        "    'outliers',\n",
        "    'pos',\n",
        "    'quasi recurrent neural networks',\n",
        "    'recommendation systems',\n",
        "    'recurrent neural networks',\n",
        "    'streaming data',\n",
        "    'data streams',\n",
        "    'support vector machines',\n",
        "    'variational autoencoders']\n",
        "can_be_plural = [\n",
        "    'annotation',\n",
        "    'data annotation',\n",
        "    'continuous integration',\n",
        "    'continuous deployment',\n",
        "    'crf',\n",
        "    'conversational ai',\n",
        "    'chatbot',\n",
        "    'cnn',\n",
        "    'db',\n",
        "    'dqn',\n",
        "    'expectation maximization',\n",
        "    'fine tuning',\n",
        "    'finetuning',\n",
        "    'finetune',\n",
        "    'gru',\n",
        "    'gan',\n",
        "    'gcn',\n",
        "    'gnn',\n",
        "    'hyperparameter optimization',\n",
        "    'hyperparameter tuning',\n",
        "    'image generation',\n",
        "    'inference',\n",
        "    'prediction',\n",
        "    'knn',\n",
        "    'knowledge base',\n",
        "    'language modeling',\n",
        "    'latent dirichlet allocation',\n",
        "    'lstm',\n",
        "    'machine translation',\n",
        "    'model compression',\n",
        "    'compression',\n",
        "    'perceptron',\n",
        "    'mlp',\n",
        "    'optical character recognition',\n",
        "    'outlier detection',\n",
        "    'pos tagging',\n",
        "    'pca',\n",
        "    'qrnn',\n",
        "    'rnn',\n",
        "    'segmentation',\n",
        "    'image segmentation',\n",
        "    'spatial temporal cnn',\n",
        "    'data streaming',\n",
        "    'svm',\n",
        "    'tabular',\n",
        "    'temporal cnn',\n",
        "    'tcnn',\n",
        "    'vae',\n",
        "    'vqa',\n",
        "    'visualization',\n",
        "    'data visualization']"
      ],
      "execution_count": 65,
      "outputs": []
    },
    {
      "cell_type": "code",
      "metadata": {
        "id": "hKUwzfZc96gO"
      },
      "source": [
        "# Add to flattened dict\n",
        "for tag in can_be_singular:\n",
        "    flat_tags_dict[inflect.singular_noun(tag)] = flat_tags_dict[tag]\n",
        "for tag in can_be_plural:\n",
        "    flat_tags_dict[inflect.plural_noun(tag)] = flat_tags_dict[tag]"
      ],
      "execution_count": 66,
      "outputs": []
    },
    {
      "cell_type": "code",
      "metadata": {
        "id": "KU6DGLk26RNR",
        "colab": {
          "base_uri": "https://localhost:8080/"
        },
        "outputId": "822d05be-1e98-40f9-9b2a-e0989873578e"
      },
      "source": [
        "# Doesn't perfectly match (ex. singlar tag to singlar alias)\n",
        "# But good enough for data augmentation for char-level tokenization\n",
        "# Could've also used stemming before swapping aliases\n",
        "print (flat_tags_dict[\"gan\"])\n",
        "print (flat_tags_dict[\"gans\"])\n",
        "print (flat_tags_dict[\"generative adversarial network\"])\n",
        "print (flat_tags_dict[\"generative adversarial networks\"])"
      ],
      "execution_count": 67,
      "outputs": [
        {
          "output_type": "stream",
          "name": "stdout",
          "text": [
            "['generative adversarial networks']\n",
            "['generative adversarial networks']\n",
            "['gan']\n",
            "['gan']\n"
          ]
        }
      ]
    },
    {
      "cell_type": "code",
      "metadata": {
        "id": "E2QdYOXSY55L",
        "colab": {
          "base_uri": "https://localhost:8080/"
        },
        "outputId": "ade27f2a-11d5-48d3-f8c5-06918bb99923"
      },
      "source": [
        "# We want to match with the whole word only\n",
        "print (\"gan\" in \"This is a gan.\")\n",
        "print (\"gan\" in \"This is gandalf.\")"
      ],
      "execution_count": 68,
      "outputs": [
        {
          "output_type": "stream",
          "name": "stdout",
          "text": [
            "True\n",
            "True\n"
          ]
        }
      ]
    },
    {
      "cell_type": "code",
      "metadata": {
        "id": "MHtHER09W8ew"
      },
      "source": [
        "def find_word(word, text):\n",
        "    word = word.replace(\"+\", \"\\+\")\n",
        "    pattern = re.compile(fr\"\\b({word})\\b\", flags=re.IGNORECASE)\n",
        "    return pattern.search(text)"
      ],
      "execution_count": 69,
      "outputs": []
    },
    {
      "cell_type": "code",
      "metadata": {
        "id": "4zTuKPuRXTRO",
        "colab": {
          "base_uri": "https://localhost:8080/"
        },
        "outputId": "29580797-5b1d-4e46-ea54-f3eef1365cd8"
      },
      "source": [
        "# Correct behavior (single instance)\n",
        "print (find_word(\"gan\", \"This is a gan.\"))\n",
        "print (find_word(\"gan\", \"This is gandalf.\"))"
      ],
      "execution_count": 70,
      "outputs": [
        {
          "output_type": "stream",
          "name": "stdout",
          "text": [
            "<re.Match object; span=(10, 13), match='gan'>\n",
            "None\n"
          ]
        }
      ]
    },
    {
      "cell_type": "code",
      "metadata": {
        "id": "2r0f6iqeoNSh"
      },
      "source": [
        "@transformation_function()\n",
        "def swap_aliases(x):\n",
        "    \"\"\"Swap ML keywords with their aliases.\"\"\" \n",
        "\n",
        "    # Find all matches\n",
        "    matches = []\n",
        "    for i, tag in enumerate(flat_tags_dict):\n",
        "        match = find_word(tag, x.text)  \n",
        "        if match:\n",
        "            matches.append(match)\n",
        "    \n",
        "    # Swap a random match with a random alias\n",
        "    if len(matches):\n",
        "        match = random.choice(matches)\n",
        "        tag = x.text[match.start():match.end()]\n",
        "        x.text = f\"{x.text[:match.start()]}{random.choice(flat_tags_dict[tag])}{x.text[match.end():]}\"\n",
        "    return x"
      ],
      "execution_count": 71,
      "outputs": []
    },
    {
      "cell_type": "code",
      "metadata": {
        "id": "4Hnuu4LZqgxS",
        "colab": {
          "base_uri": "https://localhost:8080/"
        },
        "outputId": "fc71fba3-de8a-4ca3-de46-9a8c6bffd660"
      },
      "source": [
        "# Swap\n",
        "for i in range(3):\n",
        "    sample_df = pd.DataFrame([{\"text\": \"a survey of reinforcement learning for nlp tasks.\"}])\n",
        "    sample_df.text = sample_df.text.apply(preprocess, lower=True, stem=False)\n",
        "    print (swap_aliases(sample_df.iloc[0]).text)"
      ],
      "execution_count": 72,
      "outputs": [
        {
          "output_type": "stream",
          "name": "stdout",
          "text": [
            "survey reinforcement learning nlproc tasks\n",
            "survey rl nlp tasks\n",
            "survey rl nlp tasks\n"
          ]
        }
      ]
    },
    {
      "cell_type": "code",
      "metadata": {
        "id": "Zb1PkpxE3jrP",
        "colab": {
          "base_uri": "https://localhost:8080/"
        },
        "outputId": "48234010-b77e-4bd7-bb83-39ade5aa32c0"
      },
      "source": [
        "# Undesired behavior (needs contextual insight)\n",
        "for i in range(3):\n",
        "    sample_df = pd.DataFrame([{\"text\": \"Autogenerate your CV to apply for jobs using NLP.\"}])\n",
        "    sample_df.text = sample_df.text.apply(preprocess, lower=True, stem=False)\n",
        "    print (swap_aliases(sample_df.iloc[0]).text)"
      ],
      "execution_count": 73,
      "outputs": [
        {
          "output_type": "stream",
          "name": "stdout",
          "text": [
            "autogenerate vision apply jobs using nlp\n",
            "autogenerate cv apply jobs using natural language processing\n",
            "autogenerate cv apply jobs using nlproc\n"
          ]
        }
      ]
    },
    {
      "cell_type": "markdown",
      "metadata": {
        "id": "7C0z19mFBswx"
      },
      "source": [
        "Now we'll define a [augmentation policy](https://snorkel.readthedocs.io/en/v0.9.1/packages/augmentation.html) to apply our transformation functions with certain rules (how many samples to generate, whether to keep the original data point, etc.)"
      ]
    },
    {
      "cell_type": "code",
      "metadata": {
        "id": "8Cwju3KrnH7O"
      },
      "source": [
        "from snorkel.augmentation import ApplyOnePolicy, PandasTFApplier"
      ],
      "execution_count": 74,
      "outputs": []
    },
    {
      "cell_type": "code",
      "metadata": {
        "id": "NitY8I8jlg-f",
        "colab": {
          "base_uri": "https://localhost:8080/",
          "height": 221
        },
        "outputId": "29593b93-e032-43f7-d16d-f6cd0bb75820"
      },
      "source": [
        "# Transformation function (TF) policy\n",
        "policy = ApplyOnePolicy(n_per_original=5, keep_original=True)\n",
        "tf_applier = PandasTFApplier([swap_aliases], policy)\n",
        "train_df_augmented = tf_applier.apply(train_df)\n",
        "train_df_augmented.drop_duplicates(subset=[\"text\"], inplace=True)\n",
        "train_df_augmented.head()"
      ],
      "execution_count": 75,
      "outputs": [
        {
          "output_type": "stream",
          "name": "stderr",
          "text": [
            "100%|██████████| 1005/1005 [00:22<00:00, 44.26it/s]\n"
          ]
        },
        {
          "output_type": "execute_result",
          "data": {
            "text/html": [
              "<div>\n",
              "<style scoped>\n",
              "    .dataframe tbody tr th:only-of-type {\n",
              "        vertical-align: middle;\n",
              "    }\n",
              "\n",
              "    .dataframe tbody tr th {\n",
              "        vertical-align: top;\n",
              "    }\n",
              "\n",
              "    .dataframe thead th {\n",
              "        text-align: right;\n",
              "    }\n",
              "</style>\n",
              "<table border=\"1\" class=\"dataframe\">\n",
              "  <thead>\n",
              "    <tr style=\"text-align: right;\">\n",
              "      <th></th>\n",
              "      <th>text</th>\n",
              "      <th>tags</th>\n",
              "    </tr>\n",
              "  </thead>\n",
              "  <tbody>\n",
              "    <tr>\n",
              "      <th>0</th>\n",
              "      <td>hugging face achieved 2x performance boost qa ...</td>\n",
              "      <td>[attention, huggingface, natural-language-proc...</td>\n",
              "    </tr>\n",
              "    <tr>\n",
              "      <th>0</th>\n",
              "      <td>hugging face achieved 2x performance boost qa ...</td>\n",
              "      <td>[attention, huggingface, natural-language-proc...</td>\n",
              "    </tr>\n",
              "    <tr>\n",
              "      <th>0</th>\n",
              "      <td>hugging face achieved 2x performance boost qa ...</td>\n",
              "      <td>[attention, huggingface, natural-language-proc...</td>\n",
              "    </tr>\n",
              "    <tr>\n",
              "      <th>0</th>\n",
              "      <td>hugging face achieved 2x performance boost qa ...</td>\n",
              "      <td>[attention, huggingface, natural-language-proc...</td>\n",
              "    </tr>\n",
              "    <tr>\n",
              "      <th>0</th>\n",
              "      <td>hugging face achieved 2x performance boost qa ...</td>\n",
              "      <td>[attention, huggingface, natural-language-proc...</td>\n",
              "    </tr>\n",
              "  </tbody>\n",
              "</table>\n",
              "</div>"
            ],
            "text/plain": [
              "                                                text                                               tags\n",
              "0  hugging face achieved 2x performance boost qa ...  [attention, huggingface, natural-language-proc...\n",
              "0  hugging face achieved 2x performance boost qa ...  [attention, huggingface, natural-language-proc...\n",
              "0  hugging face achieved 2x performance boost qa ...  [attention, huggingface, natural-language-proc...\n",
              "0  hugging face achieved 2x performance boost qa ...  [attention, huggingface, natural-language-proc...\n",
              "0  hugging face achieved 2x performance boost qa ...  [attention, huggingface, natural-language-proc..."
            ]
          },
          "metadata": {},
          "execution_count": 75
        }
      ]
    },
    {
      "cell_type": "code",
      "metadata": {
        "id": "UhCHE2eCnXf9",
        "colab": {
          "base_uri": "https://localhost:8080/"
        },
        "outputId": "54d3088b-72f4-4ff3-860f-ca857c7dde0d"
      },
      "source": [
        "len(train_df), len(train_df_augmented)"
      ],
      "execution_count": 76,
      "outputs": [
        {
          "output_type": "execute_result",
          "data": {
            "text/plain": [
              "(1005, 2062)"
            ]
          },
          "metadata": {},
          "execution_count": 76
        }
      ]
    },
    {
      "cell_type": "markdown",
      "metadata": {
        "id": "XAgm9USuoQUF"
      },
      "source": [
        "For now, we'll skip the data augmentation because it's quite fickle and empirically it doesn't improvement performance much. But we can see how this can be very effective once we can control what type of vocabulary to augment on and what exactly to augment with.\n",
        "\n",
        "> Regardless of what method we use, it's important to validate that we're not just augmenting for the sake of augmentation. We can do this by executing any existing [data validation tests](https://madewithml.com/courses/mlops/testing#data) and even creating specific tests to apply on augmented data."
      ]
    },
    {
      "cell_type": "markdown",
      "metadata": {
        "id": "lGvI2YuuNkSX"
      },
      "source": [
        "# 📈&nbsp; Modeling"
      ]
    },
    {
      "cell_type": "markdown",
      "metadata": {
        "id": "IdQjMSQgNkSX"
      },
      "source": [
        "We'll begin modeling by starting with the simplest baseline and slowly adding complexity."
      ]
    },
    {
      "cell_type": "code",
      "metadata": {
        "id": "C4O57X2dNkSY"
      },
      "source": [
        "from sklearn.metrics import precision_recall_fscore_support\n",
        "import torch"
      ],
      "execution_count": 77,
      "outputs": []
    },
    {
      "cell_type": "code",
      "metadata": {
        "id": "NXd8flJuNkSY"
      },
      "source": [
        "def set_seeds(seed=1234):\n",
        "    \"\"\"Set seeds for reproducibility.\"\"\"\n",
        "    np.random.seed(seed)\n",
        "    random.seed(seed)\n",
        "    torch.manual_seed(seed)\n",
        "    torch.cuda.manual_seed(seed)\n",
        "    torch.cuda.manual_seed_all(seed) # multi-GPU"
      ],
      "execution_count": 78,
      "outputs": []
    },
    {
      "cell_type": "code",
      "metadata": {
        "id": "jf_XCcSguF9o"
      },
      "source": [
        "def get_data_splits(df, train_size=0.7):\n",
        "    \"\"\"\"\"\"\n",
        "    # Get data\n",
        "    X = df.text.to_numpy()\n",
        "    y = df.tags\n",
        "\n",
        "    # Binarize y\n",
        "    label_encoder = LabelEncoder()\n",
        "    label_encoder.fit(y)\n",
        "    y = label_encoder.encode(y)\n",
        "\n",
        "    # Split\n",
        "    X_train, X_, y_train, y_ = iterative_train_test_split(\n",
        "        X, y, train_size=train_size)\n",
        "    X_val, X_test, y_val, y_test = iterative_train_test_split(\n",
        "        X_, y_, train_size=0.5)\n",
        "    \n",
        "    return X_train, X_val, X_test, y_train, y_val, y_test, label_encoder"
      ],
      "execution_count": 79,
      "outputs": []
    },
    {
      "cell_type": "code",
      "metadata": {
        "id": "6Q9C95ZAhJHv"
      },
      "source": [
        "class Trainer(object):\n",
        "    def __init__(self, model, device, loss_fn=None, optimizer=None, scheduler=None):\n",
        "\n",
        "        # Set params\n",
        "        self.model = model\n",
        "        self.device = device\n",
        "        self.loss_fn = loss_fn\n",
        "        self.optimizer = optimizer\n",
        "        self.scheduler = scheduler\n",
        "\n",
        "    def train_step(self, dataloader):\n",
        "        \"\"\"Train step.\"\"\"\n",
        "        # Set model to train mode\n",
        "        self.model.train()\n",
        "        loss = 0.0\n",
        "\n",
        "        # Iterate over train batches\n",
        "        for i, batch in enumerate(dataloader):\n",
        "\n",
        "            # Step\n",
        "            batch = [item.to(self.device) for item in batch]  # Set device\n",
        "            inputs, targets = batch[:-1], batch[-1]\n",
        "            self.optimizer.zero_grad()  # Reset gradients\n",
        "            z = self.model(inputs)  # Forward pass\n",
        "            J = self.loss_fn(z, targets)  # Define loss\n",
        "            J.backward()  # Backward pass\n",
        "            self.optimizer.step()  # Update weights\n",
        "\n",
        "            # Cumulative Metrics\n",
        "            loss += (J.detach().item() - loss) / (i + 1)\n",
        "\n",
        "        return loss\n",
        "\n",
        "    def eval_step(self, dataloader):\n",
        "        \"\"\"Validation or test step.\"\"\"\n",
        "        # Set model to eval mode\n",
        "        self.model.eval()\n",
        "        loss = 0.0\n",
        "        y_trues, y_probs = [], []\n",
        "\n",
        "        # Iterate over val batches\n",
        "        with torch.inference_mode():\n",
        "            for i, batch in enumerate(dataloader):\n",
        "\n",
        "                # Step\n",
        "                batch = [item.to(self.device) for item in batch]  # Set device\n",
        "                inputs, y_true = batch[:-1], batch[-1]\n",
        "                z = self.model(inputs)  # Forward pass\n",
        "                J = self.loss_fn(z, y_true).item()\n",
        "\n",
        "                # Cumulative Metrics\n",
        "                loss += (J - loss) / (i + 1)\n",
        "\n",
        "                # Store outputs\n",
        "                y_prob = torch.sigmoid(z).cpu().numpy()\n",
        "                y_probs.extend(y_prob)\n",
        "                y_trues.extend(y_true.cpu().numpy())\n",
        "\n",
        "        return loss, np.vstack(y_trues), np.vstack(y_probs)\n",
        "\n",
        "    def predict_step(self, dataloader):\n",
        "        \"\"\"Prediction step.\"\"\"\n",
        "        # Set model to eval mode\n",
        "        self.model.eval()\n",
        "        y_probs = []\n",
        "\n",
        "        # Iterate over val batches\n",
        "        with torch.inference_mode():\n",
        "            for i, batch in enumerate(dataloader):\n",
        "\n",
        "                # Forward pass w/ inputs\n",
        "                inputs, targets = batch[:-1], batch[-1]\n",
        "                z = self.model(inputs)\n",
        "\n",
        "                # Store outputs\n",
        "                y_prob = torch.sigmoid(z).cpu().numpy()\n",
        "                y_probs.extend(y_prob)\n",
        "\n",
        "        return np.vstack(y_probs)\n",
        "    \n",
        "    def train(self, num_epochs, patience, train_dataloader, val_dataloader, \n",
        "              tolerance=1e-5):\n",
        "        best_val_loss = np.inf\n",
        "        for epoch in range(num_epochs):\n",
        "            # Steps\n",
        "            train_loss = self.train_step(dataloader=train_dataloader)\n",
        "            val_loss, _, _ = self.eval_step(dataloader=val_dataloader)\n",
        "            self.scheduler.step(val_loss)\n",
        "\n",
        "            # Early stopping\n",
        "            if val_loss < best_val_loss - tolerance:\n",
        "                best_val_loss = val_loss\n",
        "                best_model = self.model\n",
        "                _patience = patience  # reset _patience\n",
        "            else:\n",
        "                _patience -= 1\n",
        "            if not _patience:  # 0\n",
        "                print(\"Stopping early!\")\n",
        "                break\n",
        "\n",
        "            # Logging\n",
        "            print(\n",
        "                f\"Epoch: {epoch+1} | \"\n",
        "                f\"train_loss: {train_loss:.5f}, \"\n",
        "                f\"val_loss: {val_loss:.5f}, \"\n",
        "                f\"lr: {self.optimizer.param_groups[0]['lr']:.2E}, \"\n",
        "                f\"_patience: {_patience}\"\n",
        "            )\n",
        "        return best_model"
      ],
      "execution_count": 80,
      "outputs": []
    },
    {
      "cell_type": "markdown",
      "metadata": {
        "id": "fAQjRWHCNkSY"
      },
      "source": [
        "## Random"
      ]
    },
    {
      "cell_type": "markdown",
      "metadata": {
        "id": "StAbvxEGkSmS"
      },
      "source": [
        "<u><i>motivation</i></u>: We want to know what random (chance) performance looks like. All of our efforts should be well above this."
      ]
    },
    {
      "cell_type": "code",
      "metadata": {
        "id": "Y6R-g-5INkSY"
      },
      "source": [
        "# Set seeds\n",
        "set_seeds()"
      ],
      "execution_count": 81,
      "outputs": []
    },
    {
      "cell_type": "code",
      "metadata": {
        "id": "SIYPLUMnNkSY"
      },
      "source": [
        "# Get data splits\n",
        "preprocessed_df = df.copy()\n",
        "preprocessed_df.text = preprocessed_df.text.apply(preprocess, lower=True)\n",
        "X_train, X_val, X_test, y_train, y_val, y_test, label_encoder = get_data_splits(preprocessed_df)"
      ],
      "execution_count": 82,
      "outputs": []
    },
    {
      "cell_type": "code",
      "metadata": {
        "id": "_UWsFo8cNkSY",
        "colab": {
          "base_uri": "https://localhost:8080/"
        },
        "outputId": "fc28f108-0b66-477c-8297-0c009c728a6b"
      },
      "source": [
        "# Label encoder\n",
        "print (label_encoder)\n",
        "print (label_encoder.classes)"
      ],
      "execution_count": 83,
      "outputs": [
        {
          "output_type": "stream",
          "name": "stdout",
          "text": [
            "<LabelEncoder(num_classes=34)>\n",
            "['attention', 'autoencoders', 'computer-vision', 'convolutional-neural-networks', 'data-augmentation', 'embeddings', 'flask', 'generative-adversarial-networks', 'graph-neural-networks', 'graphs', 'huggingface', 'image-classification', 'interpretability', 'keras', 'language-modeling', 'natural-language-processing', 'node-classification', 'object-detection', 'pretraining', 'production', 'pytorch', 'question-answering', 'regression', 'reinforcement-learning', 'representation-learning', 'scikit-learn', 'segmentation', 'self-supervised-learning', 'tensorflow', 'tensorflow-js', 'time-series', 'transfer-learning', 'transformers', 'unsupervised-learning']\n"
          ]
        }
      ]
    },
    {
      "cell_type": "code",
      "metadata": {
        "id": "YXTrB3ToNkSY",
        "colab": {
          "base_uri": "https://localhost:8080/"
        },
        "outputId": "23fd053f-244b-493c-a7cf-fd1a0df4cb2b"
      },
      "source": [
        "# Generate random predictions\n",
        "y_pred = np.random.randint(low=0, high=2, size=(len(y_test), len(label_encoder.classes)))\n",
        "print (y_pred.shape)\n",
        "print (y_pred[0:5])"
      ],
      "execution_count": 84,
      "outputs": [
        {
          "output_type": "stream",
          "name": "stdout",
          "text": [
            "(218, 34)\n",
            "[[1 1 1 0 0 1 1 1 0 0 0 1 1 0 0 1 1 1 0 1 1 1 1 1 1 0 0 1 0 1 1 0 1 1]\n",
            " [0 0 0 1 0 1 0 0 0 0 0 1 1 1 1 1 0 1 1 1 1 0 1 1 1 1 1 0 1 1 0 1 0 0]\n",
            " [0 0 1 1 1 1 1 0 1 0 0 0 1 1 1 0 0 1 1 1 0 0 1 0 0 1 1 1 1 1 0 1 1 0]\n",
            " [0 1 0 0 1 1 0 1 1 0 1 1 0 0 1 1 0 1 1 0 1 1 1 0 0 0 1 1 1 0 1 1 0 0]\n",
            " [0 1 0 0 1 1 0 0 0 1 1 1 0 1 1 0 1 0 1 1 0 1 1 1 0 0 1 0 1 1 1 1 1 1]]\n"
          ]
        }
      ]
    },
    {
      "cell_type": "code",
      "metadata": {
        "id": "tAAoXyNANkSY",
        "colab": {
          "base_uri": "https://localhost:8080/"
        },
        "outputId": "79e80731-1f46-4531-bad5-2eaa54b78b96"
      },
      "source": [
        "# Evaluate\n",
        "metrics = precision_recall_fscore_support(y_test, y_pred, average=\"weighted\")\n",
        "performance = {\"precision\": metrics[0], \"recall\": metrics[1], \"f1\": metrics[2]}\n",
        "print (json.dumps(performance, indent=2))"
      ],
      "execution_count": 85,
      "outputs": [
        {
          "output_type": "stream",
          "name": "stdout",
          "text": [
            "{\n",
            "  \"precision\": 0.1280350066470929,\n",
            "  \"recall\": 0.5278969957081545,\n",
            "  \"f1\": 0.1868875872691634\n",
            "}\n"
          ]
        }
      ]
    },
    {
      "cell_type": "markdown",
      "metadata": {
        "id": "BLzOP5fIkYWl"
      },
      "source": [
        "We made the assumption that there is an equal probability for whether an input has a tag or not but this isn't true. Let's use the **train split** to figure out what the true probability is."
      ]
    },
    {
      "cell_type": "code",
      "metadata": {
        "id": "pN6tq9z6iW7a",
        "colab": {
          "base_uri": "https://localhost:8080/"
        },
        "outputId": "53435e58-d7f8-4451-8e6d-6421e0aee6ac"
      },
      "source": [
        "# Percentage of 1s (tag presence)\n",
        "tag_p = np.sum(np.sum(y_train)) / (len(y_train) * len(label_encoder.classes))\n",
        "print (tag_p)"
      ],
      "execution_count": 86,
      "outputs": [
        {
          "output_type": "stream",
          "name": "stdout",
          "text": [
            "0.06353526485220955\n"
          ]
        }
      ]
    },
    {
      "cell_type": "code",
      "metadata": {
        "id": "vInlz4R1iA4i"
      },
      "source": [
        "# Generate weighted random predictions\n",
        "y_pred = np.random.choice(\n",
        "    np.arange(0, 2), size=(len(y_test), len(label_encoder.classes)), \n",
        "    p=[1-tag_p, tag_p])"
      ],
      "execution_count": 87,
      "outputs": []
    },
    {
      "cell_type": "code",
      "metadata": {
        "id": "_LnLd-Arj5t0",
        "colab": {
          "base_uri": "https://localhost:8080/"
        },
        "outputId": "1468f0b7-2bf6-4620-9c8e-742b6368c973"
      },
      "source": [
        "# Validate percentage\n",
        "np.sum(np.sum(y_pred)) / (len(y_pred) * len(label_encoder.classes))"
      ],
      "execution_count": 88,
      "outputs": [
        {
          "output_type": "execute_result",
          "data": {
            "text/plain": [
              "0.0635456017269293"
            ]
          },
          "metadata": {},
          "execution_count": 88
        }
      ]
    },
    {
      "cell_type": "code",
      "metadata": {
        "id": "hpfBiruhkJME",
        "colab": {
          "base_uri": "https://localhost:8080/"
        },
        "outputId": "b1e0d301-79ce-432c-8883-347a859c1d31"
      },
      "source": [
        "# Evaluate\n",
        "metrics = precision_recall_fscore_support(y_test, y_pred, average=\"weighted\")\n",
        "performance = {\"precision\": metrics[0], \"recall\": metrics[1], \"f1\": metrics[2]}\n",
        "print (json.dumps(performance, indent=2))"
      ],
      "execution_count": 89,
      "outputs": [
        {
          "output_type": "stream",
          "name": "stdout",
          "text": [
            "{\n",
            "  \"precision\": 0.12591336298417846,\n",
            "  \"recall\": 0.07296137339055794,\n",
            "  \"f1\": 0.0755483654242547\n",
            "}\n"
          ]
        }
      ]
    },
    {
      "cell_type": "markdown",
      "metadata": {
        "id": "YC9ConMQlPgg"
      },
      "source": [
        "<u><i>limitations</i></u>: we didn't use the tokens in our input to affect our predictions so nothing was learned."
      ]
    },
    {
      "cell_type": "markdown",
      "metadata": {
        "id": "OVzBKdt3NkSY"
      },
      "source": [
        "## Rule-based"
      ]
    },
    {
      "cell_type": "markdown",
      "metadata": {
        "id": "u_XWLBgQlSn-"
      },
      "source": [
        "<u><i>motivation</i></u>: we want to use signals in our inputs (along with domain expertise and auxiliary data) to determine the labels."
      ]
    },
    {
      "cell_type": "code",
      "metadata": {
        "id": "nXlgWoyFNkSY"
      },
      "source": [
        "# Set seeds\n",
        "set_seeds()"
      ],
      "execution_count": 90,
      "outputs": []
    },
    {
      "cell_type": "markdown",
      "metadata": {
        "id": "2RzG44f6mx_4"
      },
      "source": [
        "### Unstemmed"
      ]
    },
    {
      "cell_type": "code",
      "metadata": {
        "id": "ZhXtWZcgmxWW"
      },
      "source": [
        "# Get data splits\n",
        "preprocessed_df = df.copy()\n",
        "preprocessed_df.text = preprocessed_df.text.apply(preprocess, lower=True)\n",
        "X_train, X_val, X_test, y_train, y_val, y_test, label_encoder = get_data_splits(preprocessed_df)"
      ],
      "execution_count": 91,
      "outputs": []
    },
    {
      "cell_type": "code",
      "metadata": {
        "id": "3N961xapm1wS",
        "colab": {
          "base_uri": "https://localhost:8080/"
        },
        "outputId": "60a796d6-d70e-4802-fd8f-1fca46bd54c0"
      },
      "source": [
        "# Restrict to relevant tags\n",
        "print (len(tags_dict))\n",
        "tags_dict = {tag: tags_dict[tag] for tag in label_encoder.classes}\n",
        "print (len(tags_dict))"
      ],
      "execution_count": 92,
      "outputs": [
        {
          "output_type": "stream",
          "name": "stdout",
          "text": [
            "400\n",
            "34\n"
          ]
        }
      ]
    },
    {
      "cell_type": "code",
      "metadata": {
        "id": "8sN9-ZfEm10i",
        "colab": {
          "base_uri": "https://localhost:8080/"
        },
        "outputId": "a78ea7c7-316d-4a70-99b3-d643f108fcd1"
      },
      "source": [
        "# Map aliases\n",
        "aliases = {}\n",
        "for tag, values in tags_dict.items():\n",
        "    aliases[preprocess(tag)] = tag\n",
        "    for alias in values[\"aliases\"]:\n",
        "        aliases[preprocess(alias)] = tag\n",
        "aliases"
      ],
      "execution_count": 93,
      "outputs": [
        {
          "output_type": "execute_result",
          "data": {
            "text/plain": [
              "{'ae': 'autoencoders',\n",
              " 'attention': 'attention',\n",
              " 'autoencoders': 'autoencoders',\n",
              " 'cnn': 'convolutional-neural-networks',\n",
              " 'computer vision': 'computer-vision',\n",
              " 'convolutional neural networks': 'convolutional-neural-networks',\n",
              " 'cv': 'computer-vision',\n",
              " 'data augmentation': 'data-augmentation',\n",
              " 'embeddings': 'embeddings',\n",
              " 'flask': 'flask',\n",
              " 'gan': 'generative-adversarial-networks',\n",
              " 'generative adversarial networks': 'generative-adversarial-networks',\n",
              " 'gnn': 'graph-neural-networks',\n",
              " 'graph neural networks': 'graph-neural-networks',\n",
              " 'graphs': 'graphs',\n",
              " 'huggingface': 'huggingface',\n",
              " 'image classification': 'image-classification',\n",
              " 'image segmentation': 'segmentation',\n",
              " 'interpretability': 'interpretability',\n",
              " 'keras': 'keras',\n",
              " 'language modeling': 'language-modeling',\n",
              " 'lm': 'language-modeling',\n",
              " 'natural language processing': 'natural-language-processing',\n",
              " 'nlp': 'natural-language-processing',\n",
              " 'nlproc': 'natural-language-processing',\n",
              " 'node classification': 'node-classification',\n",
              " 'object detection': 'object-detection',\n",
              " 'pre training': 'pretraining',\n",
              " 'pretraining': 'pretraining',\n",
              " 'production': 'production',\n",
              " 'pytorch': 'pytorch',\n",
              " 'qa': 'question-answering',\n",
              " 'question answering': 'question-answering',\n",
              " 'regression': 'regression',\n",
              " 'reinforcement learning': 'reinforcement-learning',\n",
              " 'representation learning': 'representation-learning',\n",
              " 'rl': 'reinforcement-learning',\n",
              " 'scikit learn': 'scikit-learn',\n",
              " 'segmentation': 'segmentation',\n",
              " 'self supervised learning': 'self-supervised-learning',\n",
              " 'sklearn': 'scikit-learn',\n",
              " 'tensorflow': 'tensorflow',\n",
              " 'tensorflow js': 'tensorflow-js',\n",
              " 'tf': 'tensorflow',\n",
              " 'tf js': 'tensorflow-js',\n",
              " 'time series': 'time-series',\n",
              " 'time series analysis': 'time-series',\n",
              " 'transfer learning': 'transfer-learning',\n",
              " 'transformers': 'transformers',\n",
              " 'unsupervised learning': 'unsupervised-learning',\n",
              " 'vision': 'computer-vision'}"
            ]
          },
          "metadata": {},
          "execution_count": 93
        }
      ]
    },
    {
      "cell_type": "code",
      "metadata": {
        "id": "ntVJvdVBm14U"
      },
      "source": [
        "def get_classes(text, aliases, tags_dict):\n",
        "    \"\"\"If a token matches an alias, \n",
        "    then add the corresponding tag\n",
        "    class (and parent tags if any).\"\"\"\n",
        "    classes = []\n",
        "    for alias, tag in aliases.items():\n",
        "        if alias in text:\n",
        "            classes.append(tag)\n",
        "            for parent in tags_dict[tag][\"parents\"]:\n",
        "                classes.append(parent)\n",
        "    return list(set(classes))"
      ],
      "execution_count": 94,
      "outputs": []
    },
    {
      "cell_type": "code",
      "metadata": {
        "id": "cKHKKwNCnBzX",
        "colab": {
          "base_uri": "https://localhost:8080/"
        },
        "outputId": "181f0946-1153-4e6d-8c82-6cbd3f2c1d6c"
      },
      "source": [
        "# Sample\n",
        "text = \"This project extends gans for data augmentation specifically for object detection tasks.\"\n",
        "get_classes(text=preprocess(text), aliases=aliases, tags_dict=tags_dict)"
      ],
      "execution_count": 95,
      "outputs": [
        {
          "output_type": "execute_result",
          "data": {
            "text/plain": [
              "['computer-vision',\n",
              " 'data-augmentation',\n",
              " 'object-detection',\n",
              " 'generative-adversarial-networks']"
            ]
          },
          "metadata": {},
          "execution_count": 95
        }
      ]
    },
    {
      "cell_type": "code",
      "metadata": {
        "id": "LD-w5gcjnB29"
      },
      "source": [
        "# Prediction\n",
        "y_pred = []\n",
        "for text in X_test:\n",
        "    classes = get_classes(text, aliases, tags_dict)\n",
        "    y_pred.append(classes)"
      ],
      "execution_count": 96,
      "outputs": []
    },
    {
      "cell_type": "code",
      "metadata": {
        "id": "YEcszZaGnZye"
      },
      "source": [
        "# Encode labels\n",
        "y_pred = label_encoder.encode(y_pred)"
      ],
      "execution_count": 97,
      "outputs": []
    },
    {
      "cell_type": "code",
      "metadata": {
        "id": "erYMwIffnB66",
        "colab": {
          "base_uri": "https://localhost:8080/"
        },
        "outputId": "f1a5b30b-f57a-436c-e568-2d3871e60a32"
      },
      "source": [
        "# Evaluate\n",
        "metrics = precision_recall_fscore_support(y_test, y_pred, average=\"weighted\")\n",
        "performance = {\"precision\": metrics[0], \"recall\": metrics[1], \"f1\": metrics[2]}\n",
        "print (json.dumps(performance, indent=2))"
      ],
      "execution_count": 98,
      "outputs": [
        {
          "output_type": "stream",
          "name": "stdout",
          "text": [
            "{\n",
            "  \"precision\": 0.9017638834698921,\n",
            "  \"recall\": 0.41630901287553645,\n",
            "  \"f1\": 0.540141158180418\n",
            "}\n"
          ]
        }
      ]
    },
    {
      "cell_type": "markdown",
      "metadata": {
        "id": "bKbvhmgam2yG"
      },
      "source": [
        "### Stemmed"
      ]
    },
    {
      "cell_type": "markdown",
      "metadata": {
        "id": "id2HJmqXnxPr"
      },
      "source": [
        "We're looking for exact matches with the aliases which isn't always perfect, for example:"
      ]
    },
    {
      "cell_type": "code",
      "metadata": {
        "id": "dcr2o2HjoI_O",
        "colab": {
          "base_uri": "https://localhost:8080/"
        },
        "outputId": "03803b8c-b8ae-4ac3-b823-73effa1e1a29"
      },
      "source": [
        "print (aliases[preprocess(\"gan\")])\n",
        "# print (aliases[preprocess(\"gans\")]) # this won't find any match\n",
        "print (aliases[preprocess(\"generative adversarial networks\")])\n",
        "# print (aliases[preprocess(\"generative adversarial network\")]) # this won't find any match"
      ],
      "execution_count": 99,
      "outputs": [
        {
          "output_type": "stream",
          "name": "stdout",
          "text": [
            "generative-adversarial-networks\n",
            "generative-adversarial-networks\n"
          ]
        }
      ]
    },
    {
      "cell_type": "markdown",
      "metadata": {
        "id": "Gjv6GFJZoV6x"
      },
      "source": [
        "We don't want to keep adding explicit rules but we can use [stemming](https://nlp.stanford.edu/IR-book/html/htmledition/stemming-and-lemmatization-1.html) to represent different forms of a word uniformly, for example:"
      ]
    },
    {
      "cell_type": "code",
      "metadata": {
        "id": "w8YcWdTqpagt",
        "colab": {
          "base_uri": "https://localhost:8080/"
        },
        "outputId": "1e00eeb1-024c-4da2-867b-570f186e55a3"
      },
      "source": [
        "print (porter.stem(\"democracy\"))\n",
        "print (porter.stem(\"democracies\"))"
      ],
      "execution_count": 100,
      "outputs": [
        {
          "output_type": "stream",
          "name": "stdout",
          "text": [
            "democraci\n",
            "democraci\n"
          ]
        }
      ]
    },
    {
      "cell_type": "markdown",
      "metadata": {
        "id": "EKCMUotL9wLr"
      },
      "source": [
        "So let's now stem our aliases as well as the tokens in our input text and then look for matches:"
      ]
    },
    {
      "cell_type": "code",
      "metadata": {
        "id": "8BnfNEsf3YQB"
      },
      "source": [
        "# Get data splits\n",
        "preprocessed_df = df.copy()\n",
        "preprocessed_df.text = preprocessed_df.text.apply(preprocess, lower=True, stem=True)\n",
        "X_train, X_val, X_test, y_train, y_val, y_test, label_encoder = get_data_splits(preprocessed_df)"
      ],
      "execution_count": 101,
      "outputs": []
    },
    {
      "cell_type": "code",
      "metadata": {
        "id": "3J4YQRZ_NkSY",
        "colab": {
          "base_uri": "https://localhost:8080/"
        },
        "outputId": "3c529340-dc4e-4d41-fc0a-52e4699c214a"
      },
      "source": [
        "# Map aliases\n",
        "aliases = {}\n",
        "for tag, values in tags_dict.items():\n",
        "    aliases[preprocess(tag, stem=True)] = tag\n",
        "    for alias in values[\"aliases\"]:\n",
        "        aliases[preprocess(alias, stem=True)] = tag\n",
        "aliases"
      ],
      "execution_count": 102,
      "outputs": [
        {
          "output_type": "execute_result",
          "data": {
            "text/plain": [
              "{'ae': 'autoencoders',\n",
              " 'attent': 'attention',\n",
              " 'autoencod': 'autoencoders',\n",
              " 'cnn': 'convolutional-neural-networks',\n",
              " 'comput vision': 'computer-vision',\n",
              " 'convolut neural network': 'convolutional-neural-networks',\n",
              " 'cv': 'computer-vision',\n",
              " 'data augment': 'data-augmentation',\n",
              " 'embed': 'embeddings',\n",
              " 'flask': 'flask',\n",
              " 'gan': 'generative-adversarial-networks',\n",
              " 'gener adversari network': 'generative-adversarial-networks',\n",
              " 'gnn': 'graph-neural-networks',\n",
              " 'graph': 'graphs',\n",
              " 'graph neural network': 'graph-neural-networks',\n",
              " 'huggingfac': 'huggingface',\n",
              " 'imag classif': 'image-classification',\n",
              " 'imag segment': 'segmentation',\n",
              " 'interpret': 'interpretability',\n",
              " 'kera': 'keras',\n",
              " 'languag model': 'language-modeling',\n",
              " 'lm': 'language-modeling',\n",
              " 'natur languag process': 'natural-language-processing',\n",
              " 'nlp': 'natural-language-processing',\n",
              " 'nlproc': 'natural-language-processing',\n",
              " 'node classif': 'node-classification',\n",
              " 'object detect': 'object-detection',\n",
              " 'pre train': 'pretraining',\n",
              " 'pretrain': 'pretraining',\n",
              " 'product': 'production',\n",
              " 'pytorch': 'pytorch',\n",
              " 'qa': 'question-answering',\n",
              " 'question answer': 'question-answering',\n",
              " 'regress': 'regression',\n",
              " 'reinforc learn': 'reinforcement-learning',\n",
              " 'represent learn': 'representation-learning',\n",
              " 'rl': 'reinforcement-learning',\n",
              " 'scikit learn': 'scikit-learn',\n",
              " 'segment': 'segmentation',\n",
              " 'self supervis learn': 'self-supervised-learning',\n",
              " 'sklearn': 'scikit-learn',\n",
              " 'tensorflow': 'tensorflow',\n",
              " 'tensorflow js': 'tensorflow-js',\n",
              " 'tf': 'tensorflow',\n",
              " 'tf js': 'tensorflow-js',\n",
              " 'time seri': 'time-series',\n",
              " 'time seri analysi': 'time-series',\n",
              " 'transfer learn': 'transfer-learning',\n",
              " 'transform': 'transformers',\n",
              " 'unsupervis learn': 'unsupervised-learning',\n",
              " 'vision': 'computer-vision'}"
            ]
          },
          "metadata": {},
          "execution_count": 102
        }
      ]
    },
    {
      "cell_type": "code",
      "metadata": {
        "id": "Qx-tmDpbNkSY",
        "colab": {
          "base_uri": "https://localhost:8080/"
        },
        "outputId": "dc5577c3-900f-45b1-8138-fadc1c9249dc"
      },
      "source": [
        "# Checks (we will write proper tests soon)\n",
        "print (aliases[preprocess(\"gan\", stem=True)])\n",
        "print (aliases[preprocess(\"gans\", stem=True)])\n",
        "print (aliases[preprocess(\"generative adversarial network\", stem=True)])\n",
        "print (aliases[preprocess(\"generative adversarial networks\", stem=True)])"
      ],
      "execution_count": 103,
      "outputs": [
        {
          "output_type": "stream",
          "name": "stdout",
          "text": [
            "generative-adversarial-networks\n",
            "generative-adversarial-networks\n",
            "generative-adversarial-networks\n",
            "generative-adversarial-networks\n"
          ]
        }
      ]
    },
    {
      "cell_type": "code",
      "metadata": {
        "id": "oXoeXojANkSY",
        "colab": {
          "base_uri": "https://localhost:8080/"
        },
        "outputId": "4dc71f1e-7972-491e-b919-c08252cfb51e"
      },
      "source": [
        "# Sample\n",
        "text = \"This project extends gans for data augmentation specifically for object detection tasks.\"\n",
        "get_classes(text=preprocess(text, stem=True), aliases=aliases, tags_dict=tags_dict)"
      ],
      "execution_count": 104,
      "outputs": [
        {
          "output_type": "execute_result",
          "data": {
            "text/plain": [
              "['computer-vision',\n",
              " 'data-augmentation',\n",
              " 'object-detection',\n",
              " 'generative-adversarial-networks']"
            ]
          },
          "metadata": {},
          "execution_count": 104
        }
      ]
    },
    {
      "cell_type": "code",
      "metadata": {
        "id": "5mw2GDgLNkSY"
      },
      "source": [
        "# Prediction\n",
        "y_pred = []\n",
        "for text in X_test:\n",
        "    classes = get_classes(text, aliases, tags_dict)\n",
        "    y_pred.append(classes)"
      ],
      "execution_count": 105,
      "outputs": []
    },
    {
      "cell_type": "code",
      "metadata": {
        "id": "YcOkiIEXNkSY"
      },
      "source": [
        "# Encode labels\n",
        "y_pred = label_encoder.encode(y_pred)"
      ],
      "execution_count": 106,
      "outputs": []
    },
    {
      "cell_type": "code",
      "metadata": {
        "id": "S0UobHBcNkSY",
        "colab": {
          "base_uri": "https://localhost:8080/"
        },
        "outputId": "4f9f6e46-95db-484f-a1e9-3c1dc833aaa5"
      },
      "source": [
        "# Evaluate\n",
        "metrics = precision_recall_fscore_support(y_test, y_pred, average=\"weighted\")\n",
        "performance = {\"precision\": metrics[0], \"recall\": metrics[1], \"f1\": metrics[2]}\n",
        "print (json.dumps(performance, indent=2))"
      ],
      "execution_count": 107,
      "outputs": [
        {
          "output_type": "stream",
          "name": "stdout",
          "text": [
            "{\n",
            "  \"precision\": 0.9227430155421183,\n",
            "  \"recall\": 0.5042372881355932,\n",
            "  \"f1\": 0.6224462121231937\n",
            "}\n"
          ]
        }
      ]
    },
    {
      "cell_type": "markdown",
      "metadata": {
        "id": "8qdSlJCMfyBT"
      },
      "source": [
        "A nice improvement from the unstemmed approach! This is because rule-based approaches can yield labels with high certainty when there is an absolute condition match but it fails to generalize or learn implicit patterns."
      ]
    },
    {
      "cell_type": "markdown",
      "metadata": {
        "id": "xjoBs0D8VI23"
      },
      "source": [
        "### Inference"
      ]
    },
    {
      "cell_type": "code",
      "metadata": {
        "id": "8j4iNdkfVLRX",
        "colab": {
          "base_uri": "https://localhost:8080/"
        },
        "outputId": "1217503e-8010-43af-8e94-f54543bdf01e"
      },
      "source": [
        "# Infer\n",
        "text = \"Transfer learning with transformers for self-supervised learning\"\n",
        "print (preprocess(text, stem=True))\n",
        "get_classes(text=preprocess(text, stem=True), aliases=aliases, tags_dict=tags_dict)"
      ],
      "execution_count": 108,
      "outputs": [
        {
          "output_type": "stream",
          "name": "stdout",
          "text": [
            "transfer learn transform self supervis learn\n"
          ]
        },
        {
          "output_type": "execute_result",
          "data": {
            "text/plain": [
              "['transformers', 'transfer-learning', 'self-supervised-learning']"
            ]
          },
          "metadata": {},
          "execution_count": 108
        }
      ]
    },
    {
      "cell_type": "markdown",
      "metadata": {
        "id": "VSvxZVVcFFMO"
      },
      "source": [
        "Now let's see what happens when we replace the word *transformers* with *BERT*. Sure we can add this as an alias but we can't keep doing this. This is where it makes sense to learn from the data as opposed to creating explicit rules."
      ]
    },
    {
      "cell_type": "code",
      "metadata": {
        "id": "k7cWn6Fgfxp2",
        "colab": {
          "base_uri": "https://localhost:8080/"
        },
        "outputId": "ae0668b0-fac4-498b-c452-dee864b63a37"
      },
      "source": [
        "# Infer\n",
        "text = \"Transfer learning with BERT for self-supervised learning\"\n",
        "print (preprocess(text, stem=True))\n",
        "get_classes(text=preprocess(text, stem=True), aliases=aliases, tags_dict=tags_dict)"
      ],
      "execution_count": 109,
      "outputs": [
        {
          "output_type": "stream",
          "name": "stdout",
          "text": [
            "transfer learn bert self supervis learn\n"
          ]
        },
        {
          "output_type": "execute_result",
          "data": {
            "text/plain": [
              "['transfer-learning', 'self-supervised-learning']"
            ]
          },
          "metadata": {},
          "execution_count": 109
        }
      ]
    },
    {
      "cell_type": "markdown",
      "metadata": {
        "id": "qdzlfoIzloqc"
      },
      "source": [
        "<u><i>limitations</i></u>: we failed to generalize or learn any implicit patterns to predict the labels because we treat the tokens in our input as isolated entities."
      ]
    },
    {
      "cell_type": "markdown",
      "metadata": {
        "id": "q6rPM9Q8fX3-"
      },
      "source": [
        "> We would ideally spend more time tuning our model because it's so simple and quick to train. This approach also applies to all the other models we'll look at as well."
      ]
    },
    {
      "cell_type": "markdown",
      "metadata": {
        "id": "eoa5oVgaNkSZ"
      },
      "source": [
        "## Simple ML"
      ]
    },
    {
      "cell_type": "markdown",
      "metadata": {
        "id": "Yqg_kc3VmHb9"
      },
      "source": [
        "<u><i>motivation</i></u>:\n",
        "- *representation*: use term frequency-inverse document frequency [(TF-IDF)](https://en.wikipedia.org/wiki/Tf%E2%80%93idf) to capture the significance of a token to a particular input with respect to all the inputs, as opposed to treating the words in our input text as isolated tokens.\n",
        "- *architecture*: we want our model to meaningfully extract the encoded signal to predict the output labels."
      ]
    },
    {
      "cell_type": "markdown",
      "metadata": {
        "id": "KOJW4AONNkSZ"
      },
      "source": [
        "So far we've treated the words in our input text as isolated tokens and we haven't really captured any meaning between tokens. Let's use term frequency–inverse document frequency (**TF-IDF**) to capture the significance of a token to a particular input with respect to all the inputs.\n",
        "\n",
        "$$ w_{i, j} = \\text{tf}_{i, j} * log(\\frac{N}{\\text{df}_i}) $$\n",
        "\n",
        "$$ w_{i, j}: \\text{tf-idf weight for term i in document j} $$\n",
        "$$ \\text{tf}_{i, j}: \\text{# of times term i appear in document j} $$\n",
        "$$ N: \\text{total # of documents} $$\n",
        "$$ {\\text{df}_i}: \\text{# of documents with token i} $$"
      ]
    },
    {
      "cell_type": "code",
      "metadata": {
        "id": "BiRzEi9iNkSZ"
      },
      "source": [
        "from sklearn.ensemble import RandomForestClassifier\n",
        "from sklearn.ensemble import GradientBoostingClassifier\n",
        "from sklearn.linear_model import LogisticRegression\n",
        "from sklearn.multiclass import OneVsRestClassifier\n",
        "from sklearn.neighbors import KNeighborsClassifier\n",
        "from sklearn.svm import LinearSVC"
      ],
      "execution_count": 110,
      "outputs": []
    },
    {
      "cell_type": "code",
      "metadata": {
        "id": "J2P0kMvKNkSZ"
      },
      "source": [
        "from sklearn import metrics\n",
        "from sklearn.feature_extraction.text import TfidfVectorizer\n",
        "from sklearn.metrics import accuracy_score, precision_score, recall_score\n",
        "from sklearn.metrics import precision_recall_curve\n",
        "from sklearn.preprocessing import MultiLabelBinarizer"
      ],
      "execution_count": 111,
      "outputs": []
    },
    {
      "cell_type": "code",
      "metadata": {
        "id": "SrJ6fqmlNkSZ"
      },
      "source": [
        "# Set seeds\n",
        "set_seeds()"
      ],
      "execution_count": 112,
      "outputs": []
    },
    {
      "cell_type": "code",
      "metadata": {
        "id": "tIaiaykFNkSZ"
      },
      "source": [
        "# Get data splits\n",
        "preprocessed_df = df.copy()\n",
        "preprocessed_df.text = preprocessed_df.text.apply(preprocess, lower=True, stem=True)\n",
        "X_train, X_val, X_test, y_train, y_val, y_test, label_encoder = get_data_splits(preprocessed_df)"
      ],
      "execution_count": 113,
      "outputs": []
    },
    {
      "cell_type": "code",
      "metadata": {
        "id": "ipggqVfzNkSZ",
        "colab": {
          "base_uri": "https://localhost:8080/"
        },
        "outputId": "8146ba87-bf4c-4428-844b-38027c0a9609"
      },
      "source": [
        "# Tf-idf\n",
        "vectorizer = TfidfVectorizer()\n",
        "print (X_train[0])\n",
        "X_train = vectorizer.fit_transform(X_train)\n",
        "X_val = vectorizer.transform(X_val)\n",
        "X_test = vectorizer.transform(X_test)\n",
        "print (X_train.shape)\n",
        "print (X_train[0]) # scipy.sparse.csr_matrix"
      ],
      "execution_count": 114,
      "outputs": [
        {
          "output_type": "stream",
          "name": "stdout",
          "text": [
            "hug face achiev 2x perform boost qa question answer distilbert node js\n",
            "(1005, 2653)\n",
            "  (0, 1289)\t0.2718324087174405\n",
            "  (0, 1631)\t0.2851661041382109\n",
            "  (0, 705)\t0.3463535783559961\n",
            "  (0, 157)\t0.26455983648877696\n",
            "  (0, 1909)\t0.24283657202400125\n",
            "  (0, 1899)\t0.3111269311366786\n",
            "  (0, 316)\t0.3111269311366786\n",
            "  (0, 1753)\t0.2276667675435046\n",
            "  (0, 35)\t0.3463535783559961\n",
            "  (0, 72)\t0.2851661041382109\n",
            "  (0, 869)\t0.2474598768972582\n",
            "  (0, 1145)\t0.296506551566795\n"
          ]
        }
      ]
    },
    {
      "cell_type": "code",
      "metadata": {
        "id": "fEShazTUNkSZ"
      },
      "source": [
        "def fit_and_evaluate(model):\n",
        "    \"\"\"Fit and evaluate each model.\"\"\"\n",
        "    model.fit(X_train, y_train)\n",
        "    y_pred = model.predict(X_test)\n",
        "    metrics = precision_recall_fscore_support(y_test, y_pred, average=\"weighted\")\n",
        "    return {\"precision\": metrics[0], \"recall\": metrics[1], \"f1\": metrics[2]}"
      ],
      "execution_count": 115,
      "outputs": []
    },
    {
      "cell_type": "code",
      "metadata": {
        "id": "3YN1FqKrNkSZ",
        "colab": {
          "base_uri": "https://localhost:8080/"
        },
        "outputId": "c4374ca5-f10a-4de2-b5cb-b2e5f3417968"
      },
      "source": [
        "# Models\n",
        "performance = {}\n",
        "performance[\"logistic-regression\"] = fit_and_evaluate(OneVsRestClassifier(\n",
        "    LogisticRegression(), n_jobs=1))\n",
        "performance[\"k-nearest-neighbors\"] = fit_and_evaluate(\n",
        "    KNeighborsClassifier())\n",
        "performance[\"random-forest\"] = fit_and_evaluate(\n",
        "    RandomForestClassifier(n_jobs=-1))\n",
        "performance[\"gradient-boosting-machine\"] = fit_and_evaluate(OneVsRestClassifier(\n",
        "    GradientBoostingClassifier()))\n",
        "performance[\"support-vector-machine\"] = fit_and_evaluate(OneVsRestClassifier(\n",
        "    LinearSVC(), n_jobs=-1))\n",
        "print (json.dumps(performance, indent=2))"
      ],
      "execution_count": 116,
      "outputs": [
        {
          "output_type": "stream",
          "name": "stdout",
          "text": [
            "{\n",
            "  \"logistic-regression\": {\n",
            "    \"precision\": 0.5874463519313304,\n",
            "    \"recall\": 0.21030042918454936,\n",
            "    \"f1\": 0.30009168155260235\n",
            "  },\n",
            "  \"k-nearest-neighbors\": {\n",
            "    \"precision\": 0.7550627617051411,\n",
            "    \"recall\": 0.41416309012875535,\n",
            "    \"f1\": 0.5195783537808139\n",
            "  },\n",
            "  \"random-forest\": {\n",
            "    \"precision\": 0.7617565282801334,\n",
            "    \"recall\": 0.3605150214592275,\n",
            "    \"f1\": 0.46191844321407743\n",
            "  },\n",
            "  \"gradient-boosting-machine\": {\n",
            "    \"precision\": 0.8094997018924058,\n",
            "    \"recall\": 0.5944206008583691,\n",
            "    \"f1\": 0.6750815944677326\n",
            "  },\n",
            "  \"support-vector-machine\": {\n",
            "    \"precision\": 0.897347023049296,\n",
            "    \"recall\": 0.5021459227467812,\n",
            "    \"f1\": 0.6277359052198805\n",
            "  }\n",
            "}\n"
          ]
        }
      ]
    },
    {
      "cell_type": "markdown",
      "metadata": {
        "id": "gyv7n9ZKpXRu"
      },
      "source": [
        "<u><i>limitations</i></u>:\n",
        "- *representation*: TF-IDF representations don't encapsulate much signal beyond frequency but we require more fine-grained token representations.\n",
        "- *architecture*: we want to develop models that can use better represented encodings in a more contextual manner."
      ]
    },
    {
      "cell_type": "markdown",
      "metadata": {
        "id": "DW_93sOnNkSZ"
      },
      "source": [
        "## CNN w/ Embeddings"
      ]
    },
    {
      "cell_type": "markdown",
      "metadata": {
        "id": "8jERhoo07l0b"
      },
      "source": [
        "<u><i>motivation</i></u>:\n",
        "- *representation*: we want to have more robust (split tokens to characters) and meaningful ([embeddings](https://madewithml.com/courses/basics/embeddings/) representations for our input tokens.\n",
        "- *architecture*: we want to process our encoded inputs using [convolution (CNN)](https://madewithml.com/courses/basics/convolutional-neural-networks/) filters that can learn to analyze windows of embedded tokens to extract meaningful signal (n-gram feature extractors)."
      ]
    },
    {
      "cell_type": "markdown",
      "metadata": {
        "id": "0XD7VH1MNkSZ"
      },
      "source": [
        "### Set up"
      ]
    },
    {
      "cell_type": "code",
      "metadata": {
        "id": "-8X3qlEbNkSZ"
      },
      "source": [
        "import math\n",
        "import torch\n",
        "import torch.nn as nn\n",
        "import torch.nn.functional as F"
      ],
      "execution_count": 117,
      "outputs": []
    },
    {
      "cell_type": "code",
      "metadata": {
        "id": "tLn8Z4AINkSZ"
      },
      "source": [
        "# Set seeds\n",
        "set_seeds()"
      ],
      "execution_count": 118,
      "outputs": []
    },
    {
      "cell_type": "code",
      "metadata": {
        "id": "DbSoGGmPNkSZ"
      },
      "source": [
        "# Get data splits\n",
        "preprocessed_df = df.copy()\n",
        "preprocessed_df.text = preprocessed_df.text.apply(preprocess, lower=True)\n",
        "X_train, X_val, X_test, y_train, y_val, y_test, label_encoder = get_data_splits(preprocessed_df)\n",
        "X_test_raw = X_test  # use for later"
      ],
      "execution_count": 119,
      "outputs": []
    },
    {
      "cell_type": "code",
      "metadata": {
        "id": "OREUyt-kvMWR"
      },
      "source": [
        "# Split DataFrames\n",
        "train_df = pd.DataFrame({\"text\": X_train, \"tags\": label_encoder.decode(y_train)})\n",
        "val_df = pd.DataFrame({\"text\": X_val, \"tags\": label_encoder.decode(y_val)})\n",
        "test_df = pd.DataFrame({\"text\": X_test, \"tags\": label_encoder.decode(y_test)})"
      ],
      "execution_count": 120,
      "outputs": []
    },
    {
      "cell_type": "code",
      "metadata": {
        "id": "oT0xmkCfNuy5",
        "colab": {
          "base_uri": "https://localhost:8080/"
        },
        "outputId": "edc4477d-732d-4158-8516-0b12216e551f"
      },
      "source": [
        "# Set device\n",
        "cuda = True\n",
        "device = torch.device(\"cuda\" if (\n",
        "    torch.cuda.is_available() and cuda) else \"cpu\")\n",
        "torch.set_default_tensor_type(\"torch.FloatTensor\")\n",
        "if device.type == \"cuda\":\n",
        "    torch.set_default_tensor_type(\"torch.cuda.FloatTensor\")\n",
        "print (device)"
      ],
      "execution_count": 121,
      "outputs": [
        {
          "output_type": "stream",
          "name": "stdout",
          "text": [
            "cuda\n"
          ]
        }
      ]
    },
    {
      "cell_type": "markdown",
      "metadata": {
        "id": "Q6r8kfAkNkSZ"
      },
      "source": [
        "### Tokenizer"
      ]
    },
    {
      "cell_type": "markdown",
      "metadata": {
        "id": "Rg0IROLfJY_3"
      },
      "source": [
        "We're going to tokenize our input text as character tokens so we can be robust to spelling errors and learn to generalize across tags. (ex. learning that RoBERTa, or any other future BERT based archiecture, warrants same tag as BERT)."
      ]
    },
    {
      "cell_type": "markdown",
      "metadata": {
        "id": "krnCpNE6qJvq"
      },
      "source": [
        "<img width=\"500px\" src=\"https://raw.githubusercontent.com/GokuMohandas/MadeWithML/main/images/foundations/cnn/inputs.png\">"
      ]
    },
    {
      "cell_type": "code",
      "metadata": {
        "id": "huCZn1stNkSZ"
      },
      "source": [
        "class Tokenizer(object):\n",
        "    def __init__(self, char_level, num_tokens=None, \n",
        "                 pad_token=\"<PAD>\", oov_token=\"<UNK>\",\n",
        "                 token_to_index=None):\n",
        "        self.char_level = char_level\n",
        "        self.separator = '' if self.char_level else ' '\n",
        "        if num_tokens: num_tokens -= 2 # pad + unk tokens\n",
        "        self.num_tokens = num_tokens\n",
        "        self.pad_token = pad_token\n",
        "        self.oov_token = oov_token\n",
        "        if not token_to_index:\n",
        "            token_to_index = {pad_token: 0, oov_token: 1}\n",
        "        self.token_to_index = token_to_index\n",
        "        self.index_to_token = {v: k for k, v in self.token_to_index.items()}\n",
        "\n",
        "    def __len__(self):\n",
        "        return len(self.token_to_index)\n",
        "\n",
        "    def __str__(self):\n",
        "        return f\"<Tokenizer(num_tokens={len(self)})>\"\n",
        "\n",
        "    def fit_on_texts(self, texts):\n",
        "        if not self.char_level:\n",
        "            texts = [text.split(\" \") for text in texts]\n",
        "        all_tokens = [token for text in texts for token in text]\n",
        "        counts = Counter(all_tokens).most_common(self.num_tokens)\n",
        "        self.min_token_freq = counts[-1][1]\n",
        "        for token, count in counts:\n",
        "            index = len(self)\n",
        "            self.token_to_index[token] = index\n",
        "            self.index_to_token[index] = token\n",
        "        return self\n",
        "\n",
        "    def texts_to_sequences(self, texts):\n",
        "        sequences = []\n",
        "        for text in texts:\n",
        "            if not self.char_level:\n",
        "                text = text.split(' ')\n",
        "            sequence = []\n",
        "            for token in text:\n",
        "                sequence.append(self.token_to_index.get(\n",
        "                    token, self.token_to_index[self.oov_token]))\n",
        "            sequences.append(np.asarray(sequence))\n",
        "        return sequences\n",
        "\n",
        "    def sequences_to_texts(self, sequences):\n",
        "        texts = []\n",
        "        for sequence in sequences:\n",
        "            text = []\n",
        "            for index in sequence:\n",
        "                text.append(self.index_to_token.get(index, self.oov_token))\n",
        "            texts.append(self.separator.join([token for token in text]))\n",
        "        return texts\n",
        "\n",
        "    def save(self, fp):\n",
        "        with open(fp, \"w\") as fp:\n",
        "            contents = {\n",
        "                \"char_level\": self.char_level,\n",
        "                \"oov_token\": self.oov_token,\n",
        "                \"token_to_index\": self.token_to_index\n",
        "            }\n",
        "            json.dump(contents, fp, indent=4, sort_keys=False)\n",
        "\n",
        "    @classmethod\n",
        "    def load(cls, fp):\n",
        "        with open(fp, \"r\") as fp:\n",
        "            kwargs = json.load(fp=fp)\n",
        "        return cls(**kwargs)"
      ],
      "execution_count": 122,
      "outputs": []
    },
    {
      "cell_type": "code",
      "metadata": {
        "id": "ibPSo_PBNkSa",
        "colab": {
          "base_uri": "https://localhost:8080/"
        },
        "outputId": "c0605cde-e360-40ce-efbb-7b6caf1f75aa"
      },
      "source": [
        "# Tokenize\n",
        "char_level = True\n",
        "tokenizer = Tokenizer(char_level=char_level)\n",
        "tokenizer.fit_on_texts(texts=X_train)\n",
        "vocab_size = len(tokenizer)\n",
        "print (tokenizer)"
      ],
      "execution_count": 123,
      "outputs": [
        {
          "output_type": "stream",
          "name": "stdout",
          "text": [
            "<Tokenizer(num_tokens=39)>\n"
          ]
        }
      ]
    },
    {
      "cell_type": "code",
      "metadata": {
        "id": "84JQQqJrNkSa",
        "colab": {
          "base_uri": "https://localhost:8080/"
        },
        "outputId": "f4ca2512-1f39-4ede-e0d1-b3ef11376d25"
      },
      "source": [
        "tokenizer.token_to_index"
      ],
      "execution_count": 124,
      "outputs": [
        {
          "output_type": "execute_result",
          "data": {
            "text/plain": [
              "{' ': 2,\n",
              " '0': 29,\n",
              " '1': 31,\n",
              " '2': 26,\n",
              " '3': 32,\n",
              " '4': 37,\n",
              " '5': 33,\n",
              " '6': 36,\n",
              " '7': 38,\n",
              " '8': 35,\n",
              " '9': 34,\n",
              " '<PAD>': 0,\n",
              " '<UNK>': 1,\n",
              " 'a': 7,\n",
              " 'b': 20,\n",
              " 'c': 12,\n",
              " 'd': 14,\n",
              " 'e': 3,\n",
              " 'f': 19,\n",
              " 'g': 15,\n",
              " 'h': 18,\n",
              " 'i': 4,\n",
              " 'j': 28,\n",
              " 'k': 24,\n",
              " 'l': 11,\n",
              " 'm': 16,\n",
              " 'n': 5,\n",
              " 'o': 10,\n",
              " 'p': 13,\n",
              " 'q': 30,\n",
              " 'r': 8,\n",
              " 's': 9,\n",
              " 't': 6,\n",
              " 'u': 17,\n",
              " 'v': 22,\n",
              " 'w': 23,\n",
              " 'x': 25,\n",
              " 'y': 21,\n",
              " 'z': 27}"
            ]
          },
          "metadata": {},
          "execution_count": 124
        }
      ]
    },
    {
      "cell_type": "code",
      "metadata": {
        "id": "tqFL_J_UNkSa",
        "colab": {
          "base_uri": "https://localhost:8080/"
        },
        "outputId": "093db965-8d78-4998-9062-5d90f544902c"
      },
      "source": [
        "# Convert texts to sequences of indices\n",
        "X_train = np.array(tokenizer.texts_to_sequences(X_train))\n",
        "X_val = np.array(tokenizer.texts_to_sequences(X_val))\n",
        "X_test = np.array(tokenizer.texts_to_sequences(X_test))\n",
        "preprocessed_text = tokenizer.sequences_to_texts([X_train[0]])[0]\n",
        "print (\"Text to indices:\\n\"\n",
        "    f\"  (preprocessed) → {preprocessed_text}\\n\"\n",
        "    f\"  (tokenized) → {X_train[0]}\")"
      ],
      "execution_count": 125,
      "outputs": [
        {
          "output_type": "stream",
          "name": "stdout",
          "text": [
            "Text to indices:\n",
            "  (preprocessed) → hugging face achieved 2x performance boost qa question answering distilbert node js\n",
            "  (tokenized) → [18 17 15 15  4  5 15  2 19  7 12  3  2  7 12 18  4  3 22  3 14  2 26 25\n",
            "  2 13  3  8 19 10  8 16  7  5 12  3  2 20 10 10  9  6  2 30  7  2 30 17\n",
            "  3  9  6  4 10  5  2  7  5  9 23  3  8  4  5 15  2 14  4  9  6  4 11 20\n",
            "  3  8  6  2  5 10 14  3  2 28  9]\n"
          ]
        }
      ]
    },
    {
      "cell_type": "markdown",
      "metadata": {
        "id": "bUrzrb06NkSa"
      },
      "source": [
        "### Data imbalance"
      ]
    },
    {
      "cell_type": "markdown",
      "metadata": {
        "id": "WUiU_-XVNkSa"
      },
      "source": [
        "We'll factor class weights in our objective function ([binary cross entropy with logits](https://pytorch.org/docs/stable/generated/torch.nn.BCEWithLogitsLoss.html)) to help with class imbalance. There are many other techniques such as over sampling from underrepresented classes, undersampling, etc. but we'll cover these in a separate unit lesson on data imbalance."
      ]
    },
    {
      "cell_type": "code",
      "metadata": {
        "id": "ETiBnH_JNkSa",
        "colab": {
          "base_uri": "https://localhost:8080/"
        },
        "outputId": "c181ff94-efbb-4ba2-e87c-4012600c2363"
      },
      "source": [
        "# Class weights\n",
        "train_tags = list(itertools.chain.from_iterable(train_df.tags.values))\n",
        "counts = np.bincount([label_encoder.class_to_index[class_] for class_ in train_tags])\n",
        "class_weights = {i: 1.0/count for i, count in enumerate(counts)}\n",
        "print (f\"class counts: {counts},\\nclass weights: {class_weights}\")"
      ],
      "execution_count": 126,
      "outputs": [
        {
          "output_type": "stream",
          "name": "stdout",
          "text": [
            "class counts: [ 78  29 272  74  29  52  24  51  36  55  44  38  38  60  35 297  27  55\n",
            "  21  36 181  24  34  41  40  42  37  28 149  26  24  32 135  27],\n",
            "class weights: {0: 0.01282051282051282, 1: 0.034482758620689655, 2: 0.003676470588235294, 3: 0.013513513513513514, 4: 0.034482758620689655, 5: 0.019230769230769232, 6: 0.041666666666666664, 7: 0.0196078431372549, 8: 0.027777777777777776, 9: 0.01818181818181818, 10: 0.022727272727272728, 11: 0.02631578947368421, 12: 0.02631578947368421, 13: 0.016666666666666666, 14: 0.02857142857142857, 15: 0.003367003367003367, 16: 0.037037037037037035, 17: 0.01818181818181818, 18: 0.047619047619047616, 19: 0.027777777777777776, 20: 0.0055248618784530384, 21: 0.041666666666666664, 22: 0.029411764705882353, 23: 0.024390243902439025, 24: 0.025, 25: 0.023809523809523808, 26: 0.02702702702702703, 27: 0.03571428571428571, 28: 0.006711409395973154, 29: 0.038461538461538464, 30: 0.041666666666666664, 31: 0.03125, 32: 0.007407407407407408, 33: 0.037037037037037035}\n"
          ]
        }
      ]
    },
    {
      "cell_type": "markdown",
      "metadata": {
        "id": "UscX0dcrNkSa"
      },
      "source": [
        "### Datasets"
      ]
    },
    {
      "cell_type": "markdown",
      "metadata": {
        "id": "g02qQyaoJ9YT"
      },
      "source": [
        "We're going to place our data into a [`Dataset`](https://pytorch.org/docs/stable/data.html#torch.utils.data.Dataset) and use a [`DataLoader`](https://pytorch.org/docs/stable/data.html#torch.utils.data.DataLoader) to efficiently create batches for training and evaluation."
      ]
    },
    {
      "cell_type": "code",
      "metadata": {
        "id": "BhSPgWsvNkSa"
      },
      "source": [
        "def pad_sequences(sequences, max_seq_len=0):\n",
        "    \"\"\"Pad sequences to max length in sequence.\"\"\"\n",
        "    max_seq_len = max(max_seq_len, max(len(sequence) for sequence in sequences))\n",
        "    padded_sequences = np.zeros((len(sequences), max_seq_len))\n",
        "    for i, sequence in enumerate(sequences):\n",
        "        padded_sequences[i][:len(sequence)] = sequence\n",
        "    return padded_sequences"
      ],
      "execution_count": 127,
      "outputs": []
    },
    {
      "cell_type": "code",
      "metadata": {
        "id": "yGoNL0oaNkSa"
      },
      "source": [
        "class CNNTextDataset(torch.utils.data.Dataset):\n",
        "    def __init__(self, X, y, max_filter_size):\n",
        "        self.X = X\n",
        "        self.y = y\n",
        "        self.max_filter_size = max_filter_size\n",
        "\n",
        "    def __len__(self):\n",
        "        return len(self.y)\n",
        "\n",
        "    def __str__(self):\n",
        "        return f\"<Dataset(N={len(self)})>\"\n",
        "\n",
        "    def __getitem__(self, index):\n",
        "        X = self.X[index]\n",
        "        y = self.y[index]\n",
        "        return [X, y]\n",
        "\n",
        "    def collate_fn(self, batch):\n",
        "        \"\"\"Processing on a batch.\"\"\"\n",
        "        # Get inputs\n",
        "        batch = np.array(batch, dtype=object)\n",
        "        X = batch[:, 0]\n",
        "        y = np.stack(batch[:, 1], axis=0)\n",
        "\n",
        "        # Pad inputs\n",
        "        X = pad_sequences(sequences=X, max_seq_len=self.max_filter_size)\n",
        "\n",
        "        # Cast\n",
        "        X = torch.LongTensor(X.astype(np.int32))\n",
        "        y = torch.FloatTensor(y.astype(np.int32))\n",
        "\n",
        "        return X, y\n",
        "\n",
        "    def create_dataloader(self, batch_size, shuffle=False, drop_last=False):\n",
        "        return torch.utils.data.DataLoader(\n",
        "            dataset=self,\n",
        "            batch_size=batch_size,\n",
        "            collate_fn=self.collate_fn,\n",
        "            shuffle=shuffle,\n",
        "            drop_last=drop_last,\n",
        "            pin_memory=True)"
      ],
      "execution_count": 128,
      "outputs": []
    },
    {
      "cell_type": "code",
      "metadata": {
        "id": "AcsLQ-xcNkSa",
        "colab": {
          "base_uri": "https://localhost:8080/"
        },
        "outputId": "ef9502f0-6f0a-4767-93e5-e0e2b161a4df"
      },
      "source": [
        "# Create datasets\n",
        "filter_sizes = list(range(1, 11))\n",
        "train_dataset = CNNTextDataset(\n",
        "    X=X_train, y=y_train, max_filter_size=max(filter_sizes))\n",
        "val_dataset = CNNTextDataset(\n",
        "    X=X_val, y=y_val, max_filter_size=max(filter_sizes))\n",
        "test_dataset = CNNTextDataset(\n",
        "    X=X_test, y=y_test, max_filter_size=max(filter_sizes))\n",
        "print (\"Data splits:\\n\"\n",
        "    f\"  Train dataset:{train_dataset.__str__()}\\n\"\n",
        "    f\"  Val dataset: {val_dataset.__str__()}\\n\"\n",
        "    f\"  Test dataset: {test_dataset.__str__()}\\n\"\n",
        "    \"Sample point:\\n\"\n",
        "    f\"  X: {train_dataset[0][0]}\\n\"\n",
        "    f\"  y: {train_dataset[0][1]}\")"
      ],
      "execution_count": 129,
      "outputs": [
        {
          "output_type": "stream",
          "name": "stdout",
          "text": [
            "Data splits:\n",
            "  Train dataset:<Dataset(N=1005)>\n",
            "  Val dataset: <Dataset(N=216)>\n",
            "  Test dataset: <Dataset(N=218)>\n",
            "Sample point:\n",
            "  X: [18 17 15 15  4  5 15  2 19  7 12  3  2  7 12 18  4  3 22  3 14  2 26 25\n",
            "  2 13  3  8 19 10  8 16  7  5 12  3  2 20 10 10  9  6  2 30  7  2 30 17\n",
            "  3  9  6  4 10  5  2  7  5  9 23  3  8  4  5 15  2 14  4  9  6  4 11 20\n",
            "  3  8  6  2  5 10 14  3  2 28  9]\n",
            "  y: [1 0 0 0 0 0 0 0 0 0 1 0 0 0 0 1 0 0 0 0 0 1 0 0 0 0 0 0 0 0 0 0 1 0]\n"
          ]
        }
      ]
    },
    {
      "cell_type": "code",
      "metadata": {
        "id": "CUkm-47FNkSa",
        "colab": {
          "base_uri": "https://localhost:8080/"
        },
        "outputId": "3739e916-df5d-44fa-c0eb-d76fd6447b00"
      },
      "source": [
        "# Create dataloaders\n",
        "batch_size = 128\n",
        "train_dataloader = train_dataset.create_dataloader(\n",
        "    batch_size=batch_size)\n",
        "val_dataloader = val_dataset.create_dataloader(\n",
        "    batch_size=batch_size)\n",
        "test_dataloader = test_dataset.create_dataloader(\n",
        "    batch_size=batch_size)\n",
        "batch_X, batch_y = next(iter(train_dataloader))\n",
        "print (\"Sample batch:\\n\"\n",
        "    f\"  X: {list(batch_X.size())}\\n\"\n",
        "    f\"  y: {list(batch_y.size())}\")"
      ],
      "execution_count": 130,
      "outputs": [
        {
          "output_type": "stream",
          "name": "stdout",
          "text": [
            "Sample batch:\n",
            "  X: [128, 180]\n",
            "  y: [128, 34]\n"
          ]
        }
      ]
    },
    {
      "cell_type": "markdown",
      "metadata": {
        "id": "O8UyFr9xNkSa"
      },
      "source": [
        "### Model"
      ]
    },
    {
      "cell_type": "markdown",
      "metadata": {
        "id": "9HSHRnFmKg5g"
      },
      "source": [
        "We'll be using a convolutional neural network on top of our embedded tokens to extract meaningful spatial signal. This time, we'll be using many filter widths to act as n-gram feature extractors. If you're not familiar with CNNs be sure to check out the [CNN lesson](https://madewithml.com/courses/basics/convolutional-neural-networks/) where we walkthrough every component of the architecture."
      ]
    },
    {
      "cell_type": "markdown",
      "metadata": {
        "id": "HJdHiBArqaaH"
      },
      "source": [
        "<img width=\"500px\" src=\"https://raw.githubusercontent.com/GokuMohandas/MadeWithML/main/images/foundations/cnn/convolution.gif\">"
      ]
    },
    {
      "cell_type": "markdown",
      "metadata": {
        "id": "fs2AeywNL3yt"
      },
      "source": [
        "Let's visualize the model's forward pass.\n",
        "\n",
        "1. We'll first tokenize our inputs (`batch_size`, `max_seq_len`).\n",
        "2. Then we'll embed our tokenized inputs (`batch_size`, `max_seq_len`, `embedding_dim`).\n",
        "3. We'll apply convolution via filters (`filter_size`, `vocab_size`, `num_filters`) followed by batch normalization. Our filters act as character level n-gram detecors. We have three different filter sizes (2, 3 and 4) and they will act as bi-gram, tri-gram and 4-gram feature extractors, respectivelyy. \n",
        "4. We'll apply 1D global max pooling which will extract the most relevant information from the feature maps for making the decision.\n",
        "5. We feed the pool outputs to a fully-connected (FC) layer (with dropout).\n",
        "6. We use one more FC layer with softmax to derive class probabilities. "
      ]
    },
    {
      "cell_type": "markdown",
      "metadata": {
        "id": "xHRtownxL6X1"
      },
      "source": [
        "<img width=\"5000px\" src=\"https://raw.githubusercontent.com/GokuMohandas/MadeWithML/main/images/foundations/cnn/model.png\">"
      ]
    },
    {
      "cell_type": "code",
      "metadata": {
        "id": "ZhteynQANkSa"
      },
      "source": [
        "# Arguments\n",
        "embedding_dim = 128\n",
        "num_filters = 128\n",
        "hidden_dim = 128\n",
        "dropout_p = 0.5"
      ],
      "execution_count": 131,
      "outputs": []
    },
    {
      "cell_type": "code",
      "metadata": {
        "id": "UWe7ktNMNkSa"
      },
      "source": [
        "class CNN(nn.Module):\n",
        "    def __init__(self, embedding_dim, vocab_size, num_filters, filter_sizes,\n",
        "                 hidden_dim, dropout_p, num_classes, padding_idx=0):\n",
        "        super(CNN, self).__init__()\n",
        "\n",
        "        # Initialize embeddings\n",
        "        self.embeddings = nn.Embedding(\n",
        "                embedding_dim=embedding_dim, num_embeddings=vocab_size,\n",
        "                padding_idx=padding_idx)\n",
        "\n",
        "        # Conv weights\n",
        "        self.filter_sizes = filter_sizes\n",
        "        self.conv = nn.ModuleList(\n",
        "            [nn.Conv1d(in_channels=embedding_dim,\n",
        "                       out_channels=num_filters,\n",
        "                       kernel_size=f) for f in filter_sizes])\n",
        "\n",
        "        # FC weights\n",
        "        self.dropout = nn.Dropout(dropout_p)\n",
        "        self.fc1 = nn.Linear(num_filters*len(filter_sizes), hidden_dim)\n",
        "        self.fc2 = nn.Linear(hidden_dim, num_classes)\n",
        "\n",
        "    def forward(self, inputs, channel_first=False):\n",
        "\n",
        "        # Embed\n",
        "        x_in, = inputs\n",
        "        x_in = self.embeddings(x_in)\n",
        "        if not channel_first:\n",
        "            x_in = x_in.transpose(1, 2)  # (N, channels, sequence length)\n",
        "\n",
        "        z = []\n",
        "        max_seq_len = x_in.shape[2]\n",
        "        for i, f in enumerate(self.filter_sizes):\n",
        "\n",
        "            # `SAME` padding\n",
        "            padding_left = int(\n",
        "                (self.conv[i].stride[0]*(max_seq_len-1) - max_seq_len + self.filter_sizes[i])/2)\n",
        "            padding_right = int(math.ceil(\n",
        "                (self.conv[i].stride[0]*(max_seq_len-1) - max_seq_len + self.filter_sizes[i])/2))\n",
        "\n",
        "            # Conv\n",
        "            _z = self.conv[i](F.pad(x_in, (padding_left, padding_right)))\n",
        "\n",
        "            # Pool\n",
        "            _z = F.max_pool1d(_z, _z.size(2)).squeeze(2)\n",
        "            z.append(_z)\n",
        "\n",
        "        # Concat outputs\n",
        "        z = torch.cat(z, 1)\n",
        "\n",
        "        # FC\n",
        "        z = self.fc1(z)\n",
        "        z = self.dropout(z)\n",
        "        z = self.fc2(z)\n",
        "\n",
        "        return z"
      ],
      "execution_count": 132,
      "outputs": []
    },
    {
      "cell_type": "markdown",
      "metadata": {
        "id": "ugjRPCGClmCc"
      },
      "source": [
        "Padding types:\n",
        "* **VALID**: no padding, the filters only use the \"valid\" values in the input. If the filter cannot reach all the input values (filters go left to right), the extra values on the right are dropped.\n",
        "* **SAME**: adds padding evenly to the right (preferred) and left sides of the input so that all values in the input are processed.\n",
        "\n",
        "<div align=\"left\">\n",
        "<img src=\"https://raw.githubusercontent.com/GokuMohandas/MadeWithML/main/images/foundations/cnn/padding.png\" width=\"500\">\n",
        "</div>"
      ]
    },
    {
      "cell_type": "markdown",
      "metadata": {
        "id": "oXZ6ZD6AKbfr"
      },
      "source": [
        "We're add padding so that the convolutional outputs are the same shape as our inputs. The amount of padding for the `SAME` padding can be determined using the same equation. We want out output to have the same width as our input, so we solve for P:\n",
        "\n",
        "$ \\frac{W-F+2P}{S} + 1 = W $\n",
        "\n",
        "$ P = \\frac{S(W-1) - W + F}{2} $\n",
        "\n",
        "If $P$ is not a whole number, we round up (using `math.ceil`) and place the extra padding on the right side."
      ]
    },
    {
      "cell_type": "code",
      "metadata": {
        "id": "suLpR5raNkSa",
        "colab": {
          "base_uri": "https://localhost:8080/"
        },
        "outputId": "23ce48c4-42dd-42a2-d216-445900387b99"
      },
      "source": [
        "# Initialize model\n",
        "model = CNN(\n",
        "    embedding_dim=embedding_dim, vocab_size=vocab_size,\n",
        "    num_filters=num_filters, filter_sizes=filter_sizes,\n",
        "    hidden_dim=hidden_dim, dropout_p=dropout_p,\n",
        "    num_classes=num_classes)\n",
        "model = model.to(device)\n",
        "print (model.named_parameters)"
      ],
      "execution_count": 133,
      "outputs": [
        {
          "output_type": "stream",
          "name": "stdout",
          "text": [
            "<bound method Module.named_parameters of CNN(\n",
            "  (embeddings): Embedding(39, 128, padding_idx=0)\n",
            "  (conv): ModuleList(\n",
            "    (0): Conv1d(128, 128, kernel_size=(1,), stride=(1,))\n",
            "    (1): Conv1d(128, 128, kernel_size=(2,), stride=(1,))\n",
            "    (2): Conv1d(128, 128, kernel_size=(3,), stride=(1,))\n",
            "    (3): Conv1d(128, 128, kernel_size=(4,), stride=(1,))\n",
            "    (4): Conv1d(128, 128, kernel_size=(5,), stride=(1,))\n",
            "    (5): Conv1d(128, 128, kernel_size=(6,), stride=(1,))\n",
            "    (6): Conv1d(128, 128, kernel_size=(7,), stride=(1,))\n",
            "    (7): Conv1d(128, 128, kernel_size=(8,), stride=(1,))\n",
            "    (8): Conv1d(128, 128, kernel_size=(9,), stride=(1,))\n",
            "    (9): Conv1d(128, 128, kernel_size=(10,), stride=(1,))\n",
            "  )\n",
            "  (dropout): Dropout(p=0.5, inplace=False)\n",
            "  (fc1): Linear(in_features=1280, out_features=128, bias=True)\n",
            "  (fc2): Linear(in_features=128, out_features=34, bias=True)\n",
            ")>\n"
          ]
        }
      ]
    },
    {
      "cell_type": "markdown",
      "metadata": {
        "id": "AfcCItXQNkSa"
      },
      "source": [
        "### Training"
      ]
    },
    {
      "cell_type": "code",
      "metadata": {
        "id": "6XYetoGvNkSa"
      },
      "source": [
        "# Arguments\n",
        "lr = 2e-4\n",
        "num_epochs = 100\n",
        "patience = 10"
      ],
      "execution_count": 134,
      "outputs": []
    },
    {
      "cell_type": "code",
      "metadata": {
        "id": "gmPoArUeNkSa"
      },
      "source": [
        "# Define loss\n",
        "class_weights_tensor = torch.Tensor(np.array(list(class_weights.values())))\n",
        "loss_fn = nn.BCEWithLogitsLoss(weight=class_weights_tensor)"
      ],
      "execution_count": 135,
      "outputs": []
    },
    {
      "cell_type": "code",
      "metadata": {
        "id": "YfP6jpAsNkSa"
      },
      "source": [
        "# Define optimizer & scheduler\n",
        "optimizer = torch.optim.Adam(model.parameters(), lr=lr)\n",
        "scheduler = torch.optim.lr_scheduler.ReduceLROnPlateau(\n",
        "    optimizer, mode=\"min\", factor=0.1, patience=5)"
      ],
      "execution_count": 136,
      "outputs": []
    },
    {
      "cell_type": "code",
      "metadata": {
        "id": "36OkuM21NkSa"
      },
      "source": [
        "# Trainer module\n",
        "trainer = Trainer(\n",
        "    model=model, device=device, loss_fn=loss_fn, \n",
        "    optimizer=optimizer, scheduler=scheduler)"
      ],
      "execution_count": 137,
      "outputs": []
    },
    {
      "cell_type": "code",
      "metadata": {
        "id": "XvmUpxZRNkSa",
        "colab": {
          "base_uri": "https://localhost:8080/"
        },
        "outputId": "525b6f30-d827-4ccc-a2d0-913d4212e7e4"
      },
      "source": [
        "# Train\n",
        "best_model = trainer.train(\n",
        "    num_epochs, patience, train_dataloader, val_dataloader)"
      ],
      "execution_count": 138,
      "outputs": [
        {
          "output_type": "stream",
          "name": "stdout",
          "text": [
            "Epoch: 1 | train_loss: 0.01063, val_loss: 0.00467, lr: 2.00E-04, _patience: 10\n",
            "Epoch: 2 | train_loss: 0.00602, val_loss: 0.00424, lr: 2.00E-04, _patience: 10\n",
            "Epoch: 3 | train_loss: 0.00568, val_loss: 0.00434, lr: 2.00E-04, _patience: 9\n",
            "Epoch: 4 | train_loss: 0.00535, val_loss: 0.00410, lr: 2.00E-04, _patience: 10\n",
            "Epoch: 5 | train_loss: 0.00497, val_loss: 0.00390, lr: 2.00E-04, _patience: 10\n",
            "Epoch: 6 | train_loss: 0.00486, val_loss: 0.00383, lr: 2.00E-04, _patience: 10\n",
            "Epoch: 7 | train_loss: 0.00461, val_loss: 0.00380, lr: 2.00E-04, _patience: 10\n",
            "Epoch: 8 | train_loss: 0.00450, val_loss: 0.00376, lr: 2.00E-04, _patience: 10\n",
            "Epoch: 9 | train_loss: 0.00438, val_loss: 0.00372, lr: 2.00E-04, _patience: 10\n",
            "Epoch: 10 | train_loss: 0.00427, val_loss: 0.00367, lr: 2.00E-04, _patience: 10\n",
            "Epoch: 11 | train_loss: 0.00418, val_loss: 0.00362, lr: 2.00E-04, _patience: 10\n",
            "Epoch: 12 | train_loss: 0.00403, val_loss: 0.00357, lr: 2.00E-04, _patience: 10\n",
            "Epoch: 13 | train_loss: 0.00389, val_loss: 0.00352, lr: 2.00E-04, _patience: 10\n",
            "Epoch: 14 | train_loss: 0.00385, val_loss: 0.00346, lr: 2.00E-04, _patience: 10\n",
            "Epoch: 15 | train_loss: 0.00377, val_loss: 0.00341, lr: 2.00E-04, _patience: 10\n",
            "Epoch: 16 | train_loss: 0.00366, val_loss: 0.00333, lr: 2.00E-04, _patience: 10\n",
            "Epoch: 17 | train_loss: 0.00355, val_loss: 0.00327, lr: 2.00E-04, _patience: 10\n",
            "Epoch: 18 | train_loss: 0.00341, val_loss: 0.00322, lr: 2.00E-04, _patience: 10\n",
            "Epoch: 19 | train_loss: 0.00334, val_loss: 0.00315, lr: 2.00E-04, _patience: 10\n",
            "Epoch: 20 | train_loss: 0.00329, val_loss: 0.00308, lr: 2.00E-04, _patience: 10\n",
            "Epoch: 21 | train_loss: 0.00320, val_loss: 0.00302, lr: 2.00E-04, _patience: 10\n",
            "Epoch: 22 | train_loss: 0.00306, val_loss: 0.00296, lr: 2.00E-04, _patience: 10\n",
            "Epoch: 23 | train_loss: 0.00302, val_loss: 0.00289, lr: 2.00E-04, _patience: 10\n",
            "Epoch: 24 | train_loss: 0.00288, val_loss: 0.00285, lr: 2.00E-04, _patience: 10\n",
            "Epoch: 25 | train_loss: 0.00284, val_loss: 0.00279, lr: 2.00E-04, _patience: 10\n",
            "Epoch: 26 | train_loss: 0.00275, val_loss: 0.00275, lr: 2.00E-04, _patience: 10\n",
            "Epoch: 27 | train_loss: 0.00264, val_loss: 0.00270, lr: 2.00E-04, _patience: 10\n",
            "Epoch: 28 | train_loss: 0.00261, val_loss: 0.00265, lr: 2.00E-04, _patience: 10\n",
            "Epoch: 29 | train_loss: 0.00248, val_loss: 0.00261, lr: 2.00E-04, _patience: 10\n",
            "Epoch: 30 | train_loss: 0.00247, val_loss: 0.00257, lr: 2.00E-04, _patience: 10\n",
            "Epoch: 31 | train_loss: 0.00239, val_loss: 0.00255, lr: 2.00E-04, _patience: 10\n",
            "Epoch: 32 | train_loss: 0.00236, val_loss: 0.00252, lr: 2.00E-04, _patience: 10\n",
            "Epoch: 33 | train_loss: 0.00224, val_loss: 0.00248, lr: 2.00E-04, _patience: 10\n",
            "Epoch: 34 | train_loss: 0.00219, val_loss: 0.00245, lr: 2.00E-04, _patience: 10\n",
            "Epoch: 35 | train_loss: 0.00216, val_loss: 0.00246, lr: 2.00E-04, _patience: 9\n",
            "Epoch: 36 | train_loss: 0.00206, val_loss: 0.00239, lr: 2.00E-04, _patience: 10\n",
            "Epoch: 37 | train_loss: 0.00206, val_loss: 0.00240, lr: 2.00E-04, _patience: 9\n",
            "Epoch: 38 | train_loss: 0.00202, val_loss: 0.00235, lr: 2.00E-04, _patience: 10\n",
            "Epoch: 39 | train_loss: 0.00195, val_loss: 0.00236, lr: 2.00E-04, _patience: 9\n",
            "Epoch: 40 | train_loss: 0.00192, val_loss: 0.00232, lr: 2.00E-04, _patience: 10\n",
            "Epoch: 41 | train_loss: 0.00185, val_loss: 0.00232, lr: 2.00E-04, _patience: 9\n",
            "Epoch: 42 | train_loss: 0.00183, val_loss: 0.00232, lr: 2.00E-04, _patience: 8\n",
            "Epoch: 43 | train_loss: 0.00178, val_loss: 0.00227, lr: 2.00E-04, _patience: 10\n",
            "Epoch: 44 | train_loss: 0.00171, val_loss: 0.00229, lr: 2.00E-04, _patience: 9\n",
            "Epoch: 45 | train_loss: 0.00166, val_loss: 0.00227, lr: 2.00E-04, _patience: 8\n",
            "Epoch: 46 | train_loss: 0.00162, val_loss: 0.00229, lr: 2.00E-04, _patience: 7\n",
            "Epoch: 47 | train_loss: 0.00166, val_loss: 0.00228, lr: 2.00E-04, _patience: 6\n",
            "Epoch: 48 | train_loss: 0.00157, val_loss: 0.00226, lr: 2.00E-04, _patience: 5\n",
            "Epoch: 49 | train_loss: 0.00152, val_loss: 0.00223, lr: 2.00E-04, _patience: 10\n",
            "Epoch: 50 | train_loss: 0.00150, val_loss: 0.00224, lr: 2.00E-04, _patience: 9\n",
            "Epoch: 51 | train_loss: 0.00146, val_loss: 0.00224, lr: 2.00E-04, _patience: 8\n",
            "Epoch: 52 | train_loss: 0.00144, val_loss: 0.00224, lr: 2.00E-04, _patience: 7\n",
            "Epoch: 53 | train_loss: 0.00136, val_loss: 0.00225, lr: 2.00E-04, _patience: 6\n",
            "Epoch: 54 | train_loss: 0.00135, val_loss: 0.00223, lr: 2.00E-04, _patience: 5\n",
            "Epoch: 55 | train_loss: 0.00133, val_loss: 0.00218, lr: 2.00E-04, _patience: 10\n",
            "Epoch: 56 | train_loss: 0.00128, val_loss: 0.00219, lr: 2.00E-04, _patience: 9\n",
            "Epoch: 57 | train_loss: 0.00127, val_loss: 0.00224, lr: 2.00E-04, _patience: 8\n",
            "Epoch: 58 | train_loss: 0.00121, val_loss: 0.00225, lr: 2.00E-04, _patience: 7\n",
            "Epoch: 59 | train_loss: 0.00122, val_loss: 0.00226, lr: 2.00E-04, _patience: 6\n",
            "Epoch: 60 | train_loss: 0.00117, val_loss: 0.00235, lr: 2.00E-04, _patience: 5\n",
            "Epoch: 61 | train_loss: 0.00113, val_loss: 0.00237, lr: 2.00E-05, _patience: 4\n",
            "Epoch: 62 | train_loss: 0.00114, val_loss: 0.00224, lr: 2.00E-05, _patience: 3\n",
            "Epoch: 63 | train_loss: 0.00109, val_loss: 0.00216, lr: 2.00E-05, _patience: 10\n",
            "Epoch: 64 | train_loss: 0.00113, val_loss: 0.00218, lr: 2.00E-05, _patience: 9\n",
            "Epoch: 65 | train_loss: 0.00110, val_loss: 0.00222, lr: 2.00E-05, _patience: 8\n",
            "Epoch: 66 | train_loss: 0.00107, val_loss: 0.00218, lr: 2.00E-05, _patience: 7\n",
            "Epoch: 67 | train_loss: 0.00109, val_loss: 0.00217, lr: 2.00E-05, _patience: 6\n",
            "Epoch: 68 | train_loss: 0.00109, val_loss: 0.00219, lr: 2.00E-05, _patience: 5\n",
            "Epoch: 69 | train_loss: 0.00105, val_loss: 0.00222, lr: 2.00E-06, _patience: 4\n",
            "Epoch: 70 | train_loss: 0.00109, val_loss: 0.00222, lr: 2.00E-06, _patience: 3\n",
            "Epoch: 71 | train_loss: 0.00106, val_loss: 0.00221, lr: 2.00E-06, _patience: 2\n",
            "Epoch: 72 | train_loss: 0.00108, val_loss: 0.00221, lr: 2.00E-06, _patience: 1\n",
            "Stopping early!\n"
          ]
        }
      ]
    },
    {
      "cell_type": "markdown",
      "metadata": {
        "id": "nggIvJFoNkSa"
      },
      "source": [
        "### Evaluation"
      ]
    },
    {
      "cell_type": "code",
      "metadata": {
        "id": "0igBVFnYNkSb"
      },
      "source": [
        "from pathlib import Path\n",
        "from sklearn.metrics import precision_recall_curve"
      ],
      "execution_count": 139,
      "outputs": []
    },
    {
      "cell_type": "code",
      "metadata": {
        "id": "WPA5ojyUNkSb",
        "colab": {
          "base_uri": "https://localhost:8080/",
          "height": 302
        },
        "outputId": "35fa0f97-cce1-479a-e2d2-468898ae86ff"
      },
      "source": [
        "# Threshold-PR curve\n",
        "train_loss, y_true, y_prob = trainer.eval_step(dataloader=train_dataloader)\n",
        "precisions, recalls, thresholds = precision_recall_curve(y_true.ravel(), y_prob.ravel())\n",
        "plt.plot(thresholds, precisions[:-1], \"r--\", label=\"Precision\")\n",
        "plt.plot(thresholds, recalls[:-1], \"b-\", label=\"Recall\")\n",
        "plt.ylabel(\"Performance\")\n",
        "plt.xlabel(\"Threshold\")\n",
        "plt.legend(loc=\"best\")"
      ],
      "execution_count": 140,
      "outputs": [
        {
          "output_type": "execute_result",
          "data": {
            "text/plain": [
              "<matplotlib.legend.Legend at 0x7f9930757190>"
            ]
          },
          "metadata": {},
          "execution_count": 140
        },
        {
          "output_type": "display_data",
          "data": {
            "image/png": "[encoded data removed]",
            "text/plain": [
              "<Figure size 432x288 with 1 Axes>"
            ]
          },
          "metadata": {}
        }
      ]
    },
    {
      "cell_type": "code",
      "metadata": {
        "id": "7bF16I1WNkSb"
      },
      "source": [
        "# Determining the best threshold\n",
        "def find_best_threshold(y_true, y_prob):\n",
        "    \"\"\"Find the best threshold for maximum F1.\"\"\"\n",
        "    precisions, recalls, thresholds = precision_recall_curve(y_true, y_prob)\n",
        "    f1s = (2 * precisions * recalls) / (precisions + recalls)\n",
        "    return thresholds[np.argmax(f1s)]"
      ],
      "execution_count": 141,
      "outputs": []
    },
    {
      "cell_type": "markdown",
      "metadata": {
        "id": "VlqdPlplaNCG"
      },
      "source": [
        "> Even better to determine per-class thresholds but this is fine for now."
      ]
    },
    {
      "cell_type": "code",
      "metadata": {
        "id": "Pv9rdHebNkSb",
        "colab": {
          "base_uri": "https://localhost:8080/"
        },
        "outputId": "933ad945-2682-4a66-a1d3-107fb875d094"
      },
      "source": [
        "# Best threshold for f1\n",
        "threshold = find_best_threshold(y_true.ravel(), y_prob.ravel())\n",
        "threshold"
      ],
      "execution_count": 142,
      "outputs": [
        {
          "output_type": "execute_result",
          "data": {
            "text/plain": [
              "0.25184676"
            ]
          },
          "metadata": {},
          "execution_count": 142
        }
      ]
    },
    {
      "cell_type": "code",
      "metadata": {
        "id": "N0i2EYMYNkSb"
      },
      "source": [
        "# Determine predictions using threshold\n",
        "test_loss, y_true, y_prob = trainer.eval_step(dataloader=test_dataloader)\n",
        "y_pred = np.array([np.where(prob >= threshold, 1, 0) for prob in y_prob])"
      ],
      "execution_count": 143,
      "outputs": []
    },
    {
      "cell_type": "code",
      "metadata": {
        "id": "jP9rWb-9NkSb",
        "colab": {
          "base_uri": "https://localhost:8080/"
        },
        "outputId": "3a75e533-0819-4d4a-e19c-9f48f12fb209"
      },
      "source": [
        "# Evaluate\n",
        "metrics = precision_recall_fscore_support(y_test, y_pred, average=\"weighted\")\n",
        "performance = {\"precision\": metrics[0], \"recall\": metrics[1], \"f1\": metrics[2]}\n",
        "print (json.dumps(performance, indent=2))"
      ],
      "execution_count": 144,
      "outputs": [
        {
          "output_type": "stream",
          "name": "stdout",
          "text": [
            "{\n",
            "  \"precision\": 0.7806160291845906,\n",
            "  \"recall\": 0.6072961373390557,\n",
            "  \"f1\": 0.6633435628731683\n",
            "}\n"
          ]
        }
      ]
    },
    {
      "cell_type": "code",
      "metadata": {
        "id": "ewsYvUnxNkSb"
      },
      "source": [
        "# Save artifacts\n",
        "dir = Path(\"cnn\")\n",
        "dir.mkdir(parents=True, exist_ok=True)\n",
        "tokenizer.save(fp=Path(dir, \"tokenzier.json\"))\n",
        "label_encoder.save(fp=Path(dir, \"label_encoder.json\"))\n",
        "torch.save(best_model.state_dict(), Path(dir, \"model.pt\"))\n",
        "with open(Path(dir, \"performance.json\"), \"w\") as fp:\n",
        "    json.dump(performance, indent=2, sort_keys=False, fp=fp)"
      ],
      "execution_count": 145,
      "outputs": []
    },
    {
      "cell_type": "markdown",
      "metadata": {
        "id": "C4tJvSbaNkSb"
      },
      "source": [
        "### Inference"
      ]
    },
    {
      "cell_type": "code",
      "metadata": {
        "id": "GwI4ft7CNkSb",
        "colab": {
          "base_uri": "https://localhost:8080/"
        },
        "outputId": "c9e059fb-5244-41cd-9a2f-b1de001c3e1d"
      },
      "source": [
        "# Load artifacts\n",
        "device = torch.device(\"cpu\")\n",
        "tokenizer = Tokenizer.load(fp=Path(dir, \"tokenzier.json\"))\n",
        "label_encoder = LabelEncoder.load(fp=Path(dir, \"label_encoder.json\"))\n",
        "model = CNN(\n",
        "    embedding_dim=embedding_dim, vocab_size=vocab_size,\n",
        "    num_filters=num_filters, filter_sizes=filter_sizes,\n",
        "    hidden_dim=hidden_dim, dropout_p=dropout_p,\n",
        "    num_classes=num_classes)\n",
        "model.load_state_dict(torch.load(Path(dir, \"model.pt\"), map_location=device))\n",
        "model.to(device)"
      ],
      "execution_count": 146,
      "outputs": [
        {
          "output_type": "execute_result",
          "data": {
            "text/plain": [
              "CNN(\n",
              "  (embeddings): Embedding(39, 128, padding_idx=0)\n",
              "  (conv): ModuleList(\n",
              "    (0): Conv1d(128, 128, kernel_size=(1,), stride=(1,))\n",
              "    (1): Conv1d(128, 128, kernel_size=(2,), stride=(1,))\n",
              "    (2): Conv1d(128, 128, kernel_size=(3,), stride=(1,))\n",
              "    (3): Conv1d(128, 128, kernel_size=(4,), stride=(1,))\n",
              "    (4): Conv1d(128, 128, kernel_size=(5,), stride=(1,))\n",
              "    (5): Conv1d(128, 128, kernel_size=(6,), stride=(1,))\n",
              "    (6): Conv1d(128, 128, kernel_size=(7,), stride=(1,))\n",
              "    (7): Conv1d(128, 128, kernel_size=(8,), stride=(1,))\n",
              "    (8): Conv1d(128, 128, kernel_size=(9,), stride=(1,))\n",
              "    (9): Conv1d(128, 128, kernel_size=(10,), stride=(1,))\n",
              "  )\n",
              "  (dropout): Dropout(p=0.5, inplace=False)\n",
              "  (fc1): Linear(in_features=1280, out_features=128, bias=True)\n",
              "  (fc2): Linear(in_features=128, out_features=34, bias=True)\n",
              ")"
            ]
          },
          "metadata": {},
          "execution_count": 146
        }
      ]
    },
    {
      "cell_type": "code",
      "metadata": {
        "id": "sLeXU5LRYaal"
      },
      "source": [
        "# Initialize trainer\n",
        "trainer = Trainer(model=model, device=device)"
      ],
      "execution_count": 147,
      "outputs": []
    },
    {
      "cell_type": "code",
      "metadata": {
        "id": "b_SGtypzNkSb"
      },
      "source": [
        "# Dataloader\n",
        "text = \"Transfer learning with BERT for self-supervised learning\"\n",
        "X = np.array(tokenizer.texts_to_sequences([preprocess(text)]))\n",
        "y_filler = label_encoder.encode([np.array([label_encoder.classes[0]]*len(X))])\n",
        "dataset = CNNTextDataset(\n",
        "    X=X, y=y_filler, max_filter_size=max(filter_sizes))\n",
        "dataloader = dataset.create_dataloader(\n",
        "    batch_size=batch_size)"
      ],
      "execution_count": 148,
      "outputs": []
    },
    {
      "cell_type": "code",
      "metadata": {
        "id": "YRETV9QyNkSb",
        "colab": {
          "base_uri": "https://localhost:8080/"
        },
        "outputId": "f5d39ea6-23c6-43e6-95ac-f8d0668f2f9e"
      },
      "source": [
        "# Inference\n",
        "y_prob = trainer.predict_step(dataloader)\n",
        "y_pred = np.array([np.where(prob >= threshold, 1, 0) for prob in y_prob])\n",
        "label_encoder.decode(y_pred)"
      ],
      "execution_count": 149,
      "outputs": [
        {
          "output_type": "execute_result",
          "data": {
            "text/plain": [
              "[['attention',\n",
              "  'natural-language-processing',\n",
              "  'self-supervised-learning',\n",
              "  'transfer-learning',\n",
              "  'transformers']]"
            ]
          },
          "metadata": {},
          "execution_count": 149
        }
      ]
    },
    {
      "cell_type": "markdown",
      "metadata": {
        "id": "oYBoIl1Q8ZGB"
      },
      "source": [
        "<u><i>limitations</i></u>:\n",
        "- *representation*: embeddings are not contextual.\n",
        "- *architecture*: extracting signal from encoded inputs is limited by filter widths."
      ]
    },
    {
      "cell_type": "markdown",
      "metadata": {
        "id": "pWYOq-WNGaql"
      },
      "source": [
        "Since we're dealing with simple architectures and fast training times, it's a good opportunity to explore tuning and experiment with k-fold cross validation to properly reach any conclusions about performance."
      ]
    },
    {
      "cell_type": "markdown",
      "metadata": {
        "id": "BBZ35y4tnB1h"
      },
      "source": [
        "## Tradeoffs"
      ]
    },
    {
      "cell_type": "markdown",
      "metadata": {
        "id": "6oCp9vPrTUMx"
      },
      "source": [
        "We could experiment with more complex architectures such as [Transformers](https://madewithml.com/cousres/foundations/transformers), but we're going to go with the embeddings via CNN approach and optimize it because it offer decent performance at a reasonable tradeoff values (size, training time, etc.)"
      ]
    },
    {
      "cell_type": "code",
      "metadata": {
        "id": "dVzPrFK0Y0b-",
        "colab": {
          "base_uri": "https://localhost:8080/"
        },
        "outputId": "78b91c59-289c-4df0-f519-193ec5d8aabb"
      },
      "source": [
        "# Performance\n",
        "with open(Path(\"cnn\", \"performance.json\"), \"r\") as fp:\n",
        "    cnn_performance = json.load(fp)\n",
        "print (f'CNN: f1 = {cnn_performance[\"f1\"]}')"
      ],
      "execution_count": 150,
      "outputs": [
        {
          "output_type": "stream",
          "name": "stdout",
          "text": [
            "CNN: f1 = 0.6633435628731683\n"
          ]
        }
      ]
    },
    {
      "cell_type": "markdown",
      "metadata": {
        "id": "ok2jBSjGsxyL"
      },
      "source": [
        "This was just one run on one split so you'll want to experiment with k-fold cross validation to properly reach any conclusions about performance. Also make sure you take the time to tune these baselines since their training periods are quite fast (we can achieve f1 of 0.7 with just a bit of tuning for both CNN / Transformers). We'll cover hyperparameter tuning in a few lessons so you can replicate the process here on your own time. We should also benchmark on other important metrics as we iterate, not just precision and recall."
      ]
    },
    {
      "cell_type": "code",
      "metadata": {
        "id": "oSM_UOkrVV6D",
        "colab": {
          "base_uri": "https://localhost:8080/"
        },
        "outputId": "05f9c814-acfe-4b6d-fae2-2cea780db9b3"
      },
      "source": [
        "# Size\n",
        "print (f'CNN: {Path(\"cnn\", \"model.pt\").stat().st_size/1000000:.1f} MB')"
      ],
      "execution_count": 151,
      "outputs": [
        {
          "output_type": "stream",
          "name": "stdout",
          "text": [
            "CNN: 4.3 MB\n"
          ]
        }
      ]
    },
    {
      "cell_type": "markdown",
      "metadata": {
        "id": "kDcnWxoMup6W"
      },
      "source": [
        "> We'll consider other tradeoffs such as maintenance overhead, behavioral test performances, etc. as we develop."
      ]
    },
    {
      "cell_type": "code",
      "metadata": {
        "id": "Xs1g4GW66ITQ"
      },
      "source": [
        "# Arguments\n",
        "embedding_dim = 128\n",
        "num_filters = 128\n",
        "hidden_dim = 128\n",
        "dropout_p = 0.5"
      ],
      "execution_count": 152,
      "outputs": []
    },
    {
      "cell_type": "code",
      "metadata": {
        "id": "VIRktG-n49UI",
        "colab": {
          "base_uri": "https://localhost:8080/"
        },
        "outputId": "faca35de-102c-4d1a-c8a9-4c6979498cdd"
      },
      "source": [
        "# Load artifacts\n",
        "dir = Path(\"cnn\")\n",
        "device = torch.device(\"cpu\")\n",
        "tokenizer = Tokenizer.load(fp=Path(dir, \"tokenzier.json\"))\n",
        "label_encoder = LabelEncoder.load(fp=Path(dir, \"label_encoder.json\"))\n",
        "model = CNN(\n",
        "    embedding_dim=embedding_dim, vocab_size=len(tokenizer),\n",
        "    num_filters=num_filters, filter_sizes=filter_sizes,\n",
        "    hidden_dim=hidden_dim, dropout_p=dropout_p,\n",
        "    num_classes=len(label_encoder))\n",
        "model.load_state_dict(torch.load(Path(dir, \"model.pt\"), map_location=device))\n",
        "model.to(device)"
      ],
      "execution_count": 153,
      "outputs": [
        {
          "output_type": "execute_result",
          "data": {
            "text/plain": [
              "CNN(\n",
              "  (embeddings): Embedding(39, 128, padding_idx=0)\n",
              "  (conv): ModuleList(\n",
              "    (0): Conv1d(128, 128, kernel_size=(1,), stride=(1,))\n",
              "    (1): Conv1d(128, 128, kernel_size=(2,), stride=(1,))\n",
              "    (2): Conv1d(128, 128, kernel_size=(3,), stride=(1,))\n",
              "    (3): Conv1d(128, 128, kernel_size=(4,), stride=(1,))\n",
              "    (4): Conv1d(128, 128, kernel_size=(5,), stride=(1,))\n",
              "    (5): Conv1d(128, 128, kernel_size=(6,), stride=(1,))\n",
              "    (6): Conv1d(128, 128, kernel_size=(7,), stride=(1,))\n",
              "    (7): Conv1d(128, 128, kernel_size=(8,), stride=(1,))\n",
              "    (8): Conv1d(128, 128, kernel_size=(9,), stride=(1,))\n",
              "    (9): Conv1d(128, 128, kernel_size=(10,), stride=(1,))\n",
              "  )\n",
              "  (dropout): Dropout(p=0.5, inplace=False)\n",
              "  (fc1): Linear(in_features=1280, out_features=128, bias=True)\n",
              "  (fc2): Linear(in_features=128, out_features=34, bias=True)\n",
              ")"
            ]
          },
          "metadata": {},
          "execution_count": 153
        }
      ]
    },
    {
      "cell_type": "code",
      "metadata": {
        "id": "hOBOLE8J6zV5"
      },
      "source": [
        "# Trainer module\n",
        "trainer = Trainer(model=model, device=device)"
      ],
      "execution_count": 154,
      "outputs": []
    },
    {
      "cell_type": "markdown",
      "metadata": {
        "id": "9ofaM94omwgY"
      },
      "source": [
        "## Evaluation"
      ]
    },
    {
      "cell_type": "markdown",
      "metadata": {
        "id": "nsj8_EUEmynv"
      },
      "source": [
        "So far we've been evaluating our models by determing the overall precision, recall and f1 scores. But since performance is one of the key decision making factors when comparing different models, we should have even more nuanced evaluation strategies.\n",
        "\n",
        "- Overall metrics\n",
        "- Per-class (tag) metrics\n",
        "- Confusion matrix sample analysis\n",
        "- Slice metrics"
      ]
    },
    {
      "cell_type": "code",
      "metadata": {
        "id": "h51AAn1Fu4b5"
      },
      "source": [
        "# Metrics\n",
        "metrics = {\"overall\": {}, \"class\": {}}"
      ],
      "execution_count": 155,
      "outputs": []
    },
    {
      "cell_type": "code",
      "metadata": {
        "id": "H8BgzzHBZNMn"
      },
      "source": [
        "# Data to evaluate\n",
        "device = torch.device(\"cuda\")\n",
        "loss_fn = nn.BCEWithLogitsLoss(weight=class_weights_tensor)\n",
        "trainer = Trainer(model=model.to(device), device=device, loss_fn=loss_fn)\n",
        "test_loss, y_true, y_prob = trainer.eval_step(dataloader=test_dataloader)\n",
        "y_pred = np.array([np.where(prob >= threshold, 1, 0) for prob in y_prob])"
      ],
      "execution_count": 156,
      "outputs": []
    },
    {
      "cell_type": "markdown",
      "metadata": {
        "id": "TiXcls5JoNA8"
      },
      "source": [
        "### Overall metrics"
      ]
    },
    {
      "cell_type": "code",
      "metadata": {
        "id": "h2OQtNODrh6c",
        "colab": {
          "base_uri": "https://localhost:8080/"
        },
        "outputId": "467bfbb3-024f-4c51-a8f4-4f85a96f78c6"
      },
      "source": [
        "# Overall metrics\n",
        "overall_metrics = precision_recall_fscore_support(y_test, y_pred, average=\"weighted\")\n",
        "metrics[\"overall\"][\"precision\"] = overall_metrics[0]\n",
        "metrics[\"overall\"][\"recall\"] = overall_metrics[1]\n",
        "metrics[\"overall\"][\"f1\"] = overall_metrics[2]\n",
        "metrics[\"overall\"][\"num_samples\"] = np.float64(len(y_true))\n",
        "print (json.dumps(metrics[\"overall\"], indent=4))"
      ],
      "execution_count": 157,
      "outputs": [
        {
          "output_type": "stream",
          "name": "stdout",
          "text": [
            "{\n",
            "    \"precision\": 0.7806160291845906,\n",
            "    \"recall\": 0.6072961373390557,\n",
            "    \"f1\": 0.6633435628731683,\n",
            "    \"num_samples\": 218.0\n",
            "}\n"
          ]
        }
      ]
    },
    {
      "cell_type": "markdown",
      "metadata": {
        "id": "zl3xSuXRutKG"
      },
      "source": [
        "### Per-class metrics"
      ]
    },
    {
      "cell_type": "code",
      "metadata": {
        "id": "1zIAI4mwusoX"
      },
      "source": [
        "# Per-class metrics\n",
        "class_metrics = precision_recall_fscore_support(y_test, y_pred, average=None)\n",
        "for i, _class in enumerate(label_encoder.classes):\n",
        "    metrics[\"class\"][_class] = {\n",
        "        \"precision\": class_metrics[0][i],\n",
        "        \"recall\": class_metrics[1][i],\n",
        "        \"f1\": class_metrics[2][i],\n",
        "        \"num_samples\": np.float64(class_metrics[3][i]),\n",
        "    }"
      ],
      "execution_count": 158,
      "outputs": []
    },
    {
      "cell_type": "code",
      "metadata": {
        "id": "Rhh-tgpP0dvj",
        "colab": {
          "base_uri": "https://localhost:8080/"
        },
        "outputId": "3e75dad6-8b94-4222-db68-cef968785a78"
      },
      "source": [
        "# Metrics for a specific class\n",
        "tag = \"transformers\"\n",
        "print (json.dumps(metrics[\"class\"][tag], indent=2))"
      ],
      "execution_count": 159,
      "outputs": [
        {
          "output_type": "stream",
          "name": "stdout",
          "text": [
            "{\n",
            "  \"precision\": 0.6206896551724138,\n",
            "  \"recall\": 0.6428571428571429,\n",
            "  \"f1\": 0.6315789473684211,\n",
            "  \"num_samples\": 28.0\n",
            "}\n"
          ]
        }
      ]
    },
    {
      "cell_type": "markdown",
      "metadata": {
        "id": "4RsmVddrmknD"
      },
      "source": [
        "As a general rule, the classes with fewer samples will have lower performance so we should always work to identify the class (or fine-grained slices) of data that our model needs to see more samples of to learn from. "
      ]
    },
    {
      "cell_type": "code",
      "metadata": {
        "id": "5gXY4M5rcQ4H"
      },
      "source": [
        "# Number of training samples per class\n",
        "num_samples = np.sum(y_train, axis=0).tolist()"
      ],
      "execution_count": 160,
      "outputs": []
    },
    {
      "cell_type": "code",
      "metadata": {
        "id": "r0gIKVbMrkgo"
      },
      "source": [
        "# Number of samples vs. performance (per class)\n",
        "f1s = [metrics[\"class\"][_class][\"f1\"]*100. for _class in label_encoder.classes]\n",
        "sorted_lists = sorted(zip(*[num_samples, f1s])) # sort\n",
        "num_samples, f1s = list(zip(*sorted_lists))"
      ],
      "execution_count": 161,
      "outputs": []
    },
    {
      "cell_type": "code",
      "metadata": {
        "id": "vQVA6G-j__t5",
        "colab": {
          "base_uri": "https://localhost:8080/",
          "height": 339
        },
        "outputId": "4041b85b-e112-4d0e-aee2-543589cef0ec"
      },
      "source": [
        "# Plot\n",
        "n = 7 # num. top classes to label\n",
        "fig, ax = plt.subplots()\n",
        "ax.set_xlabel(\"# of training samples\")\n",
        "ax.set_ylabel(\"test performance (f1)\")\n",
        "fig.set_size_inches(25, 5)\n",
        "ax.plot(num_samples, f1s, \"bo-\")\n",
        "for x, y, label in zip(num_samples[-n:], f1s[-n:], label_encoder.classes[-n:]):\n",
        "    ax.annotate(label, xy=(x,y), xytext=(-5, 5), ha=\"right\", textcoords=\"offset points\")"
      ],
      "execution_count": 162,
      "outputs": [
        {
          "output_type": "display_data",
          "data": {
            "image/png": "[encoded data removed]",
            "text/plain": [
              "<Figure size 1800x360 with 1 Axes>"
            ]
          },
          "metadata": {}
        }
      ]
    },
    {
      "cell_type": "markdown",
      "metadata": {
        "id": "G4LFphxErqFa"
      },
      "source": [
        "There are, of course, nuances to this general rule such as the complexity of distinguishing between some classes where we may not need as many samples for easier sub-tasks. In our case, classes with over 100 training samples consistently perform better than 0.6 f1 score, whereas the other class' performances are mixed."
      ]
    },
    {
      "cell_type": "markdown",
      "metadata": {
        "id": "f-juex26zvBF"
      },
      "source": [
        "### Confusion matric sample analysis"
      ]
    },
    {
      "cell_type": "markdown",
      "metadata": {
        "id": "xPUao0S4k99c"
      },
      "source": [
        "- True positives: learn about where our model performs well.\n",
        "- False positives: potentially identify samples which may need to be relabeled.\n",
        "- False negatives: identify the model's less performant areas to oversample later.\n",
        "\n",
        "> It's a good to have our FP/FN samples feed back into our annotation pipelines in the event we want to fix their labels and have those changes be reflected everywhere."
      ]
    },
    {
      "cell_type": "code",
      "metadata": {
        "id": "ZG2SgsPAzukL"
      },
      "source": [
        "# TP, FP, FN samples\n",
        "index = label_encoder.class_to_index[tag]\n",
        "tp, fp, fn = [], [], []\n",
        "for i in range(len(y_test)):\n",
        "    true = y_test[i][index]\n",
        "    pred = y_pred[i][index]\n",
        "    if true and pred:\n",
        "        tp.append(i)\n",
        "    elif not true and pred:\n",
        "        fp.append(i)\n",
        "    elif true and not pred:\n",
        "        fn.append(i)"
      ],
      "execution_count": 163,
      "outputs": []
    },
    {
      "cell_type": "code",
      "metadata": {
        "id": "ePrxeVkG0mmO",
        "colab": {
          "base_uri": "https://localhost:8080/"
        },
        "outputId": "d123165c-1fdd-4b9d-d75c-f9ddc8381d92"
      },
      "source": [
        "print (tp)\n",
        "print (fp)\n",
        "print (fn)"
      ],
      "execution_count": 164,
      "outputs": [
        {
          "output_type": "stream",
          "name": "stdout",
          "text": [
            "[4, 9, 27, 38, 40, 52, 58, 74, 79, 88, 97, 167, 174, 181, 186, 191, 194, 195]\n",
            "[45, 54, 98, 104, 109, 137, 146, 152, 162, 190, 216]\n",
            "[55, 59, 63, 70, 87, 93, 125, 144, 166, 201]\n"
          ]
        }
      ]
    },
    {
      "cell_type": "code",
      "metadata": {
        "id": "-9UCXV7K0ocX",
        "colab": {
          "base_uri": "https://localhost:8080/"
        },
        "outputId": "9818ff73-155b-4b4f-ba1a-f1b165afb340"
      },
      "source": [
        "index = tp[0]\n",
        "print (X_test_raw[index])\n",
        "print (f\"true: {label_encoder.decode([y_test[index]])[0]}\")\n",
        "print (f\"pred: {label_encoder.decode([y_pred[index]])[0]}\\n\")"
      ],
      "execution_count": 165,
      "outputs": [
        {
          "output_type": "stream",
          "name": "stdout",
          "text": [
            "simple transformers transformers classification ner qa language modeling language generation t5 multi modal conversational ai\n",
            "true: ['language-modeling', 'natural-language-processing', 'question-answering', 'transformers']\n",
            "pred: ['attention', 'huggingface', 'language-modeling', 'natural-language-processing', 'transformers']\n",
            "\n"
          ]
        }
      ]
    },
    {
      "cell_type": "code",
      "metadata": {
        "id": "tVbuLfiH0ofe"
      },
      "source": [
        "# Sorted tags\n",
        "sorted_tags_by_f1 = OrderedDict(sorted(\n",
        "        metrics[\"class\"].items(), key=lambda tag: tag[1][\"f1\"], reverse=True))"
      ],
      "execution_count": 166,
      "outputs": []
    },
    {
      "cell_type": "code",
      "metadata": {
        "id": "n4jLEJ6f0ojA",
        "colab": {
          "base_uri": "https://localhost:8080/",
          "height": 831,
          "referenced_widgets": [
            "71c8c4424a7d4ac99dd8c198b4804558",
            "3f0e873fc4a043eabce5603462e9f5a1",
            "4cbf6da0bdff4f9f874227d2fa9709ee",
            "f7a3a46903124946a0c54b6c37c3dc1d",
            "2b82c7e02f994bc196162c462b5dfdbd",
            "2d557aaa2185415b97e1f00047b2235f",
            "f95efc06318e4ac8889af520c1ff06c8"
          ]
        },
        "outputId": "68506454-9ed8-409a-ec1d-8a3f0e9c5c3e"
      },
      "source": [
        "@widgets.interact(tag=list(sorted_tags_by_f1.keys()))\n",
        "def display_tag_analysis(tag='transformers'):\n",
        "    # Performance\n",
        "    print (json.dumps(metrics[\"class\"][tag], indent=2))\n",
        "    \n",
        "    # TP, FP, FN samples\n",
        "    index = label_encoder.class_to_index[tag]\n",
        "    tp, fp, fn = [], [], []\n",
        "    for i in range(len(y_test)):\n",
        "        true = y_test[i][index]\n",
        "        pred = y_pred[i][index]\n",
        "        if true and pred:\n",
        "            tp.append(i)\n",
        "        elif not true and pred:\n",
        "            fp.append(i)\n",
        "        elif true and not pred:\n",
        "            fn.append(i)\n",
        "            \n",
        "    # Samples\n",
        "    num_samples = 3\n",
        "    if len(tp): \n",
        "        print (\"\\n=== True positives ===\")\n",
        "        for i in tp[:num_samples]:        \n",
        "            print (f\"  {X_test_raw[i]}\")\n",
        "            print (f\"    true: {label_encoder.decode([y_test[i]])[0]}\")\n",
        "            print (f\"    pred: {label_encoder.decode([y_pred[i]])[0]}\\n\")\n",
        "    if len(fp): \n",
        "        print (\"=== False positives === \")\n",
        "        for i in fp[:num_samples]:        \n",
        "            print (f\"  {X_test_raw[i]}\")\n",
        "            print (f\"    true: {label_encoder.decode([y_test[i]])[0]}\")\n",
        "            print (f\"    pred: {label_encoder.decode([y_pred[i]])[0]}\\n\")\n",
        "    if len(fn): \n",
        "        print (\"=== False negatives ===\")\n",
        "        for i in fn[:num_samples]:        \n",
        "            print (f\"  {X_test_raw[i]}\") \n",
        "            print (f\"    true: {label_encoder.decode([y_test[i]])[0]}\")\n",
        "            print (f\"    pred: {label_encoder.decode([y_pred[i]])[0]}\\n\")"
      ],
      "execution_count": 167,
      "outputs": [
        {
          "output_type": "display_data",
          "data": {
            "application/vnd.jupyter.widget-view+json": {
              "model_id": "71c8c4424a7d4ac99dd8c198b4804558",
              "version_minor": 0,
              "version_major": 2
            },
            "text/plain": [
              "interactive(children=(Dropdown(description='tag', index=19, options=('autoencoders', 'transfer-learning', 'tim…"
            ]
          },
          "metadata": {}
        }
      ]
    },
    {
      "cell_type": "markdown",
      "metadata": {
        "id": "4S9XH4j4wSlS"
      },
      "source": [
        "> It's a really good idea to do this kind of analysis using our rule-based approach to catch really obvious labeling errors."
      ]
    },
    {
      "cell_type": "markdown",
      "metadata": {
        "id": "dvS3UpusXP_R"
      },
      "source": [
        "### Slice metrics"
      ]
    },
    {
      "cell_type": "markdown",
      "metadata": {
        "id": "eeWWMG38Ny4U"
      },
      "source": [
        "Evaluate performance on key slices of data that goes beyond class-level metrics."
      ]
    },
    {
      "cell_type": "code",
      "metadata": {
        "id": "ZyueOtQsXdGm"
      },
      "source": [
        "from snorkel.slicing import PandasSFApplier\n",
        "from snorkel.slicing import slice_dataframe\n",
        "from snorkel.slicing import slicing_function"
      ],
      "execution_count": 168,
      "outputs": []
    },
    {
      "cell_type": "code",
      "metadata": {
        "id": "coutP2KtXdLG"
      },
      "source": [
        "@slicing_function()\n",
        "def pytorch_transformers(x):\n",
        "    \"\"\"Projects with the `pytorch` and `transformers` tags.\"\"\"\n",
        "    return all(tag in x.tags for tag in [\"pytorch\", \"transformers\"])"
      ],
      "execution_count": 169,
      "outputs": []
    },
    {
      "cell_type": "code",
      "metadata": {
        "id": "zNekudM4XfBE"
      },
      "source": [
        "@slicing_function()\n",
        "def short_text(x):\n",
        "    \"\"\"Projects with short titles and descriptions.\"\"\"\n",
        "    return len(x.text.split()) < 7  # less than 7 words"
      ],
      "execution_count": 170,
      "outputs": []
    },
    {
      "cell_type": "code",
      "metadata": {
        "id": "B7jmdmNaXuA2",
        "colab": {
          "base_uri": "https://localhost:8080/",
          "height": 190
        },
        "outputId": "068f9572-4aa8-41b2-9b23-449a4cfc1de2"
      },
      "source": [
        "short_text_df = slice_dataframe(test_df, short_text)\n",
        "short_text_df[[\"text\", \"tags\"]].head()"
      ],
      "execution_count": 171,
      "outputs": [
        {
          "output_type": "stream",
          "name": "stderr",
          "text": [
            "100%|██████████| 218/218 [00:00<00:00, 15825.92it/s]\n"
          ]
        },
        {
          "output_type": "execute_result",
          "data": {
            "text/html": [
              "<div>\n",
              "<style scoped>\n",
              "    .dataframe tbody tr th:only-of-type {\n",
              "        vertical-align: middle;\n",
              "    }\n",
              "\n",
              "    .dataframe tbody tr th {\n",
              "        vertical-align: top;\n",
              "    }\n",
              "\n",
              "    .dataframe thead th {\n",
              "        text-align: right;\n",
              "    }\n",
              "</style>\n",
              "<table border=\"1\" class=\"dataframe\">\n",
              "  <thead>\n",
              "    <tr style=\"text-align: right;\">\n",
              "      <th></th>\n",
              "      <th>text</th>\n",
              "      <th>tags</th>\n",
              "    </tr>\n",
              "  </thead>\n",
              "  <tbody>\n",
              "    <tr>\n",
              "      <th>44</th>\n",
              "      <td>flask sqlalchemy adds sqlalchemy support flask</td>\n",
              "      <td>[flask]</td>\n",
              "    </tr>\n",
              "    <tr>\n",
              "      <th>69</th>\n",
              "      <td>scikit lego extra blocks sklearn pipelines</td>\n",
              "      <td>[scikit-learn]</td>\n",
              "    </tr>\n",
              "    <tr>\n",
              "      <th>83</th>\n",
              "      <td>simclr keras tensorflow keras implementation s...</td>\n",
              "      <td>[keras, self-supervised-learning, tensorflow]</td>\n",
              "    </tr>\n",
              "    <tr>\n",
              "      <th>215</th>\n",
              "      <td>introduction autoencoders look autoencoders re...</td>\n",
              "      <td>[autoencoders, representation-learning]</td>\n",
              "    </tr>\n",
              "  </tbody>\n",
              "</table>\n",
              "</div>"
            ],
            "text/plain": [
              "                                                  text                                           tags\n",
              "44      flask sqlalchemy adds sqlalchemy support flask                                        [flask]\n",
              "69          scikit lego extra blocks sklearn pipelines                                 [scikit-learn]\n",
              "83   simclr keras tensorflow keras implementation s...  [keras, self-supervised-learning, tensorflow]\n",
              "215  introduction autoencoders look autoencoders re...        [autoencoders, representation-learning]"
            ]
          },
          "metadata": {},
          "execution_count": 171
        }
      ]
    },
    {
      "cell_type": "markdown",
      "metadata": {
        "id": "kZuDZwTNO93Q"
      },
      "source": [
        "We can define even more slicing functions and create a slices record array using the [`PandasSFApplier`](https://snorkel.readthedocs.io/en/v0.9.6/packages/_autosummary/slicing/snorkel.slicing.PandasSFApplier.html). The slices array has N (# of data points) items and each item has S (# of slicing functions) items, indicating whether that data point is part of that slice. Think of this record array as a masking layer for each slicing function on our data."
      ]
    },
    {
      "cell_type": "code",
      "metadata": {
        "id": "mQG8PFovXfEm",
        "colab": {
          "base_uri": "https://localhost:8080/"
        },
        "outputId": "b9ab355a-e90b-4b62-e024-f4eb86681f87"
      },
      "source": [
        "# Slices\n",
        "slicing_functions = [pytorch_transformers, short_text]\n",
        "applier = PandasSFApplier(slicing_functions)\n",
        "slices = applier.apply(test_df)\n",
        "slices"
      ],
      "execution_count": 172,
      "outputs": [
        {
          "output_type": "stream",
          "name": "stderr",
          "text": [
            "100%|██████████| 218/218 [00:00<00:00, 11883.58it/s]\n"
          ]
        },
        {
          "output_type": "execute_result",
          "data": {
            "text/plain": [
              "rec.array([(0, 0), (0, 0), (0, 0), (0, 0), (0, 0), (0, 0), (0, 0), (0, 0),\n",
              "           (0, 0), (0, 0), (0, 0), (0, 0), (0, 0), (0, 0), (0, 0), (0, 0),\n",
              "           (0, 0), (0, 0), (0, 0), (0, 0), (0, 0), (0, 0), (0, 0), (0, 0),\n",
              "           (0, 0), (0, 0), (0, 0), (0, 0), (0, 0), (0, 0), (0, 0), (0, 0),\n",
              "           (0, 0), (0, 0), (0, 0), (0, 0), (0, 0), (0, 0), (0, 0), (0, 0),\n",
              "           (1, 0), (0, 0), (0, 0), (0, 0), (0, 1), (0, 0), (0, 0), (0, 0),\n",
              "           (0, 0), (0, 0), (0, 0), (0, 0), (0, 0), (0, 0), (0, 0), (0, 0),\n",
              "           (0, 0), (0, 0), (0, 0), (0, 0), (0, 0), (0, 0), (0, 0), (0, 0),\n",
              "           (0, 0), (0, 0), (0, 0), (0, 0), (0, 0), (0, 1), (0, 0), (0, 0),\n",
              "           (0, 0), (0, 0), (0, 0), (0, 0), (0, 0), (0, 0), (0, 0), (0, 0),\n",
              "           (0, 0), (0, 0), (0, 0), (0, 1), (0, 0), (0, 0), (0, 0), (0, 0),\n",
              "           (0, 0), (0, 0), (0, 0), (0, 0), (0, 0), (0, 0), (0, 0), (0, 0),\n",
              "           (0, 0), (0, 0), (0, 0), (0, 0), (0, 0), (0, 0), (0, 0), (0, 0),\n",
              "           (0, 0), (0, 0), (0, 0), (0, 0), (0, 0), (0, 0), (0, 0), (0, 0),\n",
              "           (0, 0), (0, 0), (0, 0), (0, 0), (0, 0), (0, 0), (0, 0), (0, 0),\n",
              "           (0, 0), (0, 0), (0, 0), (0, 0), (0, 0), (0, 0), (0, 0), (0, 0),\n",
              "           (0, 0), (0, 0), (0, 0), (0, 0), (0, 0), (0, 0), (0, 0), (0, 0),\n",
              "           (0, 0), (0, 0), (0, 0), (0, 0), (0, 0), (0, 0), (0, 0), (0, 0),\n",
              "           (0, 0), (0, 0), (0, 0), (0, 0), (0, 0), (0, 0), (0, 0), (0, 0),\n",
              "           (0, 0), (0, 0), (0, 0), (0, 0), (0, 0), (0, 0), (0, 0), (0, 0),\n",
              "           (0, 0), (0, 0), (0, 0), (0, 0), (0, 0), (0, 0), (0, 0), (1, 0),\n",
              "           (0, 0), (0, 0), (0, 0), (0, 0), (0, 0), (0, 0), (0, 0), (0, 0),\n",
              "           (0, 0), (0, 0), (0, 0), (0, 0), (0, 0), (0, 0), (0, 0), (0, 0),\n",
              "           (0, 0), (0, 0), (0, 0), (0, 0), (0, 0), (0, 0), (0, 0), (0, 0),\n",
              "           (0, 0), (0, 0), (1, 0), (0, 0), (0, 0), (0, 0), (0, 0), (0, 0),\n",
              "           (0, 0), (0, 0), (0, 0), (0, 0), (0, 0), (0, 0), (0, 0), (0, 0),\n",
              "           (0, 0), (0, 0), (0, 0), (0, 0), (0, 0), (0, 0), (0, 0), (0, 1),\n",
              "           (0, 0), (0, 0)],\n",
              "          dtype=[('pytorch_transformers', '<i8'), ('short_text', '<i8')])"
            ]
          },
          "metadata": {},
          "execution_count": 172
        }
      ]
    },
    {
      "cell_type": "markdown",
      "metadata": {
        "id": "tCltCyWwYIvC"
      },
      "source": [
        "If our task was multiclass instead of multilabel, we could've used [snorkel.analysis.Scorer](https://snorkel.readthedocs.io/en/v0.9.1/packages/_autosummary/analysis/snorkel.analysis.Scorer.html) to retrieve our slice metrics. But we've implemented a naive version for our multilabel task based on it."
      ]
    },
    {
      "cell_type": "code",
      "metadata": {
        "id": "GqkwQenBXfIa"
      },
      "source": [
        "# Score slices\n",
        "metrics[\"slices\"] = {}\n",
        "for slice_name in slices.dtype.names:\n",
        "    mask = slices[slice_name].astype(bool)\n",
        "    if sum(mask):  \n",
        "        slice_metrics = precision_recall_fscore_support(\n",
        "            y_test[mask], y_pred[mask], average=\"micro\"\n",
        "        )\n",
        "        metrics[\"slices\"][slice_name] = {}\n",
        "        metrics[\"slices\"][slice_name][\"precision\"] = slice_metrics[0]\n",
        "        metrics[\"slices\"][slice_name][\"recall\"] = slice_metrics[1]\n",
        "        metrics[\"slices\"][slice_name][\"f1\"] = slice_metrics[2]\n",
        "        metrics[\"slices\"][slice_name][\"num_samples\"] = len(y_true[mask])"
      ],
      "execution_count": 173,
      "outputs": []
    },
    {
      "cell_type": "code",
      "metadata": {
        "id": "QapvZ3bgX3J6",
        "colab": {
          "base_uri": "https://localhost:8080/"
        },
        "outputId": "aa298b47-e9e1-4d80-e5c2-e2c2ed7b886a"
      },
      "source": [
        "print(json.dumps(metrics[\"slices\"], indent=2))"
      ],
      "execution_count": 174,
      "outputs": [
        {
          "output_type": "stream",
          "name": "stdout",
          "text": [
            "{\n",
            "  \"pytorch_transformers\": {\n",
            "    \"precision\": 0.9230769230769231,\n",
            "    \"recall\": 0.8571428571428571,\n",
            "    \"f1\": 0.888888888888889,\n",
            "    \"num_samples\": 3\n",
            "  },\n",
            "  \"short_text\": {\n",
            "    \"precision\": 0.8,\n",
            "    \"recall\": 0.5714285714285714,\n",
            "    \"f1\": 0.6666666666666666,\n",
            "    \"num_samples\": 4\n",
            "  }\n",
            "}\n"
          ]
        }
      ]
    },
    {
      "cell_type": "markdown",
      "metadata": {
        "id": "v9yUHIrgYe6s"
      },
      "source": [
        "> In our [testing lesson](https://madewithml.com/courses/mlops/testing/), we'll cover another way to evaluate our model known as [behavioral testing](https://madewithml.com/courses/mlops/testing/#behavioral-testing), which we'll also include as part of performance report."
      ]
    },
    {
      "cell_type": "markdown",
      "metadata": {
        "id": "MILv2j74iUMQ"
      },
      "source": [
        "## Experiment tracking"
      ]
    },
    {
      "cell_type": "markdown",
      "metadata": {
        "id": "t40bb7o2jyCP"
      },
      "source": [
        "So far, we've been training and evaluating our different baselines but haven't really been tracking these experiments. We'll fix this by defining a proper process for experiment tracking which we'll use for all future experiments (including hyperparameter optimization). There are many options for experiment tracking but we're going to use [MLFlow](https://mlflow.org/) (100% free and [open-source](https://github.com/mlflow/mlflow)) because it has all the functionality we'll need (and [growing integration support](https://medium.com/pytorch/mlflow-and-pytorch-where-cutting-edge-ai-meets-mlops-1985cf8aa789)). We can run MLFlow on our own servers and databases so there are no storage cost / limitations, making it one of the most popular options and is used by Microsoft, Facebook, Databricks and others. You can also set up your own Tracking servers to synchronize runs amongst multiple team members collaborating on the same task.\n",
        "\n",
        "There are also several popular options such as a [Comet ML](https://www.comet.ml/site/) (Used by Google AI, HuggingFace, etc.) and [Weights and Biases](https://www.wandb.com/) (Used by Open AI, Toyota Research, etc.). These are fantastic tools that provide features like dashboards, seamless integration, hyperparameter search, reports and even [debugging](https://wandb.ai/latentspace/published-work/The-Science-of-Debugging-with-W-B-Reports--Vmlldzo4OTI3Ng)!"
      ]
    },
    {
      "cell_type": "code",
      "metadata": {
        "id": "GiU-_H58iVvV",
        "colab": {
          "base_uri": "https://localhost:8080/"
        },
        "outputId": "49a0be62-1f0f-4473-e7de-f60de8095741"
      },
      "source": [
        "!pip install mlflow==1.13.1 pyngrok -q"
      ],
      "execution_count": null,
      "outputs": [
        {
          "output_type": "stream",
          "name": "stdout",
          "text": [
            "\u001b[K     |████████████████████████████████| 14.1 MB 28 kB/s \n",
            "\u001b[K     |████████████████████████████████| 745 kB 29.2 MB/s \n",
            "\u001b[K     |████████████████████████████████| 170 kB 49.6 MB/s \n",
            "\u001b[K     |████████████████████████████████| 1.1 MB 44.2 MB/s \n",
            "\u001b[K     |████████████████████████████████| 345 kB 42.2 MB/s \n",
            "\u001b[K     |████████████████████████████████| 79 kB 7.6 MB/s \n",
            "\u001b[K     |████████████████████████████████| 145 kB 51.8 MB/s \n",
            "\u001b[K     |████████████████████████████████| 56 kB 4.3 MB/s \n",
            "\u001b[K     |████████████████████████████████| 75 kB 4.4 MB/s \n",
            "\u001b[K     |████████████████████████████████| 85 kB 4.2 MB/s \n",
            "\u001b[K     |████████████████████████████████| 165 kB 51.7 MB/s \n",
            "\u001b[K     |████████████████████████████████| 3.0 MB 38.1 MB/s \n",
            "\u001b[K     |████████████████████████████████| 52 kB 1.3 MB/s \n",
            "\u001b[K     |████████████████████████████████| 63 kB 1.8 MB/s \n",
            "\u001b[K     |████████████████████████████████| 45 kB 3.2 MB/s \n",
            "\u001b[?25h  Building wheel for alembic (setup.py) ... \u001b[?25l\u001b[?25hdone\n",
            "  Building wheel for databricks-cli (setup.py) ... \u001b[?25l\u001b[?25hdone\n",
            "  Building wheel for pyngrok (setup.py) ... \u001b[?25l\u001b[?25hdone\n",
            "  Building wheel for prometheus-flask-exporter (setup.py) ... \u001b[?25l\u001b[?25hdone\n"
          ]
        }
      ]
    },
    {
      "cell_type": "code",
      "metadata": {
        "id": "jjBl3l1cl4x6"
      },
      "source": [
        "from argparse import Namespace\n",
        "import mlflow\n",
        "from pathlib import Path"
      ],
      "execution_count": null,
      "outputs": []
    },
    {
      "cell_type": "code",
      "metadata": {
        "id": "bDwbBLh4xdFG"
      },
      "source": [
        "# Specify arguments\n",
        "args = Namespace(\n",
        "    char_level=True,\n",
        "    filter_sizes=list(range(1, 11)),\n",
        "    batch_size=64,\n",
        "    embedding_dim=128, \n",
        "    num_filters=128,\n",
        "    hidden_dim=128, \n",
        "    dropout_p=0.5,\n",
        "    lr=2e-4,\n",
        "    num_epochs=100,\n",
        "    patience=10,\n",
        ")"
      ],
      "execution_count": null,
      "outputs": []
    },
    {
      "cell_type": "markdown",
      "metadata": {
        "id": "fIHrsmkN7rYi"
      },
      "source": [
        "> When we move to Python scripts, we'll use the [Typer](https://typer.tiangolo.com/) package instead of argparse for a better CLI experience."
      ]
    },
    {
      "cell_type": "code",
      "metadata": {
        "id": "Bq5Zoy6YohM3"
      },
      "source": [
        "# Set tracking URI\n",
        "MODEL_REGISTRY = Path(\"experiments\")\n",
        "Path(MODEL_REGISTRY).mkdir(exist_ok=True) # create experiments dir\n",
        "mlflow.set_tracking_uri(\"file://\" + str(MODEL_REGISTRY.absolute()))"
      ],
      "execution_count": null,
      "outputs": []
    },
    {
      "cell_type": "code",
      "metadata": {
        "id": "9DR1CvJeo48U",
        "colab": {
          "base_uri": "https://localhost:8080/"
        },
        "outputId": "7e5fcd24-f355-4863-8c9f-c2f19afe841d"
      },
      "source": [
        "!ls"
      ],
      "execution_count": null,
      "outputs": [
        {
          "output_type": "stream",
          "name": "stdout",
          "text": [
            "cnn  experiments  sample_data\n"
          ]
        }
      ]
    },
    {
      "cell_type": "markdown",
      "metadata": {
        "id": "JGvUEKbl9buj"
      },
      "source": [
        "### Training"
      ]
    },
    {
      "cell_type": "markdown",
      "metadata": {
        "id": "JZgQlLyHHwEk"
      },
      "source": [
        "We're going to log the training epoch metrics within our `Trainer`'s `train` function. "
      ]
    },
    {
      "cell_type": "code",
      "metadata": {
        "id": "F16Qt7xSHqph"
      },
      "source": [
        "# Modified for experiment tracking\n",
        "class Trainer(object):\n",
        "    def __init__(self, model, device, loss_fn=None, optimizer=None, scheduler=None):\n",
        "\n",
        "        # Set params\n",
        "        self.model = model\n",
        "        self.device = device\n",
        "        self.loss_fn = loss_fn\n",
        "        self.optimizer = optimizer\n",
        "        self.scheduler = scheduler\n",
        "\n",
        "    def train_step(self, dataloader):\n",
        "        \"\"\"Train step.\"\"\"\n",
        "        # Set model to train mode\n",
        "        self.model.train()\n",
        "        loss = 0.0\n",
        "\n",
        "        # Iterate over train batches\n",
        "        for i, batch in enumerate(dataloader):\n",
        "\n",
        "            # Step\n",
        "            batch = [item.to(self.device) for item in batch]  # Set device\n",
        "            inputs, targets = batch[:-1], batch[-1]\n",
        "            self.optimizer.zero_grad()  # Reset gradients\n",
        "            z = self.model(inputs)  # Forward pass\n",
        "            J = self.loss_fn(z, targets)  # Define loss\n",
        "            J.backward()  # Backward pass\n",
        "            self.optimizer.step()  # Update weights\n",
        "\n",
        "            # Cumulative Metrics\n",
        "            loss += (J.detach().item() - loss) / (i + 1)\n",
        "\n",
        "        return loss\n",
        "\n",
        "    def eval_step(self, dataloader):\n",
        "        \"\"\"Validation or test step.\"\"\"\n",
        "        # Set model to eval mode\n",
        "        self.model.eval()\n",
        "        loss = 0.0\n",
        "        y_trues, y_probs = [], []\n",
        "\n",
        "        # Iterate over val batches\n",
        "        with torch.inference_mode():\n",
        "            for i, batch in enumerate(dataloader):\n",
        "\n",
        "                # Step\n",
        "                batch = [item.to(self.device) for item in batch]  # Set device\n",
        "                inputs, y_true = batch[:-1], batch[-1]\n",
        "                z = self.model(inputs)  # Forward pass\n",
        "                J = self.loss_fn(z, y_true).item()\n",
        "\n",
        "                # Cumulative Metrics\n",
        "                loss += (J - loss) / (i + 1)\n",
        "\n",
        "                # Store outputs\n",
        "                y_prob = torch.sigmoid(z).cpu().numpy()\n",
        "                y_probs.extend(y_prob)\n",
        "                y_trues.extend(y_true.cpu().numpy())\n",
        "\n",
        "        return loss, np.vstack(y_trues), np.vstack(y_probs)\n",
        "\n",
        "    def predict_step(self, dataloader):\n",
        "        \"\"\"Prediction step.\"\"\"\n",
        "        # Set model to eval mode\n",
        "        self.model.eval()\n",
        "        y_probs = []\n",
        "\n",
        "        # Iterate over val batches\n",
        "        with torch.inference_mode():\n",
        "            for i, batch in enumerate(dataloader):\n",
        "\n",
        "                # Forward pass w/ inputs\n",
        "                inputs, targets = batch[:-1], batch[-1]\n",
        "                z = self.model(inputs)\n",
        "\n",
        "                # Store outputs\n",
        "                y_prob = torch.sigmoid(z).cpu().numpy()\n",
        "                y_probs.extend(y_prob)\n",
        "\n",
        "        return np.vstack(y_probs)\n",
        "    \n",
        "    def train(self, num_epochs, patience, train_dataloader, val_dataloader, \n",
        "              tolerance=1e-5):\n",
        "        best_val_loss = np.inf\n",
        "        for epoch in range(num_epochs):\n",
        "            # Steps\n",
        "            train_loss = self.train_step(dataloader=train_dataloader)\n",
        "            val_loss, _, _ = self.eval_step(dataloader=val_dataloader)\n",
        "            self.scheduler.step(val_loss)\n",
        "\n",
        "            # Early stopping\n",
        "            if val_loss < best_val_loss - tolerance:\n",
        "                best_val_loss = val_loss\n",
        "                best_model = self.model\n",
        "                _patience = patience  # reset _patience\n",
        "            else:\n",
        "                _patience -= 1\n",
        "            if not _patience:  # 0\n",
        "                print(\"Stopping early!\")\n",
        "                break\n",
        "\n",
        "            # Tracking\n",
        "            mlflow.log_metrics(\n",
        "                {\"train_loss\": train_loss, \"val_loss\": val_loss}, step=epoch\n",
        "            )\n",
        "\n",
        "            # Logging\n",
        "            print(\n",
        "                f\"Epoch: {epoch+1} | \"\n",
        "                f\"train_loss: {train_loss:.5f}, \"\n",
        "                f\"val_loss: {val_loss:.5f}, \"\n",
        "                f\"lr: {self.optimizer.param_groups[0]['lr']:.2E}, \"\n",
        "                f\"_patience: {_patience}\"\n",
        "            )\n",
        "        return best_model, best_val_loss"
      ],
      "execution_count": null,
      "outputs": []
    },
    {
      "cell_type": "markdown",
      "metadata": {
        "id": "8Mk5Dlcj_aJd"
      },
      "source": [
        "And to make things simple, we'll encapsulate all the components for training into one function which returns all the artifacts we want to be able to track from our experiment. The input argument `args`contains all the parameters needed and it's nice to have it all organized under one variable so we can easily log it and tweak it for different experiments (we'll see this when we do hyperparameter optimization)."
      ]
    },
    {
      "cell_type": "code",
      "metadata": {
        "id": "OWUtQYLIR9Nn"
      },
      "source": [
        "def train_cnn(args, df):\n",
        "    \"\"\"Train a CNN using specific arguments.\"\"\"\n",
        "\n",
        "    # Set seeds\n",
        "    set_seeds()\n",
        "\n",
        "    # Get data splits\n",
        "    preprocessed_df = df.copy()\n",
        "    preprocessed_df.text = preprocessed_df.text.apply(preprocess, lower=True)\n",
        "    X_train, X_val, X_test, y_train, y_val, y_test, label_encoder = get_data_splits(preprocessed_df)\n",
        "    num_classes = len(label_encoder)\n",
        "\n",
        "    # Set device\n",
        "    cuda = True\n",
        "    device = torch.device(\"cuda\" if (\n",
        "        torch.cuda.is_available() and cuda) else \"cpu\")\n",
        "    torch.set_default_tensor_type(\"torch.FloatTensor\")\n",
        "    if device.type == \"cuda\":\n",
        "        torch.set_default_tensor_type(\"torch.cuda.FloatTensor\")\n",
        "\n",
        "    # Tokenize\n",
        "    tokenizer = Tokenizer(char_level=args.char_level)\n",
        "    tokenizer.fit_on_texts(texts=X_train)\n",
        "    vocab_size = len(tokenizer)\n",
        "\n",
        "    # Convert texts to sequences of indices\n",
        "    X_train = np.array(tokenizer.texts_to_sequences(X_train))\n",
        "    X_val = np.array(tokenizer.texts_to_sequences(X_val))\n",
        "    X_test = np.array(tokenizer.texts_to_sequences(X_test))\n",
        "\n",
        "    # Class weights\n",
        "    train_tags = list(itertools.chain.from_iterable(train_df.tags.values))\n",
        "    counts = np.bincount([label_encoder.class_to_index[class_] for class_ in train_tags])\n",
        "    class_weights = {i: 1.0/count for i, count in enumerate(counts)}\n",
        "\n",
        "    # Create datasets\n",
        "    train_dataset = CNNTextDataset(\n",
        "        X=X_train, y=y_train, max_filter_size=max(args.filter_sizes))\n",
        "    val_dataset = CNNTextDataset(\n",
        "        X=X_val, y=y_val, max_filter_size=max(args.filter_sizes))\n",
        "    test_dataset = CNNTextDataset(\n",
        "        X=X_test, y=y_test, max_filter_size=max(args.filter_sizes))\n",
        "\n",
        "    # Create dataloaders\n",
        "    train_dataloader = train_dataset.create_dataloader(\n",
        "        batch_size=args.batch_size)\n",
        "    val_dataloader = val_dataset.create_dataloader(\n",
        "        batch_size=args.batch_size)\n",
        "    test_dataloader = test_dataset.create_dataloader(\n",
        "        batch_size=args.batch_size)\n",
        "\n",
        "    # Initialize model\n",
        "    model = CNN(\n",
        "        embedding_dim=args.embedding_dim, vocab_size=vocab_size,\n",
        "        num_filters=args.num_filters, filter_sizes=args.filter_sizes,\n",
        "        hidden_dim=args.hidden_dim, dropout_p=args.dropout_p,\n",
        "        num_classes=num_classes)\n",
        "    model = model.to(device)\n",
        "\n",
        "    # Define loss\n",
        "    class_weights_tensor = torch.Tensor(np.array(list(class_weights.values())))\n",
        "    loss_fn = nn.BCEWithLogitsLoss(weight=class_weights_tensor)\n",
        "\n",
        "    # Define optimizer & scheduler\n",
        "    optimizer = torch.optim.Adam(model.parameters(), lr=args.lr)\n",
        "    scheduler = torch.optim.lr_scheduler.ReduceLROnPlateau(\n",
        "        optimizer, mode=\"min\", factor=0.1, patience=5)\n",
        "\n",
        "    # Trainer module\n",
        "    trainer = Trainer(\n",
        "        model=model, device=device, loss_fn=loss_fn, \n",
        "        optimizer=optimizer, scheduler=scheduler)\n",
        "\n",
        "    # Train\n",
        "    best_model, best_val_loss = trainer.train(\n",
        "        args.num_epochs, args.patience, train_dataloader, val_dataloader)\n",
        "\n",
        "    # Best threshold for f1\n",
        "    train_loss, y_true, y_prob = trainer.eval_step(dataloader=train_dataloader)\n",
        "    precisions, recalls, thresholds = precision_recall_curve(y_true.ravel(), y_prob.ravel())\n",
        "    threshold = find_best_threshold(y_true.ravel(), y_prob.ravel())\n",
        "\n",
        "    # Determine predictions using threshold\n",
        "    test_loss, y_true, y_prob = trainer.eval_step(dataloader=test_dataloader)\n",
        "    y_pred = np.array([np.where(prob >= threshold, 1, 0) for prob in y_prob])\n",
        "\n",
        "    # Evaluate (simple)\n",
        "    metrics = precision_recall_fscore_support(y_test, y_pred, average=\"weighted\")\n",
        "    performance = {\"precision\": metrics[0], \"recall\": metrics[1], \"f1\": metrics[2]}\n",
        "\n",
        "    return {\n",
        "        \"args\": args,\n",
        "        \"tokenizer\": tokenizer,\n",
        "        \"label_encoder\": label_encoder,\n",
        "        \"model\": best_model,\n",
        "        \"performance\": performance,\n",
        "        \"best_val_loss\": best_val_loss,\n",
        "    }"
      ],
      "execution_count": null,
      "outputs": []
    },
    {
      "cell_type": "markdown",
      "metadata": {
        "id": "oyqrdKxZ9gFi"
      },
      "source": [
        "### Tracking"
      ]
    },
    {
      "cell_type": "markdown",
      "metadata": {
        "id": "7EyOAaaTLlil"
      },
      "source": [
        "With MLFlow we need to first initialize an experiment and then you can do runs under that experiment."
      ]
    },
    {
      "cell_type": "code",
      "metadata": {
        "id": "Z5qLhfSJxSkp"
      },
      "source": [
        "import tempfile"
      ],
      "execution_count": null,
      "outputs": []
    },
    {
      "cell_type": "code",
      "metadata": {
        "id": "TJHQ_SwwLjRY",
        "colab": {
          "base_uri": "https://localhost:8080/"
        },
        "outputId": "115cbb5d-99cf-4718-c14c-1ad7041a36ce"
      },
      "source": [
        "# Set experiment\n",
        "mlflow.set_experiment(experiment_name=\"baselines\")"
      ],
      "execution_count": null,
      "outputs": [
        {
          "output_type": "stream",
          "name": "stdout",
          "text": [
            "INFO: 'baselines' does not exist. Creating a new experiment\n"
          ]
        }
      ]
    },
    {
      "cell_type": "code",
      "metadata": {
        "id": "FCuqxD1V2dce"
      },
      "source": [
        "def save_dict(d, filepath):\n",
        "    \"\"\"Save dict to a json file.\"\"\"\n",
        "    with open(filepath, \"w\") as fp:\n",
        "        json.dump(d, indent=2, sort_keys=False, fp=fp)"
      ],
      "execution_count": null,
      "outputs": []
    },
    {
      "cell_type": "code",
      "metadata": {
        "id": "5rWwqZPWo7Oo",
        "colab": {
          "base_uri": "https://localhost:8080/"
        },
        "outputId": "979c3d56-7b12-45cc-d25d-23c3fcde6609"
      },
      "source": [
        "# Tracking\n",
        "with mlflow.start_run(run_name=\"cnn\") as run:\n",
        "\n",
        "    # Train & evaluate\n",
        "    artifacts = train_cnn(args=args, df=df)\n",
        "\n",
        "    # Log key metrics\n",
        "    mlflow.log_metrics({\"precision\": artifacts[\"performance\"][\"precision\"]})\n",
        "    mlflow.log_metrics({\"recall\": artifacts[\"performance\"][\"recall\"]})\n",
        "    mlflow.log_metrics({\"f1\": artifacts[\"performance\"][\"f1\"]})\n",
        "\n",
        "    # Log artifacts\n",
        "    with tempfile.TemporaryDirectory() as dp:\n",
        "        artifacts[\"tokenizer\"].save(Path(dp, \"tokenizer.json\"))\n",
        "        artifacts[\"label_encoder\"].save(Path(dp, \"label_encoder.json\"))\n",
        "        torch.save(artifacts[\"model\"].state_dict(), Path(dp, \"model.pt\"))\n",
        "        save_dict(artifacts[\"performance\"], Path(dp, \"performance.json\"))\n",
        "        mlflow.log_artifacts(dp)\n",
        "\n",
        "    # Log parameters\n",
        "    mlflow.log_params(vars(artifacts[\"args\"]))"
      ],
      "execution_count": null,
      "outputs": [
        {
          "output_type": "stream",
          "name": "stdout",
          "text": [
            "Epoch: 1 | train_loss: 0.00606, val_loss: 0.00291, lr: 2.00E-04, _patience: 10\n",
            "Epoch: 2 | train_loss: 0.00407, val_loss: 0.00293, lr: 2.00E-04, _patience: 9\n",
            "Epoch: 3 | train_loss: 0.00366, val_loss: 0.00270, lr: 2.00E-04, _patience: 10\n",
            "Epoch: 4 | train_loss: 0.00335, val_loss: 0.00264, lr: 2.00E-04, _patience: 10\n",
            "Epoch: 5 | train_loss: 0.00318, val_loss: 0.00260, lr: 2.00E-04, _patience: 10\n",
            "Epoch: 6 | train_loss: 0.00302, val_loss: 0.00254, lr: 2.00E-04, _patience: 10\n",
            "Epoch: 7 | train_loss: 0.00292, val_loss: 0.00249, lr: 2.00E-04, _patience: 10\n",
            "Epoch: 8 | train_loss: 0.00279, val_loss: 0.00242, lr: 2.00E-04, _patience: 10\n",
            "Epoch: 9 | train_loss: 0.00264, val_loss: 0.00235, lr: 2.00E-04, _patience: 10\n",
            "Epoch: 10 | train_loss: 0.00255, val_loss: 0.00229, lr: 2.00E-04, _patience: 10\n",
            "Epoch: 11 | train_loss: 0.00243, val_loss: 0.00219, lr: 2.00E-04, _patience: 10\n",
            "Epoch: 12 | train_loss: 0.00235, val_loss: 0.00212, lr: 2.00E-04, _patience: 10\n",
            "Epoch: 13 | train_loss: 0.00221, val_loss: 0.00205, lr: 2.00E-04, _patience: 10\n",
            "Epoch: 14 | train_loss: 0.00211, val_loss: 0.00201, lr: 2.00E-04, _patience: 10\n",
            "Epoch: 15 | train_loss: 0.00204, val_loss: 0.00194, lr: 2.00E-04, _patience: 10\n",
            "Epoch: 16 | train_loss: 0.00192, val_loss: 0.00190, lr: 2.00E-04, _patience: 10\n",
            "Epoch: 17 | train_loss: 0.00187, val_loss: 0.00185, lr: 2.00E-04, _patience: 10\n",
            "Epoch: 18 | train_loss: 0.00180, val_loss: 0.00180, lr: 2.00E-04, _patience: 10\n",
            "Epoch: 19 | train_loss: 0.00169, val_loss: 0.00179, lr: 2.00E-04, _patience: 9\n",
            "Epoch: 20 | train_loss: 0.00162, val_loss: 0.00178, lr: 2.00E-04, _patience: 10\n",
            "Epoch: 21 | train_loss: 0.00161, val_loss: 0.00174, lr: 2.00E-04, _patience: 10\n",
            "Epoch: 22 | train_loss: 0.00154, val_loss: 0.00173, lr: 2.00E-04, _patience: 10\n",
            "Epoch: 23 | train_loss: 0.00144, val_loss: 0.00170, lr: 2.00E-04, _patience: 10\n",
            "Epoch: 24 | train_loss: 0.00140, val_loss: 0.00169, lr: 2.00E-04, _patience: 10\n",
            "Epoch: 25 | train_loss: 0.00133, val_loss: 0.00168, lr: 2.00E-04, _patience: 10\n",
            "Epoch: 26 | train_loss: 0.00129, val_loss: 0.00164, lr: 2.00E-04, _patience: 10\n",
            "Epoch: 27 | train_loss: 0.00124, val_loss: 0.00165, lr: 2.00E-04, _patience: 9\n",
            "Epoch: 28 | train_loss: 0.00118, val_loss: 0.00161, lr: 2.00E-04, _patience: 10\n",
            "Epoch: 29 | train_loss: 0.00114, val_loss: 0.00164, lr: 2.00E-04, _patience: 9\n",
            "Epoch: 30 | train_loss: 0.00113, val_loss: 0.00166, lr: 2.00E-04, _patience: 8\n",
            "Epoch: 31 | train_loss: 0.00109, val_loss: 0.00159, lr: 2.00E-04, _patience: 10\n",
            "Epoch: 32 | train_loss: 0.00103, val_loss: 0.00166, lr: 2.00E-04, _patience: 9\n",
            "Epoch: 33 | train_loss: 0.00101, val_loss: 0.00165, lr: 2.00E-04, _patience: 8\n",
            "Epoch: 34 | train_loss: 0.00097, val_loss: 0.00159, lr: 2.00E-04, _patience: 7\n",
            "Epoch: 35 | train_loss: 0.00093, val_loss: 0.00165, lr: 2.00E-04, _patience: 6\n",
            "Epoch: 36 | train_loss: 0.00093, val_loss: 0.00157, lr: 2.00E-04, _patience: 10\n",
            "Epoch: 37 | train_loss: 0.00085, val_loss: 0.00159, lr: 2.00E-04, _patience: 9\n",
            "Epoch: 38 | train_loss: 0.00083, val_loss: 0.00159, lr: 2.00E-04, _patience: 8\n",
            "Epoch: 39 | train_loss: 0.00080, val_loss: 0.00159, lr: 2.00E-04, _patience: 7\n",
            "Epoch: 40 | train_loss: 0.00079, val_loss: 0.00163, lr: 2.00E-04, _patience: 6\n",
            "Epoch: 41 | train_loss: 0.00077, val_loss: 0.00179, lr: 2.00E-04, _patience: 5\n",
            "Epoch: 42 | train_loss: 0.00074, val_loss: 0.00159, lr: 2.00E-05, _patience: 4\n",
            "Epoch: 43 | train_loss: 0.00070, val_loss: 0.00153, lr: 2.00E-05, _patience: 10\n",
            "Epoch: 44 | train_loss: 0.00068, val_loss: 0.00155, lr: 2.00E-05, _patience: 9\n",
            "Epoch: 45 | train_loss: 0.00068, val_loss: 0.00154, lr: 2.00E-05, _patience: 8\n",
            "Epoch: 46 | train_loss: 0.00067, val_loss: 0.00155, lr: 2.00E-05, _patience: 7\n",
            "Epoch: 47 | train_loss: 0.00068, val_loss: 0.00154, lr: 2.00E-05, _patience: 6\n",
            "Epoch: 48 | train_loss: 0.00066, val_loss: 0.00156, lr: 2.00E-05, _patience: 5\n",
            "Epoch: 49 | train_loss: 0.00065, val_loss: 0.00156, lr: 2.00E-06, _patience: 4\n",
            "Epoch: 50 | train_loss: 0.00068, val_loss: 0.00156, lr: 2.00E-06, _patience: 3\n",
            "Epoch: 51 | train_loss: 0.00066, val_loss: 0.00155, lr: 2.00E-06, _patience: 2\n",
            "Epoch: 52 | train_loss: 0.00066, val_loss: 0.00155, lr: 2.00E-06, _patience: 1\n",
            "Stopping early!\n"
          ]
        }
      ]
    },
    {
      "cell_type": "markdown",
      "metadata": {
        "id": "lqWgLPYgCBhi"
      },
      "source": [
        "### Viewing"
      ]
    },
    {
      "cell_type": "markdown",
      "metadata": {
        "id": "J9JkJ_7MCC4U"
      },
      "source": [
        "Let's view what we've tracked from our experiment. MLFlow serves a dashboard for us to view and explore our experiments on a localhost port but since we're inside a notebook, we're going to use public tunnel ([ngrok](https://ngrok.com/)) to view it."
      ]
    },
    {
      "cell_type": "code",
      "metadata": {
        "id": "nCco6Xa3436x"
      },
      "source": [
        "from pyngrok import ngrok"
      ],
      "execution_count": null,
      "outputs": []
    },
    {
      "cell_type": "markdown",
      "metadata": {
        "id": "gR4xFBQI7Tqj"
      },
      "source": [
        "> You may need to rerun the cell below multiple times if the connection times out it is overloaded."
      ]
    },
    {
      "cell_type": "code",
      "metadata": {
        "id": "6gd8i4b941hL",
        "colab": {
          "base_uri": "https://localhost:8080/"
        },
        "outputId": "b160485d-ed4d-4073-9b8d-fcb52b8f34f2"
      },
      "source": [
        "# https://stackoverflow.com/questions/61615818/setting-up-mlflow-on-google-colab\n",
        "get_ipython().system_raw(\"mlflow server -h 0.0.0.0 -p 5000 --backend-store-uri $PWD/experiments/ &\")\n",
        "ngrok.kill()\n",
        "ngrok.set_auth_token(\"\")\n",
        "ngrok_tunnel = ngrok.connect(addr=\"5000\", proto=\"http\", bind_tls=True)\n",
        "print(\"MLflow Tracking UI:\", ngrok_tunnel.public_url)"
      ],
      "execution_count": null,
      "outputs": [
        {
          "output_type": "stream",
          "name": "stdout",
          "text": [
            "MLflow Tracking UI: https://2a66-35-229-225-89.ngrok.io\n"
          ]
        }
      ]
    },
    {
      "cell_type": "markdown",
      "metadata": {
        "id": "tfUQpOIDej0z"
      },
      "source": [
        "MLFlow creates a main dashboard with all your experiments and their respective runs. We can sort runs by clicking on the column headers.\n",
        "\n",
        "<img src=\"https://raw.githubusercontent.com/GokuMohandas/MadeWithML/main/images/mlops/experiment_tracking/dashboard.png\" width=\"1000\" alt=\"pivot\">"
      ]
    },
    {
      "cell_type": "markdown",
      "metadata": {
        "id": "bHhjsDJyeeGN"
      },
      "source": [
        "We can click on any of our experiments on the main dashboard to further explore it:\n",
        "\n",
        "<img src=\"https://raw.githubusercontent.com/GokuMohandas/MadeWithML/main/images/mlops/experiment_tracking/plots.png\" width=\"1000\" alt=\"pivot\">"
      ]
    },
    {
      "cell_type": "markdown",
      "metadata": {
        "id": "2RVeCRid9hWs"
      },
      "source": [
        "### Loading"
      ]
    },
    {
      "cell_type": "markdown",
      "metadata": {
        "id": "vEbgvyFQfW_e"
      },
      "source": [
        "We need to be able to load our saved experiment artifacts for inference, retraining, etc."
      ]
    },
    {
      "cell_type": "code",
      "metadata": {
        "id": "wUdmwNiVy6Dy"
      },
      "source": [
        "def load_dict(filepath):\n",
        "    \"\"\"Load a dict from a json file.\"\"\"\n",
        "    with open(filepath, \"r\") as fp:\n",
        "        d = json.load(fp)\n",
        "    return d"
      ],
      "execution_count": null,
      "outputs": []
    },
    {
      "cell_type": "code",
      "metadata": {
        "id": "wP_FfHn07943",
        "colab": {
          "base_uri": "https://localhost:8080/"
        },
        "outputId": "42ad027d-0ed1-4e1e-a170-ac7a19e5db1d"
      },
      "source": [
        "# Load all runs from experiment\n",
        "experiment_id = mlflow.get_experiment_by_name(\"baselines\").experiment_id\n",
        "all_runs = mlflow.search_runs(experiment_ids=experiment_id, order_by=[\"metrics.best_val_loss ASC\"])\n",
        "print (all_runs)"
      ],
      "execution_count": null,
      "outputs": [
        {
          "output_type": "stream",
          "name": "stdout",
          "text": [
            "                             run_id  ... tags.mlflow.source.type\n",
            "0  27e71bc6b80e403ab473bda9f3c8b2fa  ...                   LOCAL\n",
            "\n",
            "[1 rows x 23 columns]\n"
          ]
        }
      ]
    },
    {
      "cell_type": "code",
      "metadata": {
        "id": "PHbhpuFq9QPA"
      },
      "source": [
        "# Best run\n",
        "device = torch.device(\"cpu\")\n",
        "best_run_id = all_runs.iloc[0].run_id\n",
        "best_run = mlflow.get_run(run_id=best_run_id)\n",
        "client = mlflow.tracking.MlflowClient()\n",
        "with tempfile.TemporaryDirectory() as dp:\n",
        "    client.download_artifacts(run_id=best_run_id, path=\"\", dst_path=dp)\n",
        "    tokenizer = Tokenizer.load(fp=Path(dp, \"tokenizer.json\"))\n",
        "    label_encoder = LabelEncoder.load(fp=Path(dp, \"label_encoder.json\"))\n",
        "    model_state = torch.load(Path(dp, \"model.pt\"), map_location=device)\n",
        "    performance = load_dict(filepath=Path(dp, \"performance.json\"))"
      ],
      "execution_count": null,
      "outputs": []
    },
    {
      "cell_type": "code",
      "metadata": {
        "id": "uUAGjr5w8oxM",
        "colab": {
          "base_uri": "https://localhost:8080/"
        },
        "outputId": "a1569217-0b30-401d-e621-3b124fbcc343"
      },
      "source": [
        "print (json.dumps(performance, indent=2))"
      ],
      "execution_count": null,
      "outputs": [
        {
          "output_type": "stream",
          "name": "stdout",
          "text": [
            "{\n",
            "  \"precision\": 0.7636869869517359,\n",
            "  \"recall\": 0.5815450643776824,\n",
            "  \"f1\": 0.6421825401405105\n",
            "}\n"
          ]
        }
      ]
    },
    {
      "cell_type": "code",
      "metadata": {
        "id": "HsMvF6K_8LIt",
        "colab": {
          "base_uri": "https://localhost:8080/"
        },
        "outputId": "ac0b7b10-555c-4b76-d440-0e8cf9d8b413"
      },
      "source": [
        "# Load artifacts\n",
        "device = torch.device(\"cpu\")\n",
        "model = CNN(\n",
        "    embedding_dim=args.embedding_dim, vocab_size=len(tokenizer),\n",
        "    num_filters=args.num_filters, filter_sizes=args.filter_sizes,\n",
        "    hidden_dim=args.hidden_dim, dropout_p=args.dropout_p,\n",
        "    num_classes=len(label_encoder))\n",
        "model.load_state_dict(model_state)\n",
        "model.to(device)"
      ],
      "execution_count": null,
      "outputs": [
        {
          "output_type": "execute_result",
          "data": {
            "text/plain": [
              "CNN(\n",
              "  (embeddings): Embedding(39, 128, padding_idx=0)\n",
              "  (conv): ModuleList(\n",
              "    (0): Conv1d(128, 128, kernel_size=(1,), stride=(1,))\n",
              "    (1): Conv1d(128, 128, kernel_size=(2,), stride=(1,))\n",
              "    (2): Conv1d(128, 128, kernel_size=(3,), stride=(1,))\n",
              "    (3): Conv1d(128, 128, kernel_size=(4,), stride=(1,))\n",
              "    (4): Conv1d(128, 128, kernel_size=(5,), stride=(1,))\n",
              "    (5): Conv1d(128, 128, kernel_size=(6,), stride=(1,))\n",
              "    (6): Conv1d(128, 128, kernel_size=(7,), stride=(1,))\n",
              "    (7): Conv1d(128, 128, kernel_size=(8,), stride=(1,))\n",
              "    (8): Conv1d(128, 128, kernel_size=(9,), stride=(1,))\n",
              "    (9): Conv1d(128, 128, kernel_size=(10,), stride=(1,))\n",
              "  )\n",
              "  (dropout): Dropout(p=0.5, inplace=False)\n",
              "  (fc1): Linear(in_features=1280, out_features=128, bias=True)\n",
              "  (fc2): Linear(in_features=128, out_features=34, bias=True)\n",
              ")"
            ]
          },
          "metadata": {},
          "execution_count": 194
        }
      ]
    },
    {
      "cell_type": "code",
      "metadata": {
        "id": "B2axMjbk9XgI"
      },
      "source": [
        "# Initialize trainer\n",
        "trainer = Trainer(model=model, device=device)"
      ],
      "execution_count": null,
      "outputs": []
    },
    {
      "cell_type": "code",
      "metadata": {
        "id": "wcypz1sO9Xk1"
      },
      "source": [
        "# Dataloader\n",
        "text = \"Transfer learning with BERT for self-supervised learning\"\n",
        "X = np.array(tokenizer.texts_to_sequences([preprocess(text)]))\n",
        "y_filler = label_encoder.encode([np.array([label_encoder.classes[0]]*len(X))])\n",
        "dataset = CNNTextDataset(\n",
        "    X=X, y=y_filler, max_filter_size=max(filter_sizes))\n",
        "dataloader = dataset.create_dataloader(\n",
        "    batch_size=batch_size)"
      ],
      "execution_count": null,
      "outputs": []
    },
    {
      "cell_type": "code",
      "metadata": {
        "id": "NiQr5E6L9XrM",
        "colab": {
          "base_uri": "https://localhost:8080/"
        },
        "outputId": "49d794a8-1ff5-46ce-ac36-186e9bb270f6"
      },
      "source": [
        "# Inference\n",
        "y_prob = trainer.predict_step(dataloader)\n",
        "y_pred = np.array([np.where(prob >= threshold, 1, 0) for prob in y_prob])\n",
        "label_encoder.decode(y_pred)"
      ],
      "execution_count": null,
      "outputs": [
        {
          "output_type": "execute_result",
          "data": {
            "text/plain": [
              "[['computer-vision',\n",
              "  'natural-language-processing',\n",
              "  'self-supervised-learning',\n",
              "  'transfer-learning',\n",
              "  'transformers']]"
            ]
          },
          "metadata": {},
          "execution_count": 197
        }
      ]
    },
    {
      "cell_type": "markdown",
      "metadata": {
        "id": "_CzPlupuYPWT"
      },
      "source": [
        "## Optimization"
      ]
    },
    {
      "cell_type": "markdown",
      "metadata": {
        "id": "CHM69_fPYXy_"
      },
      "source": [
        "Optimization is the process of fine-tuning the hyperparameters in our experiment to optimize towards a particular objective. It can be a computationally involved process depending on the number of parameters, search space and model architectures. Hyperparameters don't just include the model's parameters but they also include parameters (choices) from preprocessing, splitting, etc. When we look at all the different parameters that can be tuned, it quickly becomes a very large search space. However, just because something is a hyperparameter doesn't mean we need to tune it.\n",
        "\n",
        "- It's absolutely alright to fix some hyperparameters (ex. lower=True during preprocessing) and remove them from the current tuning subset. Just be sure to note which parameters you are fixing and your reasoning for doing so.\n",
        "- You can initially just tune a small, yet influential, subset of hyperparameters that you believe will yield best results.\n",
        "\n",
        "There are many options for hyperparameter tuning ([Optuna](https://github.com/optuna/optuna), [Ray tune](https://github.com/ray-project/ray/tree/master/python/ray/tune), [Hyperopt](https://github.com/hyperopt/hyperopt), etc.) but we'll be using Optuna for it's simplicity and efficiency. "
      ]
    },
    {
      "cell_type": "code",
      "metadata": {
        "id": "SFFkEgjSYR9v",
        "colab": {
          "base_uri": "https://localhost:8080/"
        },
        "outputId": "9f069e28-0889-4efa-e010-7ae2d0634dda"
      },
      "source": [
        "!pip install optuna==2.4.0 numpyencoder==0.3.0 -q"
      ],
      "execution_count": null,
      "outputs": [
        {
          "output_type": "stream",
          "name": "stdout",
          "text": [
            "\u001b[K     |████████████████████████████████| 282 kB 4.3 MB/s \n",
            "\u001b[K     |████████████████████████████████| 80 kB 8.9 MB/s \n",
            "\u001b[K     |████████████████████████████████| 49 kB 5.8 MB/s \n",
            "\u001b[K     |████████████████████████████████| 141 kB 43.1 MB/s \n",
            "\u001b[K     |████████████████████████████████| 111 kB 42.9 MB/s \n",
            "\u001b[?25h  Building wheel for pyperclip (setup.py) ... \u001b[?25l\u001b[?25hdone\n"
          ]
        }
      ]
    },
    {
      "cell_type": "code",
      "metadata": {
        "id": "VLI2DvYihgH9"
      },
      "source": [
        "import optuna"
      ],
      "execution_count": null,
      "outputs": []
    },
    {
      "cell_type": "markdown",
      "metadata": {
        "id": "1oxHC5gUZw6v"
      },
      "source": [
        "There are many factors to consider when performing hyperparameter optimization and luckily Optuna allows us to [implement](https://optuna.readthedocs.io/en/stable/reference/) them with ease. We'll be conducting a small study where we'll tune a set of arguments (we'll do a much more thorough [study](https://optuna.readthedocs.io/en/stable/reference/study.html) of the parameter space when we move our code to Python scripts). Here's the process for the study:\n",
        "\n",
        "1. Define an objective (metric) and identifying the [direction](https://optuna.readthedocs.io/en/stable/reference/generated/optuna.study.StudyDirection.html#optuna.study.StudyDirection) to optimize.\n",
        "2. `[OPTIONAL]` Choose a [sampler](https://optuna.readthedocs.io/en/stable/reference/samplers.html) for determining parameters for subsequent trials. (default is a tree based sampler).\n",
        "3. `[OPTIONAL]` Choose a [pruner](https://optuna.readthedocs.io/en/stable/reference/pruners.html) to end unpromising trials early. \n",
        "4. Define the parameters to tune in each [trial](https://optuna.readthedocs.io/en/stable/reference/trial.html) and the [distribution](https://optuna.readthedocs.io/en/stable/reference/generated/optuna.trial.Trial.html#optuna-trial-trial) of values to sample. \n",
        "\n",
        "> There are many more options (multiple objectives, storage options, etc.) to explore but this basic set up will allow us to optimize quite well."
      ]
    },
    {
      "cell_type": "code",
      "metadata": {
        "id": "M9hsPDs3iXy1"
      },
      "source": [
        "from argparse import Namespace"
      ],
      "execution_count": null,
      "outputs": []
    },
    {
      "cell_type": "code",
      "metadata": {
        "id": "DeGjHoore6Ca"
      },
      "source": [
        "# Specify arguments\n",
        "args = Namespace(\n",
        "    char_level=True,\n",
        "    filter_sizes=list(range(1, 11)),\n",
        "    batch_size=64,\n",
        "    embedding_dim=128, \n",
        "    num_filters=128,\n",
        "    hidden_dim=128, \n",
        "    dropout_p=0.5,\n",
        "    lr=2e-4,\n",
        "    num_epochs=100,\n",
        "    patience=10,\n",
        ")"
      ],
      "execution_count": null,
      "outputs": []
    },
    {
      "cell_type": "markdown",
      "metadata": {
        "id": "cSxjDzajfxMF"
      },
      "source": [
        "We're going to modify our `Trainer` object to be able to prune unpromising trials based on the trial's validation loss."
      ]
    },
    {
      "cell_type": "code",
      "metadata": {
        "id": "lu9OCdgxfxXx"
      },
      "source": [
        "# Trainer (modified for experiment tracking)\n",
        "class Trainer(object):\n",
        "    def __init__(self, model, device, loss_fn=None, \n",
        "                 optimizer=None, scheduler=None, trial=None):\n",
        "\n",
        "        # Set params\n",
        "        self.model = model\n",
        "        self.device = device\n",
        "        self.loss_fn = loss_fn\n",
        "        self.optimizer = optimizer\n",
        "        self.scheduler = scheduler\n",
        "        self.trial = trial\n",
        "\n",
        "    def train_step(self, dataloader):\n",
        "        \"\"\"Train step.\"\"\"\n",
        "        # Set model to train mode\n",
        "        self.model.train()\n",
        "        loss = 0.0\n",
        "\n",
        "        # Iterate over train batches\n",
        "        for i, batch in enumerate(dataloader):\n",
        "            # Step\n",
        "            batch = [item.to(self.device) for item in batch]\n",
        "            inputs, targets = batch[:-1], batch[-1]\n",
        "            self.optimizer.zero_grad()  # Reset gradients\n",
        "            z = self.model(inputs)  # Forward pass\n",
        "            J = self.loss_fn(z, targets)  # Define loss\n",
        "            J.backward()  # Backward pass\n",
        "            self.optimizer.step()  # Update weights\n",
        "\n",
        "            # Cumulative Metrics\n",
        "            loss += (J.detach().item() - loss) / (i + 1)\n",
        "\n",
        "        return loss\n",
        "\n",
        "    def eval_step(self, dataloader):\n",
        "        \"\"\"Validation or test step.\"\"\"\n",
        "        # Set model to eval mode\n",
        "        self.model.eval()\n",
        "        loss = 0.0\n",
        "        y_trues, y_probs = [], []\n",
        "\n",
        "        # Iterate over val batches\n",
        "        with torch.inference_mode():\n",
        "            for i, batch in enumerate(dataloader):\n",
        "\n",
        "                # Step\n",
        "                batch = [item.to(self.device) for item in batch]  # Set device\n",
        "                inputs, y_true = batch[:-1], batch[-1]\n",
        "                z = self.model(inputs)  # Forward pass\n",
        "                J = self.loss_fn(z, y_true).item()\n",
        "\n",
        "                # Cumulative Metrics\n",
        "                loss += (J - loss) / (i + 1)\n",
        "\n",
        "                # Store outputs\n",
        "                y_prob = torch.sigmoid(z).cpu().numpy()\n",
        "                y_probs.extend(y_prob)\n",
        "                y_trues.extend(y_true.cpu().numpy())\n",
        "\n",
        "        return loss, np.vstack(y_trues), np.vstack(y_probs)\n",
        "\n",
        "    def predict_step(self, dataloader):\n",
        "        \"\"\"Prediction step.\"\"\"\n",
        "        # Set model to eval mode\n",
        "        self.model.eval()\n",
        "        y_probs = []\n",
        "\n",
        "        # Iterate over val batches\n",
        "        with torch.inference_mode():\n",
        "            for i, batch in enumerate(dataloader):\n",
        "\n",
        "                # Forward pass w/ inputs\n",
        "                inputs, targets = batch[:-1], batch[-1]\n",
        "                z = self.model(inputs)\n",
        "\n",
        "                # Store outputs\n",
        "                y_prob = torch.sigmoid(z).cpu().numpy()\n",
        "                y_probs.extend(y_prob)\n",
        "\n",
        "        return np.vstack(y_probs)\n",
        "    \n",
        "    def train(self, num_epochs, patience, train_dataloader, val_dataloader,\n",
        "              tolerance=1e-5):\n",
        "        best_val_loss = np.inf\n",
        "        for epoch in range(num_epochs):\n",
        "            # Steps\n",
        "            train_loss = self.train_step(dataloader=train_dataloader)\n",
        "            val_loss, _, _ = self.eval_step(dataloader=val_dataloader)\n",
        "            self.scheduler.step(val_loss)\n",
        "\n",
        "            # Early stopping\n",
        "            if val_loss < best_val_loss - tolerance:\n",
        "                best_val_loss = val_loss\n",
        "                best_model = self.model\n",
        "                _patience = patience  # reset _patience\n",
        "            else:\n",
        "                _patience -= 1\n",
        "            if not _patience:  # 0\n",
        "                print(\"Stopping early!\")\n",
        "                break\n",
        "\n",
        "            # Logging\n",
        "            print(\n",
        "                f\"Epoch: {epoch+1} | \"\n",
        "                f\"train_loss: {train_loss:.5f}, \"\n",
        "                f\"val_loss: {val_loss:.5f}, \"\n",
        "                f\"lr: {self.optimizer.param_groups[0]['lr']:.2E}, \"\n",
        "                f\"_patience: {_patience}\"\n",
        "            )\n",
        "\n",
        "            # Pruning based on the intermediate value\n",
        "            self.trial.report(val_loss, epoch)\n",
        "            if self.trial.should_prune():\n",
        "                raise optuna.TrialPruned()\n",
        "                    \n",
        "        return best_model, best_val_loss"
      ],
      "execution_count": null,
      "outputs": []
    },
    {
      "cell_type": "markdown",
      "metadata": {
        "id": "z3dGFhnehUbk"
      },
      "source": [
        "We'll also modify our `train_cnn` function to include information about the trial."
      ]
    },
    {
      "cell_type": "code",
      "metadata": {
        "id": "Qm_xEptLhUqm"
      },
      "source": [
        "def train_cnn(args, df, trial=None):\n",
        "    \"\"\"Train a CNN using specific arguments.\"\"\"\n",
        "\n",
        "    # Set seeds\n",
        "    set_seeds()\n",
        "\n",
        "    # Get data splits\n",
        "    preprocessed_df = df.copy()\n",
        "    preprocessed_df.text = preprocessed_df.text.apply(preprocess, lower=True)\n",
        "    X_train, X_val, X_test, y_train, y_val, y_test, label_encoder = get_data_splits(preprocessed_df)\n",
        "    num_classes = len(label_encoder)\n",
        "\n",
        "    # Set device\n",
        "    cuda = True\n",
        "    device = torch.device(\"cuda\" if (\n",
        "        torch.cuda.is_available() and cuda) else \"cpu\")\n",
        "    torch.set_default_tensor_type(\"torch.FloatTensor\")\n",
        "    if device.type == \"cuda\":\n",
        "        torch.set_default_tensor_type(\"torch.cuda.FloatTensor\")\n",
        "\n",
        "    # Tokenize\n",
        "    tokenizer = Tokenizer(char_level=args.char_level)\n",
        "    tokenizer.fit_on_texts(texts=X_train)\n",
        "    vocab_size = len(tokenizer)\n",
        "\n",
        "    # Convert texts to sequences of indices\n",
        "    X_train = np.array(tokenizer.texts_to_sequences(X_train))\n",
        "    X_val = np.array(tokenizer.texts_to_sequences(X_val))\n",
        "    X_test = np.array(tokenizer.texts_to_sequences(X_test))\n",
        "\n",
        "    # Class weights\n",
        "    train_tags = list(itertools.chain.from_iterable(train_df.tags.values))\n",
        "    counts = np.bincount([label_encoder.class_to_index[class_] for class_ in train_tags])\n",
        "    class_weights = {i: 1.0/count for i, count in enumerate(counts)}\n",
        "\n",
        "    # Create datasets\n",
        "    train_dataset = CNNTextDataset(\n",
        "        X=X_train, y=y_train, max_filter_size=max(args.filter_sizes))\n",
        "    val_dataset = CNNTextDataset(\n",
        "        X=X_val, y=y_val, max_filter_size=max(args.filter_sizes))\n",
        "    test_dataset = CNNTextDataset(\n",
        "        X=X_test, y=y_test, max_filter_size=max(args.filter_sizes))\n",
        "\n",
        "    # Create dataloaders\n",
        "    train_dataloader = train_dataset.create_dataloader(\n",
        "        batch_size=args.batch_size)\n",
        "    val_dataloader = val_dataset.create_dataloader(\n",
        "        batch_size=args.batch_size)\n",
        "    test_dataloader = test_dataset.create_dataloader(\n",
        "        batch_size=args.batch_size)\n",
        "\n",
        "    # Initialize model\n",
        "    model = CNN(\n",
        "        embedding_dim=args.embedding_dim, vocab_size=vocab_size,\n",
        "        num_filters=args.num_filters, filter_sizes=args.filter_sizes,\n",
        "        hidden_dim=args.hidden_dim, dropout_p=args.dropout_p,\n",
        "        num_classes=num_classes)\n",
        "    model = model.to(device)\n",
        "\n",
        "    # Define loss\n",
        "    class_weights_tensor = torch.Tensor(np.array(list(class_weights.values())))\n",
        "    loss_fn = nn.BCEWithLogitsLoss(weight=class_weights_tensor)\n",
        "\n",
        "    # Define optimizer & scheduler\n",
        "    optimizer = torch.optim.Adam(model.parameters(), lr=args.lr)\n",
        "    scheduler = torch.optim.lr_scheduler.ReduceLROnPlateau(\n",
        "        optimizer, mode=\"min\", factor=0.1, patience=5)\n",
        "\n",
        "    # Trainer module\n",
        "    trainer = Trainer(\n",
        "        model=model, device=device, loss_fn=loss_fn, \n",
        "        optimizer=optimizer, scheduler=scheduler, trial=trial)\n",
        "\n",
        "    # Train\n",
        "    best_model, best_val_loss = trainer.train(\n",
        "        args.num_epochs, args.patience, train_dataloader, val_dataloader)\n",
        "\n",
        "    # Best threshold for f1\n",
        "    train_loss, y_true, y_prob = trainer.eval_step(dataloader=train_dataloader)\n",
        "    precisions, recalls, thresholds = precision_recall_curve(y_true.ravel(), y_prob.ravel())\n",
        "    threshold = find_best_threshold(y_true.ravel(), y_prob.ravel())\n",
        "\n",
        "    # Determine predictions using threshold\n",
        "    test_loss, y_true, y_prob = trainer.eval_step(dataloader=test_dataloader)\n",
        "    y_pred = np.array([np.where(prob >= threshold, 1, 0) for prob in y_prob])\n",
        "\n",
        "    # Evaluate (simple)\n",
        "    metrics = precision_recall_fscore_support(y_test, y_pred, average=\"weighted\")\n",
        "    performance = {\"precision\": metrics[0], \"recall\": metrics[1], \"f1\": metrics[2]}\n",
        "\n",
        "    return {\n",
        "        \"args\": args,\n",
        "        \"tokenizer\": tokenizer,\n",
        "        \"label_encoder\": label_encoder,\n",
        "        \"model\": best_model,\n",
        "        \"performance\": performance,\n",
        "        \"best_val_loss\": best_val_loss,\n",
        "        \"threshold\": threshold,\n",
        "    }"
      ],
      "execution_count": null,
      "outputs": []
    },
    {
      "cell_type": "markdown",
      "metadata": {
        "id": "ncGdA34Ahod9"
      },
      "source": [
        "### Objective"
      ]
    },
    {
      "cell_type": "markdown",
      "metadata": {
        "id": "NzekaGZyeHXb"
      },
      "source": [
        "We need to define an `objective` function that will consume a trial and a set of arguments and produce the metric to optimize on (`f1` in our case)."
      ]
    },
    {
      "cell_type": "code",
      "metadata": {
        "id": "Jg33IjzSd27e"
      },
      "source": [
        "def objective(trial, args):\n",
        "    \"\"\"Objective function for optimization trials.\"\"\"\n",
        "\n",
        "    # Paramters (to tune)\n",
        "    args.embedding_dim = trial.suggest_int(\"embedding_dim\", 128, 512)\n",
        "    args.num_filters = trial.suggest_int(\"num_filters\", 128, 512)\n",
        "    args.hidden_dim = trial.suggest_int(\"hidden_dim\", 128, 512)\n",
        "    args.dropout_p = trial.suggest_uniform(\"dropout_p\", 0.3, 0.8)\n",
        "    args.lr = trial.suggest_loguniform(\"lr\", 5e-5, 5e-4)\n",
        "\n",
        "    # Train & evaluate\n",
        "    artifacts = train_cnn(args=args, df=df, trial=trial)\n",
        "\n",
        "    # Set additional attributes\n",
        "    trial.set_user_attr(\"precision\", artifacts[\"performance\"][\"precision\"])\n",
        "    trial.set_user_attr(\"recall\", artifacts[\"performance\"][\"recall\"])\n",
        "    trial.set_user_attr(\"f1\", artifacts[\"performance\"][\"f1\"])\n",
        "    trial.set_user_attr(\"threshold\", artifacts[\"threshold\"])\n",
        "\n",
        "    return artifacts[\"performance\"][\"f1\"]"
      ],
      "execution_count": null,
      "outputs": []
    },
    {
      "cell_type": "markdown",
      "metadata": {
        "id": "K42Yf3OEhp_V"
      },
      "source": [
        "### Study"
      ]
    },
    {
      "cell_type": "markdown",
      "metadata": {
        "id": "epa_kTIl9H7b"
      },
      "source": [
        "We're ready to kick off our study with our [MLFlowCallback](https://optuna.readthedocs.io/en/stable/reference/generated/optuna.integration.MLflowCallback.html) so we can track all of the different trials."
      ]
    },
    {
      "cell_type": "code",
      "metadata": {
        "id": "WC58iWVjjPN8"
      },
      "source": [
        "from numpyencoder import NumpyEncoder\n",
        "from optuna.integration.mlflow import MLflowCallback"
      ],
      "execution_count": null,
      "outputs": []
    },
    {
      "cell_type": "code",
      "metadata": {
        "id": "ZbPWc_c8hsA6"
      },
      "source": [
        "NUM_TRIALS = 50 # small sample for now"
      ],
      "execution_count": null,
      "outputs": []
    },
    {
      "cell_type": "code",
      "metadata": {
        "id": "RQByQ8pihjIR",
        "colab": {
          "base_uri": "https://localhost:8080/"
        },
        "outputId": "6f20b411-a44c-4e81-e87a-16dccebc3368"
      },
      "source": [
        "# Optimize\n",
        "pruner = optuna.pruners.MedianPruner(n_startup_trials=5, n_warmup_steps=5)\n",
        "study = optuna.create_study(study_name=\"optimization\", direction=\"maximize\", pruner=pruner)\n",
        "mlflow_callback = MLflowCallback(\n",
        "    tracking_uri=mlflow.get_tracking_uri(), metric_name=\"f1\")\n",
        "study.optimize(lambda trial: objective(trial, args),\n",
        "               n_trials=NUM_TRIALS,\n",
        "               callbacks=[mlflow_callback])"
      ],
      "execution_count": null,
      "outputs": [
        {
          "output_type": "stream",
          "name": "stderr",
          "text": [
            "\u001b[32m[I 2021-09-01 00:20:49,339]\u001b[0m A new study created in memory with name: optimization\u001b[0m\n"
          ]
        },
        {
          "output_type": "stream",
          "name": "stdout",
          "text": [
            "Epoch: 1 | train_loss: 0.00729, val_loss: 0.00412, lr: 4.73E-04, _patience: 10\n",
            "Epoch: 2 | train_loss: 0.00409, val_loss: 0.00265, lr: 4.73E-04, _patience: 10\n",
            "Epoch: 3 | train_loss: 0.00318, val_loss: 0.00240, lr: 4.73E-04, _patience: 10\n",
            "Epoch: 4 | train_loss: 0.00268, val_loss: 0.00218, lr: 4.73E-04, _patience: 10\n",
            "Epoch: 5 | train_loss: 0.00228, val_loss: 0.00196, lr: 4.73E-04, _patience: 10\n",
            "Epoch: 6 | train_loss: 0.00202, val_loss: 0.00180, lr: 4.73E-04, _patience: 10\n",
            "Epoch: 7 | train_loss: 0.00178, val_loss: 0.00172, lr: 4.73E-04, _patience: 10\n",
            "Epoch: 8 | train_loss: 0.00157, val_loss: 0.00167, lr: 4.73E-04, _patience: 10\n",
            "Epoch: 9 | train_loss: 0.00142, val_loss: 0.00157, lr: 4.73E-04, _patience: 10\n",
            "Epoch: 10 | train_loss: 0.00123, val_loss: 0.00159, lr: 4.73E-04, _patience: 9\n",
            "Epoch: 11 | train_loss: 0.00112, val_loss: 0.00160, lr: 4.73E-04, _patience: 8\n",
            "Epoch: 12 | train_loss: 0.00102, val_loss: 0.00171, lr: 4.73E-04, _patience: 7\n",
            "Epoch: 13 | train_loss: 0.00095, val_loss: 0.00181, lr: 4.73E-04, _patience: 6\n",
            "Epoch: 14 | train_loss: 0.00088, val_loss: 0.00159, lr: 4.73E-04, _patience: 5\n",
            "Epoch: 15 | train_loss: 0.00082, val_loss: 0.00148, lr: 4.73E-04, _patience: 10\n",
            "Epoch: 16 | train_loss: 0.00073, val_loss: 0.00156, lr: 4.73E-04, _patience: 9\n",
            "Epoch: 17 | train_loss: 0.00071, val_loss: 0.00175, lr: 4.73E-04, _patience: 8\n",
            "Epoch: 18 | train_loss: 0.00068, val_loss: 0.00196, lr: 4.73E-04, _patience: 7\n",
            "Epoch: 19 | train_loss: 0.00065, val_loss: 0.00209, lr: 4.73E-04, _patience: 6\n",
            "Epoch: 20 | train_loss: 0.00065, val_loss: 0.00150, lr: 4.73E-04, _patience: 5\n",
            "Epoch: 21 | train_loss: 0.00057, val_loss: 0.00166, lr: 4.73E-05, _patience: 4\n",
            "Epoch: 22 | train_loss: 0.00047, val_loss: 0.00163, lr: 4.73E-05, _patience: 3\n",
            "Epoch: 23 | train_loss: 0.00038, val_loss: 0.00157, lr: 4.73E-05, _patience: 2\n",
            "Epoch: 24 | train_loss: 0.00036, val_loss: 0.00159, lr: 4.73E-05, _patience: 1\n",
            "Stopping early!\n"
          ]
        },
        {
          "output_type": "stream",
          "name": "stderr",
          "text": [
            "\u001b[32m[I 2021-09-01 00:22:32,168]\u001b[0m Trial 0 finished with value: 0.6659625451644858 and parameters: {'embedding_dim': 147, 'num_filters': 477, 'hidden_dim': 138, 'dropout_p': 0.48079299973713613, 'lr': 0.0004726434660207262}. Best is trial 0 with value: 0.6659625451644858.\u001b[0m\n"
          ]
        },
        {
          "output_type": "stream",
          "name": "stdout",
          "text": [
            "INFO: 'optimization' does not exist. Creating a new experiment\n",
            "Epoch: 1 | train_loss: 0.00593, val_loss: 0.00325, lr: 1.88E-04, _patience: 10\n",
            "Epoch: 2 | train_loss: 0.00434, val_loss: 0.00268, lr: 1.88E-04, _patience: 10\n",
            "Epoch: 3 | train_loss: 0.00352, val_loss: 0.00258, lr: 1.88E-04, _patience: 10\n",
            "Epoch: 4 | train_loss: 0.00331, val_loss: 0.00244, lr: 1.88E-04, _patience: 10\n",
            "Epoch: 5 | train_loss: 0.00297, val_loss: 0.00230, lr: 1.88E-04, _patience: 10\n",
            "Epoch: 6 | train_loss: 0.00276, val_loss: 0.00222, lr: 1.88E-04, _patience: 10\n",
            "Epoch: 7 | train_loss: 0.00258, val_loss: 0.00210, lr: 1.88E-04, _patience: 10\n",
            "Epoch: 8 | train_loss: 0.00238, val_loss: 0.00201, lr: 1.88E-04, _patience: 10\n",
            "Epoch: 9 | train_loss: 0.00226, val_loss: 0.00198, lr: 1.88E-04, _patience: 10\n",
            "Epoch: 10 | train_loss: 0.00213, val_loss: 0.00187, lr: 1.88E-04, _patience: 10\n",
            "Epoch: 11 | train_loss: 0.00195, val_loss: 0.00179, lr: 1.88E-04, _patience: 10\n",
            "Epoch: 12 | train_loss: 0.00184, val_loss: 0.00181, lr: 1.88E-04, _patience: 9\n",
            "Epoch: 13 | train_loss: 0.00173, val_loss: 0.00169, lr: 1.88E-04, _patience: 10\n",
            "Epoch: 14 | train_loss: 0.00164, val_loss: 0.00171, lr: 1.88E-04, _patience: 9\n",
            "Epoch: 15 | train_loss: 0.00156, val_loss: 0.00164, lr: 1.88E-04, _patience: 10\n",
            "Epoch: 16 | train_loss: 0.00146, val_loss: 0.00160, lr: 1.88E-04, _patience: 10\n",
            "Epoch: 17 | train_loss: 0.00134, val_loss: 0.00162, lr: 1.88E-04, _patience: 9\n",
            "Epoch: 18 | train_loss: 0.00130, val_loss: 0.00160, lr: 1.88E-04, _patience: 8\n",
            "Epoch: 19 | train_loss: 0.00122, val_loss: 0.00156, lr: 1.88E-04, _patience: 10\n",
            "Epoch: 20 | train_loss: 0.00118, val_loss: 0.00169, lr: 1.88E-04, _patience: 9\n",
            "Epoch: 21 | train_loss: 0.00114, val_loss: 0.00160, lr: 1.88E-04, _patience: 8\n",
            "Epoch: 22 | train_loss: 0.00104, val_loss: 0.00157, lr: 1.88E-04, _patience: 7\n",
            "Epoch: 23 | train_loss: 0.00102, val_loss: 0.00170, lr: 1.88E-04, _patience: 6\n",
            "Epoch: 24 | train_loss: 0.00101, val_loss: 0.00148, lr: 1.88E-04, _patience: 10\n",
            "Epoch: 25 | train_loss: 0.00094, val_loss: 0.00150, lr: 1.88E-04, _patience: 9\n",
            "Epoch: 26 | train_loss: 0.00093, val_loss: 0.00164, lr: 1.88E-04, _patience: 8\n",
            "Epoch: 27 | train_loss: 0.00084, val_loss: 0.00178, lr: 1.88E-04, _patience: 7\n",
            "Epoch: 28 | train_loss: 0.00084, val_loss: 0.00157, lr: 1.88E-04, _patience: 6\n",
            "Epoch: 29 | train_loss: 0.00081, val_loss: 0.00149, lr: 1.88E-04, _patience: 5\n",
            "Epoch: 30 | train_loss: 0.00076, val_loss: 0.00161, lr: 1.88E-05, _patience: 4\n",
            "Epoch: 31 | train_loss: 0.00070, val_loss: 0.00159, lr: 1.88E-05, _patience: 3\n",
            "Epoch: 32 | train_loss: 0.00063, val_loss: 0.00151, lr: 1.88E-05, _patience: 2\n",
            "Epoch: 33 | train_loss: 0.00060, val_loss: 0.00154, lr: 1.88E-05, _patience: 1\n",
            "Stopping early!\n"
          ]
        },
        {
          "output_type": "stream",
          "name": "stderr",
          "text": [
            "\u001b[32m[I 2021-09-01 00:25:05,206]\u001b[0m Trial 1 finished with value: 0.6640363211860912 and parameters: {'embedding_dim': 405, 'num_filters': 228, 'hidden_dim': 269, 'dropout_p': 0.7430505199806638, 'lr': 0.00018780689214665722}. Best is trial 0 with value: 0.6659625451644858.\u001b[0m\n"
          ]
        },
        {
          "output_type": "stream",
          "name": "stdout",
          "text": [
            "Epoch: 1 | train_loss: 0.00516, val_loss: 0.00388, lr: 1.66E-04, _patience: 10\n",
            "Epoch: 2 | train_loss: 0.00373, val_loss: 0.00270, lr: 1.66E-04, _patience: 10\n",
            "Epoch: 3 | train_loss: 0.00311, val_loss: 0.00264, lr: 1.66E-04, _patience: 10\n",
            "Epoch: 4 | train_loss: 0.00293, val_loss: 0.00251, lr: 1.66E-04, _patience: 10\n",
            "Epoch: 5 | train_loss: 0.00274, val_loss: 0.00245, lr: 1.66E-04, _patience: 10\n",
            "Epoch: 6 | train_loss: 0.00258, val_loss: 0.00233, lr: 1.66E-04, _patience: 10\n",
            "Epoch: 7 | train_loss: 0.00239, val_loss: 0.00219, lr: 1.66E-04, _patience: 10\n",
            "Epoch: 8 | train_loss: 0.00220, val_loss: 0.00208, lr: 1.66E-04, _patience: 10\n",
            "Epoch: 9 | train_loss: 0.00204, val_loss: 0.00200, lr: 1.66E-04, _patience: 10\n",
            "Epoch: 10 | train_loss: 0.00192, val_loss: 0.00191, lr: 1.66E-04, _patience: 10\n",
            "Epoch: 11 | train_loss: 0.00178, val_loss: 0.00186, lr: 1.66E-04, _patience: 10\n",
            "Epoch: 12 | train_loss: 0.00164, val_loss: 0.00183, lr: 1.66E-04, _patience: 10\n",
            "Epoch: 13 | train_loss: 0.00155, val_loss: 0.00176, lr: 1.66E-04, _patience: 10\n",
            "Epoch: 14 | train_loss: 0.00143, val_loss: 0.00173, lr: 1.66E-04, _patience: 10\n",
            "Epoch: 15 | train_loss: 0.00133, val_loss: 0.00169, lr: 1.66E-04, _patience: 10\n",
            "Epoch: 16 | train_loss: 0.00126, val_loss: 0.00168, lr: 1.66E-04, _patience: 10\n",
            "Epoch: 17 | train_loss: 0.00115, val_loss: 0.00166, lr: 1.66E-04, _patience: 10\n",
            "Epoch: 18 | train_loss: 0.00109, val_loss: 0.00165, lr: 1.66E-04, _patience: 9\n",
            "Epoch: 19 | train_loss: 0.00105, val_loss: 0.00165, lr: 1.66E-04, _patience: 10\n",
            "Epoch: 20 | train_loss: 0.00099, val_loss: 0.00158, lr: 1.66E-04, _patience: 10\n",
            "Epoch: 21 | train_loss: 0.00093, val_loss: 0.00161, lr: 1.66E-04, _patience: 9\n",
            "Epoch: 22 | train_loss: 0.00087, val_loss: 0.00160, lr: 1.66E-04, _patience: 8\n",
            "Epoch: 23 | train_loss: 0.00079, val_loss: 0.00156, lr: 1.66E-04, _patience: 10\n",
            "Epoch: 24 | train_loss: 0.00075, val_loss: 0.00154, lr: 1.66E-04, _patience: 10\n",
            "Epoch: 25 | train_loss: 0.00070, val_loss: 0.00157, lr: 1.66E-04, _patience: 9\n",
            "Epoch: 26 | train_loss: 0.00066, val_loss: 0.00157, lr: 1.66E-04, _patience: 8\n",
            "Epoch: 27 | train_loss: 0.00063, val_loss: 0.00153, lr: 1.66E-04, _patience: 7\n",
            "Epoch: 28 | train_loss: 0.00058, val_loss: 0.00156, lr: 1.66E-04, _patience: 6\n",
            "Epoch: 29 | train_loss: 0.00056, val_loss: 0.00162, lr: 1.66E-04, _patience: 5\n",
            "Epoch: 30 | train_loss: 0.00053, val_loss: 0.00153, lr: 1.66E-04, _patience: 4\n",
            "Epoch: 31 | train_loss: 0.00049, val_loss: 0.00166, lr: 1.66E-04, _patience: 3\n",
            "Epoch: 32 | train_loss: 0.00047, val_loss: 0.00154, lr: 1.66E-04, _patience: 2\n",
            "Epoch: 33 | train_loss: 0.00044, val_loss: 0.00153, lr: 1.66E-04, _patience: 10\n",
            "Epoch: 34 | train_loss: 0.00042, val_loss: 0.00162, lr: 1.66E-04, _patience: 9\n",
            "Epoch: 35 | train_loss: 0.00040, val_loss: 0.00157, lr: 1.66E-04, _patience: 8\n",
            "Epoch: 36 | train_loss: 0.00038, val_loss: 0.00168, lr: 1.66E-04, _patience: 7\n",
            "Epoch: 37 | train_loss: 0.00037, val_loss: 0.00167, lr: 1.66E-04, _patience: 6\n",
            "Epoch: 38 | train_loss: 0.00035, val_loss: 0.00164, lr: 1.66E-04, _patience: 5\n",
            "Epoch: 39 | train_loss: 0.00033, val_loss: 0.00163, lr: 1.66E-05, _patience: 4\n",
            "Epoch: 40 | train_loss: 0.00032, val_loss: 0.00155, lr: 1.66E-05, _patience: 3\n",
            "Epoch: 41 | train_loss: 0.00028, val_loss: 0.00152, lr: 1.66E-05, _patience: 2\n",
            "Epoch: 42 | train_loss: 0.00027, val_loss: 0.00155, lr: 1.66E-05, _patience: 1\n",
            "Stopping early!\n"
          ]
        },
        {
          "output_type": "stream",
          "name": "stderr",
          "text": [
            "\u001b[32m[I 2021-09-01 00:27:41,854]\u001b[0m Trial 2 finished with value: 0.672404196514774 and parameters: {'embedding_dim': 132, 'num_filters': 437, 'hidden_dim': 350, 'dropout_p': 0.5052768968902219, 'lr': 0.00016619117376915027}. Best is trial 2 with value: 0.672404196514774.\u001b[0m\n"
          ]
        },
        {
          "output_type": "stream",
          "name": "stdout",
          "text": [
            "Epoch: 1 | train_loss: 0.00666, val_loss: 0.00420, lr: 2.83E-04, _patience: 10\n",
            "Epoch: 2 | train_loss: 0.00435, val_loss: 0.00270, lr: 2.83E-04, _patience: 10\n",
            "Epoch: 3 | train_loss: 0.00333, val_loss: 0.00260, lr: 2.83E-04, _patience: 10\n",
            "Epoch: 4 | train_loss: 0.00295, val_loss: 0.00245, lr: 2.83E-04, _patience: 10\n",
            "Epoch: 5 | train_loss: 0.00273, val_loss: 0.00226, lr: 2.83E-04, _patience: 10\n",
            "Epoch: 6 | train_loss: 0.00243, val_loss: 0.00212, lr: 2.83E-04, _patience: 10\n",
            "Epoch: 7 | train_loss: 0.00217, val_loss: 0.00197, lr: 2.83E-04, _patience: 10\n",
            "Epoch: 8 | train_loss: 0.00198, val_loss: 0.00186, lr: 2.83E-04, _patience: 10\n",
            "Epoch: 9 | train_loss: 0.00178, val_loss: 0.00177, lr: 2.83E-04, _patience: 10\n",
            "Epoch: 10 | train_loss: 0.00166, val_loss: 0.00167, lr: 2.83E-04, _patience: 10\n",
            "Epoch: 11 | train_loss: 0.00147, val_loss: 0.00165, lr: 2.83E-04, _patience: 10\n",
            "Epoch: 12 | train_loss: 0.00139, val_loss: 0.00161, lr: 2.83E-04, _patience: 10\n",
            "Epoch: 13 | train_loss: 0.00125, val_loss: 0.00159, lr: 2.83E-04, _patience: 10\n",
            "Epoch: 14 | train_loss: 0.00114, val_loss: 0.00159, lr: 2.83E-04, _patience: 9\n",
            "Epoch: 15 | train_loss: 0.00109, val_loss: 0.00153, lr: 2.83E-04, _patience: 10\n",
            "Epoch: 16 | train_loss: 0.00098, val_loss: 0.00152, lr: 2.83E-04, _patience: 9\n",
            "Epoch: 17 | train_loss: 0.00087, val_loss: 0.00156, lr: 2.83E-04, _patience: 8\n",
            "Epoch: 18 | train_loss: 0.00080, val_loss: 0.00157, lr: 2.83E-04, _patience: 7\n",
            "Epoch: 19 | train_loss: 0.00073, val_loss: 0.00160, lr: 2.83E-04, _patience: 6\n",
            "Epoch: 20 | train_loss: 0.00066, val_loss: 0.00165, lr: 2.83E-04, _patience: 5\n",
            "Epoch: 21 | train_loss: 0.00062, val_loss: 0.00158, lr: 2.83E-04, _patience: 4\n",
            "Epoch: 22 | train_loss: 0.00056, val_loss: 0.00178, lr: 2.83E-05, _patience: 3\n",
            "Epoch: 23 | train_loss: 0.00056, val_loss: 0.00144, lr: 2.83E-05, _patience: 10\n",
            "Epoch: 24 | train_loss: 0.00048, val_loss: 0.00148, lr: 2.83E-05, _patience: 9\n",
            "Epoch: 25 | train_loss: 0.00048, val_loss: 0.00146, lr: 2.83E-05, _patience: 8\n",
            "Epoch: 26 | train_loss: 0.00046, val_loss: 0.00149, lr: 2.83E-05, _patience: 7\n",
            "Epoch: 27 | train_loss: 0.00043, val_loss: 0.00148, lr: 2.83E-05, _patience: 6\n",
            "Epoch: 28 | train_loss: 0.00041, val_loss: 0.00147, lr: 2.83E-05, _patience: 5\n",
            "Epoch: 29 | train_loss: 0.00041, val_loss: 0.00149, lr: 2.83E-06, _patience: 4\n",
            "Epoch: 30 | train_loss: 0.00041, val_loss: 0.00148, lr: 2.83E-06, _patience: 3\n",
            "Epoch: 31 | train_loss: 0.00042, val_loss: 0.00149, lr: 2.83E-06, _patience: 2\n",
            "Epoch: 32 | train_loss: 0.00040, val_loss: 0.00148, lr: 2.83E-06, _patience: 1\n",
            "Stopping early!\n"
          ]
        },
        {
          "output_type": "stream",
          "name": "stderr",
          "text": [
            "\u001b[32m[I 2021-09-01 00:29:45,341]\u001b[0m Trial 3 finished with value: 0.6857096755536929 and parameters: {'embedding_dim': 143, 'num_filters': 417, 'hidden_dim': 461, 'dropout_p': 0.6631365045280517, 'lr': 0.00028263483763393924}. Best is trial 3 with value: 0.6857096755536929.\u001b[0m\n"
          ]
        },
        {
          "output_type": "stream",
          "name": "stdout",
          "text": [
            "Epoch: 1 | train_loss: 0.00560, val_loss: 0.00312, lr: 3.14E-04, _patience: 10\n",
            "Epoch: 2 | train_loss: 0.00348, val_loss: 0.00245, lr: 3.14E-04, _patience: 10\n",
            "Epoch: 3 | train_loss: 0.00289, val_loss: 0.00219, lr: 3.14E-04, _patience: 10\n",
            "Epoch: 4 | train_loss: 0.00242, val_loss: 0.00196, lr: 3.14E-04, _patience: 10\n",
            "Epoch: 5 | train_loss: 0.00204, val_loss: 0.00183, lr: 3.14E-04, _patience: 10\n",
            "Epoch: 6 | train_loss: 0.00177, val_loss: 0.00177, lr: 3.14E-04, _patience: 10\n",
            "Epoch: 7 | train_loss: 0.00157, val_loss: 0.00168, lr: 3.14E-04, _patience: 10\n",
            "Epoch: 8 | train_loss: 0.00136, val_loss: 0.00157, lr: 3.14E-04, _patience: 10\n",
            "Epoch: 9 | train_loss: 0.00119, val_loss: 0.00160, lr: 3.14E-04, _patience: 9\n",
            "Epoch: 10 | train_loss: 0.00105, val_loss: 0.00159, lr: 3.14E-04, _patience: 8\n",
            "Epoch: 11 | train_loss: 0.00098, val_loss: 0.00167, lr: 3.14E-04, _patience: 7\n",
            "Epoch: 12 | train_loss: 0.00086, val_loss: 0.00162, lr: 3.14E-04, _patience: 6\n",
            "Epoch: 13 | train_loss: 0.00080, val_loss: 0.00148, lr: 3.14E-04, _patience: 10\n",
            "Epoch: 14 | train_loss: 0.00071, val_loss: 0.00166, lr: 3.14E-04, _patience: 9\n",
            "Epoch: 15 | train_loss: 0.00065, val_loss: 0.00159, lr: 3.14E-04, _patience: 8\n",
            "Epoch: 16 | train_loss: 0.00056, val_loss: 0.00175, lr: 3.14E-04, _patience: 7\n",
            "Epoch: 17 | train_loss: 0.00052, val_loss: 0.00176, lr: 3.14E-04, _patience: 6\n",
            "Epoch: 18 | train_loss: 0.00048, val_loss: 0.00168, lr: 3.14E-04, _patience: 5\n",
            "Epoch: 19 | train_loss: 0.00045, val_loss: 0.00164, lr: 3.14E-05, _patience: 4\n",
            "Epoch: 20 | train_loss: 0.00042, val_loss: 0.00172, lr: 3.14E-05, _patience: 3\n",
            "Epoch: 21 | train_loss: 0.00035, val_loss: 0.00156, lr: 3.14E-05, _patience: 2\n",
            "Epoch: 22 | train_loss: 0.00033, val_loss: 0.00163, lr: 3.14E-05, _patience: 1\n",
            "Stopping early!\n"
          ]
        },
        {
          "output_type": "stream",
          "name": "stderr",
          "text": [
            "\u001b[32m[I 2021-09-01 00:32:38,596]\u001b[0m Trial 4 finished with value: 0.6773864860696958 and parameters: {'embedding_dim': 479, 'num_filters': 291, 'hidden_dim': 192, 'dropout_p': 0.5258458967394205, 'lr': 0.0003137904595130533}. Best is trial 3 with value: 0.6857096755536929.\u001b[0m\n"
          ]
        },
        {
          "output_type": "stream",
          "name": "stdout",
          "text": [
            "Epoch: 1 | train_loss: 0.00583, val_loss: 0.00350, lr: 1.86E-04, _patience: 10\n",
            "Epoch: 2 | train_loss: 0.00435, val_loss: 0.00265, lr: 1.86E-04, _patience: 10\n",
            "Epoch: 3 | train_loss: 0.00355, val_loss: 0.00255, lr: 1.86E-04, _patience: 10\n",
            "Epoch: 4 | train_loss: 0.00320, val_loss: 0.00244, lr: 1.86E-04, _patience: 10\n",
            "Epoch: 5 | train_loss: 0.00298, val_loss: 0.00232, lr: 1.86E-04, _patience: 10\n",
            "Epoch: 6 | train_loss: 0.00275, val_loss: 0.00223, lr: 1.86E-04, _patience: 10\n",
            "Epoch: 7 | train_loss: 0.00259, val_loss: 0.00212, lr: 1.86E-04, _patience: 10\n",
            "Epoch: 8 | train_loss: 0.00239, val_loss: 0.00203, lr: 1.86E-04, _patience: 10\n",
            "Epoch: 9 | train_loss: 0.00227, val_loss: 0.00192, lr: 1.86E-04, _patience: 10\n",
            "Epoch: 10 | train_loss: 0.00210, val_loss: 0.00189, lr: 1.86E-04, _patience: 10\n",
            "Epoch: 11 | train_loss: 0.00200, val_loss: 0.00192, lr: 1.86E-04, _patience: 9\n",
            "Epoch: 12 | train_loss: 0.00186, val_loss: 0.00182, lr: 1.86E-04, _patience: 10\n",
            "Epoch: 13 | train_loss: 0.00177, val_loss: 0.00171, lr: 1.86E-04, _patience: 10\n",
            "Epoch: 14 | train_loss: 0.00162, val_loss: 0.00172, lr: 1.86E-04, _patience: 9\n",
            "Epoch: 15 | train_loss: 0.00156, val_loss: 0.00167, lr: 1.86E-04, _patience: 10\n",
            "Epoch: 16 | train_loss: 0.00144, val_loss: 0.00164, lr: 1.86E-04, _patience: 10\n",
            "Epoch: 17 | train_loss: 0.00139, val_loss: 0.00160, lr: 1.86E-04, _patience: 10\n",
            "Epoch: 18 | train_loss: 0.00133, val_loss: 0.00163, lr: 1.86E-04, _patience: 9\n",
            "Epoch: 19 | train_loss: 0.00128, val_loss: 0.00162, lr: 1.86E-04, _patience: 8\n",
            "Epoch: 20 | train_loss: 0.00118, val_loss: 0.00162, lr: 1.86E-04, _patience: 7\n",
            "Epoch: 21 | train_loss: 0.00113, val_loss: 0.00159, lr: 1.86E-04, _patience: 6\n",
            "Epoch: 22 | train_loss: 0.00106, val_loss: 0.00157, lr: 1.86E-04, _patience: 10\n",
            "Epoch: 23 | train_loss: 0.00100, val_loss: 0.00151, lr: 1.86E-04, _patience: 10\n",
            "Epoch: 24 | train_loss: 0.00094, val_loss: 0.00158, lr: 1.86E-04, _patience: 9\n",
            "Epoch: 25 | train_loss: 0.00091, val_loss: 0.00156, lr: 1.86E-04, _patience: 8\n",
            "Epoch: 26 | train_loss: 0.00087, val_loss: 0.00160, lr: 1.86E-04, _patience: 7\n",
            "Epoch: 27 | train_loss: 0.00084, val_loss: 0.00160, lr: 1.86E-04, _patience: 6\n",
            "Epoch: 28 | train_loss: 0.00080, val_loss: 0.00169, lr: 1.86E-04, _patience: 5\n",
            "Epoch: 29 | train_loss: 0.00080, val_loss: 0.00153, lr: 1.86E-05, _patience: 4\n",
            "Epoch: 30 | train_loss: 0.00071, val_loss: 0.00150, lr: 1.86E-05, _patience: 3\n",
            "Epoch: 31 | train_loss: 0.00065, val_loss: 0.00154, lr: 1.86E-05, _patience: 2\n",
            "Epoch: 32 | train_loss: 0.00065, val_loss: 0.00149, lr: 1.86E-05, _patience: 10\n",
            "Epoch: 33 | train_loss: 0.00063, val_loss: 0.00154, lr: 1.86E-05, _patience: 9\n",
            "Epoch: 34 | train_loss: 0.00065, val_loss: 0.00150, lr: 1.86E-05, _patience: 8\n",
            "Epoch: 35 | train_loss: 0.00064, val_loss: 0.00152, lr: 1.86E-05, _patience: 7\n",
            "Epoch: 36 | train_loss: 0.00063, val_loss: 0.00150, lr: 1.86E-05, _patience: 6\n",
            "Epoch: 37 | train_loss: 0.00061, val_loss: 0.00150, lr: 1.86E-05, _patience: 5\n",
            "Epoch: 38 | train_loss: 0.00060, val_loss: 0.00151, lr: 1.86E-06, _patience: 4\n",
            "Epoch: 39 | train_loss: 0.00062, val_loss: 0.00150, lr: 1.86E-06, _patience: 3\n",
            "Epoch: 40 | train_loss: 0.00062, val_loss: 0.00150, lr: 1.86E-06, _patience: 2\n",
            "Epoch: 41 | train_loss: 0.00061, val_loss: 0.00150, lr: 1.86E-06, _patience: 1\n",
            "Stopping early!\n"
          ]
        },
        {
          "output_type": "stream",
          "name": "stderr",
          "text": [
            "\u001b[32m[I 2021-09-01 00:36:10,145]\u001b[0m Trial 5 finished with value: 0.6507480136276738 and parameters: {'embedding_dim': 254, 'num_filters': 336, 'hidden_dim': 210, 'dropout_p': 0.6751840349937474, 'lr': 0.00018621959397381835}. Best is trial 3 with value: 0.6857096755536929.\u001b[0m\n"
          ]
        },
        {
          "output_type": "stream",
          "name": "stdout",
          "text": [
            "Epoch: 1 | train_loss: 0.00490, val_loss: 0.00334, lr: 8.79E-05, _patience: 10\n",
            "Epoch: 2 | train_loss: 0.00369, val_loss: 0.00276, lr: 8.79E-05, _patience: 10\n",
            "Epoch: 3 | train_loss: 0.00320, val_loss: 0.00262, lr: 8.79E-05, _patience: 10\n",
            "Epoch: 4 | train_loss: 0.00306, val_loss: 0.00256, lr: 8.79E-05, _patience: 10\n",
            "Epoch: 5 | train_loss: 0.00285, val_loss: 0.00246, lr: 8.79E-05, _patience: 10\n",
            "Epoch: 6 | train_loss: 0.00267, val_loss: 0.00239, lr: 8.79E-05, _patience: 10\n",
            "Epoch: 7 | train_loss: 0.00257, val_loss: 0.00229, lr: 8.79E-05, _patience: 10\n",
            "Epoch: 8 | train_loss: 0.00246, val_loss: 0.00222, lr: 8.79E-05, _patience: 10\n",
            "Epoch: 9 | train_loss: 0.00231, val_loss: 0.00213, lr: 8.79E-05, _patience: 10\n",
            "Epoch: 10 | train_loss: 0.00218, val_loss: 0.00204, lr: 8.79E-05, _patience: 10\n",
            "Epoch: 11 | train_loss: 0.00206, val_loss: 0.00197, lr: 8.79E-05, _patience: 10\n",
            "Epoch: 12 | train_loss: 0.00194, val_loss: 0.00189, lr: 8.79E-05, _patience: 10\n",
            "Epoch: 13 | train_loss: 0.00187, val_loss: 0.00184, lr: 8.79E-05, _patience: 10\n",
            "Epoch: 14 | train_loss: 0.00175, val_loss: 0.00179, lr: 8.79E-05, _patience: 10\n",
            "Epoch: 15 | train_loss: 0.00169, val_loss: 0.00174, lr: 8.79E-05, _patience: 10\n",
            "Epoch: 16 | train_loss: 0.00159, val_loss: 0.00173, lr: 8.79E-05, _patience: 9\n",
            "Epoch: 17 | train_loss: 0.00153, val_loss: 0.00169, lr: 8.79E-05, _patience: 10\n",
            "Epoch: 18 | train_loss: 0.00144, val_loss: 0.00166, lr: 8.79E-05, _patience: 10\n",
            "Epoch: 19 | train_loss: 0.00138, val_loss: 0.00163, lr: 8.79E-05, _patience: 10\n",
            "Epoch: 20 | train_loss: 0.00134, val_loss: 0.00162, lr: 8.79E-05, _patience: 10\n",
            "Epoch: 21 | train_loss: 0.00127, val_loss: 0.00157, lr: 8.79E-05, _patience: 10\n",
            "Epoch: 22 | train_loss: 0.00121, val_loss: 0.00156, lr: 8.79E-05, _patience: 10\n",
            "Epoch: 23 | train_loss: 0.00113, val_loss: 0.00156, lr: 8.79E-05, _patience: 9\n",
            "Epoch: 24 | train_loss: 0.00108, val_loss: 0.00153, lr: 8.79E-05, _patience: 10\n",
            "Epoch: 25 | train_loss: 0.00104, val_loss: 0.00151, lr: 8.79E-05, _patience: 10\n",
            "Epoch: 26 | train_loss: 0.00099, val_loss: 0.00149, lr: 8.79E-05, _patience: 10\n",
            "Epoch: 27 | train_loss: 0.00095, val_loss: 0.00148, lr: 8.79E-05, _patience: 9\n",
            "Epoch: 28 | train_loss: 0.00089, val_loss: 0.00148, lr: 8.79E-05, _patience: 8\n",
            "Epoch: 29 | train_loss: 0.00086, val_loss: 0.00148, lr: 8.79E-05, _patience: 7\n",
            "Epoch: 30 | train_loss: 0.00084, val_loss: 0.00150, lr: 8.79E-05, _patience: 6\n",
            "Epoch: 31 | train_loss: 0.00078, val_loss: 0.00147, lr: 8.79E-05, _patience: 10\n",
            "Epoch: 32 | train_loss: 0.00075, val_loss: 0.00150, lr: 8.79E-05, _patience: 9\n",
            "Epoch: 33 | train_loss: 0.00072, val_loss: 0.00155, lr: 8.79E-05, _patience: 8\n",
            "Epoch: 34 | train_loss: 0.00069, val_loss: 0.00149, lr: 8.79E-05, _patience: 7\n",
            "Epoch: 35 | train_loss: 0.00068, val_loss: 0.00146, lr: 8.79E-05, _patience: 6\n",
            "Epoch: 36 | train_loss: 0.00062, val_loss: 0.00148, lr: 8.79E-05, _patience: 5\n",
            "Epoch: 37 | train_loss: 0.00062, val_loss: 0.00143, lr: 8.79E-05, _patience: 10\n",
            "Epoch: 38 | train_loss: 0.00060, val_loss: 0.00153, lr: 8.79E-05, _patience: 9\n",
            "Epoch: 39 | train_loss: 0.00057, val_loss: 0.00146, lr: 8.79E-05, _patience: 8\n",
            "Epoch: 40 | train_loss: 0.00055, val_loss: 0.00146, lr: 8.79E-05, _patience: 7\n",
            "Epoch: 41 | train_loss: 0.00052, val_loss: 0.00147, lr: 8.79E-05, _patience: 6\n",
            "Epoch: 42 | train_loss: 0.00048, val_loss: 0.00154, lr: 8.79E-05, _patience: 5\n",
            "Epoch: 43 | train_loss: 0.00049, val_loss: 0.00145, lr: 8.79E-06, _patience: 4\n",
            "Epoch: 44 | train_loss: 0.00046, val_loss: 0.00149, lr: 8.79E-06, _patience: 3\n",
            "Epoch: 45 | train_loss: 0.00044, val_loss: 0.00145, lr: 8.79E-06, _patience: 2\n",
            "Epoch: 46 | train_loss: 0.00043, val_loss: 0.00145, lr: 8.79E-06, _patience: 1\n",
            "Stopping early!\n"
          ]
        },
        {
          "output_type": "stream",
          "name": "stderr",
          "text": [
            "\u001b[32m[I 2021-09-01 00:40:40,459]\u001b[0m Trial 6 finished with value: 0.6695565000380983 and parameters: {'embedding_dim': 264, 'num_filters': 339, 'hidden_dim': 323, 'dropout_p': 0.543537780573693, 'lr': 8.793757753342903e-05}. Best is trial 3 with value: 0.6857096755536929.\u001b[0m\n"
          ]
        },
        {
          "output_type": "stream",
          "name": "stdout",
          "text": [
            "Epoch: 1 | train_loss: 0.00503, val_loss: 0.00315, lr: 5.15E-05, _patience: 10\n",
            "Epoch: 2 | train_loss: 0.00373, val_loss: 0.00291, lr: 5.15E-05, _patience: 10\n",
            "Epoch: 3 | train_loss: 0.00338, val_loss: 0.00266, lr: 5.15E-05, _patience: 10\n",
            "Epoch: 4 | train_loss: 0.00321, val_loss: 0.00259, lr: 5.15E-05, _patience: 10\n",
            "Epoch: 5 | train_loss: 0.00306, val_loss: 0.00254, lr: 5.15E-05, _patience: 10\n",
            "Epoch: 6 | train_loss: 0.00293, val_loss: 0.00247, lr: 5.15E-05, _patience: 10\n",
            "Epoch: 7 | train_loss: 0.00282, val_loss: 0.00241, lr: 5.15E-05, _patience: 10\n",
            "Epoch: 8 | train_loss: 0.00271, val_loss: 0.00234, lr: 5.15E-05, _patience: 10\n",
            "Epoch: 9 | train_loss: 0.00257, val_loss: 0.00228, lr: 5.15E-05, _patience: 10\n",
            "Epoch: 10 | train_loss: 0.00252, val_loss: 0.00220, lr: 5.15E-05, _patience: 10\n",
            "Epoch: 11 | train_loss: 0.00236, val_loss: 0.00215, lr: 5.15E-05, _patience: 10\n",
            "Epoch: 12 | train_loss: 0.00229, val_loss: 0.00208, lr: 5.15E-05, _patience: 10\n",
            "Epoch: 13 | train_loss: 0.00220, val_loss: 0.00202, lr: 5.15E-05, _patience: 10\n",
            "Epoch: 14 | train_loss: 0.00211, val_loss: 0.00197, lr: 5.15E-05, _patience: 10\n",
            "Epoch: 15 | train_loss: 0.00205, val_loss: 0.00193, lr: 5.15E-05, _patience: 10\n",
            "Epoch: 16 | train_loss: 0.00192, val_loss: 0.00187, lr: 5.15E-05, _patience: 10\n",
            "Epoch: 17 | train_loss: 0.00187, val_loss: 0.00182, lr: 5.15E-05, _patience: 10\n",
            "Epoch: 18 | train_loss: 0.00179, val_loss: 0.00178, lr: 5.15E-05, _patience: 10\n",
            "Epoch: 19 | train_loss: 0.00172, val_loss: 0.00175, lr: 5.15E-05, _patience: 10\n",
            "Epoch: 20 | train_loss: 0.00164, val_loss: 0.00172, lr: 5.15E-05, _patience: 10\n",
            "Epoch: 21 | train_loss: 0.00159, val_loss: 0.00169, lr: 5.15E-05, _patience: 10\n",
            "Epoch: 22 | train_loss: 0.00156, val_loss: 0.00167, lr: 5.15E-05, _patience: 10\n",
            "Epoch: 23 | train_loss: 0.00150, val_loss: 0.00166, lr: 5.15E-05, _patience: 10\n",
            "Epoch: 24 | train_loss: 0.00144, val_loss: 0.00164, lr: 5.15E-05, _patience: 10\n",
            "Epoch: 25 | train_loss: 0.00139, val_loss: 0.00161, lr: 5.15E-05, _patience: 10\n",
            "Epoch: 26 | train_loss: 0.00133, val_loss: 0.00158, lr: 5.15E-05, _patience: 10\n",
            "Epoch: 27 | train_loss: 0.00129, val_loss: 0.00157, lr: 5.15E-05, _patience: 9\n",
            "Epoch: 28 | train_loss: 0.00125, val_loss: 0.00158, lr: 5.15E-05, _patience: 8\n",
            "Epoch: 29 | train_loss: 0.00123, val_loss: 0.00156, lr: 5.15E-05, _patience: 10\n",
            "Epoch: 30 | train_loss: 0.00118, val_loss: 0.00155, lr: 5.15E-05, _patience: 9\n",
            "Epoch: 31 | train_loss: 0.00112, val_loss: 0.00152, lr: 5.15E-05, _patience: 10\n",
            "Epoch: 32 | train_loss: 0.00110, val_loss: 0.00154, lr: 5.15E-05, _patience: 9\n",
            "Epoch: 33 | train_loss: 0.00108, val_loss: 0.00152, lr: 5.15E-05, _patience: 8\n",
            "Epoch: 34 | train_loss: 0.00103, val_loss: 0.00150, lr: 5.15E-05, _patience: 10\n",
            "Epoch: 35 | train_loss: 0.00101, val_loss: 0.00150, lr: 5.15E-05, _patience: 9\n",
            "Epoch: 36 | train_loss: 0.00096, val_loss: 0.00149, lr: 5.15E-05, _patience: 8\n",
            "Epoch: 37 | train_loss: 0.00097, val_loss: 0.00150, lr: 5.15E-05, _patience: 7\n",
            "Epoch: 38 | train_loss: 0.00092, val_loss: 0.00149, lr: 5.15E-05, _patience: 10\n",
            "Epoch: 39 | train_loss: 0.00090, val_loss: 0.00145, lr: 5.15E-05, _patience: 10\n",
            "Epoch: 40 | train_loss: 0.00084, val_loss: 0.00146, lr: 5.15E-05, _patience: 9\n",
            "Epoch: 41 | train_loss: 0.00083, val_loss: 0.00150, lr: 5.15E-05, _patience: 8\n",
            "Epoch: 42 | train_loss: 0.00081, val_loss: 0.00149, lr: 5.15E-05, _patience: 7\n",
            "Epoch: 43 | train_loss: 0.00078, val_loss: 0.00147, lr: 5.15E-05, _patience: 6\n",
            "Epoch: 44 | train_loss: 0.00076, val_loss: 0.00147, lr: 5.15E-05, _patience: 5\n",
            "Epoch: 45 | train_loss: 0.00074, val_loss: 0.00150, lr: 5.15E-06, _patience: 4\n",
            "Epoch: 46 | train_loss: 0.00071, val_loss: 0.00146, lr: 5.15E-06, _patience: 3\n",
            "Epoch: 47 | train_loss: 0.00069, val_loss: 0.00144, lr: 5.15E-06, _patience: 2\n",
            "Epoch: 48 | train_loss: 0.00070, val_loss: 0.00145, lr: 5.15E-06, _patience: 1\n",
            "Stopping early!\n"
          ]
        },
        {
          "output_type": "stream",
          "name": "stderr",
          "text": [
            "\u001b[32m[I 2021-09-01 00:46:48,427]\u001b[0m Trial 7 finished with value: 0.650535425085728 and parameters: {'embedding_dim': 380, 'num_filters': 406, 'hidden_dim': 320, 'dropout_p': 0.6145333778520938, 'lr': 5.152166996383546e-05}. Best is trial 3 with value: 0.6857096755536929.\u001b[0m\n"
          ]
        },
        {
          "output_type": "stream",
          "name": "stdout",
          "text": [
            "Epoch: 1 | train_loss: 0.00498, val_loss: 0.00337, lr: 2.36E-04, _patience: 10\n",
            "Epoch: 2 | train_loss: 0.00358, val_loss: 0.00258, lr: 2.36E-04, _patience: 10\n",
            "Epoch: 3 | train_loss: 0.00295, val_loss: 0.00238, lr: 2.36E-04, _patience: 10\n",
            "Epoch: 4 | train_loss: 0.00265, val_loss: 0.00219, lr: 2.36E-04, _patience: 10\n",
            "Epoch: 5 | train_loss: 0.00229, val_loss: 0.00204, lr: 2.36E-04, _patience: 10\n",
            "Epoch: 6 | train_loss: 0.00210, val_loss: 0.00190, lr: 2.36E-04, _patience: 10\n",
            "Epoch: 7 | train_loss: 0.00186, val_loss: 0.00182, lr: 2.36E-04, _patience: 10\n",
            "Epoch: 8 | train_loss: 0.00169, val_loss: 0.00175, lr: 2.36E-04, _patience: 10\n",
            "Epoch: 9 | train_loss: 0.00150, val_loss: 0.00170, lr: 2.36E-04, _patience: 10\n",
            "Epoch: 10 | train_loss: 0.00137, val_loss: 0.00164, lr: 2.36E-04, _patience: 10\n",
            "Epoch: 11 | train_loss: 0.00128, val_loss: 0.00162, lr: 2.36E-04, _patience: 10\n",
            "Epoch: 12 | train_loss: 0.00115, val_loss: 0.00164, lr: 2.36E-04, _patience: 9\n",
            "Epoch: 13 | train_loss: 0.00104, val_loss: 0.00159, lr: 2.36E-04, _patience: 10\n",
            "Epoch: 14 | train_loss: 0.00096, val_loss: 0.00161, lr: 2.36E-04, _patience: 9\n",
            "Epoch: 15 | train_loss: 0.00089, val_loss: 0.00157, lr: 2.36E-04, _patience: 10\n",
            "Epoch: 16 | train_loss: 0.00084, val_loss: 0.00162, lr: 2.36E-04, _patience: 9\n",
            "Epoch: 17 | train_loss: 0.00075, val_loss: 0.00153, lr: 2.36E-04, _patience: 10\n",
            "Epoch: 18 | train_loss: 0.00070, val_loss: 0.00168, lr: 2.36E-04, _patience: 9\n",
            "Epoch: 19 | train_loss: 0.00063, val_loss: 0.00154, lr: 2.36E-04, _patience: 8\n",
            "Epoch: 20 | train_loss: 0.00060, val_loss: 0.00163, lr: 2.36E-04, _patience: 7\n",
            "Epoch: 21 | train_loss: 0.00055, val_loss: 0.00180, lr: 2.36E-04, _patience: 6\n",
            "Epoch: 22 | train_loss: 0.00051, val_loss: 0.00162, lr: 2.36E-04, _patience: 5\n",
            "Epoch: 23 | train_loss: 0.00051, val_loss: 0.00156, lr: 2.36E-05, _patience: 4\n",
            "Epoch: 24 | train_loss: 0.00045, val_loss: 0.00164, lr: 2.36E-05, _patience: 3\n",
            "Epoch: 25 | train_loss: 0.00039, val_loss: 0.00152, lr: 2.36E-05, _patience: 10\n",
            "Epoch: 26 | train_loss: 0.00038, val_loss: 0.00156, lr: 2.36E-05, _patience: 9\n",
            "Epoch: 27 | train_loss: 0.00036, val_loss: 0.00156, lr: 2.36E-05, _patience: 8\n",
            "Epoch: 28 | train_loss: 0.00036, val_loss: 0.00155, lr: 2.36E-05, _patience: 7\n",
            "Epoch: 29 | train_loss: 0.00035, val_loss: 0.00156, lr: 2.36E-05, _patience: 6\n",
            "Epoch: 30 | train_loss: 0.00036, val_loss: 0.00151, lr: 2.36E-05, _patience: 5\n",
            "Epoch: 31 | train_loss: 0.00034, val_loss: 0.00158, lr: 2.36E-05, _patience: 4\n",
            "Epoch: 32 | train_loss: 0.00034, val_loss: 0.00153, lr: 2.36E-05, _patience: 3\n",
            "Epoch: 33 | train_loss: 0.00034, val_loss: 0.00158, lr: 2.36E-05, _patience: 2\n",
            "Epoch: 34 | train_loss: 0.00033, val_loss: 0.00157, lr: 2.36E-05, _patience: 1\n",
            "Stopping early!\n"
          ]
        },
        {
          "output_type": "stream",
          "name": "stderr",
          "text": [
            "\u001b[32m[I 2021-09-01 00:49:26,296]\u001b[0m Trial 8 finished with value: 0.6772227165620945 and parameters: {'embedding_dim': 428, 'num_filters': 182, 'hidden_dim': 299, 'dropout_p': 0.5891194284291468, 'lr': 0.00023591746837167864}. Best is trial 3 with value: 0.6857096755536929.\u001b[0m\n"
          ]
        },
        {
          "output_type": "stream",
          "name": "stdout",
          "text": [
            "Epoch: 1 | train_loss: 0.00726, val_loss: 0.00307, lr: 4.75E-04, _patience: 10\n",
            "Epoch: 2 | train_loss: 0.00376, val_loss: 0.00272, lr: 4.75E-04, _patience: 10\n",
            "Epoch: 3 | train_loss: 0.00300, val_loss: 0.00236, lr: 4.75E-04, _patience: 10\n",
            "Epoch: 4 | train_loss: 0.00247, val_loss: 0.00203, lr: 4.75E-04, _patience: 10\n",
            "Epoch: 5 | train_loss: 0.00207, val_loss: 0.00181, lr: 4.75E-04, _patience: 10\n",
            "Epoch: 6 | train_loss: 0.00176, val_loss: 0.00171, lr: 4.75E-04, _patience: 10\n",
            "Epoch: 7 | train_loss: 0.00152, val_loss: 0.00163, lr: 4.75E-04, _patience: 10\n",
            "Epoch: 8 | train_loss: 0.00127, val_loss: 0.00156, lr: 4.75E-04, _patience: 10\n",
            "Epoch: 9 | train_loss: 0.00109, val_loss: 0.00152, lr: 4.75E-04, _patience: 10\n",
            "Epoch: 10 | train_loss: 0.00092, val_loss: 0.00158, lr: 4.75E-04, _patience: 9\n",
            "Epoch: 11 | train_loss: 0.00081, val_loss: 0.00143, lr: 4.75E-04, _patience: 10\n",
            "Epoch: 12 | train_loss: 0.00067, val_loss: 0.00151, lr: 4.75E-04, _patience: 9\n",
            "Epoch: 13 | train_loss: 0.00057, val_loss: 0.00171, lr: 4.75E-04, _patience: 8\n",
            "Epoch: 14 | train_loss: 0.00054, val_loss: 0.00172, lr: 4.75E-04, _patience: 7\n",
            "Epoch: 15 | train_loss: 0.00051, val_loss: 0.00160, lr: 4.75E-04, _patience: 6\n",
            "Epoch: 16 | train_loss: 0.00046, val_loss: 0.00172, lr: 4.75E-04, _patience: 5\n",
            "Epoch: 17 | train_loss: 0.00041, val_loss: 0.00219, lr: 4.75E-05, _patience: 4\n",
            "Epoch: 18 | train_loss: 0.00042, val_loss: 0.00147, lr: 4.75E-05, _patience: 3\n",
            "Epoch: 19 | train_loss: 0.00029, val_loss: 0.00166, lr: 4.75E-05, _patience: 2\n",
            "Epoch: 20 | train_loss: 0.00027, val_loss: 0.00161, lr: 4.75E-05, _patience: 1\n",
            "Stopping early!\n"
          ]
        },
        {
          "output_type": "stream",
          "name": "stderr",
          "text": [
            "\u001b[32m[I 2021-09-01 00:51:17,624]\u001b[0m Trial 9 finished with value: 0.689180434604019 and parameters: {'embedding_dim': 303, 'num_filters': 358, 'hidden_dim': 478, 'dropout_p': 0.6637028037697186, 'lr': 0.00047529062613271475}. Best is trial 9 with value: 0.689180434604019.\u001b[0m\n"
          ]
        },
        {
          "output_type": "stream",
          "name": "stdout",
          "text": [
            "Epoch: 1 | train_loss: 0.00437, val_loss: 0.00281, lr: 4.54E-04, _patience: 10\n",
            "Epoch: 2 | train_loss: 0.00297, val_loss: 0.00257, lr: 4.54E-04, _patience: 10\n",
            "Epoch: 3 | train_loss: 0.00249, val_loss: 0.00218, lr: 4.54E-04, _patience: 10\n",
            "Epoch: 4 | train_loss: 0.00201, val_loss: 0.00190, lr: 4.54E-04, _patience: 10\n",
            "Epoch: 5 | train_loss: 0.00164, val_loss: 0.00176, lr: 4.54E-04, _patience: 10\n",
            "Epoch: 6 | train_loss: 0.00138, val_loss: 0.00167, lr: 4.54E-04, _patience: 10\n",
            "Epoch: 7 | train_loss: 0.00113, val_loss: 0.00165, lr: 4.54E-04, _patience: 10\n",
            "Epoch: 8 | train_loss: 0.00095, val_loss: 0.00162, lr: 4.54E-04, _patience: 10\n",
            "Epoch: 9 | train_loss: 0.00077, val_loss: 0.00158, lr: 4.54E-04, _patience: 10\n",
            "Epoch: 10 | train_loss: 0.00062, val_loss: 0.00159, lr: 4.54E-04, _patience: 9\n",
            "Epoch: 11 | train_loss: 0.00054, val_loss: 0.00160, lr: 4.54E-04, _patience: 8\n",
            "Epoch: 12 | train_loss: 0.00045, val_loss: 0.00167, lr: 4.54E-04, _patience: 7\n",
            "Epoch: 13 | train_loss: 0.00041, val_loss: 0.00163, lr: 4.54E-04, _patience: 6\n",
            "Epoch: 14 | train_loss: 0.00033, val_loss: 0.00163, lr: 4.54E-04, _patience: 5\n",
            "Epoch: 15 | train_loss: 0.00031, val_loss: 0.00170, lr: 4.54E-05, _patience: 4\n",
            "Epoch: 16 | train_loss: 0.00026, val_loss: 0.00162, lr: 4.54E-05, _patience: 3\n",
            "Epoch: 17 | train_loss: 0.00020, val_loss: 0.00166, lr: 4.54E-05, _patience: 2\n",
            "Epoch: 18 | train_loss: 0.00019, val_loss: 0.00164, lr: 4.54E-05, _patience: 1\n",
            "Stopping early!\n"
          ]
        },
        {
          "output_type": "stream",
          "name": "stderr",
          "text": [
            "\u001b[32m[I 2021-09-01 00:52:14,161]\u001b[0m Trial 10 finished with value: 0.69159520247428 and parameters: {'embedding_dim': 300, 'num_filters': 140, 'hidden_dim': 495, 'dropout_p': 0.3146760780292101, 'lr': 0.00045386565876056847}. Best is trial 10 with value: 0.69159520247428.\u001b[0m\n"
          ]
        },
        {
          "output_type": "stream",
          "name": "stdout",
          "text": [
            "Epoch: 1 | train_loss: 0.00467, val_loss: 0.00289, lr: 4.94E-04, _patience: 10\n",
            "Epoch: 2 | train_loss: 0.00303, val_loss: 0.00261, lr: 4.94E-04, _patience: 10\n",
            "Epoch: 3 | train_loss: 0.00249, val_loss: 0.00220, lr: 4.94E-04, _patience: 10\n",
            "Epoch: 4 | train_loss: 0.00201, val_loss: 0.00189, lr: 4.94E-04, _patience: 10\n",
            "Epoch: 5 | train_loss: 0.00164, val_loss: 0.00173, lr: 4.94E-04, _patience: 10\n",
            "Epoch: 6 | train_loss: 0.00136, val_loss: 0.00167, lr: 4.94E-04, _patience: 10\n",
            "Epoch: 7 | train_loss: 0.00110, val_loss: 0.00160, lr: 4.94E-04, _patience: 10\n",
            "Epoch: 8 | train_loss: 0.00091, val_loss: 0.00156, lr: 4.94E-04, _patience: 10\n",
            "Epoch: 9 | train_loss: 0.00073, val_loss: 0.00157, lr: 4.94E-04, _patience: 9\n",
            "Epoch: 10 | train_loss: 0.00058, val_loss: 0.00159, lr: 4.94E-04, _patience: 8\n",
            "Epoch: 11 | train_loss: 0.00048, val_loss: 0.00160, lr: 4.94E-04, _patience: 7\n",
            "Epoch: 12 | train_loss: 0.00041, val_loss: 0.00167, lr: 4.94E-04, _patience: 6\n",
            "Epoch: 13 | train_loss: 0.00037, val_loss: 0.00169, lr: 4.94E-04, _patience: 5\n",
            "Epoch: 14 | train_loss: 0.00031, val_loss: 0.00178, lr: 4.94E-05, _patience: 4\n",
            "Epoch: 15 | train_loss: 0.00028, val_loss: 0.00166, lr: 4.94E-05, _patience: 3\n",
            "Epoch: 16 | train_loss: 0.00020, val_loss: 0.00169, lr: 4.94E-05, _patience: 2\n",
            "Epoch: 17 | train_loss: 0.00021, val_loss: 0.00165, lr: 4.94E-05, _patience: 1\n",
            "Stopping early!\n"
          ]
        },
        {
          "output_type": "stream",
          "name": "stderr",
          "text": [
            "\u001b[32m[I 2021-09-01 00:53:09,446]\u001b[0m Trial 11 finished with value: 0.6898318582252795 and parameters: {'embedding_dim': 304, 'num_filters': 156, 'hidden_dim': 509, 'dropout_p': 0.3253486647458148, 'lr': 0.0004939152448309571}. Best is trial 10 with value: 0.69159520247428.\u001b[0m\n"
          ]
        },
        {
          "output_type": "stream",
          "name": "stdout",
          "text": [
            "Epoch: 1 | train_loss: 0.00460, val_loss: 0.00288, lr: 4.83E-04, _patience: 10\n",
            "Epoch: 2 | train_loss: 0.00303, val_loss: 0.00262, lr: 4.83E-04, _patience: 10\n",
            "Epoch: 3 | train_loss: 0.00258, val_loss: 0.00228, lr: 4.83E-04, _patience: 10\n",
            "Epoch: 4 | train_loss: 0.00214, val_loss: 0.00199, lr: 4.83E-04, _patience: 10\n",
            "Epoch: 5 | train_loss: 0.00178, val_loss: 0.00182, lr: 4.83E-04, _patience: 10\n",
            "Epoch: 6 | train_loss: 0.00152, val_loss: 0.00172, lr: 4.83E-04, _patience: 10\n",
            "Epoch: 7 | train_loss: 0.00127, val_loss: 0.00163, lr: 4.83E-04, _patience: 10\n",
            "Epoch: 8 | train_loss: 0.00106, val_loss: 0.00157, lr: 4.83E-04, _patience: 10\n",
            "Epoch: 9 | train_loss: 0.00087, val_loss: 0.00158, lr: 4.83E-04, _patience: 9\n",
            "Epoch: 10 | train_loss: 0.00074, val_loss: 0.00158, lr: 4.83E-04, _patience: 8\n",
            "Epoch: 11 | train_loss: 0.00061, val_loss: 0.00162, lr: 4.83E-04, _patience: 7\n",
            "Epoch: 12 | train_loss: 0.00051, val_loss: 0.00166, lr: 4.83E-04, _patience: 6\n",
            "Epoch: 13 | train_loss: 0.00044, val_loss: 0.00180, lr: 4.83E-04, _patience: 5\n",
            "Epoch: 14 | train_loss: 0.00039, val_loss: 0.00179, lr: 4.83E-05, _patience: 4\n",
            "Epoch: 15 | train_loss: 0.00036, val_loss: 0.00155, lr: 4.83E-05, _patience: 10\n",
            "Epoch: 16 | train_loss: 0.00028, val_loss: 0.00153, lr: 4.83E-05, _patience: 10\n",
            "Epoch: 17 | train_loss: 0.00026, val_loss: 0.00154, lr: 4.83E-05, _patience: 9\n",
            "Epoch: 18 | train_loss: 0.00026, val_loss: 0.00154, lr: 4.83E-05, _patience: 8\n",
            "Epoch: 19 | train_loss: 0.00025, val_loss: 0.00155, lr: 4.83E-05, _patience: 7\n",
            "Epoch: 20 | train_loss: 0.00024, val_loss: 0.00155, lr: 4.83E-05, _patience: 6\n",
            "Epoch: 21 | train_loss: 0.00024, val_loss: 0.00155, lr: 4.83E-05, _patience: 5\n",
            "Epoch: 22 | train_loss: 0.00023, val_loss: 0.00157, lr: 4.83E-06, _patience: 4\n",
            "Epoch: 23 | train_loss: 0.00023, val_loss: 0.00157, lr: 4.83E-06, _patience: 3\n",
            "Epoch: 24 | train_loss: 0.00023, val_loss: 0.00156, lr: 4.83E-06, _patience: 2\n",
            "Epoch: 25 | train_loss: 0.00023, val_loss: 0.00156, lr: 4.83E-06, _patience: 1\n",
            "Stopping early!\n"
          ]
        },
        {
          "output_type": "stream",
          "name": "stderr",
          "text": [
            "\u001b[32m[I 2021-09-01 00:54:17,239]\u001b[0m Trial 12 finished with value: 0.6791925310321392 and parameters: {'embedding_dim': 242, 'num_filters': 130, 'hidden_dim': 511, 'dropout_p': 0.30247712212018635, 'lr': 0.00048330255619669825}. Best is trial 10 with value: 0.69159520247428.\u001b[0m\n"
          ]
        },
        {
          "output_type": "stream",
          "name": "stdout",
          "text": [
            "Epoch: 1 | train_loss: 0.00445, val_loss: 0.00286, lr: 3.53E-04, _patience: 10\n",
            "Epoch: 2 | train_loss: 0.00302, val_loss: 0.00257, lr: 3.53E-04, _patience: 10\n",
            "Epoch: 3 | train_loss: 0.00258, val_loss: 0.00228, lr: 3.53E-04, _patience: 10\n",
            "Epoch: 4 | train_loss: 0.00217, val_loss: 0.00201, lr: 3.53E-04, _patience: 10\n",
            "Epoch: 5 | train_loss: 0.00183, val_loss: 0.00182, lr: 3.53E-04, _patience: 10\n",
            "Epoch: 6 | train_loss: 0.00158, val_loss: 0.00170, lr: 3.53E-04, _patience: 10\n",
            "Epoch: 7 | train_loss: 0.00137, val_loss: 0.00164, lr: 3.53E-04, _patience: 10\n",
            "Epoch: 8 | train_loss: 0.00119, val_loss: 0.00159, lr: 3.53E-04, _patience: 10\n",
            "Epoch: 9 | train_loss: 0.00102, val_loss: 0.00156, lr: 3.53E-04, _patience: 10\n",
            "Epoch: 10 | train_loss: 0.00085, val_loss: 0.00156, lr: 3.53E-04, _patience: 9\n",
            "Epoch: 11 | train_loss: 0.00074, val_loss: 0.00156, lr: 3.53E-04, _patience: 8\n",
            "Epoch: 12 | train_loss: 0.00064, val_loss: 0.00159, lr: 3.53E-04, _patience: 7\n",
            "Epoch: 13 | train_loss: 0.00056, val_loss: 0.00164, lr: 3.53E-04, _patience: 6\n",
            "Epoch: 14 | train_loss: 0.00047, val_loss: 0.00164, lr: 3.53E-04, _patience: 5\n",
            "Epoch: 15 | train_loss: 0.00042, val_loss: 0.00168, lr: 3.53E-04, _patience: 4\n",
            "Epoch: 16 | train_loss: 0.00039, val_loss: 0.00171, lr: 3.53E-04, _patience: 3\n",
            "Epoch: 17 | train_loss: 0.00034, val_loss: 0.00172, lr: 3.53E-05, _patience: 2\n",
            "Epoch: 18 | train_loss: 0.00030, val_loss: 0.00156, lr: 3.53E-05, _patience: 1\n",
            "Stopping early!\n"
          ]
        },
        {
          "output_type": "stream",
          "name": "stderr",
          "text": [
            "\u001b[32m[I 2021-09-01 00:55:01,492]\u001b[0m Trial 13 finished with value: 0.6682214676250211 and parameters: {'embedding_dim': 340, 'num_filters': 128, 'hidden_dim': 413, 'dropout_p': 0.3303643780374325, 'lr': 0.0003534221746288298}. Best is trial 10 with value: 0.69159520247428.\u001b[0m\n"
          ]
        },
        {
          "output_type": "stream",
          "name": "stdout",
          "text": [
            "Epoch: 1 | train_loss: 0.00465, val_loss: 0.00335, lr: 1.14E-04, _patience: 10\n",
            "Epoch: 2 | train_loss: 0.00338, val_loss: 0.00276, lr: 1.14E-04, _patience: 10\n",
            "Epoch: 3 | train_loss: 0.00294, val_loss: 0.00266, lr: 1.14E-04, _patience: 10\n",
            "Epoch: 4 | train_loss: 0.00283, val_loss: 0.00257, lr: 1.14E-04, _patience: 10\n",
            "Epoch: 5 | train_loss: 0.00269, val_loss: 0.00249, lr: 1.14E-04, _patience: 10\n",
            "Epoch: 6 | train_loss: 0.00256, val_loss: 0.00241, lr: 1.14E-04, _patience: 10\n",
            "Epoch: 7 | train_loss: 0.00242, val_loss: 0.00231, lr: 1.14E-04, _patience: 10\n",
            "Epoch: 8 | train_loss: 0.00228, val_loss: 0.00221, lr: 1.14E-04, _patience: 10\n",
            "Epoch: 9 | train_loss: 0.00217, val_loss: 0.00210, lr: 1.14E-04, _patience: 10\n",
            "Epoch: 10 | train_loss: 0.00202, val_loss: 0.00200, lr: 1.14E-04, _patience: 10\n",
            "Epoch: 11 | train_loss: 0.00188, val_loss: 0.00192, lr: 1.14E-04, _patience: 10\n",
            "Epoch: 12 | train_loss: 0.00179, val_loss: 0.00186, lr: 1.14E-04, _patience: 10\n",
            "Epoch: 13 | train_loss: 0.00168, val_loss: 0.00178, lr: 1.14E-04, _patience: 10\n",
            "Epoch: 14 | train_loss: 0.00157, val_loss: 0.00173, lr: 1.14E-04, _patience: 10\n",
            "Epoch: 15 | train_loss: 0.00150, val_loss: 0.00168, lr: 1.14E-04, _patience: 10\n",
            "Epoch: 16 | train_loss: 0.00140, val_loss: 0.00163, lr: 1.14E-04, _patience: 10\n",
            "Epoch: 17 | train_loss: 0.00132, val_loss: 0.00160, lr: 1.14E-04, _patience: 10\n",
            "Epoch: 18 | train_loss: 0.00126, val_loss: 0.00157, lr: 1.14E-04, _patience: 10\n",
            "Epoch: 19 | train_loss: 0.00120, val_loss: 0.00157, lr: 1.14E-04, _patience: 9\n",
            "Epoch: 20 | train_loss: 0.00113, val_loss: 0.00155, lr: 1.14E-04, _patience: 10\n",
            "Epoch: 21 | train_loss: 0.00109, val_loss: 0.00152, lr: 1.14E-04, _patience: 10\n",
            "Epoch: 22 | train_loss: 0.00103, val_loss: 0.00151, lr: 1.14E-04, _patience: 10\n",
            "Epoch: 23 | train_loss: 0.00098, val_loss: 0.00151, lr: 1.14E-04, _patience: 9\n",
            "Epoch: 24 | train_loss: 0.00093, val_loss: 0.00149, lr: 1.14E-04, _patience: 10\n",
            "Epoch: 25 | train_loss: 0.00086, val_loss: 0.00147, lr: 1.14E-04, _patience: 10\n",
            "Epoch: 26 | train_loss: 0.00082, val_loss: 0.00147, lr: 1.14E-04, _patience: 9\n",
            "Epoch: 27 | train_loss: 0.00078, val_loss: 0.00147, lr: 1.14E-04, _patience: 8\n",
            "Epoch: 28 | train_loss: 0.00074, val_loss: 0.00144, lr: 1.14E-04, _patience: 10\n",
            "Epoch: 29 | train_loss: 0.00070, val_loss: 0.00143, lr: 1.14E-04, _patience: 10\n",
            "Epoch: 30 | train_loss: 0.00065, val_loss: 0.00144, lr: 1.14E-04, _patience: 9\n",
            "Epoch: 31 | train_loss: 0.00062, val_loss: 0.00143, lr: 1.14E-04, _patience: 8\n",
            "Epoch: 32 | train_loss: 0.00060, val_loss: 0.00143, lr: 1.14E-04, _patience: 7\n",
            "Epoch: 33 | train_loss: 0.00056, val_loss: 0.00144, lr: 1.14E-04, _patience: 6\n",
            "Epoch: 34 | train_loss: 0.00053, val_loss: 0.00145, lr: 1.14E-04, _patience: 5\n",
            "Epoch: 35 | train_loss: 0.00051, val_loss: 0.00145, lr: 1.14E-04, _patience: 4\n",
            "Epoch: 36 | train_loss: 0.00048, val_loss: 0.00146, lr: 1.14E-04, _patience: 3\n",
            "Epoch: 37 | train_loss: 0.00045, val_loss: 0.00145, lr: 1.14E-04, _patience: 2\n",
            "Epoch: 38 | train_loss: 0.00044, val_loss: 0.00146, lr: 1.14E-05, _patience: 1\n",
            "Stopping early!\n"
          ]
        },
        {
          "output_type": "stream",
          "name": "stderr",
          "text": [
            "\u001b[32m[I 2021-09-01 00:56:39,867]\u001b[0m Trial 14 finished with value: 0.6731201042356291 and parameters: {'embedding_dim': 203, 'num_filters': 202, 'hidden_dim': 409, 'dropout_p': 0.39002182475197705, 'lr': 0.00011374777947216771}. Best is trial 10 with value: 0.69159520247428.\u001b[0m\n"
          ]
        },
        {
          "output_type": "stream",
          "name": "stdout",
          "text": [
            "Epoch: 1 | train_loss: 0.00509, val_loss: 0.00277, lr: 3.85E-04, _patience: 10\n",
            "Epoch: 2 | train_loss: 0.00317, val_loss: 0.00253, lr: 3.85E-04, _patience: 10\n",
            "Epoch: 3 | train_loss: 0.00253, val_loss: 0.00211, lr: 3.85E-04, _patience: 10\n",
            "Epoch: 4 | train_loss: 0.00203, val_loss: 0.00182, lr: 3.85E-04, _patience: 10\n",
            "Epoch: 5 | train_loss: 0.00166, val_loss: 0.00172, lr: 3.85E-04, _patience: 10\n",
            "Epoch: 6 | train_loss: 0.00142, val_loss: 0.00167, lr: 3.85E-04, _patience: 10\n",
            "Epoch: 7 | train_loss: 0.00117, val_loss: 0.00162, lr: 3.85E-04, _patience: 10\n",
            "Epoch: 8 | train_loss: 0.00095, val_loss: 0.00160, lr: 3.85E-04, _patience: 10\n",
            "Epoch: 9 | train_loss: 0.00080, val_loss: 0.00154, lr: 3.85E-04, _patience: 10\n",
            "Epoch: 10 | train_loss: 0.00065, val_loss: 0.00167, lr: 3.85E-04, _patience: 9\n",
            "Epoch: 11 | train_loss: 0.00054, val_loss: 0.00174, lr: 3.85E-04, _patience: 8\n",
            "Epoch: 12 | train_loss: 0.00045, val_loss: 0.00172, lr: 3.85E-04, _patience: 7\n",
            "Epoch: 13 | train_loss: 0.00036, val_loss: 0.00166, lr: 3.85E-04, _patience: 6\n",
            "Epoch: 14 | train_loss: 0.00031, val_loss: 0.00180, lr: 3.85E-04, _patience: 5\n",
            "Epoch: 15 | train_loss: 0.00029, val_loss: 0.00171, lr: 3.85E-05, _patience: 4\n",
            "Epoch: 16 | train_loss: 0.00025, val_loss: 0.00155, lr: 3.85E-05, _patience: 3\n",
            "Epoch: 17 | train_loss: 0.00021, val_loss: 0.00154, lr: 3.85E-05, _patience: 2\n",
            "Epoch: 18 | train_loss: 0.00020, val_loss: 0.00154, lr: 3.85E-05, _patience: 1\n",
            "Stopping early!\n"
          ]
        },
        {
          "output_type": "stream",
          "name": "stderr",
          "text": [
            "\u001b[32m[I 2021-09-01 00:57:54,122]\u001b[0m Trial 15 finished with value: 0.6933703162851264 and parameters: {'embedding_dim': 332, 'num_filters': 254, 'hidden_dim': 503, 'dropout_p': 0.4103167088854799, 'lr': 0.0003851103601495104}. Best is trial 15 with value: 0.6933703162851264.\u001b[0m\n"
          ]
        },
        {
          "output_type": "stream",
          "name": "stdout",
          "text": [
            "Epoch: 1 | train_loss: 0.00491, val_loss: 0.00276, lr: 3.67E-04, _patience: 10\n",
            "Epoch: 2 | train_loss: 0.00310, val_loss: 0.00250, lr: 3.67E-04, _patience: 10\n",
            "Epoch: 3 | train_loss: 0.00248, val_loss: 0.00209, lr: 3.67E-04, _patience: 10\n",
            "Epoch: 4 | train_loss: 0.00200, val_loss: 0.00187, lr: 3.67E-04, _patience: 10\n",
            "Epoch: 5 | train_loss: 0.00163, val_loss: 0.00175, lr: 3.67E-04, _patience: 10\n",
            "Epoch: 6 | train_loss: 0.00137, val_loss: 0.00168, lr: 3.67E-04, _patience: 10\n",
            "Epoch: 7 | train_loss: 0.00114, val_loss: 0.00160, lr: 3.67E-04, _patience: 10\n",
            "Epoch: 8 | train_loss: 0.00091, val_loss: 0.00163, lr: 3.67E-04, _patience: 9\n",
            "Epoch: 9 | train_loss: 0.00078, val_loss: 0.00159, lr: 3.67E-04, _patience: 8\n",
            "Epoch: 10 | train_loss: 0.00063, val_loss: 0.00158, lr: 3.67E-04, _patience: 10\n",
            "Epoch: 11 | train_loss: 0.00052, val_loss: 0.00161, lr: 3.67E-04, _patience: 9\n",
            "Epoch: 12 | train_loss: 0.00043, val_loss: 0.00162, lr: 3.67E-04, _patience: 8\n",
            "Epoch: 13 | train_loss: 0.00038, val_loss: 0.00159, lr: 3.67E-04, _patience: 7\n",
            "Epoch: 14 | train_loss: 0.00036, val_loss: 0.00166, lr: 3.67E-04, _patience: 6\n",
            "Epoch: 15 | train_loss: 0.00030, val_loss: 0.00184, lr: 3.67E-04, _patience: 5\n",
            "Epoch: 16 | train_loss: 0.00027, val_loss: 0.00181, lr: 3.67E-05, _patience: 4\n",
            "Epoch: 17 | train_loss: 0.00025, val_loss: 0.00158, lr: 3.67E-05, _patience: 3\n",
            "Epoch: 18 | train_loss: 0.00019, val_loss: 0.00159, lr: 3.67E-05, _patience: 2\n",
            "Epoch: 19 | train_loss: 0.00017, val_loss: 0.00161, lr: 3.67E-05, _patience: 1\n",
            "Stopping early!\n"
          ]
        },
        {
          "output_type": "stream",
          "name": "stderr",
          "text": [
            "\u001b[32m[I 2021-09-01 00:59:17,582]\u001b[0m Trial 16 finished with value: 0.6808384499248017 and parameters: {'embedding_dim': 362, 'num_filters': 256, 'hidden_dim': 436, 'dropout_p': 0.3970811140117548, 'lr': 0.0003667502300903365}. Best is trial 15 with value: 0.6933703162851264.\u001b[0m\n"
          ]
        },
        {
          "output_type": "stream",
          "name": "stdout",
          "text": [
            "Epoch: 1 | train_loss: 0.00476, val_loss: 0.00293, lr: 2.44E-04, _patience: 10\n",
            "Epoch: 2 | train_loss: 0.00312, val_loss: 0.00244, lr: 2.44E-04, _patience: 10\n",
            "Epoch: 3 | train_loss: 0.00260, val_loss: 0.00218, lr: 2.44E-04, _patience: 10\n",
            "Epoch: 4 | train_loss: 0.00217, val_loss: 0.00195, lr: 2.44E-04, _patience: 10\n",
            "Epoch: 5 | train_loss: 0.00184, val_loss: 0.00181, lr: 2.44E-04, _patience: 10\n",
            "Epoch: 6 | train_loss: 0.00157, val_loss: 0.00172, lr: 2.44E-04, _patience: 10\n",
            "Epoch: 7 | train_loss: 0.00136, val_loss: 0.00166, lr: 2.44E-04, _patience: 10\n",
            "Epoch: 8 | train_loss: 0.00120, val_loss: 0.00161, lr: 2.44E-04, _patience: 10\n",
            "Epoch: 9 | train_loss: 0.00100, val_loss: 0.00159, lr: 2.44E-04, _patience: 10\n",
            "Epoch: 10 | train_loss: 0.00088, val_loss: 0.00162, lr: 2.44E-04, _patience: 9\n",
            "Epoch: 11 | train_loss: 0.00076, val_loss: 0.00157, lr: 2.44E-04, _patience: 10\n",
            "Epoch: 12 | train_loss: 0.00068, val_loss: 0.00160, lr: 2.44E-04, _patience: 9\n",
            "Epoch: 13 | train_loss: 0.00055, val_loss: 0.00163, lr: 2.44E-04, _patience: 8\n",
            "Epoch: 14 | train_loss: 0.00049, val_loss: 0.00159, lr: 2.44E-04, _patience: 7\n",
            "Epoch: 15 | train_loss: 0.00045, val_loss: 0.00159, lr: 2.44E-04, _patience: 6\n",
            "Epoch: 16 | train_loss: 0.00039, val_loss: 0.00158, lr: 2.44E-04, _patience: 5\n",
            "Epoch: 17 | train_loss: 0.00035, val_loss: 0.00166, lr: 2.44E-05, _patience: 4\n",
            "Epoch: 18 | train_loss: 0.00033, val_loss: 0.00150, lr: 2.44E-05, _patience: 10\n",
            "Epoch: 19 | train_loss: 0.00028, val_loss: 0.00152, lr: 2.44E-05, _patience: 9\n",
            "Epoch: 20 | train_loss: 0.00026, val_loss: 0.00153, lr: 2.44E-05, _patience: 8\n",
            "Epoch: 21 | train_loss: 0.00026, val_loss: 0.00152, lr: 2.44E-05, _patience: 7\n",
            "Epoch: 22 | train_loss: 0.00025, val_loss: 0.00152, lr: 2.44E-05, _patience: 6\n",
            "Epoch: 23 | train_loss: 0.00025, val_loss: 0.00151, lr: 2.44E-05, _patience: 5\n",
            "Epoch: 24 | train_loss: 0.00024, val_loss: 0.00152, lr: 2.44E-06, _patience: 4\n",
            "Epoch: 25 | train_loss: 0.00023, val_loss: 0.00153, lr: 2.44E-06, _patience: 3\n",
            "Epoch: 26 | train_loss: 0.00024, val_loss: 0.00153, lr: 2.44E-06, _patience: 2\n",
            "Epoch: 27 | train_loss: 0.00024, val_loss: 0.00153, lr: 2.44E-06, _patience: 1\n",
            "Stopping early!\n"
          ]
        },
        {
          "output_type": "stream",
          "name": "stderr",
          "text": [
            "\u001b[32m[I 2021-09-01 01:02:37,172]\u001b[0m Trial 17 finished with value: 0.6751559114019947 and parameters: {'embedding_dim': 467, 'num_filters': 281, 'hidden_dim': 398, 'dropout_p': 0.4457236869423795, 'lr': 0.00024358691718046686}. Best is trial 15 with value: 0.6933703162851264.\u001b[0m\n"
          ]
        },
        {
          "output_type": "stream",
          "name": "stdout",
          "text": [
            "Epoch: 1 | train_loss: 0.00486, val_loss: 0.00301, lr: 3.84E-04, _patience: 10\n",
            "Epoch: 2 | train_loss: 0.00326, val_loss: 0.00266, lr: 3.84E-04, _patience: 10\n",
            "Epoch: 3 | train_loss: 0.00272, val_loss: 0.00234, lr: 3.84E-04, _patience: 10\n",
            "Epoch: 4 | train_loss: 0.00228, val_loss: 0.00205, lr: 3.84E-04, _patience: 10\n",
            "Epoch: 5 | train_loss: 0.00192, val_loss: 0.00186, lr: 3.84E-04, _patience: 10\n",
            "Epoch: 6 | train_loss: 0.00166, val_loss: 0.00176, lr: 3.84E-04, _patience: 10\n",
            "Epoch: 7 | train_loss: 0.00143, val_loss: 0.00171, lr: 3.84E-04, _patience: 10\n",
            "Epoch: 8 | train_loss: 0.00125, val_loss: 0.00164, lr: 3.84E-04, _patience: 10\n",
            "Epoch: 9 | train_loss: 0.00106, val_loss: 0.00160, lr: 3.84E-04, _patience: 10\n",
            "Epoch: 10 | train_loss: 0.00089, val_loss: 0.00163, lr: 3.84E-04, _patience: 9\n",
            "Epoch: 11 | train_loss: 0.00077, val_loss: 0.00165, lr: 3.84E-04, _patience: 8\n",
            "Epoch: 12 | train_loss: 0.00067, val_loss: 0.00168, lr: 3.84E-04, _patience: 7\n",
            "Epoch: 13 | train_loss: 0.00059, val_loss: 0.00174, lr: 3.84E-04, _patience: 6\n",
            "Epoch: 14 | train_loss: 0.00052, val_loss: 0.00172, lr: 3.84E-04, _patience: 5\n",
            "Epoch: 15 | train_loss: 0.00047, val_loss: 0.00170, lr: 3.84E-05, _patience: 4\n",
            "Epoch: 16 | train_loss: 0.00038, val_loss: 0.00149, lr: 3.84E-05, _patience: 10\n",
            "Epoch: 17 | train_loss: 0.00033, val_loss: 0.00146, lr: 3.84E-05, _patience: 10\n",
            "Epoch: 18 | train_loss: 0.00032, val_loss: 0.00148, lr: 3.84E-05, _patience: 9\n",
            "Epoch: 19 | train_loss: 0.00030, val_loss: 0.00149, lr: 3.84E-05, _patience: 8\n",
            "Epoch: 20 | train_loss: 0.00030, val_loss: 0.00150, lr: 3.84E-05, _patience: 7\n",
            "Epoch: 21 | train_loss: 0.00029, val_loss: 0.00150, lr: 3.84E-05, _patience: 6\n",
            "Epoch: 22 | train_loss: 0.00028, val_loss: 0.00150, lr: 3.84E-05, _patience: 5\n",
            "Epoch: 23 | train_loss: 0.00027, val_loss: 0.00150, lr: 3.84E-06, _patience: 4\n",
            "Epoch: 24 | train_loss: 0.00027, val_loss: 0.00150, lr: 3.84E-06, _patience: 3\n",
            "Epoch: 25 | train_loss: 0.00027, val_loss: 0.00150, lr: 3.84E-06, _patience: 2\n",
            "Epoch: 26 | train_loss: 0.00027, val_loss: 0.00150, lr: 3.84E-06, _patience: 1\n",
            "Stopping early!\n"
          ]
        },
        {
          "output_type": "stream",
          "name": "stderr",
          "text": [
            "\u001b[32m[I 2021-09-01 01:03:50,330]\u001b[0m Trial 18 finished with value: 0.6688896383738637 and parameters: {'embedding_dim': 194, 'num_filters': 231, 'hidden_dim': 508, 'dropout_p': 0.38684640829636113, 'lr': 0.00038392553870975006}. Best is trial 15 with value: 0.6933703162851264.\u001b[0m\n"
          ]
        },
        {
          "output_type": "stream",
          "name": "stdout",
          "text": [
            "Epoch: 1 | train_loss: 0.00458, val_loss: 0.00323, lr: 1.14E-04, _patience: 10\n",
            "Epoch: 2 | train_loss: 0.00333, val_loss: 0.00272, lr: 1.14E-04, _patience: 10\n",
            "Epoch: 3 | train_loss: 0.00298, val_loss: 0.00261, lr: 1.14E-04, _patience: 10\n",
            "Epoch: 4 | train_loss: 0.00284, val_loss: 0.00254, lr: 1.14E-04, _patience: 10\n",
            "Epoch: 5 | train_loss: 0.00267, val_loss: 0.00244, lr: 1.14E-04, _patience: 10\n",
            "Epoch: 6 | train_loss: 0.00251, val_loss: 0.00233, lr: 1.14E-04, _patience: 10\n",
            "Epoch: 7 | train_loss: 0.00238, val_loss: 0.00223, lr: 1.14E-04, _patience: 10\n",
            "Epoch: 8 | train_loss: 0.00220, val_loss: 0.00212, lr: 1.14E-04, _patience: 10\n",
            "Epoch: 9 | train_loss: 0.00207, val_loss: 0.00202, lr: 1.14E-04, _patience: 10\n",
            "Epoch: 10 | train_loss: 0.00195, val_loss: 0.00194, lr: 1.14E-04, _patience: 10\n",
            "Epoch: 11 | train_loss: 0.00181, val_loss: 0.00185, lr: 1.14E-04, _patience: 10\n",
            "Epoch: 12 | train_loss: 0.00170, val_loss: 0.00181, lr: 1.14E-04, _patience: 10\n",
            "Epoch: 13 | train_loss: 0.00162, val_loss: 0.00174, lr: 1.14E-04, _patience: 10\n",
            "Epoch: 14 | train_loss: 0.00151, val_loss: 0.00170, lr: 1.14E-04, _patience: 10\n",
            "Epoch: 15 | train_loss: 0.00143, val_loss: 0.00166, lr: 1.14E-04, _patience: 10\n",
            "Epoch: 16 | train_loss: 0.00134, val_loss: 0.00161, lr: 1.14E-04, _patience: 10\n",
            "Epoch: 17 | train_loss: 0.00124, val_loss: 0.00160, lr: 1.14E-04, _patience: 9\n",
            "Epoch: 18 | train_loss: 0.00119, val_loss: 0.00158, lr: 1.14E-04, _patience: 10\n",
            "Epoch: 19 | train_loss: 0.00113, val_loss: 0.00156, lr: 1.14E-04, _patience: 10\n",
            "Epoch: 20 | train_loss: 0.00106, val_loss: 0.00155, lr: 1.14E-04, _patience: 9\n",
            "Epoch: 21 | train_loss: 0.00101, val_loss: 0.00153, lr: 1.14E-04, _patience: 10\n",
            "Epoch: 22 | train_loss: 0.00095, val_loss: 0.00152, lr: 1.14E-04, _patience: 9\n",
            "Epoch: 23 | train_loss: 0.00088, val_loss: 0.00152, lr: 1.14E-04, _patience: 10\n",
            "Epoch: 24 | train_loss: 0.00085, val_loss: 0.00151, lr: 1.14E-04, _patience: 9\n",
            "Epoch: 25 | train_loss: 0.00081, val_loss: 0.00152, lr: 1.14E-04, _patience: 8\n",
            "Epoch: 26 | train_loss: 0.00076, val_loss: 0.00147, lr: 1.14E-04, _patience: 10\n",
            "Epoch: 27 | train_loss: 0.00071, val_loss: 0.00148, lr: 1.14E-04, _patience: 9\n",
            "Epoch: 28 | train_loss: 0.00067, val_loss: 0.00150, lr: 1.14E-04, _patience: 8\n",
            "Epoch: 29 | train_loss: 0.00064, val_loss: 0.00148, lr: 1.14E-04, _patience: 7\n",
            "Epoch: 30 | train_loss: 0.00060, val_loss: 0.00146, lr: 1.14E-04, _patience: 10\n",
            "Epoch: 31 | train_loss: 0.00058, val_loss: 0.00149, lr: 1.14E-04, _patience: 9\n",
            "Epoch: 32 | train_loss: 0.00054, val_loss: 0.00152, lr: 1.14E-04, _patience: 8\n",
            "Epoch: 33 | train_loss: 0.00050, val_loss: 0.00150, lr: 1.14E-04, _patience: 7\n",
            "Epoch: 34 | train_loss: 0.00049, val_loss: 0.00153, lr: 1.14E-04, _patience: 6\n",
            "Epoch: 35 | train_loss: 0.00046, val_loss: 0.00154, lr: 1.14E-04, _patience: 5\n",
            "Epoch: 36 | train_loss: 0.00044, val_loss: 0.00150, lr: 1.14E-05, _patience: 4\n",
            "Epoch: 37 | train_loss: 0.00042, val_loss: 0.00149, lr: 1.14E-05, _patience: 3\n",
            "Epoch: 38 | train_loss: 0.00041, val_loss: 0.00150, lr: 1.14E-05, _patience: 2\n",
            "Epoch: 39 | train_loss: 0.00039, val_loss: 0.00149, lr: 1.14E-05, _patience: 1\n",
            "Stopping early!\n"
          ]
        },
        {
          "output_type": "stream",
          "name": "stderr",
          "text": [
            "\u001b[32m[I 2021-09-01 01:05:58,481]\u001b[0m Trial 19 finished with value: 0.6657702866375599 and parameters: {'embedding_dim': 289, 'num_filters': 173, 'hidden_dim': 379, 'dropout_p': 0.4442626997824956, 'lr': 0.00011449604052834157}. Best is trial 15 with value: 0.6933703162851264.\u001b[0m\n"
          ]
        },
        {
          "output_type": "stream",
          "name": "stdout",
          "text": [
            "Epoch: 1 | train_loss: 0.00485, val_loss: 0.00310, lr: 2.33E-04, _patience: 10\n",
            "Epoch: 2 | train_loss: 0.00313, val_loss: 0.00252, lr: 2.33E-04, _patience: 10\n",
            "Epoch: 3 | train_loss: 0.00259, val_loss: 0.00231, lr: 2.33E-04, _patience: 10\n",
            "Epoch: 4 | train_loss: 0.00221, val_loss: 0.00206, lr: 2.33E-04, _patience: 10\n",
            "Epoch: 5 | train_loss: 0.00188, val_loss: 0.00189, lr: 2.33E-04, _patience: 10\n",
            "Epoch: 6 | train_loss: 0.00168, val_loss: 0.00178, lr: 2.33E-04, _patience: 10\n",
            "Epoch: 7 | train_loss: 0.00143, val_loss: 0.00170, lr: 2.33E-04, _patience: 10\n",
            "Epoch: 8 | train_loss: 0.00124, val_loss: 0.00165, lr: 2.33E-04, _patience: 10\n",
            "Epoch: 9 | train_loss: 0.00110, val_loss: 0.00161, lr: 2.33E-04, _patience: 10\n",
            "Epoch: 10 | train_loss: 0.00097, val_loss: 0.00158, lr: 2.33E-04, _patience: 10\n",
            "Epoch: 11 | train_loss: 0.00085, val_loss: 0.00157, lr: 2.33E-04, _patience: 9\n",
            "Epoch: 12 | train_loss: 0.00075, val_loss: 0.00157, lr: 2.33E-04, _patience: 10\n",
            "Epoch: 13 | train_loss: 0.00066, val_loss: 0.00155, lr: 2.33E-04, _patience: 10\n",
            "Epoch: 14 | train_loss: 0.00057, val_loss: 0.00159, lr: 2.33E-04, _patience: 9\n",
            "Epoch: 15 | train_loss: 0.00051, val_loss: 0.00155, lr: 2.33E-04, _patience: 8\n",
            "Epoch: 16 | train_loss: 0.00045, val_loss: 0.00158, lr: 2.33E-04, _patience: 7\n",
            "Epoch: 17 | train_loss: 0.00041, val_loss: 0.00154, lr: 2.33E-04, _patience: 10\n",
            "Epoch: 18 | train_loss: 0.00036, val_loss: 0.00160, lr: 2.33E-04, _patience: 9\n",
            "Epoch: 19 | train_loss: 0.00034, val_loss: 0.00160, lr: 2.33E-04, _patience: 8\n",
            "Epoch: 20 | train_loss: 0.00031, val_loss: 0.00170, lr: 2.33E-04, _patience: 7\n",
            "Epoch: 21 | train_loss: 0.00028, val_loss: 0.00175, lr: 2.33E-04, _patience: 6\n",
            "Epoch: 22 | train_loss: 0.00025, val_loss: 0.00174, lr: 2.33E-04, _patience: 5\n",
            "Epoch: 23 | train_loss: 0.00023, val_loss: 0.00182, lr: 2.33E-05, _patience: 4\n",
            "Epoch: 24 | train_loss: 0.00021, val_loss: 0.00167, lr: 2.33E-05, _patience: 3\n",
            "Epoch: 25 | train_loss: 0.00016, val_loss: 0.00163, lr: 2.33E-05, _patience: 2\n",
            "Epoch: 26 | train_loss: 0.00016, val_loss: 0.00165, lr: 2.33E-05, _patience: 1\n",
            "Stopping early!\n"
          ]
        },
        {
          "output_type": "stream",
          "name": "stderr",
          "text": [
            "\u001b[32m[I 2021-09-01 01:08:23,595]\u001b[0m Trial 20 finished with value: 0.6692513301500077 and parameters: {'embedding_dim': 335, 'num_filters': 287, 'hidden_dim': 469, 'dropout_p': 0.3525364543425798, 'lr': 0.0002325046714859514}. Best is trial 15 with value: 0.6933703162851264.\u001b[0m\n"
          ]
        },
        {
          "output_type": "stream",
          "name": "stdout",
          "text": [
            "Epoch: 1 | train_loss: 0.00450, val_loss: 0.00273, lr: 4.32E-04, _patience: 10\n",
            "Epoch: 2 | train_loss: 0.00296, val_loss: 0.00260, lr: 4.32E-04, _patience: 10\n",
            "Epoch: 3 | train_loss: 0.00252, val_loss: 0.00217, lr: 4.32E-04, _patience: 10\n",
            "Epoch: 4 | train_loss: 0.00202, val_loss: 0.00185, lr: 4.32E-04, _patience: 10\n",
            "Epoch: 5 | train_loss: 0.00163, val_loss: 0.00174, lr: 4.32E-04, _patience: 10\n",
            "Epoch: 6 | train_loss: 0.00138, val_loss: 0.00164, lr: 4.32E-04, _patience: 10\n",
            "Epoch: 7 | train_loss: 0.00117, val_loss: 0.00158, lr: 4.32E-04, _patience: 10\n",
            "Epoch: 8 | train_loss: 0.00096, val_loss: 0.00158, lr: 4.32E-04, _patience: 9\n",
            "Epoch: 9 | train_loss: 0.00079, val_loss: 0.00158, lr: 4.32E-04, _patience: 8\n",
            "Epoch: 10 | train_loss: 0.00065, val_loss: 0.00157, lr: 4.32E-04, _patience: 10\n",
            "Epoch: 11 | train_loss: 0.00055, val_loss: 0.00164, lr: 4.32E-04, _patience: 9\n",
            "Epoch: 12 | train_loss: 0.00045, val_loss: 0.00155, lr: 4.32E-04, _patience: 10\n",
            "Epoch: 13 | train_loss: 0.00040, val_loss: 0.00158, lr: 4.32E-04, _patience: 9\n",
            "Epoch: 14 | train_loss: 0.00032, val_loss: 0.00165, lr: 4.32E-04, _patience: 8\n",
            "Epoch: 15 | train_loss: 0.00028, val_loss: 0.00176, lr: 4.32E-04, _patience: 7\n",
            "Epoch: 16 | train_loss: 0.00024, val_loss: 0.00183, lr: 4.32E-04, _patience: 6\n",
            "Epoch: 17 | train_loss: 0.00021, val_loss: 0.00182, lr: 4.32E-04, _patience: 5\n",
            "Epoch: 18 | train_loss: 0.00017, val_loss: 0.00177, lr: 4.32E-05, _patience: 4\n",
            "Epoch: 19 | train_loss: 0.00015, val_loss: 0.00162, lr: 4.32E-05, _patience: 3\n",
            "Epoch: 20 | train_loss: 0.00013, val_loss: 0.00160, lr: 4.32E-05, _patience: 2\n",
            "Epoch: 21 | train_loss: 0.00012, val_loss: 0.00164, lr: 4.32E-05, _patience: 1\n",
            "Stopping early!\n"
          ]
        },
        {
          "output_type": "stream",
          "name": "stderr",
          "text": [
            "\u001b[32m[I 2021-09-01 01:09:31,625]\u001b[0m Trial 21 finished with value: 0.6762985569259444 and parameters: {'embedding_dim': 312, 'num_filters': 152, 'hidden_dim': 510, 'dropout_p': 0.3056620457721635, 'lr': 0.0004318495101426328}. Best is trial 15 with value: 0.6933703162851264.\u001b[0m\n"
          ]
        },
        {
          "output_type": "stream",
          "name": "stdout",
          "text": [
            "Epoch: 1 | train_loss: 0.00487, val_loss: 0.00294, lr: 4.77E-04, _patience: 10\n",
            "Epoch: 2 | train_loss: 0.00320, val_loss: 0.00262, lr: 4.77E-04, _patience: 10\n",
            "Epoch: 3 | train_loss: 0.00262, val_loss: 0.00223, lr: 4.77E-04, _patience: 10\n",
            "Epoch: 4 | train_loss: 0.00213, val_loss: 0.00195, lr: 4.77E-04, _patience: 10\n",
            "Epoch: 5 | train_loss: 0.00176, val_loss: 0.00175, lr: 4.77E-04, _patience: 10\n",
            "Epoch: 6 | train_loss: 0.00146, val_loss: 0.00167, lr: 4.77E-04, _patience: 10\n",
            "Epoch: 7 | train_loss: 0.00123, val_loss: 0.00158, lr: 4.77E-04, _patience: 10\n",
            "Epoch: 8 | train_loss: 0.00099, val_loss: 0.00154, lr: 4.77E-04, _patience: 10\n",
            "Epoch: 9 | train_loss: 0.00082, val_loss: 0.00154, lr: 4.77E-04, _patience: 9\n",
            "Epoch: 10 | train_loss: 0.00068, val_loss: 0.00154, lr: 4.77E-04, _patience: 8\n",
            "Epoch: 11 | train_loss: 0.00057, val_loss: 0.00159, lr: 4.77E-04, _patience: 7\n",
            "Epoch: 12 | train_loss: 0.00050, val_loss: 0.00153, lr: 4.77E-04, _patience: 10\n",
            "Epoch: 13 | train_loss: 0.00041, val_loss: 0.00167, lr: 4.77E-04, _patience: 9\n",
            "Epoch: 14 | train_loss: 0.00038, val_loss: 0.00166, lr: 4.77E-04, _patience: 8\n",
            "Epoch: 15 | train_loss: 0.00032, val_loss: 0.00167, lr: 4.77E-04, _patience: 7\n",
            "Epoch: 16 | train_loss: 0.00027, val_loss: 0.00177, lr: 4.77E-04, _patience: 6\n",
            "Epoch: 17 | train_loss: 0.00025, val_loss: 0.00179, lr: 4.77E-04, _patience: 5\n",
            "Epoch: 18 | train_loss: 0.00023, val_loss: 0.00174, lr: 4.77E-05, _patience: 4\n",
            "Epoch: 19 | train_loss: 0.00018, val_loss: 0.00169, lr: 4.77E-05, _patience: 3\n",
            "Epoch: 20 | train_loss: 0.00014, val_loss: 0.00169, lr: 4.77E-05, _patience: 2\n",
            "Epoch: 21 | train_loss: 0.00014, val_loss: 0.00167, lr: 4.77E-05, _patience: 1\n",
            "Stopping early!\n"
          ]
        },
        {
          "output_type": "stream",
          "name": "stderr",
          "text": [
            "\u001b[32m[I 2021-09-01 01:10:32,366]\u001b[0m Trial 22 finished with value: 0.674563555453645 and parameters: {'embedding_dim': 215, 'num_filters': 213, 'hidden_dim': 483, 'dropout_p': 0.3519825343440477, 'lr': 0.0004768635401447958}. Best is trial 15 with value: 0.6933703162851264.\u001b[0m\n"
          ]
        },
        {
          "output_type": "stream",
          "name": "stdout",
          "text": [
            "Epoch: 1 | train_loss: 0.00444, val_loss: 0.00291, lr: 2.96E-04, _patience: 10\n",
            "Epoch: 2 | train_loss: 0.00315, val_loss: 0.00259, lr: 2.96E-04, _patience: 10\n",
            "Epoch: 3 | train_loss: 0.00275, val_loss: 0.00236, lr: 2.96E-04, _patience: 10\n",
            "Epoch: 4 | train_loss: 0.00235, val_loss: 0.00212, lr: 2.96E-04, _patience: 10\n",
            "Epoch: 5 | train_loss: 0.00205, val_loss: 0.00189, lr: 2.96E-04, _patience: 10\n",
            "Epoch: 6 | train_loss: 0.00179, val_loss: 0.00176, lr: 2.96E-04, _patience: 10\n",
            "Epoch: 7 | train_loss: 0.00157, val_loss: 0.00168, lr: 2.96E-04, _patience: 10\n",
            "Epoch: 8 | train_loss: 0.00138, val_loss: 0.00163, lr: 2.96E-04, _patience: 10\n",
            "Epoch: 9 | train_loss: 0.00124, val_loss: 0.00158, lr: 2.96E-04, _patience: 10\n",
            "Epoch: 10 | train_loss: 0.00107, val_loss: 0.00153, lr: 2.96E-04, _patience: 10\n",
            "Epoch: 11 | train_loss: 0.00094, val_loss: 0.00153, lr: 2.96E-04, _patience: 9\n",
            "Epoch: 12 | train_loss: 0.00085, val_loss: 0.00152, lr: 2.96E-04, _patience: 10\n",
            "Epoch: 13 | train_loss: 0.00074, val_loss: 0.00150, lr: 2.96E-04, _patience: 10\n",
            "Epoch: 14 | train_loss: 0.00064, val_loss: 0.00153, lr: 2.96E-04, _patience: 9\n",
            "Epoch: 15 | train_loss: 0.00057, val_loss: 0.00152, lr: 2.96E-04, _patience: 8\n",
            "Epoch: 16 | train_loss: 0.00050, val_loss: 0.00162, lr: 2.96E-04, _patience: 7\n",
            "Epoch: 17 | train_loss: 0.00045, val_loss: 0.00161, lr: 2.96E-04, _patience: 6\n",
            "Epoch: 18 | train_loss: 0.00039, val_loss: 0.00168, lr: 2.96E-04, _patience: 5\n",
            "Epoch: 19 | train_loss: 0.00035, val_loss: 0.00171, lr: 2.96E-05, _patience: 4\n",
            "Epoch: 20 | train_loss: 0.00034, val_loss: 0.00151, lr: 2.96E-05, _patience: 3\n",
            "Epoch: 21 | train_loss: 0.00030, val_loss: 0.00153, lr: 2.96E-05, _patience: 2\n",
            "Epoch: 22 | train_loss: 0.00028, val_loss: 0.00154, lr: 2.96E-05, _patience: 1\n",
            "Stopping early!\n"
          ]
        },
        {
          "output_type": "stream",
          "name": "stderr",
          "text": [
            "\u001b[32m[I 2021-09-01 01:11:41,131]\u001b[0m Trial 23 finished with value: 0.6699461527971675 and parameters: {'embedding_dim': 291, 'num_filters': 154, 'hidden_dim': 446, 'dropout_p': 0.4224352559855839, 'lr': 0.0002957238637347877}. Best is trial 15 with value: 0.6933703162851264.\u001b[0m\n"
          ]
        },
        {
          "output_type": "stream",
          "name": "stdout",
          "text": [
            "Epoch: 1 | train_loss: 0.00504, val_loss: 0.00287, lr: 4.03E-04, _patience: 10\n",
            "Epoch: 2 | train_loss: 0.00305, val_loss: 0.00248, lr: 4.03E-04, _patience: 10\n",
            "Epoch: 3 | train_loss: 0.00240, val_loss: 0.00207, lr: 4.03E-04, _patience: 10\n",
            "Epoch: 4 | train_loss: 0.00186, val_loss: 0.00180, lr: 4.03E-04, _patience: 10\n",
            "Epoch: 5 | train_loss: 0.00150, val_loss: 0.00168, lr: 4.03E-04, _patience: 10\n",
            "Epoch: 6 | train_loss: 0.00124, val_loss: 0.00164, lr: 4.03E-04, _patience: 10\n",
            "Epoch: 7 | train_loss: 0.00101, val_loss: 0.00157, lr: 4.03E-04, _patience: 10\n",
            "Epoch: 8 | train_loss: 0.00079, val_loss: 0.00157, lr: 4.03E-04, _patience: 9\n",
            "Epoch: 9 | train_loss: 0.00065, val_loss: 0.00161, lr: 4.03E-04, _patience: 8\n",
            "Epoch: 10 | train_loss: 0.00052, val_loss: 0.00158, lr: 4.03E-04, _patience: 7\n",
            "Epoch: 11 | train_loss: 0.00043, val_loss: 0.00169, lr: 4.03E-04, _patience: 6\n",
            "Epoch: 12 | train_loss: 0.00039, val_loss: 0.00177, lr: 4.03E-04, _patience: 5\n",
            "Epoch: 13 | train_loss: 0.00034, val_loss: 0.00172, lr: 4.03E-04, _patience: 4\n",
            "Epoch: 14 | train_loss: 0.00028, val_loss: 0.00173, lr: 4.03E-05, _patience: 3\n",
            "Epoch: 15 | train_loss: 0.00025, val_loss: 0.00163, lr: 4.03E-05, _patience: 2\n",
            "Epoch: 16 | train_loss: 0.00018, val_loss: 0.00166, lr: 4.03E-05, _patience: 1\n",
            "Stopping early!\n"
          ]
        },
        {
          "output_type": "stream",
          "name": "stderr",
          "text": [
            "\u001b[32m[I 2021-09-01 01:12:54,914]\u001b[0m Trial 24 finished with value: 0.6725093711360168 and parameters: {'embedding_dim': 372, 'num_filters': 254, 'hidden_dim': 509, 'dropout_p': 0.30631784700886705, 'lr': 0.00040331589454025443}. Best is trial 15 with value: 0.6933703162851264.\u001b[0m\n"
          ]
        },
        {
          "output_type": "stream",
          "name": "stdout",
          "text": [
            "Epoch: 1 | train_loss: 0.00440, val_loss: 0.00277, lr: 3.27E-04, _patience: 10\n",
            "Epoch: 2 | train_loss: 0.00297, val_loss: 0.00255, lr: 3.27E-04, _patience: 10\n",
            "Epoch: 3 | train_loss: 0.00254, val_loss: 0.00217, lr: 3.27E-04, _patience: 10\n",
            "Epoch: 4 | train_loss: 0.00207, val_loss: 0.00190, lr: 3.27E-04, _patience: 10\n",
            "Epoch: 5 | train_loss: 0.00173, val_loss: 0.00172, lr: 3.27E-04, _patience: 10\n",
            "Epoch: 6 | train_loss: 0.00147, val_loss: 0.00165, lr: 3.27E-04, _patience: 10\n",
            "Epoch: 7 | train_loss: 0.00127, val_loss: 0.00160, lr: 3.27E-04, _patience: 10\n",
            "Epoch: 8 | train_loss: 0.00107, val_loss: 0.00155, lr: 3.27E-04, _patience: 10\n",
            "Epoch: 9 | train_loss: 0.00092, val_loss: 0.00150, lr: 3.27E-04, _patience: 10\n",
            "Epoch: 10 | train_loss: 0.00077, val_loss: 0.00153, lr: 3.27E-04, _patience: 9\n",
            "Epoch: 11 | train_loss: 0.00067, val_loss: 0.00151, lr: 3.27E-04, _patience: 8\n",
            "Epoch: 12 | train_loss: 0.00059, val_loss: 0.00153, lr: 3.27E-04, _patience: 7\n",
            "Epoch: 13 | train_loss: 0.00053, val_loss: 0.00155, lr: 3.27E-04, _patience: 6\n",
            "Epoch: 14 | train_loss: 0.00046, val_loss: 0.00159, lr: 3.27E-04, _patience: 5\n",
            "Epoch: 15 | train_loss: 0.00039, val_loss: 0.00161, lr: 3.27E-05, _patience: 4\n",
            "Epoch: 16 | train_loss: 0.00032, val_loss: 0.00154, lr: 3.27E-05, _patience: 3\n",
            "Epoch: 17 | train_loss: 0.00027, val_loss: 0.00154, lr: 3.27E-05, _patience: 2\n",
            "Epoch: 18 | train_loss: 0.00026, val_loss: 0.00153, lr: 3.27E-05, _patience: 1\n",
            "Stopping early!\n"
          ]
        },
        {
          "output_type": "stream",
          "name": "stderr",
          "text": [
            "\u001b[32m[I 2021-09-01 01:14:03,909]\u001b[0m Trial 25 finished with value: 0.6518175662455186 and parameters: {'embedding_dim': 327, 'num_filters': 187, 'hidden_dim': 485, 'dropout_p': 0.3534719253205253, 'lr': 0.0003266413226306839}. Best is trial 15 with value: 0.6933703162851264.\u001b[0m\n"
          ]
        },
        {
          "output_type": "stream",
          "name": "stdout",
          "text": [
            "Epoch: 1 | train_loss: 0.00514, val_loss: 0.00282, lr: 6.40E-05, _patience: 10\n",
            "Epoch: 2 | train_loss: 0.00311, val_loss: 0.00289, lr: 6.40E-05, _patience: 9\n",
            "Epoch: 3 | train_loss: 0.00296, val_loss: 0.00271, lr: 6.40E-05, _patience: 10\n",
            "Epoch: 4 | train_loss: 0.00282, val_loss: 0.00266, lr: 6.40E-05, _patience: 10\n",
            "Epoch: 5 | train_loss: 0.00278, val_loss: 0.00262, lr: 6.40E-05, _patience: 10\n",
            "Epoch: 6 | train_loss: 0.00270, val_loss: 0.00257, lr: 6.40E-05, _patience: 10\n",
            "Epoch: 7 | train_loss: 0.00262, val_loss: 0.00253, lr: 6.40E-05, _patience: 10\n",
            "Epoch: 8 | train_loss: 0.00255, val_loss: 0.00247, lr: 6.40E-05, _patience: 10\n",
            "Epoch: 9 | train_loss: 0.00248, val_loss: 0.00242, lr: 6.40E-05, _patience: 10\n",
            "Epoch: 10 | train_loss: 0.00238, val_loss: 0.00236, lr: 6.40E-05, _patience: 10\n",
            "Epoch: 11 | train_loss: 0.00232, val_loss: 0.00230, lr: 6.40E-05, _patience: 10\n",
            "Epoch: 12 | train_loss: 0.00222, val_loss: 0.00224, lr: 6.40E-05, _patience: 10\n",
            "Epoch: 13 | train_loss: 0.00213, val_loss: 0.00218, lr: 6.40E-05, _patience: 10\n",
            "Epoch: 14 | train_loss: 0.00204, val_loss: 0.00211, lr: 6.40E-05, _patience: 10\n",
            "Epoch: 15 | train_loss: 0.00197, val_loss: 0.00205, lr: 6.40E-05, _patience: 10\n",
            "Epoch: 16 | train_loss: 0.00188, val_loss: 0.00199, lr: 6.40E-05, _patience: 10\n",
            "Epoch: 17 | train_loss: 0.00179, val_loss: 0.00193, lr: 6.40E-05, _patience: 10\n",
            "Epoch: 18 | train_loss: 0.00172, val_loss: 0.00188, lr: 6.40E-05, _patience: 10\n",
            "Epoch: 19 | train_loss: 0.00166, val_loss: 0.00183, lr: 6.40E-05, _patience: 10\n",
            "Epoch: 20 | train_loss: 0.00159, val_loss: 0.00179, lr: 6.40E-05, _patience: 10\n",
            "Epoch: 21 | train_loss: 0.00153, val_loss: 0.00175, lr: 6.40E-05, _patience: 10\n",
            "Epoch: 22 | train_loss: 0.00145, val_loss: 0.00172, lr: 6.40E-05, _patience: 10\n",
            "Epoch: 23 | train_loss: 0.00142, val_loss: 0.00169, lr: 6.40E-05, _patience: 10\n",
            "Epoch: 24 | train_loss: 0.00136, val_loss: 0.00167, lr: 6.40E-05, _patience: 10\n",
            "Epoch: 25 | train_loss: 0.00131, val_loss: 0.00163, lr: 6.40E-05, _patience: 10\n",
            "Epoch: 26 | train_loss: 0.00126, val_loss: 0.00162, lr: 6.40E-05, _patience: 10\n",
            "Epoch: 27 | train_loss: 0.00122, val_loss: 0.00159, lr: 6.40E-05, _patience: 10\n",
            "Epoch: 28 | train_loss: 0.00117, val_loss: 0.00158, lr: 6.40E-05, _patience: 10\n",
            "Epoch: 29 | train_loss: 0.00113, val_loss: 0.00156, lr: 6.40E-05, _patience: 10\n",
            "Epoch: 30 | train_loss: 0.00108, val_loss: 0.00156, lr: 6.40E-05, _patience: 9\n",
            "Epoch: 31 | train_loss: 0.00106, val_loss: 0.00154, lr: 6.40E-05, _patience: 10\n",
            "Epoch: 32 | train_loss: 0.00103, val_loss: 0.00153, lr: 6.40E-05, _patience: 9\n",
            "Epoch: 33 | train_loss: 0.00098, val_loss: 0.00152, lr: 6.40E-05, _patience: 10\n",
            "Epoch: 34 | train_loss: 0.00095, val_loss: 0.00150, lr: 6.40E-05, _patience: 10\n",
            "Epoch: 35 | train_loss: 0.00092, val_loss: 0.00150, lr: 6.40E-05, _patience: 9\n",
            "Epoch: 36 | train_loss: 0.00088, val_loss: 0.00151, lr: 6.40E-05, _patience: 8\n",
            "Epoch: 37 | train_loss: 0.00086, val_loss: 0.00148, lr: 6.40E-05, _patience: 10\n",
            "Epoch: 38 | train_loss: 0.00082, val_loss: 0.00149, lr: 6.40E-05, _patience: 9\n",
            "Epoch: 39 | train_loss: 0.00079, val_loss: 0.00148, lr: 6.40E-05, _patience: 8\n",
            "Epoch: 40 | train_loss: 0.00076, val_loss: 0.00147, lr: 6.40E-05, _patience: 10\n",
            "Epoch: 41 | train_loss: 0.00074, val_loss: 0.00146, lr: 6.40E-05, _patience: 10\n",
            "Epoch: 42 | train_loss: 0.00071, val_loss: 0.00147, lr: 6.40E-05, _patience: 9\n",
            "Epoch: 43 | train_loss: 0.00069, val_loss: 0.00146, lr: 6.40E-05, _patience: 8\n",
            "Epoch: 44 | train_loss: 0.00066, val_loss: 0.00146, lr: 6.40E-05, _patience: 7\n",
            "Epoch: 45 | train_loss: 0.00064, val_loss: 0.00148, lr: 6.40E-05, _patience: 6\n",
            "Epoch: 46 | train_loss: 0.00062, val_loss: 0.00148, lr: 6.40E-05, _patience: 5\n",
            "Epoch: 47 | train_loss: 0.00060, val_loss: 0.00145, lr: 6.40E-05, _patience: 10\n",
            "Epoch: 48 | train_loss: 0.00058, val_loss: 0.00146, lr: 6.40E-05, _patience: 9\n",
            "Epoch: 49 | train_loss: 0.00056, val_loss: 0.00145, lr: 6.40E-05, _patience: 8\n",
            "Epoch: 50 | train_loss: 0.00054, val_loss: 0.00145, lr: 6.40E-05, _patience: 7\n",
            "Epoch: 51 | train_loss: 0.00053, val_loss: 0.00147, lr: 6.40E-05, _patience: 6\n",
            "Epoch: 52 | train_loss: 0.00050, val_loss: 0.00148, lr: 6.40E-05, _patience: 5\n",
            "Epoch: 53 | train_loss: 0.00049, val_loss: 0.00147, lr: 6.40E-05, _patience: 4\n",
            "Epoch: 54 | train_loss: 0.00047, val_loss: 0.00145, lr: 6.40E-05, _patience: 3\n",
            "Epoch: 55 | train_loss: 0.00046, val_loss: 0.00144, lr: 6.40E-05, _patience: 2\n",
            "Epoch: 56 | train_loss: 0.00043, val_loss: 0.00146, lr: 6.40E-05, _patience: 1\n",
            "Stopping early!\n"
          ]
        },
        {
          "output_type": "stream",
          "name": "stderr",
          "text": [
            "\u001b[32m[I 2021-09-01 01:16:45,630]\u001b[0m Trial 26 finished with value: 0.6566284489403298 and parameters: {'embedding_dim': 274, 'num_filters': 145, 'hidden_dim': 437, 'dropout_p': 0.3292836726866997, 'lr': 6.404896736011799e-05}. Best is trial 15 with value: 0.6933703162851264.\u001b[0m\n"
          ]
        },
        {
          "output_type": "stream",
          "name": "stdout",
          "text": [
            "Epoch: 1 | train_loss: 0.00448, val_loss: 0.00271, lr: 4.10E-04, _patience: 10\n",
            "Epoch: 2 | train_loss: 0.00312, val_loss: 0.00255, lr: 4.10E-04, _patience: 10\n",
            "Epoch: 3 | train_loss: 0.00255, val_loss: 0.00211, lr: 4.10E-04, _patience: 10\n",
            "Epoch: 4 | train_loss: 0.00206, val_loss: 0.00182, lr: 4.10E-04, _patience: 10\n",
            "Epoch: 5 | train_loss: 0.00169, val_loss: 0.00171, lr: 4.10E-04, _patience: 10\n",
            "Epoch: 6 | train_loss: 0.00143, val_loss: 0.00165, lr: 4.10E-04, _patience: 10\n",
            "Epoch: 7 | train_loss: 0.00121, val_loss: 0.00158, lr: 4.10E-04, _patience: 10\n",
            "Epoch: 8 | train_loss: 0.00103, val_loss: 0.00151, lr: 4.10E-04, _patience: 10\n",
            "Epoch: 9 | train_loss: 0.00082, val_loss: 0.00147, lr: 4.10E-04, _patience: 10\n",
            "Epoch: 10 | train_loss: 0.00069, val_loss: 0.00150, lr: 4.10E-04, _patience: 9\n",
            "Epoch: 11 | train_loss: 0.00058, val_loss: 0.00155, lr: 4.10E-04, _patience: 8\n",
            "Epoch: 12 | train_loss: 0.00048, val_loss: 0.00160, lr: 4.10E-04, _patience: 7\n",
            "Epoch: 13 | train_loss: 0.00043, val_loss: 0.00169, lr: 4.10E-04, _patience: 6\n",
            "Epoch: 14 | train_loss: 0.00036, val_loss: 0.00170, lr: 4.10E-04, _patience: 5\n",
            "Epoch: 15 | train_loss: 0.00034, val_loss: 0.00176, lr: 4.10E-05, _patience: 4\n",
            "Epoch: 16 | train_loss: 0.00028, val_loss: 0.00158, lr: 4.10E-05, _patience: 3\n",
            "Epoch: 17 | train_loss: 0.00024, val_loss: 0.00156, lr: 4.10E-05, _patience: 2\n",
            "Epoch: 18 | train_loss: 0.00022, val_loss: 0.00156, lr: 4.10E-05, _patience: 1\n",
            "Stopping early!\n"
          ]
        },
        {
          "output_type": "stream",
          "name": "stderr",
          "text": [
            "\u001b[32m[I 2021-09-01 01:18:03,268]\u001b[0m Trial 27 finished with value: 0.6735402019668791 and parameters: {'embedding_dim': 424, 'num_filters': 130, 'hidden_dim': 512, 'dropout_p': 0.4563718250433605, 'lr': 0.000409889962547389}. Best is trial 15 with value: 0.6933703162851264.\u001b[0m\n"
          ]
        },
        {
          "output_type": "stream",
          "name": "stdout",
          "text": [
            "Epoch: 1 | train_loss: 0.00478, val_loss: 0.00318, lr: 2.70E-04, _patience: 10\n",
            "Epoch: 2 | train_loss: 0.00321, val_loss: 0.00261, lr: 2.70E-04, _patience: 10\n",
            "Epoch: 3 | train_loss: 0.00279, val_loss: 0.00242, lr: 2.70E-04, _patience: 10\n",
            "Epoch: 4 | train_loss: 0.00246, val_loss: 0.00218, lr: 2.70E-04, _patience: 10\n",
            "Epoch: 5 | train_loss: 0.00214, val_loss: 0.00199, lr: 2.70E-04, _patience: 10\n",
            "Epoch: 6 | train_loss: 0.00185, val_loss: 0.00184, lr: 2.70E-04, _patience: 10\n",
            "Epoch: 7 | train_loss: 0.00168, val_loss: 0.00173, lr: 2.70E-04, _patience: 10\n",
            "Epoch: 8 | train_loss: 0.00149, val_loss: 0.00167, lr: 2.70E-04, _patience: 10\n",
            "Epoch: 9 | train_loss: 0.00130, val_loss: 0.00164, lr: 2.70E-04, _patience: 10\n",
            "Epoch: 10 | train_loss: 0.00115, val_loss: 0.00160, lr: 2.70E-04, _patience: 10\n",
            "Epoch: 11 | train_loss: 0.00103, val_loss: 0.00153, lr: 2.70E-04, _patience: 10\n",
            "Epoch: 12 | train_loss: 0.00092, val_loss: 0.00147, lr: 2.70E-04, _patience: 10\n",
            "Epoch: 13 | train_loss: 0.00080, val_loss: 0.00148, lr: 2.70E-04, _patience: 9\n",
            "Epoch: 14 | train_loss: 0.00073, val_loss: 0.00151, lr: 2.70E-04, _patience: 8\n",
            "Epoch: 15 | train_loss: 0.00065, val_loss: 0.00151, lr: 2.70E-04, _patience: 7\n",
            "Epoch: 16 | train_loss: 0.00057, val_loss: 0.00154, lr: 2.70E-04, _patience: 6\n",
            "Epoch: 17 | train_loss: 0.00052, val_loss: 0.00158, lr: 2.70E-04, _patience: 5\n",
            "Epoch: 18 | train_loss: 0.00048, val_loss: 0.00162, lr: 2.70E-05, _patience: 4\n",
            "Epoch: 19 | train_loss: 0.00043, val_loss: 0.00147, lr: 2.70E-05, _patience: 3\n",
            "Epoch: 20 | train_loss: 0.00038, val_loss: 0.00143, lr: 2.70E-05, _patience: 10\n",
            "Epoch: 21 | train_loss: 0.00037, val_loss: 0.00146, lr: 2.70E-05, _patience: 9\n",
            "Epoch: 22 | train_loss: 0.00036, val_loss: 0.00145, lr: 2.70E-05, _patience: 8\n",
            "Epoch: 23 | train_loss: 0.00036, val_loss: 0.00144, lr: 2.70E-05, _patience: 7\n",
            "Epoch: 24 | train_loss: 0.00035, val_loss: 0.00145, lr: 2.70E-05, _patience: 6\n",
            "Epoch: 25 | train_loss: 0.00034, val_loss: 0.00145, lr: 2.70E-05, _patience: 5\n",
            "Epoch: 26 | train_loss: 0.00032, val_loss: 0.00148, lr: 2.70E-06, _patience: 4\n",
            "Epoch: 27 | train_loss: 0.00033, val_loss: 0.00147, lr: 2.70E-06, _patience: 3\n",
            "Epoch: 28 | train_loss: 0.00033, val_loss: 0.00147, lr: 2.70E-06, _patience: 2\n",
            "Epoch: 29 | train_loss: 0.00033, val_loss: 0.00146, lr: 2.70E-06, _patience: 1\n",
            "Stopping early!\n"
          ]
        },
        {
          "output_type": "stream",
          "name": "stderr",
          "text": [
            "\u001b[32m[I 2021-09-01 01:19:41,020]\u001b[0m Trial 28 finished with value: 0.6943289484498768 and parameters: {'embedding_dim': 232, 'num_filters': 243, 'hidden_dim': 370, 'dropout_p': 0.4063990525491787, 'lr': 0.00027017992274453617}. Best is trial 28 with value: 0.6943289484498768.\u001b[0m\n"
          ]
        },
        {
          "output_type": "stream",
          "name": "stdout",
          "text": [
            "Epoch: 1 | train_loss: 0.00510, val_loss: 0.00345, lr: 2.67E-04, _patience: 10\n",
            "Epoch: 2 | train_loss: 0.00363, val_loss: 0.00265, lr: 2.67E-04, _patience: 10\n",
            "Epoch: 3 | train_loss: 0.00302, val_loss: 0.00252, lr: 2.67E-04, _patience: 10\n",
            "Epoch: 4 | train_loss: 0.00274, val_loss: 0.00233, lr: 2.67E-04, _patience: 10\n",
            "Epoch: 5 | train_loss: 0.00245, val_loss: 0.00215, lr: 2.67E-04, _patience: 10\n",
            "Epoch: 6 | train_loss: 0.00217, val_loss: 0.00197, lr: 2.67E-04, _patience: 10\n",
            "Epoch: 7 | train_loss: 0.00197, val_loss: 0.00187, lr: 2.67E-04, _patience: 10\n",
            "Epoch: 8 | train_loss: 0.00175, val_loss: 0.00178, lr: 2.67E-04, _patience: 10\n",
            "Epoch: 9 | train_loss: 0.00159, val_loss: 0.00170, lr: 2.67E-04, _patience: 10\n",
            "Epoch: 10 | train_loss: 0.00142, val_loss: 0.00165, lr: 2.67E-04, _patience: 10\n",
            "Epoch: 11 | train_loss: 0.00134, val_loss: 0.00159, lr: 2.67E-04, _patience: 10\n",
            "Epoch: 12 | train_loss: 0.00122, val_loss: 0.00159, lr: 2.67E-04, _patience: 9\n",
            "Epoch: 13 | train_loss: 0.00112, val_loss: 0.00153, lr: 2.67E-04, _patience: 10\n",
            "Epoch: 14 | train_loss: 0.00104, val_loss: 0.00151, lr: 2.67E-04, _patience: 10\n",
            "Epoch: 15 | train_loss: 0.00092, val_loss: 0.00151, lr: 2.67E-04, _patience: 9\n",
            "Epoch: 16 | train_loss: 0.00087, val_loss: 0.00151, lr: 2.67E-04, _patience: 8\n",
            "Epoch: 17 | train_loss: 0.00078, val_loss: 0.00151, lr: 2.67E-04, _patience: 7\n",
            "Epoch: 18 | train_loss: 0.00070, val_loss: 0.00156, lr: 2.67E-04, _patience: 6\n",
            "Epoch: 19 | train_loss: 0.00066, val_loss: 0.00154, lr: 2.67E-04, _patience: 5\n",
            "Epoch: 20 | train_loss: 0.00062, val_loss: 0.00160, lr: 2.67E-05, _patience: 4\n",
            "Epoch: 21 | train_loss: 0.00055, val_loss: 0.00146, lr: 2.67E-05, _patience: 10\n",
            "Epoch: 22 | train_loss: 0.00050, val_loss: 0.00147, lr: 2.67E-05, _patience: 9\n",
            "Epoch: 23 | train_loss: 0.00050, val_loss: 0.00144, lr: 2.67E-05, _patience: 10\n",
            "Epoch: 24 | train_loss: 0.00048, val_loss: 0.00146, lr: 2.67E-05, _patience: 9\n",
            "Epoch: 25 | train_loss: 0.00046, val_loss: 0.00146, lr: 2.67E-05, _patience: 8\n",
            "Epoch: 26 | train_loss: 0.00046, val_loss: 0.00147, lr: 2.67E-05, _patience: 7\n",
            "Epoch: 27 | train_loss: 0.00045, val_loss: 0.00146, lr: 2.67E-05, _patience: 6\n",
            "Epoch: 28 | train_loss: 0.00044, val_loss: 0.00148, lr: 2.67E-05, _patience: 5\n",
            "Epoch: 29 | train_loss: 0.00044, val_loss: 0.00146, lr: 2.67E-06, _patience: 4\n",
            "Epoch: 30 | train_loss: 0.00043, val_loss: 0.00147, lr: 2.67E-06, _patience: 3\n",
            "Epoch: 31 | train_loss: 0.00044, val_loss: 0.00147, lr: 2.67E-06, _patience: 2\n",
            "Epoch: 32 | train_loss: 0.00042, val_loss: 0.00147, lr: 2.67E-06, _patience: 1\n",
            "Stopping early!\n"
          ]
        },
        {
          "output_type": "stream",
          "name": "stderr",
          "text": [
            "\u001b[32m[I 2021-09-01 01:21:36,504]\u001b[0m Trial 29 finished with value: 0.6665323943975596 and parameters: {'embedding_dim': 178, 'num_filters': 311, 'hidden_dim': 255, 'dropout_p': 0.4846947578747345, 'lr': 0.0002667176109892736}. Best is trial 28 with value: 0.6943289484498768.\u001b[0m\n"
          ]
        },
        {
          "output_type": "stream",
          "name": "stdout",
          "text": [
            "Epoch: 1 | train_loss: 0.00450, val_loss: 0.00324, lr: 1.95E-04, _patience: 10\n",
            "Epoch: 2 | train_loss: 0.00322, val_loss: 0.00265, lr: 1.95E-04, _patience: 10\n",
            "Epoch: 3 | train_loss: 0.00284, val_loss: 0.00249, lr: 1.95E-04, _patience: 10\n",
            "Epoch: 4 | train_loss: 0.00251, val_loss: 0.00230, lr: 1.95E-04, _patience: 10\n",
            "Epoch: 5 | train_loss: 0.00229, val_loss: 0.00213, lr: 1.95E-04, _patience: 10\n",
            "Epoch: 6 | train_loss: 0.00205, val_loss: 0.00196, lr: 1.95E-04, _patience: 10\n",
            "Epoch: 7 | train_loss: 0.00183, val_loss: 0.00185, lr: 1.95E-04, _patience: 10\n",
            "Epoch: 8 | train_loss: 0.00168, val_loss: 0.00175, lr: 1.95E-04, _patience: 10\n",
            "Epoch: 9 | train_loss: 0.00153, val_loss: 0.00169, lr: 1.95E-04, _patience: 10\n",
            "Epoch: 10 | train_loss: 0.00137, val_loss: 0.00163, lr: 1.95E-04, _patience: 10\n",
            "Epoch: 11 | train_loss: 0.00125, val_loss: 0.00161, lr: 1.95E-04, _patience: 10\n",
            "Epoch: 12 | train_loss: 0.00114, val_loss: 0.00158, lr: 1.95E-04, _patience: 10\n",
            "Epoch: 13 | train_loss: 0.00106, val_loss: 0.00156, lr: 1.95E-04, _patience: 10\n",
            "Epoch: 14 | train_loss: 0.00095, val_loss: 0.00155, lr: 1.95E-04, _patience: 9\n",
            "Epoch: 15 | train_loss: 0.00088, val_loss: 0.00156, lr: 1.95E-04, _patience: 8\n",
            "Epoch: 16 | train_loss: 0.00079, val_loss: 0.00154, lr: 1.95E-04, _patience: 10\n",
            "Epoch: 17 | train_loss: 0.00072, val_loss: 0.00149, lr: 1.95E-04, _patience: 10\n",
            "Epoch: 18 | train_loss: 0.00065, val_loss: 0.00152, lr: 1.95E-04, _patience: 9\n",
            "Epoch: 19 | train_loss: 0.00059, val_loss: 0.00150, lr: 1.95E-04, _patience: 8\n",
            "Epoch: 20 | train_loss: 0.00053, val_loss: 0.00154, lr: 1.95E-04, _patience: 7\n",
            "Epoch: 21 | train_loss: 0.00049, val_loss: 0.00154, lr: 1.95E-04, _patience: 6\n",
            "Epoch: 22 | train_loss: 0.00045, val_loss: 0.00150, lr: 1.95E-04, _patience: 5\n",
            "Epoch: 23 | train_loss: 0.00040, val_loss: 0.00155, lr: 1.95E-05, _patience: 4\n",
            "Epoch: 24 | train_loss: 0.00036, val_loss: 0.00150, lr: 1.95E-05, _patience: 3\n",
            "Epoch: 25 | train_loss: 0.00035, val_loss: 0.00152, lr: 1.95E-05, _patience: 2\n",
            "Epoch: 26 | train_loss: 0.00035, val_loss: 0.00150, lr: 1.95E-05, _patience: 1\n",
            "Stopping early!\n"
          ]
        },
        {
          "output_type": "stream",
          "name": "stderr",
          "text": [
            "\u001b[32m[I 2021-09-01 01:23:09,815]\u001b[0m Trial 30 finished with value: 0.6565076272779158 and parameters: {'embedding_dim': 243, 'num_filters': 251, 'hidden_dim': 384, 'dropout_p': 0.4140819872003446, 'lr': 0.00019536490125250699}. Best is trial 28 with value: 0.6943289484498768.\u001b[0m\n"
          ]
        },
        {
          "output_type": "stream",
          "name": "stdout",
          "text": [
            "Epoch: 1 | train_loss: 0.00471, val_loss: 0.00283, lr: 4.98E-04, _patience: 10\n",
            "Epoch: 2 | train_loss: 0.00321, val_loss: 0.00266, lr: 4.98E-04, _patience: 10\n",
            "Epoch: 3 | train_loss: 0.00265, val_loss: 0.00225, lr: 4.98E-04, _patience: 10\n",
            "Epoch: 4 | train_loss: 0.00218, val_loss: 0.00193, lr: 4.98E-04, _patience: 10\n",
            "Epoch: 5 | train_loss: 0.00180, val_loss: 0.00178, lr: 4.98E-04, _patience: 10\n",
            "Epoch: 6 | train_loss: 0.00152, val_loss: 0.00171, lr: 4.98E-04, _patience: 10\n",
            "Epoch: 7 | train_loss: 0.00127, val_loss: 0.00161, lr: 4.98E-04, _patience: 10\n",
            "Epoch: 8 | train_loss: 0.00108, val_loss: 0.00160, lr: 4.98E-04, _patience: 10\n",
            "Epoch: 9 | train_loss: 0.00093, val_loss: 0.00154, lr: 4.98E-04, _patience: 10\n",
            "Epoch: 10 | train_loss: 0.00078, val_loss: 0.00159, lr: 4.98E-04, _patience: 9\n",
            "Epoch: 11 | train_loss: 0.00068, val_loss: 0.00163, lr: 4.98E-04, _patience: 8\n",
            "Epoch: 12 | train_loss: 0.00058, val_loss: 0.00164, lr: 4.98E-04, _patience: 7\n",
            "Epoch: 13 | train_loss: 0.00052, val_loss: 0.00163, lr: 4.98E-04, _patience: 6\n",
            "Epoch: 14 | train_loss: 0.00043, val_loss: 0.00171, lr: 4.98E-04, _patience: 5\n",
            "Epoch: 15 | train_loss: 0.00037, val_loss: 0.00169, lr: 4.98E-05, _patience: 4\n",
            "Epoch: 16 | train_loss: 0.00034, val_loss: 0.00155, lr: 4.98E-05, _patience: 3\n",
            "Epoch: 17 | train_loss: 0.00027, val_loss: 0.00155, lr: 4.98E-05, _patience: 2\n",
            "Epoch: 18 | train_loss: 0.00026, val_loss: 0.00156, lr: 4.98E-05, _patience: 1\n",
            "Stopping early!\n"
          ]
        },
        {
          "output_type": "stream",
          "name": "stderr",
          "text": [
            "\u001b[32m[I 2021-09-01 01:24:00,321]\u001b[0m Trial 31 finished with value: 0.6736727241559339 and parameters: {'embedding_dim': 224, 'num_filters': 171, 'hidden_dim': 367, 'dropout_p': 0.3758655786507999, 'lr': 0.0004978936003771612}. Best is trial 28 with value: 0.6943289484498768.\u001b[0m\n"
          ]
        },
        {
          "output_type": "stream",
          "name": "stdout",
          "text": [
            "Epoch: 1 | train_loss: 0.00464, val_loss: 0.00276, lr: 3.43E-04, _patience: 10\n",
            "Epoch: 2 | train_loss: 0.00299, val_loss: 0.00252, lr: 3.43E-04, _patience: 10\n",
            "Epoch: 3 | train_loss: 0.00248, val_loss: 0.00214, lr: 3.43E-04, _patience: 10\n",
            "Epoch: 4 | train_loss: 0.00201, val_loss: 0.00188, lr: 3.43E-04, _patience: 10\n",
            "Epoch: 5 | train_loss: 0.00167, val_loss: 0.00172, lr: 3.43E-04, _patience: 10\n",
            "Epoch: 6 | train_loss: 0.00139, val_loss: 0.00163, lr: 3.43E-04, _patience: 10\n",
            "Epoch: 7 | train_loss: 0.00117, val_loss: 0.00157, lr: 3.43E-04, _patience: 10\n",
            "Epoch: 8 | train_loss: 0.00098, val_loss: 0.00155, lr: 3.43E-04, _patience: 10\n",
            "Epoch: 9 | train_loss: 0.00083, val_loss: 0.00157, lr: 3.43E-04, _patience: 9\n",
            "Epoch: 10 | train_loss: 0.00068, val_loss: 0.00161, lr: 3.43E-04, _patience: 8\n",
            "Epoch: 11 | train_loss: 0.00058, val_loss: 0.00160, lr: 3.43E-04, _patience: 7\n",
            "Epoch: 12 | train_loss: 0.00050, val_loss: 0.00164, lr: 3.43E-04, _patience: 6\n",
            "Epoch: 13 | train_loss: 0.00043, val_loss: 0.00166, lr: 3.43E-04, _patience: 5\n",
            "Epoch: 14 | train_loss: 0.00039, val_loss: 0.00158, lr: 3.43E-05, _patience: 4\n",
            "Epoch: 15 | train_loss: 0.00033, val_loss: 0.00151, lr: 3.43E-05, _patience: 10\n",
            "Epoch: 16 | train_loss: 0.00028, val_loss: 0.00152, lr: 3.43E-05, _patience: 9\n",
            "Epoch: 17 | train_loss: 0.00026, val_loss: 0.00152, lr: 3.43E-05, _patience: 8\n",
            "Epoch: 18 | train_loss: 0.00025, val_loss: 0.00152, lr: 3.43E-05, _patience: 7\n",
            "Epoch: 19 | train_loss: 0.00024, val_loss: 0.00151, lr: 3.43E-05, _patience: 6\n",
            "Epoch: 20 | train_loss: 0.00023, val_loss: 0.00152, lr: 3.43E-05, _patience: 5\n",
            "Epoch: 21 | train_loss: 0.00023, val_loss: 0.00153, lr: 3.43E-06, _patience: 4\n",
            "Epoch: 22 | train_loss: 0.00022, val_loss: 0.00153, lr: 3.43E-06, _patience: 3\n",
            "Epoch: 23 | train_loss: 0.00023, val_loss: 0.00153, lr: 3.43E-06, _patience: 2\n",
            "Epoch: 24 | train_loss: 0.00023, val_loss: 0.00153, lr: 3.43E-06, _patience: 1\n",
            "Stopping early!\n"
          ]
        },
        {
          "output_type": "stream",
          "name": "stderr",
          "text": [
            "\u001b[32m[I 2021-09-01 01:25:39,371]\u001b[0m Trial 32 finished with value: 0.6860844273746767 and parameters: {'embedding_dim': 351, 'num_filters': 220, 'hidden_dim': 433, 'dropout_p': 0.32586593696824295, 'lr': 0.0003433282251247952}. Best is trial 28 with value: 0.6943289484498768.\u001b[0m\n"
          ]
        },
        {
          "output_type": "stream",
          "name": "stdout",
          "text": [
            "Epoch: 1 | train_loss: 0.01151, val_loss: 0.00304, lr: 4.27E-04, _patience: 10\n",
            "Epoch: 2 | train_loss: 0.00552, val_loss: 0.00274, lr: 4.27E-04, _patience: 10\n",
            "Epoch: 3 | train_loss: 0.00435, val_loss: 0.00263, lr: 4.27E-04, _patience: 10\n",
            "Epoch: 4 | train_loss: 0.00385, val_loss: 0.00248, lr: 4.27E-04, _patience: 10\n",
            "Epoch: 5 | train_loss: 0.00356, val_loss: 0.00242, lr: 4.27E-04, _patience: 10\n",
            "Epoch: 6 | train_loss: 0.00326, val_loss: 0.00234, lr: 4.27E-04, _patience: 10\n",
            "Epoch: 7 | train_loss: 0.00304, val_loss: 0.00225, lr: 4.27E-04, _patience: 10\n",
            "Epoch: 8 | train_loss: 0.00288, val_loss: 0.00215, lr: 4.27E-04, _patience: 10\n",
            "Epoch: 9 | train_loss: 0.00270, val_loss: 0.00204, lr: 4.27E-04, _patience: 10\n",
            "Epoch: 10 | train_loss: 0.00252, val_loss: 0.00202, lr: 4.27E-04, _patience: 10\n",
            "Epoch: 11 | train_loss: 0.00245, val_loss: 0.00191, lr: 4.27E-04, _patience: 10\n",
            "Epoch: 12 | train_loss: 0.00228, val_loss: 0.00193, lr: 4.27E-04, _patience: 9\n",
            "Epoch: 13 | train_loss: 0.00216, val_loss: 0.00193, lr: 4.27E-04, _patience: 8\n",
            "Epoch: 14 | train_loss: 0.00208, val_loss: 0.00179, lr: 4.27E-04, _patience: 10\n",
            "Epoch: 15 | train_loss: 0.00195, val_loss: 0.00192, lr: 4.27E-04, _patience: 9\n",
            "Epoch: 16 | train_loss: 0.00183, val_loss: 0.00191, lr: 4.27E-04, _patience: 8\n",
            "Epoch: 17 | train_loss: 0.00176, val_loss: 0.00186, lr: 4.27E-04, _patience: 7\n",
            "Epoch: 18 | train_loss: 0.00170, val_loss: 0.00200, lr: 4.27E-04, _patience: 6\n",
            "Epoch: 19 | train_loss: 0.00177, val_loss: 0.00198, lr: 4.27E-04, _patience: 5\n",
            "Epoch: 20 | train_loss: 0.00171, val_loss: 0.00168, lr: 4.27E-04, _patience: 10\n",
            "Epoch: 21 | train_loss: 0.00181, val_loss: 0.00161, lr: 4.27E-04, _patience: 10\n",
            "Epoch: 22 | train_loss: 0.00173, val_loss: 0.00179, lr: 4.27E-04, _patience: 9\n",
            "Epoch: 23 | train_loss: 0.00175, val_loss: 0.00243, lr: 4.27E-04, _patience: 8\n",
            "Epoch: 24 | train_loss: 0.00172, val_loss: 0.00184, lr: 4.27E-04, _patience: 7\n",
            "Epoch: 25 | train_loss: 0.00150, val_loss: 0.00176, lr: 4.27E-04, _patience: 6\n",
            "Epoch: 26 | train_loss: 0.00146, val_loss: 0.00186, lr: 4.27E-04, _patience: 5\n",
            "Epoch: 27 | train_loss: 0.00135, val_loss: 0.00205, lr: 4.27E-05, _patience: 4\n",
            "Epoch: 28 | train_loss: 0.00132, val_loss: 0.00159, lr: 4.27E-05, _patience: 10\n",
            "Epoch: 29 | train_loss: 0.00114, val_loss: 0.00174, lr: 4.27E-05, _patience: 9\n",
            "Epoch: 30 | train_loss: 0.00116, val_loss: 0.00163, lr: 4.27E-05, _patience: 8\n",
            "Epoch: 31 | train_loss: 0.00109, val_loss: 0.00171, lr: 4.27E-05, _patience: 7\n",
            "Epoch: 32 | train_loss: 0.00107, val_loss: 0.00162, lr: 4.27E-05, _patience: 6\n",
            "Epoch: 33 | train_loss: 0.00108, val_loss: 0.00172, lr: 4.27E-05, _patience: 5\n",
            "Epoch: 34 | train_loss: 0.00109, val_loss: 0.00164, lr: 4.27E-06, _patience: 4\n",
            "Epoch: 35 | train_loss: 0.00111, val_loss: 0.00166, lr: 4.27E-06, _patience: 3\n",
            "Epoch: 36 | train_loss: 0.00109, val_loss: 0.00167, lr: 4.27E-06, _patience: 2\n",
            "Epoch: 37 | train_loss: 0.00114, val_loss: 0.00168, lr: 4.27E-06, _patience: 1\n",
            "Stopping early!\n"
          ]
        },
        {
          "output_type": "stream",
          "name": "stderr",
          "text": [
            "\u001b[32m[I 2021-09-01 01:28:32,863]\u001b[0m Trial 33 finished with value: 0.6131436929775165 and parameters: {'embedding_dim': 169, 'num_filters': 503, 'hidden_dim': 142, 'dropout_p': 0.7962776223474217, 'lr': 0.0004267180938088687}. Best is trial 28 with value: 0.6943289484498768.\u001b[0m\n"
          ]
        },
        {
          "output_type": "stream",
          "name": "stdout",
          "text": [
            "Epoch: 1 | train_loss: 0.00457, val_loss: 0.00289, lr: 2.66E-04, _patience: 10\n",
            "Epoch: 2 | train_loss: 0.00319, val_loss: 0.00257, lr: 2.66E-04, _patience: 10\n",
            "Epoch: 3 | train_loss: 0.00273, val_loss: 0.00227, lr: 2.66E-04, _patience: 10\n",
            "Epoch: 4 | train_loss: 0.00231, val_loss: 0.00202, lr: 2.66E-04, _patience: 10\n",
            "Epoch: 5 | train_loss: 0.00195, val_loss: 0.00186, lr: 2.66E-04, _patience: 10\n",
            "Epoch: 6 | train_loss: 0.00167, val_loss: 0.00177, lr: 2.66E-04, _patience: 10\n",
            "Epoch: 7 | train_loss: 0.00150, val_loss: 0.00167, lr: 2.66E-04, _patience: 10\n",
            "Epoch: 8 | train_loss: 0.00132, val_loss: 0.00159, lr: 2.66E-04, _patience: 10\n",
            "Epoch: 9 | train_loss: 0.00112, val_loss: 0.00156, lr: 2.66E-04, _patience: 10\n",
            "Epoch: 10 | train_loss: 0.00100, val_loss: 0.00155, lr: 2.66E-04, _patience: 9\n",
            "Epoch: 11 | train_loss: 0.00087, val_loss: 0.00152, lr: 2.66E-04, _patience: 10\n",
            "Epoch: 12 | train_loss: 0.00076, val_loss: 0.00150, lr: 2.66E-04, _patience: 10\n",
            "Epoch: 13 | train_loss: 0.00066, val_loss: 0.00161, lr: 2.66E-04, _patience: 9\n",
            "Epoch: 14 | train_loss: 0.00059, val_loss: 0.00152, lr: 2.66E-04, _patience: 8\n",
            "Epoch: 15 | train_loss: 0.00050, val_loss: 0.00165, lr: 2.66E-04, _patience: 7\n",
            "Epoch: 16 | train_loss: 0.00046, val_loss: 0.00162, lr: 2.66E-04, _patience: 6\n",
            "Epoch: 17 | train_loss: 0.00042, val_loss: 0.00177, lr: 2.66E-04, _patience: 5\n",
            "Epoch: 18 | train_loss: 0.00036, val_loss: 0.00165, lr: 2.66E-05, _patience: 4\n",
            "Epoch: 19 | train_loss: 0.00032, val_loss: 0.00154, lr: 2.66E-05, _patience: 3\n",
            "Epoch: 20 | train_loss: 0.00029, val_loss: 0.00152, lr: 2.66E-05, _patience: 2\n",
            "Epoch: 21 | train_loss: 0.00028, val_loss: 0.00152, lr: 2.66E-05, _patience: 1\n",
            "Stopping early!\n"
          ]
        },
        {
          "output_type": "stream",
          "name": "stderr",
          "text": [
            "\u001b[32m[I 2021-09-01 01:30:06,726]\u001b[0m Trial 34 finished with value: 0.6754847127827548 and parameters: {'embedding_dim': 400, 'num_filters': 200, 'hidden_dim': 456, 'dropout_p': 0.4992352898643634, 'lr': 0.00026585593594078224}. Best is trial 28 with value: 0.6943289484498768.\u001b[0m\n"
          ]
        },
        {
          "output_type": "stream",
          "name": "stdout",
          "text": [
            "Epoch: 1 | train_loss: 0.00512, val_loss: 0.00307, lr: 3.08E-04, _patience: 10\n",
            "Epoch: 2 | train_loss: 0.00320, val_loss: 0.00263, lr: 3.08E-04, _patience: 10\n",
            "Epoch: 3 | train_loss: 0.00264, val_loss: 0.00227, lr: 3.08E-04, _patience: 10\n",
            "Epoch: 4 | train_loss: 0.00221, val_loss: 0.00200, lr: 3.08E-04, _patience: 10\n",
            "Epoch: 5 | train_loss: 0.00185, val_loss: 0.00182, lr: 3.08E-04, _patience: 10\n",
            "Epoch: 6 | train_loss: 0.00154, val_loss: 0.00171, lr: 3.08E-04, _patience: 10\n",
            "Epoch: 7 | train_loss: 0.00136, val_loss: 0.00166, lr: 3.08E-04, _patience: 10\n",
            "Epoch: 8 | train_loss: 0.00113, val_loss: 0.00156, lr: 3.08E-04, _patience: 10\n",
            "Epoch: 9 | train_loss: 0.00097, val_loss: 0.00156, lr: 3.08E-04, _patience: 9\n",
            "Epoch: 10 | train_loss: 0.00081, val_loss: 0.00154, lr: 3.08E-04, _patience: 10\n",
            "Epoch: 11 | train_loss: 0.00068, val_loss: 0.00155, lr: 3.08E-04, _patience: 9\n",
            "Epoch: 12 | train_loss: 0.00058, val_loss: 0.00153, lr: 3.08E-04, _patience: 10\n",
            "Epoch: 13 | train_loss: 0.00050, val_loss: 0.00153, lr: 3.08E-04, _patience: 9\n",
            "Epoch: 14 | train_loss: 0.00044, val_loss: 0.00151, lr: 3.08E-04, _patience: 10\n",
            "Epoch: 15 | train_loss: 0.00038, val_loss: 0.00151, lr: 3.08E-04, _patience: 9\n",
            "Epoch: 16 | train_loss: 0.00035, val_loss: 0.00163, lr: 3.08E-04, _patience: 8\n",
            "Epoch: 17 | train_loss: 0.00029, val_loss: 0.00165, lr: 3.08E-04, _patience: 7\n",
            "Epoch: 18 | train_loss: 0.00028, val_loss: 0.00159, lr: 3.08E-04, _patience: 6\n",
            "Epoch: 19 | train_loss: 0.00024, val_loss: 0.00163, lr: 3.08E-04, _patience: 5\n",
            "Epoch: 20 | train_loss: 0.00020, val_loss: 0.00160, lr: 3.08E-05, _patience: 4\n",
            "Epoch: 21 | train_loss: 0.00016, val_loss: 0.00155, lr: 3.08E-05, _patience: 3\n",
            "Epoch: 22 | train_loss: 0.00015, val_loss: 0.00157, lr: 3.08E-05, _patience: 2\n",
            "Epoch: 23 | train_loss: 0.00015, val_loss: 0.00158, lr: 3.08E-05, _patience: 1\n",
            "Stopping early!\n"
          ]
        },
        {
          "output_type": "stream",
          "name": "stderr",
          "text": [
            "\u001b[32m[I 2021-09-01 01:32:08,274]\u001b[0m Trial 35 finished with value: 0.687932683461341 and parameters: {'embedding_dim': 313, 'num_filters': 271, 'hidden_dim': 490, 'dropout_p': 0.36967062979093446, 'lr': 0.00030782915900240035}. Best is trial 28 with value: 0.6943289484498768.\u001b[0m\n"
          ]
        },
        {
          "output_type": "stream",
          "name": "stdout",
          "text": [
            "Epoch: 1 | train_loss: 0.00482, val_loss: 0.00347, lr: 2.03E-04, _patience: 10\n",
            "Epoch: 2 | train_loss: 0.00338, val_loss: 0.00263, lr: 2.03E-04, _patience: 10\n",
            "Epoch: 3 | train_loss: 0.00292, val_loss: 0.00250, lr: 2.03E-04, _patience: 10\n",
            "Epoch: 4 | train_loss: 0.00264, val_loss: 0.00231, lr: 2.03E-04, _patience: 10\n",
            "Epoch: 5 | train_loss: 0.00237, val_loss: 0.00214, lr: 2.03E-04, _patience: 10\n",
            "Epoch: 6 | train_loss: 0.00214, val_loss: 0.00197, lr: 2.03E-04, _patience: 10\n",
            "Epoch: 7 | train_loss: 0.00191, val_loss: 0.00185, lr: 2.03E-04, _patience: 10\n",
            "Epoch: 8 | train_loss: 0.00174, val_loss: 0.00176, lr: 2.03E-04, _patience: 10\n",
            "Epoch: 9 | train_loss: 0.00160, val_loss: 0.00168, lr: 2.03E-04, _patience: 10\n",
            "Epoch: 10 | train_loss: 0.00145, val_loss: 0.00163, lr: 2.03E-04, _patience: 10\n",
            "Epoch: 11 | train_loss: 0.00131, val_loss: 0.00158, lr: 2.03E-04, _patience: 10\n",
            "Epoch: 12 | train_loss: 0.00120, val_loss: 0.00157, lr: 2.03E-04, _patience: 9\n",
            "Epoch: 13 | train_loss: 0.00110, val_loss: 0.00157, lr: 2.03E-04, _patience: 10\n",
            "Epoch: 14 | train_loss: 0.00101, val_loss: 0.00154, lr: 2.03E-04, _patience: 10\n",
            "Epoch: 15 | train_loss: 0.00091, val_loss: 0.00149, lr: 2.03E-04, _patience: 10\n",
            "Epoch: 16 | train_loss: 0.00084, val_loss: 0.00149, lr: 2.03E-04, _patience: 9\n",
            "Epoch: 17 | train_loss: 0.00078, val_loss: 0.00147, lr: 2.03E-04, _patience: 10\n",
            "Epoch: 18 | train_loss: 0.00069, val_loss: 0.00151, lr: 2.03E-04, _patience: 9\n",
            "Epoch: 19 | train_loss: 0.00064, val_loss: 0.00154, lr: 2.03E-04, _patience: 8\n",
            "Epoch: 20 | train_loss: 0.00058, val_loss: 0.00150, lr: 2.03E-04, _patience: 7\n",
            "Epoch: 21 | train_loss: 0.00054, val_loss: 0.00150, lr: 2.03E-04, _patience: 6\n",
            "Epoch: 22 | train_loss: 0.00049, val_loss: 0.00156, lr: 2.03E-04, _patience: 5\n",
            "Epoch: 23 | train_loss: 0.00046, val_loss: 0.00154, lr: 2.03E-05, _patience: 4\n",
            "Epoch: 24 | train_loss: 0.00040, val_loss: 0.00144, lr: 2.03E-05, _patience: 10\n",
            "Epoch: 25 | train_loss: 0.00037, val_loss: 0.00146, lr: 2.03E-05, _patience: 9\n",
            "Epoch: 26 | train_loss: 0.00038, val_loss: 0.00145, lr: 2.03E-05, _patience: 8\n",
            "Epoch: 27 | train_loss: 0.00037, val_loss: 0.00144, lr: 2.03E-05, _patience: 7\n",
            "Epoch: 28 | train_loss: 0.00037, val_loss: 0.00145, lr: 2.03E-05, _patience: 6\n",
            "Epoch: 29 | train_loss: 0.00036, val_loss: 0.00145, lr: 2.03E-05, _patience: 5\n",
            "Epoch: 30 | train_loss: 0.00035, val_loss: 0.00144, lr: 2.03E-06, _patience: 4\n",
            "Epoch: 31 | train_loss: 0.00035, val_loss: 0.00144, lr: 2.03E-06, _patience: 3\n",
            "Epoch: 32 | train_loss: 0.00034, val_loss: 0.00144, lr: 2.03E-06, _patience: 2\n",
            "Epoch: 33 | train_loss: 0.00034, val_loss: 0.00144, lr: 2.03E-06, _patience: 1\n",
            "Stopping early!\n"
          ]
        },
        {
          "output_type": "stream",
          "name": "stderr",
          "text": [
            "\u001b[32m[I 2021-09-01 01:34:01,986]\u001b[0m Trial 36 finished with value: 0.6716735512318117 and parameters: {'embedding_dim': 282, 'num_filters': 228, 'hidden_dim': 350, 'dropout_p': 0.46665227809040183, 'lr': 0.00020284609584866664}. Best is trial 28 with value: 0.6943289484498768.\u001b[0m\n"
          ]
        },
        {
          "output_type": "stream",
          "name": "stdout",
          "text": [
            "Epoch: 1 | train_loss: 0.00605, val_loss: 0.00319, lr: 4.39E-04, _patience: 10\n",
            "Epoch: 2 | train_loss: 0.00352, val_loss: 0.00252, lr: 4.39E-04, _patience: 10\n",
            "Epoch: 3 | train_loss: 0.00271, val_loss: 0.00222, lr: 4.39E-04, _patience: 10\n",
            "Epoch: 4 | train_loss: 0.00228, val_loss: 0.00196, lr: 4.39E-04, _patience: 10\n",
            "Epoch: 5 | train_loss: 0.00186, val_loss: 0.00180, lr: 4.39E-04, _patience: 10\n",
            "Epoch: 6 | train_loss: 0.00161, val_loss: 0.00168, lr: 4.39E-04, _patience: 10\n",
            "Epoch: 7 | train_loss: 0.00137, val_loss: 0.00162, lr: 4.39E-04, _patience: 10\n",
            "Epoch: 8 | train_loss: 0.00111, val_loss: 0.00159, lr: 4.39E-04, _patience: 10\n",
            "Epoch: 9 | train_loss: 0.00095, val_loss: 0.00161, lr: 4.39E-04, _patience: 9\n",
            "Epoch: 10 | train_loss: 0.00082, val_loss: 0.00149, lr: 4.39E-04, _patience: 10\n",
            "Epoch: 11 | train_loss: 0.00067, val_loss: 0.00152, lr: 4.39E-04, _patience: 9\n",
            "Epoch: 12 | train_loss: 0.00061, val_loss: 0.00144, lr: 4.39E-04, _patience: 10\n",
            "Epoch: 13 | train_loss: 0.00048, val_loss: 0.00151, lr: 4.39E-04, _patience: 9\n",
            "Epoch: 14 | train_loss: 0.00043, val_loss: 0.00157, lr: 4.39E-04, _patience: 8\n",
            "Epoch: 15 | train_loss: 0.00038, val_loss: 0.00158, lr: 4.39E-04, _patience: 7\n",
            "Epoch: 16 | train_loss: 0.00035, val_loss: 0.00154, lr: 4.39E-04, _patience: 6\n",
            "Epoch: 17 | train_loss: 0.00034, val_loss: 0.00180, lr: 4.39E-04, _patience: 5\n",
            "Epoch: 18 | train_loss: 0.00032, val_loss: 0.00180, lr: 4.39E-05, _patience: 4\n",
            "Epoch: 19 | train_loss: 0.00027, val_loss: 0.00156, lr: 4.39E-05, _patience: 3\n",
            "Epoch: 20 | train_loss: 0.00020, val_loss: 0.00159, lr: 4.39E-05, _patience: 2\n",
            "Epoch: 21 | train_loss: 0.00020, val_loss: 0.00161, lr: 4.39E-05, _patience: 1\n",
            "Stopping early!\n"
          ]
        },
        {
          "output_type": "stream",
          "name": "stderr",
          "text": [
            "\u001b[32m[I 2021-09-01 01:35:54,232]\u001b[0m Trial 37 finished with value: 0.6953118802537894 and parameters: {'embedding_dim': 234, 'num_filters': 383, 'hidden_dim': 265, 'dropout_p': 0.4174131267446717, 'lr': 0.0004392663090337615}. Best is trial 37 with value: 0.6953118802537894.\u001b[0m\n"
          ]
        },
        {
          "output_type": "stream",
          "name": "stdout",
          "text": [
            "Epoch: 1 | train_loss: 0.00471, val_loss: 0.00348, lr: 1.47E-04, _patience: 10\n",
            "Epoch: 2 | train_loss: 0.00368, val_loss: 0.00274, lr: 1.47E-04, _patience: 10\n",
            "Epoch: 3 | train_loss: 0.00322, val_loss: 0.00264, lr: 1.47E-04, _patience: 10\n",
            "Epoch: 4 | train_loss: 0.00304, val_loss: 0.00253, lr: 1.47E-04, _patience: 10\n",
            "Epoch: 5 | train_loss: 0.00284, val_loss: 0.00241, lr: 1.47E-04, _patience: 10\n",
            "Epoch: 6 | train_loss: 0.00259, val_loss: 0.00232, lr: 1.47E-04, _patience: 10\n",
            "Epoch: 7 | train_loss: 0.00244, val_loss: 0.00223, lr: 1.47E-04, _patience: 10\n",
            "Epoch: 8 | train_loss: 0.00231, val_loss: 0.00214, lr: 1.47E-04, _patience: 10\n",
            "Epoch: 9 | train_loss: 0.00215, val_loss: 0.00205, lr: 1.47E-04, _patience: 10\n",
            "Epoch: 10 | train_loss: 0.00202, val_loss: 0.00196, lr: 1.47E-04, _patience: 10\n",
            "Epoch: 11 | train_loss: 0.00187, val_loss: 0.00188, lr: 1.47E-04, _patience: 10\n",
            "Epoch: 12 | train_loss: 0.00180, val_loss: 0.00184, lr: 1.47E-04, _patience: 10\n",
            "Epoch: 13 | train_loss: 0.00165, val_loss: 0.00182, lr: 1.47E-04, _patience: 10\n",
            "Epoch: 14 | train_loss: 0.00153, val_loss: 0.00174, lr: 1.47E-04, _patience: 10\n",
            "Epoch: 15 | train_loss: 0.00148, val_loss: 0.00174, lr: 1.47E-04, _patience: 9\n",
            "Epoch: 16 | train_loss: 0.00139, val_loss: 0.00170, lr: 1.47E-04, _patience: 10\n",
            "Epoch: 17 | train_loss: 0.00130, val_loss: 0.00166, lr: 1.47E-04, _patience: 10\n",
            "Epoch: 18 | train_loss: 0.00120, val_loss: 0.00165, lr: 1.47E-04, _patience: 9\n",
            "Epoch: 19 | train_loss: 0.00117, val_loss: 0.00165, lr: 1.47E-04, _patience: 8\n",
            "Epoch: 20 | train_loss: 0.00110, val_loss: 0.00165, lr: 1.47E-04, _patience: 7\n",
            "Epoch: 21 | train_loss: 0.00103, val_loss: 0.00160, lr: 1.47E-04, _patience: 10\n",
            "Epoch: 22 | train_loss: 0.00098, val_loss: 0.00159, lr: 1.47E-04, _patience: 10\n",
            "Epoch: 23 | train_loss: 0.00093, val_loss: 0.00159, lr: 1.47E-04, _patience: 9\n",
            "Epoch: 24 | train_loss: 0.00090, val_loss: 0.00155, lr: 1.47E-04, _patience: 10\n",
            "Epoch: 25 | train_loss: 0.00085, val_loss: 0.00155, lr: 1.47E-04, _patience: 9\n",
            "Epoch: 26 | train_loss: 0.00078, val_loss: 0.00165, lr: 1.47E-04, _patience: 8\n",
            "Epoch: 27 | train_loss: 0.00077, val_loss: 0.00153, lr: 1.47E-04, _patience: 10\n",
            "Epoch: 28 | train_loss: 0.00069, val_loss: 0.00155, lr: 1.47E-04, _patience: 9\n",
            "Epoch: 29 | train_loss: 0.00068, val_loss: 0.00154, lr: 1.47E-04, _patience: 8\n",
            "Epoch: 30 | train_loss: 0.00064, val_loss: 0.00154, lr: 1.47E-04, _patience: 7\n",
            "Epoch: 31 | train_loss: 0.00061, val_loss: 0.00146, lr: 1.47E-04, _patience: 10\n",
            "Epoch: 32 | train_loss: 0.00060, val_loss: 0.00161, lr: 1.47E-04, _patience: 9\n",
            "Epoch: 33 | train_loss: 0.00055, val_loss: 0.00161, lr: 1.47E-04, _patience: 8\n",
            "Epoch: 34 | train_loss: 0.00055, val_loss: 0.00153, lr: 1.47E-04, _patience: 7\n",
            "Epoch: 35 | train_loss: 0.00052, val_loss: 0.00150, lr: 1.47E-04, _patience: 6\n",
            "Epoch: 36 | train_loss: 0.00048, val_loss: 0.00160, lr: 1.47E-04, _patience: 5\n",
            "Epoch: 37 | train_loss: 0.00046, val_loss: 0.00161, lr: 1.47E-05, _patience: 4\n",
            "Epoch: 38 | train_loss: 0.00045, val_loss: 0.00153, lr: 1.47E-05, _patience: 3\n",
            "Epoch: 39 | train_loss: 0.00041, val_loss: 0.00151, lr: 1.47E-05, _patience: 2\n",
            "Epoch: 40 | train_loss: 0.00039, val_loss: 0.00153, lr: 1.47E-05, _patience: 1\n",
            "Stopping early!\n"
          ]
        },
        {
          "output_type": "stream",
          "name": "stderr",
          "text": [
            "\u001b[32m[I 2021-09-01 01:38:39,795]\u001b[0m Trial 38 finished with value: 0.6761037120510669 and parameters: {'embedding_dim': 156, 'num_filters': 434, 'hidden_dim': 250, 'dropout_p': 0.5248894299779976, 'lr': 0.00014687839704924038}. Best is trial 37 with value: 0.6953118802537894.\u001b[0m\n"
          ]
        },
        {
          "output_type": "stream",
          "name": "stdout",
          "text": [
            "Epoch: 1 | train_loss: 0.00582, val_loss: 0.00300, lr: 4.39E-04, _patience: 10\n",
            "Epoch: 2 | train_loss: 0.00343, val_loss: 0.00253, lr: 4.39E-04, _patience: 10\n",
            "Epoch: 3 | train_loss: 0.00272, val_loss: 0.00220, lr: 4.39E-04, _patience: 10\n",
            "Epoch: 4 | train_loss: 0.00220, val_loss: 0.00192, lr: 4.39E-04, _patience: 10\n",
            "Epoch: 5 | train_loss: 0.00182, val_loss: 0.00180, lr: 4.39E-04, _patience: 10\n",
            "Epoch: 6 | train_loss: 0.00154, val_loss: 0.00170, lr: 4.39E-04, _patience: 10\n",
            "Epoch: 7 | train_loss: 0.00129, val_loss: 0.00168, lr: 4.39E-04, _patience: 10\n",
            "Epoch: 8 | train_loss: 0.00105, val_loss: 0.00163, lr: 4.39E-04, _patience: 10\n",
            "Epoch: 9 | train_loss: 0.00092, val_loss: 0.00159, lr: 4.39E-04, _patience: 10\n",
            "Epoch: 10 | train_loss: 0.00077, val_loss: 0.00155, lr: 4.39E-04, _patience: 10\n",
            "Epoch: 11 | train_loss: 0.00064, val_loss: 0.00158, lr: 4.39E-04, _patience: 9\n",
            "Epoch: 12 | train_loss: 0.00055, val_loss: 0.00155, lr: 4.39E-04, _patience: 8\n",
            "Epoch: 13 | train_loss: 0.00047, val_loss: 0.00164, lr: 4.39E-04, _patience: 7\n",
            "Epoch: 14 | train_loss: 0.00045, val_loss: 0.00167, lr: 4.39E-04, _patience: 6\n",
            "Epoch: 15 | train_loss: 0.00041, val_loss: 0.00156, lr: 4.39E-04, _patience: 5\n",
            "Epoch: 16 | train_loss: 0.00038, val_loss: 0.00167, lr: 4.39E-04, _patience: 4\n",
            "Epoch: 17 | train_loss: 0.00037, val_loss: 0.00185, lr: 4.39E-04, _patience: 3\n",
            "Epoch: 18 | train_loss: 0.00032, val_loss: 0.00174, lr: 4.39E-05, _patience: 2\n",
            "Epoch: 19 | train_loss: 0.00025, val_loss: 0.00176, lr: 4.39E-05, _patience: 1\n",
            "Stopping early!\n"
          ]
        },
        {
          "output_type": "stream",
          "name": "stderr",
          "text": [
            "\u001b[32m[I 2021-09-01 01:40:20,272]\u001b[0m Trial 39 finished with value: 0.6827646531893816 and parameters: {'embedding_dim': 229, 'num_filters': 373, 'hidden_dim': 287, 'dropout_p': 0.4249090975569171, 'lr': 0.00043934248934475033}. Best is trial 37 with value: 0.6953118802537894.\u001b[0m\n"
          ]
        },
        {
          "output_type": "stream",
          "name": "stdout",
          "text": [
            "Epoch: 1 | train_loss: 0.00524, val_loss: 0.00310, lr: 3.74E-04, _patience: 10\n",
            "Epoch: 2 | train_loss: 0.00345, val_loss: 0.00250, lr: 3.74E-04, _patience: 10\n",
            "Epoch: 3 | train_loss: 0.00278, val_loss: 0.00222, lr: 3.74E-04, _patience: 10\n",
            "Epoch: 4 | train_loss: 0.00231, val_loss: 0.00197, lr: 3.74E-04, _patience: 10\n",
            "Epoch: 5 | train_loss: 0.00195, val_loss: 0.00182, lr: 3.74E-04, _patience: 10\n",
            "Epoch: 6 | train_loss: 0.00166, val_loss: 0.00174, lr: 3.74E-04, _patience: 10\n",
            "Epoch: 7 | train_loss: 0.00146, val_loss: 0.00168, lr: 3.74E-04, _patience: 10\n",
            "Epoch: 8 | train_loss: 0.00124, val_loss: 0.00160, lr: 3.74E-04, _patience: 10\n",
            "Epoch: 9 | train_loss: 0.00107, val_loss: 0.00159, lr: 3.74E-04, _patience: 10\n",
            "Epoch: 10 | train_loss: 0.00094, val_loss: 0.00158, lr: 3.74E-04, _patience: 9\n",
            "Epoch: 11 | train_loss: 0.00081, val_loss: 0.00158, lr: 3.74E-04, _patience: 8\n",
            "Epoch: 12 | train_loss: 0.00074, val_loss: 0.00158, lr: 3.74E-04, _patience: 10\n",
            "Epoch: 13 | train_loss: 0.00066, val_loss: 0.00162, lr: 3.74E-04, _patience: 9\n",
            "Epoch: 14 | train_loss: 0.00060, val_loss: 0.00163, lr: 3.74E-04, _patience: 8\n",
            "Epoch: 15 | train_loss: 0.00054, val_loss: 0.00176, lr: 3.74E-04, _patience: 7\n",
            "Epoch: 16 | train_loss: 0.00049, val_loss: 0.00158, lr: 3.74E-04, _patience: 6\n",
            "Epoch: 17 | train_loss: 0.00044, val_loss: 0.00168, lr: 3.74E-04, _patience: 5\n",
            "Epoch: 18 | train_loss: 0.00040, val_loss: 0.00186, lr: 3.74E-05, _patience: 4\n",
            "Epoch: 19 | train_loss: 0.00034, val_loss: 0.00157, lr: 3.74E-05, _patience: 10\n",
            "Epoch: 20 | train_loss: 0.00027, val_loss: 0.00163, lr: 3.74E-05, _patience: 9\n",
            "Epoch: 21 | train_loss: 0.00026, val_loss: 0.00160, lr: 3.74E-05, _patience: 8\n",
            "Epoch: 22 | train_loss: 0.00026, val_loss: 0.00159, lr: 3.74E-05, _patience: 7\n",
            "Epoch: 23 | train_loss: 0.00025, val_loss: 0.00158, lr: 3.74E-05, _patience: 6\n",
            "Epoch: 24 | train_loss: 0.00025, val_loss: 0.00161, lr: 3.74E-05, _patience: 5\n",
            "Epoch: 25 | train_loss: 0.00024, val_loss: 0.00161, lr: 3.74E-06, _patience: 4\n",
            "Epoch: 26 | train_loss: 0.00024, val_loss: 0.00161, lr: 3.74E-06, _patience: 3\n",
            "Epoch: 27 | train_loss: 0.00025, val_loss: 0.00161, lr: 3.74E-06, _patience: 2\n",
            "Epoch: 28 | train_loss: 0.00024, val_loss: 0.00161, lr: 3.74E-06, _patience: 1\n",
            "Stopping early!\n"
          ]
        },
        {
          "output_type": "stream",
          "name": "stderr",
          "text": [
            "\u001b[32m[I 2021-09-01 01:43:02,797]\u001b[0m Trial 40 finished with value: 0.6729341990881108 and parameters: {'embedding_dim': 268, 'num_filters': 310, 'hidden_dim': 204, 'dropout_p': 0.4081664296973089, 'lr': 0.0003738495619381531}. Best is trial 37 with value: 0.6953118802537894.\u001b[0m\n"
          ]
        },
        {
          "output_type": "stream",
          "name": "stdout",
          "text": [
            "Epoch: 1 | train_loss: 0.00594, val_loss: 0.00299, lr: 4.81E-04, _patience: 10\n",
            "Epoch: 2 | train_loss: 0.00333, val_loss: 0.00253, lr: 4.81E-04, _patience: 10\n",
            "Epoch: 3 | train_loss: 0.00256, val_loss: 0.00209, lr: 4.81E-04, _patience: 10\n",
            "Epoch: 4 | train_loss: 0.00201, val_loss: 0.00179, lr: 4.81E-04, _patience: 10\n",
            "Epoch: 5 | train_loss: 0.00167, val_loss: 0.00169, lr: 4.81E-04, _patience: 10\n",
            "Epoch: 6 | train_loss: 0.00137, val_loss: 0.00160, lr: 4.81E-04, _patience: 10\n",
            "Epoch: 7 | train_loss: 0.00110, val_loss: 0.00160, lr: 4.81E-04, _patience: 9\n",
            "Epoch: 8 | train_loss: 0.00094, val_loss: 0.00158, lr: 4.81E-04, _patience: 10\n",
            "Epoch: 9 | train_loss: 0.00077, val_loss: 0.00161, lr: 4.81E-04, _patience: 9\n",
            "Epoch: 10 | train_loss: 0.00066, val_loss: 0.00170, lr: 4.81E-04, _patience: 8\n",
            "Epoch: 11 | train_loss: 0.00053, val_loss: 0.00165, lr: 4.81E-04, _patience: 7\n",
            "Epoch: 12 | train_loss: 0.00047, val_loss: 0.00162, lr: 4.81E-04, _patience: 6\n",
            "Epoch: 13 | train_loss: 0.00039, val_loss: 0.00170, lr: 4.81E-04, _patience: 5\n",
            "Epoch: 14 | train_loss: 0.00033, val_loss: 0.00180, lr: 4.81E-05, _patience: 4\n",
            "Epoch: 15 | train_loss: 0.00027, val_loss: 0.00161, lr: 4.81E-05, _patience: 3\n",
            "Epoch: 16 | train_loss: 0.00022, val_loss: 0.00166, lr: 4.81E-05, _patience: 2\n",
            "Epoch: 17 | train_loss: 0.00021, val_loss: 0.00163, lr: 4.81E-05, _patience: 1\n",
            "Stopping early!\n"
          ]
        },
        {
          "output_type": "stream",
          "name": "stderr",
          "text": [
            "\u001b[32m[I 2021-09-01 01:44:54,080]\u001b[0m Trial 41 finished with value: 0.6862666607836971 and parameters: {'embedding_dim': 245, 'num_filters': 399, 'hidden_dim': 285, 'dropout_p': 0.36380498056481275, 'lr': 0.0004811618822760915}. Best is trial 37 with value: 0.6953118802537894.\u001b[0m\n"
          ]
        },
        {
          "output_type": "stream",
          "name": "stdout",
          "text": [
            "Epoch: 1 | train_loss: 0.00577, val_loss: 0.00349, lr: 3.31E-04, _patience: 10\n",
            "Epoch: 2 | train_loss: 0.00358, val_loss: 0.00252, lr: 3.31E-04, _patience: 10\n",
            "Epoch: 3 | train_loss: 0.00284, val_loss: 0.00224, lr: 3.31E-04, _patience: 10\n",
            "Epoch: 4 | train_loss: 0.00235, val_loss: 0.00199, lr: 3.31E-04, _patience: 10\n",
            "Epoch: 5 | train_loss: 0.00198, val_loss: 0.00182, lr: 3.31E-04, _patience: 10\n",
            "Epoch: 6 | train_loss: 0.00171, val_loss: 0.00174, lr: 3.31E-04, _patience: 10\n",
            "Epoch: 7 | train_loss: 0.00149, val_loss: 0.00165, lr: 3.31E-04, _patience: 10\n",
            "Epoch: 8 | train_loss: 0.00125, val_loss: 0.00159, lr: 3.31E-04, _patience: 10\n",
            "Epoch: 9 | train_loss: 0.00112, val_loss: 0.00161, lr: 3.31E-04, _patience: 9\n",
            "Epoch: 10 | train_loss: 0.00099, val_loss: 0.00162, lr: 3.31E-04, _patience: 8\n",
            "Epoch: 11 | train_loss: 0.00085, val_loss: 0.00159, lr: 3.31E-04, _patience: 7\n",
            "Epoch: 12 | train_loss: 0.00073, val_loss: 0.00157, lr: 3.31E-04, _patience: 10\n",
            "Epoch: 13 | train_loss: 0.00065, val_loss: 0.00157, lr: 3.31E-04, _patience: 9\n",
            "Epoch: 14 | train_loss: 0.00058, val_loss: 0.00154, lr: 3.31E-04, _patience: 10\n",
            "Epoch: 15 | train_loss: 0.00051, val_loss: 0.00165, lr: 3.31E-04, _patience: 9\n",
            "Epoch: 16 | train_loss: 0.00046, val_loss: 0.00174, lr: 3.31E-04, _patience: 8\n",
            "Epoch: 17 | train_loss: 0.00043, val_loss: 0.00170, lr: 3.31E-04, _patience: 7\n",
            "Epoch: 18 | train_loss: 0.00039, val_loss: 0.00179, lr: 3.31E-04, _patience: 6\n",
            "Epoch: 19 | train_loss: 0.00035, val_loss: 0.00195, lr: 3.31E-04, _patience: 5\n",
            "Epoch: 20 | train_loss: 0.00034, val_loss: 0.00170, lr: 3.31E-05, _patience: 4\n",
            "Epoch: 21 | train_loss: 0.00027, val_loss: 0.00161, lr: 3.31E-05, _patience: 3\n",
            "Epoch: 22 | train_loss: 0.00024, val_loss: 0.00158, lr: 3.31E-05, _patience: 2\n",
            "Epoch: 23 | train_loss: 0.00022, val_loss: 0.00164, lr: 3.31E-05, _patience: 1\n",
            "Stopping early!\n"
          ]
        },
        {
          "output_type": "stream",
          "name": "stderr",
          "text": [
            "\u001b[32m[I 2021-09-01 01:47:03,798]\u001b[0m Trial 42 finished with value: 0.6930915673772244 and parameters: {'embedding_dim': 308, 'num_filters': 379, 'hidden_dim': 227, 'dropout_p': 0.43381811029003325, 'lr': 0.00033075088497390464}. Best is trial 37 with value: 0.6953118802537894.\u001b[0m\n"
          ]
        },
        {
          "output_type": "stream",
          "name": "stdout",
          "text": [
            "Epoch: 1 | train_loss: 0.00671, val_loss: 0.00391, lr: 3.24E-04, _patience: 10\n",
            "Epoch: 2 | train_loss: 0.00398, val_loss: 0.00259, lr: 3.24E-04, _patience: 10\n",
            "Epoch: 3 | train_loss: 0.00314, val_loss: 0.00246, lr: 3.24E-04, _patience: 10\n",
            "Epoch: 4 | train_loss: 0.00273, val_loss: 0.00221, lr: 3.24E-04, _patience: 10\n",
            "Epoch: 5 | train_loss: 0.00236, val_loss: 0.00203, lr: 3.24E-04, _patience: 10\n",
            "Epoch: 6 | train_loss: 0.00212, val_loss: 0.00187, lr: 3.24E-04, _patience: 10\n",
            "Epoch: 7 | train_loss: 0.00182, val_loss: 0.00184, lr: 3.24E-04, _patience: 10\n",
            "Epoch: 8 | train_loss: 0.00160, val_loss: 0.00171, lr: 3.24E-04, _patience: 10\n",
            "Epoch: 9 | train_loss: 0.00146, val_loss: 0.00162, lr: 3.24E-04, _patience: 10\n",
            "Epoch: 10 | train_loss: 0.00129, val_loss: 0.00164, lr: 3.24E-04, _patience: 9\n",
            "Epoch: 11 | train_loss: 0.00115, val_loss: 0.00163, lr: 3.24E-04, _patience: 8\n",
            "Epoch: 12 | train_loss: 0.00102, val_loss: 0.00162, lr: 3.24E-04, _patience: 7\n",
            "Epoch: 13 | train_loss: 0.00091, val_loss: 0.00160, lr: 3.24E-04, _patience: 10\n",
            "Epoch: 14 | train_loss: 0.00087, val_loss: 0.00159, lr: 3.24E-04, _patience: 10\n",
            "Epoch: 15 | train_loss: 0.00077, val_loss: 0.00150, lr: 3.24E-04, _patience: 10\n",
            "Epoch: 16 | train_loss: 0.00068, val_loss: 0.00179, lr: 3.24E-04, _patience: 9\n",
            "Epoch: 17 | train_loss: 0.00065, val_loss: 0.00167, lr: 3.24E-04, _patience: 8\n",
            "Epoch: 18 | train_loss: 0.00062, val_loss: 0.00167, lr: 3.24E-04, _patience: 7\n",
            "Epoch: 19 | train_loss: 0.00057, val_loss: 0.00160, lr: 3.24E-04, _patience: 6\n",
            "Epoch: 20 | train_loss: 0.00053, val_loss: 0.00187, lr: 3.24E-04, _patience: 5\n",
            "Epoch: 21 | train_loss: 0.00047, val_loss: 0.00204, lr: 3.24E-05, _patience: 4\n",
            "Epoch: 22 | train_loss: 0.00049, val_loss: 0.00151, lr: 3.24E-05, _patience: 3\n",
            "Epoch: 23 | train_loss: 0.00039, val_loss: 0.00163, lr: 3.24E-05, _patience: 2\n",
            "Epoch: 24 | train_loss: 0.00035, val_loss: 0.00158, lr: 3.24E-05, _patience: 1\n",
            "Stopping early!\n"
          ]
        },
        {
          "output_type": "stream",
          "name": "stderr",
          "text": [
            "\u001b[32m[I 2021-09-01 01:50:14,598]\u001b[0m Trial 43 finished with value: 0.6882894422184352 and parameters: {'embedding_dim': 261, 'num_filters': 468, 'hidden_dim': 225, 'dropout_p': 0.5803207062540764, 'lr': 0.000324057138739825}. Best is trial 37 with value: 0.6953118802537894.\u001b[0m\n"
          ]
        },
        {
          "output_type": "stream",
          "name": "stdout",
          "text": [
            "Epoch: 1 | train_loss: 0.00541, val_loss: 0.00338, lr: 2.82E-04, _patience: 10\n",
            "Epoch: 2 | train_loss: 0.00370, val_loss: 0.00254, lr: 2.82E-04, _patience: 10\n",
            "Epoch: 3 | train_loss: 0.00297, val_loss: 0.00231, lr: 2.82E-04, _patience: 10\n",
            "Epoch: 4 | train_loss: 0.00250, val_loss: 0.00210, lr: 2.82E-04, _patience: 10\n",
            "Epoch: 5 | train_loss: 0.00221, val_loss: 0.00193, lr: 2.82E-04, _patience: 10\n",
            "Epoch: 6 | train_loss: 0.00189, val_loss: 0.00180, lr: 2.82E-04, _patience: 10\n",
            "Epoch: 7 | train_loss: 0.00167, val_loss: 0.00173, lr: 2.82E-04, _patience: 10\n",
            "Epoch: 8 | train_loss: 0.00149, val_loss: 0.00163, lr: 2.82E-04, _patience: 10\n",
            "Epoch: 9 | train_loss: 0.00134, val_loss: 0.00169, lr: 2.82E-04, _patience: 9\n",
            "Epoch: 10 | train_loss: 0.00118, val_loss: 0.00157, lr: 2.82E-04, _patience: 10\n",
            "Epoch: 11 | train_loss: 0.00107, val_loss: 0.00155, lr: 2.82E-04, _patience: 10\n",
            "Epoch: 12 | train_loss: 0.00094, val_loss: 0.00159, lr: 2.82E-04, _patience: 9\n",
            "Epoch: 13 | train_loss: 0.00088, val_loss: 0.00160, lr: 2.82E-04, _patience: 8\n",
            "Epoch: 14 | train_loss: 0.00076, val_loss: 0.00161, lr: 2.82E-04, _patience: 7\n",
            "Epoch: 15 | train_loss: 0.00070, val_loss: 0.00155, lr: 2.82E-04, _patience: 6\n",
            "Epoch: 16 | train_loss: 0.00065, val_loss: 0.00151, lr: 2.82E-04, _patience: 10\n",
            "Epoch: 17 | train_loss: 0.00061, val_loss: 0.00174, lr: 2.82E-04, _patience: 9\n",
            "Epoch: 18 | train_loss: 0.00055, val_loss: 0.00183, lr: 2.82E-04, _patience: 8\n",
            "Epoch: 19 | train_loss: 0.00052, val_loss: 0.00178, lr: 2.82E-04, _patience: 7\n",
            "Epoch: 20 | train_loss: 0.00053, val_loss: 0.00170, lr: 2.82E-04, _patience: 6\n",
            "Epoch: 21 | train_loss: 0.00051, val_loss: 0.00169, lr: 2.82E-04, _patience: 5\n",
            "Epoch: 22 | train_loss: 0.00048, val_loss: 0.00183, lr: 2.82E-05, _patience: 4\n",
            "Epoch: 23 | train_loss: 0.00042, val_loss: 0.00160, lr: 2.82E-05, _patience: 3\n",
            "Epoch: 24 | train_loss: 0.00033, val_loss: 0.00160, lr: 2.82E-05, _patience: 2\n",
            "Epoch: 25 | train_loss: 0.00031, val_loss: 0.00160, lr: 2.82E-05, _patience: 1\n",
            "Stopping early!\n"
          ]
        },
        {
          "output_type": "stream",
          "name": "stderr",
          "text": [
            "\u001b[32m[I 2021-09-01 01:52:42,584]\u001b[0m Trial 44 finished with value: 0.6703671944177864 and parameters: {'embedding_dim': 324, 'num_filters': 381, 'hidden_dim': 173, 'dropout_p': 0.47825397853722257, 'lr': 0.0002819727860863037}. Best is trial 37 with value: 0.6953118802537894.\u001b[0m\n"
          ]
        },
        {
          "output_type": "stream",
          "name": "stdout",
          "text": [
            "Epoch: 1 | train_loss: 0.00558, val_loss: 0.00310, lr: 3.51E-04, _patience: 10\n",
            "Epoch: 2 | train_loss: 0.00333, val_loss: 0.00243, lr: 3.51E-04, _patience: 10\n",
            "Epoch: 3 | train_loss: 0.00271, val_loss: 0.00212, lr: 3.51E-04, _patience: 10\n",
            "Epoch: 4 | train_loss: 0.00214, val_loss: 0.00188, lr: 3.51E-04, _patience: 10\n",
            "Epoch: 5 | train_loss: 0.00182, val_loss: 0.00176, lr: 3.51E-04, _patience: 10\n",
            "Epoch: 6 | train_loss: 0.00152, val_loss: 0.00172, lr: 3.51E-04, _patience: 10\n",
            "Epoch: 7 | train_loss: 0.00133, val_loss: 0.00164, lr: 3.51E-04, _patience: 10\n",
            "Epoch: 8 | train_loss: 0.00112, val_loss: 0.00157, lr: 3.51E-04, _patience: 10\n",
            "Epoch: 9 | train_loss: 0.00098, val_loss: 0.00154, lr: 3.51E-04, _patience: 10\n",
            "Epoch: 10 | train_loss: 0.00084, val_loss: 0.00147, lr: 3.51E-04, _patience: 10\n",
            "Epoch: 11 | train_loss: 0.00073, val_loss: 0.00154, lr: 3.51E-04, _patience: 9\n",
            "Epoch: 12 | train_loss: 0.00062, val_loss: 0.00157, lr: 3.51E-04, _patience: 8\n",
            "Epoch: 13 | train_loss: 0.00054, val_loss: 0.00159, lr: 3.51E-04, _patience: 7\n",
            "Epoch: 14 | train_loss: 0.00050, val_loss: 0.00155, lr: 3.51E-04, _patience: 6\n",
            "Epoch: 15 | train_loss: 0.00045, val_loss: 0.00175, lr: 3.51E-04, _patience: 5\n",
            "Epoch: 16 | train_loss: 0.00041, val_loss: 0.00177, lr: 3.51E-05, _patience: 4\n",
            "Epoch: 17 | train_loss: 0.00034, val_loss: 0.00163, lr: 3.51E-05, _patience: 3\n",
            "Epoch: 18 | train_loss: 0.00028, val_loss: 0.00161, lr: 3.51E-05, _patience: 2\n",
            "Epoch: 19 | train_loss: 0.00027, val_loss: 0.00160, lr: 3.51E-05, _patience: 1\n",
            "Stopping early!\n"
          ]
        },
        {
          "output_type": "stream",
          "name": "stderr",
          "text": [
            "\u001b[32m[I 2021-09-01 01:54:51,377]\u001b[0m Trial 45 finished with value: 0.693683201225191 and parameters: {'embedding_dim': 392, 'num_filters': 341, 'hidden_dim': 236, 'dropout_p': 0.43476926205890937, 'lr': 0.0003508056624921981}. Best is trial 37 with value: 0.6953118802537894.\u001b[0m\n"
          ]
        },
        {
          "output_type": "stream",
          "name": "stdout",
          "text": [
            "Epoch: 1 | train_loss: 0.00508, val_loss: 0.00337, lr: 2.22E-04, _patience: 10\n",
            "Epoch: 2 | train_loss: 0.00347, val_loss: 0.00253, lr: 2.22E-04, _patience: 10\n",
            "Epoch: 3 | train_loss: 0.00283, val_loss: 0.00230, lr: 2.22E-04, _patience: 10\n",
            "Epoch: 4 | train_loss: 0.00240, val_loss: 0.00206, lr: 2.22E-04, _patience: 10\n",
            "Epoch: 5 | train_loss: 0.00209, val_loss: 0.00191, lr: 2.22E-04, _patience: 10\n",
            "Epoch: 6 | train_loss: 0.00180, val_loss: 0.00178, lr: 2.22E-04, _patience: 10\n",
            "Epoch: 7 | train_loss: 0.00160, val_loss: 0.00170, lr: 2.22E-04, _patience: 10\n",
            "Epoch: 8 | train_loss: 0.00141, val_loss: 0.00163, lr: 2.22E-04, _patience: 10\n",
            "Epoch: 9 | train_loss: 0.00128, val_loss: 0.00159, lr: 2.22E-04, _patience: 10\n",
            "Epoch: 10 | train_loss: 0.00110, val_loss: 0.00152, lr: 2.22E-04, _patience: 10\n",
            "Epoch: 11 | train_loss: 0.00103, val_loss: 0.00150, lr: 2.22E-04, _patience: 10\n",
            "Epoch: 12 | train_loss: 0.00089, val_loss: 0.00150, lr: 2.22E-04, _patience: 9\n",
            "Epoch: 13 | train_loss: 0.00080, val_loss: 0.00154, lr: 2.22E-04, _patience: 8\n",
            "Epoch: 14 | train_loss: 0.00071, val_loss: 0.00155, lr: 2.22E-04, _patience: 7\n",
            "Epoch: 15 | train_loss: 0.00064, val_loss: 0.00154, lr: 2.22E-04, _patience: 6\n",
            "Epoch: 16 | train_loss: 0.00058, val_loss: 0.00157, lr: 2.22E-04, _patience: 5\n",
            "Epoch: 17 | train_loss: 0.00054, val_loss: 0.00159, lr: 2.22E-05, _patience: 4\n",
            "Epoch: 18 | train_loss: 0.00046, val_loss: 0.00144, lr: 2.22E-05, _patience: 10\n",
            "Epoch: 19 | train_loss: 0.00042, val_loss: 0.00143, lr: 2.22E-05, _patience: 10\n",
            "Epoch: 20 | train_loss: 0.00040, val_loss: 0.00146, lr: 2.22E-05, _patience: 9\n",
            "Epoch: 21 | train_loss: 0.00040, val_loss: 0.00145, lr: 2.22E-05, _patience: 8\n",
            "Epoch: 22 | train_loss: 0.00039, val_loss: 0.00143, lr: 2.22E-05, _patience: 7\n",
            "Epoch: 23 | train_loss: 0.00037, val_loss: 0.00147, lr: 2.22E-05, _patience: 6\n",
            "Epoch: 24 | train_loss: 0.00039, val_loss: 0.00143, lr: 2.22E-05, _patience: 5\n",
            "Epoch: 25 | train_loss: 0.00037, val_loss: 0.00145, lr: 2.22E-06, _patience: 4\n",
            "Epoch: 26 | train_loss: 0.00038, val_loss: 0.00144, lr: 2.22E-06, _patience: 3\n",
            "Epoch: 27 | train_loss: 0.00037, val_loss: 0.00144, lr: 2.22E-06, _patience: 2\n",
            "Epoch: 28 | train_loss: 0.00035, val_loss: 0.00144, lr: 2.22E-06, _patience: 1\n",
            "Stopping early!\n"
          ]
        },
        {
          "output_type": "stream",
          "name": "stderr",
          "text": [
            "\u001b[32m[I 2021-09-01 01:58:01,082]\u001b[0m Trial 46 finished with value: 0.6821579837311013 and parameters: {'embedding_dim': 395, 'num_filters': 354, 'hidden_dim': 241, 'dropout_p': 0.4357413965228127, 'lr': 0.0002222386913649848}. Best is trial 37 with value: 0.6953118802537894.\u001b[0m\n"
          ]
        },
        {
          "output_type": "stream",
          "name": "stdout",
          "text": [
            "Epoch: 1 | train_loss: 0.00534, val_loss: 0.00340, lr: 1.71E-04, _patience: 10\n",
            "Epoch: 2 | train_loss: 0.00388, val_loss: 0.00253, lr: 1.71E-04, _patience: 10\n",
            "Epoch: 3 | train_loss: 0.00314, val_loss: 0.00235, lr: 1.71E-04, _patience: 10\n",
            "Epoch: 4 | train_loss: 0.00278, val_loss: 0.00216, lr: 1.71E-04, _patience: 10\n",
            "Epoch: 5 | train_loss: 0.00248, val_loss: 0.00202, lr: 1.71E-04, _patience: 10\n",
            "Epoch: 6 | train_loss: 0.00216, val_loss: 0.00188, lr: 1.71E-04, _patience: 10\n",
            "Epoch: 7 | train_loss: 0.00198, val_loss: 0.00180, lr: 1.71E-04, _patience: 10\n",
            "Epoch: 8 | train_loss: 0.00178, val_loss: 0.00173, lr: 1.71E-04, _patience: 10\n",
            "Epoch: 9 | train_loss: 0.00170, val_loss: 0.00168, lr: 1.71E-04, _patience: 10\n",
            "Epoch: 10 | train_loss: 0.00149, val_loss: 0.00164, lr: 1.71E-04, _patience: 10\n",
            "Epoch: 11 | train_loss: 0.00141, val_loss: 0.00166, lr: 1.71E-04, _patience: 9\n",
            "Epoch: 12 | train_loss: 0.00126, val_loss: 0.00154, lr: 1.71E-04, _patience: 10\n",
            "Epoch: 13 | train_loss: 0.00119, val_loss: 0.00160, lr: 1.71E-04, _patience: 9\n",
            "Epoch: 14 | train_loss: 0.00108, val_loss: 0.00155, lr: 1.71E-04, _patience: 8\n",
            "Epoch: 15 | train_loss: 0.00102, val_loss: 0.00158, lr: 1.71E-04, _patience: 7\n",
            "Epoch: 16 | train_loss: 0.00094, val_loss: 0.00148, lr: 1.71E-04, _patience: 10\n",
            "Epoch: 17 | train_loss: 0.00088, val_loss: 0.00151, lr: 1.71E-04, _patience: 9\n",
            "Epoch: 18 | train_loss: 0.00080, val_loss: 0.00160, lr: 1.71E-04, _patience: 8\n",
            "Epoch: 19 | train_loss: 0.00076, val_loss: 0.00144, lr: 1.71E-04, _patience: 10\n",
            "Epoch: 20 | train_loss: 0.00069, val_loss: 0.00158, lr: 1.71E-04, _patience: 9\n",
            "Epoch: 21 | train_loss: 0.00063, val_loss: 0.00151, lr: 1.71E-04, _patience: 8\n",
            "Epoch: 22 | train_loss: 0.00059, val_loss: 0.00152, lr: 1.71E-04, _patience: 7\n",
            "Epoch: 23 | train_loss: 0.00057, val_loss: 0.00156, lr: 1.71E-04, _patience: 6\n",
            "Epoch: 24 | train_loss: 0.00054, val_loss: 0.00173, lr: 1.71E-04, _patience: 5\n",
            "Epoch: 25 | train_loss: 0.00050, val_loss: 0.00152, lr: 1.71E-05, _patience: 4\n",
            "Epoch: 26 | train_loss: 0.00046, val_loss: 0.00158, lr: 1.71E-05, _patience: 3\n",
            "Epoch: 27 | train_loss: 0.00043, val_loss: 0.00151, lr: 1.71E-05, _patience: 2\n",
            "Epoch: 28 | train_loss: 0.00041, val_loss: 0.00154, lr: 1.71E-05, _patience: 1\n",
            "Stopping early!\n"
          ]
        },
        {
          "output_type": "stream",
          "name": "stderr",
          "text": [
            "\u001b[32m[I 2021-09-01 02:01:30,208]\u001b[0m Trial 47 finished with value: 0.6691019725440648 and parameters: {'embedding_dim': 464, 'num_filters': 326, 'hidden_dim': 183, 'dropout_p': 0.5222951829099284, 'lr': 0.0001714786871500336}. Best is trial 37 with value: 0.6953118802537894.\u001b[0m\n"
          ]
        },
        {
          "output_type": "stream",
          "name": "stdout",
          "text": [
            "Epoch: 1 | train_loss: 0.00578, val_loss: 0.00359, lr: 3.47E-04, _patience: 10\n",
            "Epoch: 2 | train_loss: 0.00388, val_loss: 0.00268, lr: 3.47E-04, _patience: 10\n",
            "Epoch: 3 | train_loss: 0.00320, val_loss: 0.00252, lr: 3.47E-04, _patience: 10\n",
            "Epoch: 4 | train_loss: 0.00285, val_loss: 0.00238, lr: 3.47E-04, _patience: 10\n",
            "Epoch: 5 | train_loss: 0.00257, val_loss: 0.00226, lr: 3.47E-04, _patience: 10\n",
            "Epoch: 6 | train_loss: 0.00231, val_loss: 0.00210, lr: 3.47E-04, _patience: 10\n",
            "Epoch: 7 | train_loss: 0.00209, val_loss: 0.00195, lr: 3.47E-04, _patience: 10\n",
            "Epoch: 8 | train_loss: 0.00188, val_loss: 0.00180, lr: 3.47E-04, _patience: 10\n",
            "Epoch: 9 | train_loss: 0.00173, val_loss: 0.00178, lr: 3.47E-04, _patience: 10\n",
            "Epoch: 10 | train_loss: 0.00155, val_loss: 0.00170, lr: 3.47E-04, _patience: 10\n",
            "Epoch: 11 | train_loss: 0.00141, val_loss: 0.00167, lr: 3.47E-04, _patience: 10\n",
            "Epoch: 12 | train_loss: 0.00127, val_loss: 0.00163, lr: 3.47E-04, _patience: 10\n",
            "Epoch: 13 | train_loss: 0.00113, val_loss: 0.00163, lr: 3.47E-04, _patience: 9\n",
            "Epoch: 14 | train_loss: 0.00109, val_loss: 0.00163, lr: 3.47E-04, _patience: 8\n",
            "Epoch: 15 | train_loss: 0.00099, val_loss: 0.00162, lr: 3.47E-04, _patience: 7\n",
            "Epoch: 16 | train_loss: 0.00092, val_loss: 0.00158, lr: 3.47E-04, _patience: 10\n",
            "Epoch: 17 | train_loss: 0.00082, val_loss: 0.00162, lr: 3.47E-04, _patience: 9\n",
            "Epoch: 18 | train_loss: 0.00078, val_loss: 0.00161, lr: 3.47E-04, _patience: 8\n",
            "Epoch: 19 | train_loss: 0.00069, val_loss: 0.00160, lr: 3.47E-04, _patience: 7\n",
            "Epoch: 20 | train_loss: 0.00064, val_loss: 0.00174, lr: 3.47E-04, _patience: 6\n",
            "Epoch: 21 | train_loss: 0.00059, val_loss: 0.00166, lr: 3.47E-04, _patience: 5\n",
            "Epoch: 22 | train_loss: 0.00056, val_loss: 0.00170, lr: 3.47E-05, _patience: 4\n",
            "Epoch: 23 | train_loss: 0.00050, val_loss: 0.00151, lr: 3.47E-05, _patience: 10\n",
            "Epoch: 24 | train_loss: 0.00046, val_loss: 0.00151, lr: 3.47E-05, _patience: 9\n",
            "Epoch: 25 | train_loss: 0.00044, val_loss: 0.00152, lr: 3.47E-05, _patience: 8\n",
            "Epoch: 26 | train_loss: 0.00042, val_loss: 0.00152, lr: 3.47E-05, _patience: 7\n",
            "Epoch: 27 | train_loss: 0.00042, val_loss: 0.00152, lr: 3.47E-05, _patience: 6\n",
            "Epoch: 28 | train_loss: 0.00040, val_loss: 0.00153, lr: 3.47E-05, _patience: 5\n",
            "Epoch: 29 | train_loss: 0.00041, val_loss: 0.00153, lr: 3.47E-06, _patience: 4\n",
            "Epoch: 30 | train_loss: 0.00041, val_loss: 0.00153, lr: 3.47E-06, _patience: 3\n",
            "Epoch: 31 | train_loss: 0.00040, val_loss: 0.00152, lr: 3.47E-06, _patience: 2\n",
            "Epoch: 32 | train_loss: 0.00041, val_loss: 0.00152, lr: 3.47E-06, _patience: 1\n",
            "Stopping early!\n"
          ]
        },
        {
          "output_type": "stream",
          "name": "stderr",
          "text": [
            "\u001b[32m[I 2021-09-01 02:03:08,317]\u001b[0m Trial 48 finished with value: 0.6876522840149155 and parameters: {'embedding_dim': 130, 'num_filters': 352, 'hidden_dim': 227, 'dropout_p': 0.545903858451357, 'lr': 0.0003465974708992613}. Best is trial 37 with value: 0.6953118802537894.\u001b[0m\n"
          ]
        },
        {
          "output_type": "stream",
          "name": "stdout",
          "text": [
            "Epoch: 1 | train_loss: 0.00525, val_loss: 0.00311, lr: 2.57E-04, _patience: 10\n",
            "Epoch: 2 | train_loss: 0.00343, val_loss: 0.00244, lr: 2.57E-04, _patience: 10\n",
            "Epoch: 3 | train_loss: 0.00270, val_loss: 0.00216, lr: 2.57E-04, _patience: 10\n",
            "Epoch: 4 | train_loss: 0.00225, val_loss: 0.00194, lr: 2.57E-04, _patience: 10\n",
            "Epoch: 5 | train_loss: 0.00187, val_loss: 0.00184, lr: 2.57E-04, _patience: 10\n",
            "Epoch: 6 | train_loss: 0.00167, val_loss: 0.00174, lr: 2.57E-04, _patience: 10\n",
            "Epoch: 7 | train_loss: 0.00145, val_loss: 0.00162, lr: 2.57E-04, _patience: 10\n",
            "Epoch: 8 | train_loss: 0.00122, val_loss: 0.00160, lr: 2.57E-04, _patience: 10\n",
            "Epoch: 9 | train_loss: 0.00109, val_loss: 0.00160, lr: 2.57E-04, _patience: 9\n",
            "Epoch: 10 | train_loss: 0.00094, val_loss: 0.00156, lr: 2.57E-04, _patience: 10\n",
            "Epoch: 11 | train_loss: 0.00081, val_loss: 0.00162, lr: 2.57E-04, _patience: 9\n",
            "Epoch: 12 | train_loss: 0.00071, val_loss: 0.00163, lr: 2.57E-04, _patience: 8\n",
            "Epoch: 13 | train_loss: 0.00065, val_loss: 0.00165, lr: 2.57E-04, _patience: 7\n",
            "Epoch: 14 | train_loss: 0.00057, val_loss: 0.00172, lr: 2.57E-04, _patience: 6\n",
            "Epoch: 15 | train_loss: 0.00053, val_loss: 0.00162, lr: 2.57E-04, _patience: 5\n",
            "Epoch: 16 | train_loss: 0.00045, val_loss: 0.00163, lr: 2.57E-05, _patience: 4\n",
            "Epoch: 17 | train_loss: 0.00040, val_loss: 0.00155, lr: 2.57E-05, _patience: 10\n",
            "Epoch: 18 | train_loss: 0.00035, val_loss: 0.00155, lr: 2.57E-05, _patience: 9\n",
            "Epoch: 19 | train_loss: 0.00032, val_loss: 0.00155, lr: 2.57E-05, _patience: 8\n",
            "Epoch: 20 | train_loss: 0.00032, val_loss: 0.00155, lr: 2.57E-05, _patience: 7\n",
            "Epoch: 21 | train_loss: 0.00031, val_loss: 0.00154, lr: 2.57E-05, _patience: 10\n",
            "Epoch: 22 | train_loss: 0.00030, val_loss: 0.00154, lr: 2.57E-05, _patience: 9\n",
            "Epoch: 23 | train_loss: 0.00028, val_loss: 0.00158, lr: 2.57E-05, _patience: 8\n",
            "Epoch: 24 | train_loss: 0.00029, val_loss: 0.00154, lr: 2.57E-05, _patience: 7\n",
            "Epoch: 25 | train_loss: 0.00028, val_loss: 0.00156, lr: 2.57E-05, _patience: 6\n",
            "Epoch: 26 | train_loss: 0.00027, val_loss: 0.00158, lr: 2.57E-05, _patience: 5\n",
            "Epoch: 27 | train_loss: 0.00027, val_loss: 0.00158, lr: 2.57E-06, _patience: 4\n",
            "Epoch: 28 | train_loss: 0.00026, val_loss: 0.00158, lr: 2.57E-06, _patience: 3\n",
            "Epoch: 29 | train_loss: 0.00027, val_loss: 0.00157, lr: 2.57E-06, _patience: 2\n",
            "Epoch: 30 | train_loss: 0.00027, val_loss: 0.00157, lr: 2.57E-06, _patience: 1\n",
            "Stopping early!\n"
          ]
        },
        {
          "output_type": "stream",
          "name": "stderr",
          "text": [
            "\u001b[32m[I 2021-09-01 02:07:23,176]\u001b[0m Trial 49 finished with value: 0.6837041066556031 and parameters: {'embedding_dim': 420, 'num_filters': 425, 'hidden_dim': 273, 'dropout_p': 0.4668249712953273, 'lr': 0.0002574200417114758}. Best is trial 37 with value: 0.6953118802537894.\u001b[0m\n"
          ]
        }
      ]
    },
    {
      "cell_type": "code",
      "metadata": {
        "id": "FfRGqQaGkfx8",
        "colab": {
          "base_uri": "https://localhost:8080/"
        },
        "outputId": "8d8762de-760d-4168-d6a4-6ebb9325ebb8"
      },
      "source": [
        "# MLFlow dashboard\n",
        "get_ipython().system_raw(\"mlflow server -h 0.0.0.0 -p 5000 --backend-store-uri $PWD/experiments/ &\")\n",
        "ngrok.kill()\n",
        "ngrok.set_auth_token(\"\")\n",
        "ngrok_tunnel = ngrok.connect(addr=\"5000\", proto=\"http\", bind_tls=True)\n",
        "print(\"MLflow Tracking UI:\", ngrok_tunnel.public_url)"
      ],
      "execution_count": null,
      "outputs": [
        {
          "output_type": "stream",
          "name": "stdout",
          "text": [
            "MLflow Tracking UI: https://a597-35-229-225-89.ngrok.io\n"
          ]
        }
      ]
    },
    {
      "cell_type": "markdown",
      "metadata": {
        "id": "NojJ-Z1X6IEQ"
      },
      "source": [
        "You can compare all (or a subset) of the trials in our experiment.\n",
        "<img src=\"https://raw.githubusercontent.com/GokuMohandas/MadeWithML/main/images/mlops/hyperparameter_optimization/compare.png\" width=\"1000\" alt=\"compare\">\n",
        "\n",
        "We can then view the results through various lens (contours, parallel coordinates, etc.)\n",
        "\n",
        "<img src=\"https://raw.githubusercontent.com/GokuMohandas/MadeWithML/main/images/mlops/hyperparameter_optimization/contour.png\" width=\"1000\" alt=\"compare\">\n",
        "<img src=\"https://raw.githubusercontent.com/GokuMohandas/MadeWithML/main/images/mlops/hyperparameter_optimization/parallel_coordinates.png\" width=\"1000\" alt=\"compare\">"
      ]
    },
    {
      "cell_type": "code",
      "metadata": {
        "id": "9HtwFRzEikt7",
        "colab": {
          "base_uri": "https://localhost:8080/",
          "height": 309
        },
        "outputId": "ac488325-f2d7-47eb-e5fc-206975ffca32"
      },
      "source": [
        "# All trials\n",
        "trials_df = study.trials_dataframe()\n",
        "trials_df = trials_df.sort_values([\"value\"], ascending=False)  # sort by metric\n",
        "trials_df.head()"
      ],
      "execution_count": null,
      "outputs": [
        {
          "output_type": "execute_result",
          "data": {
            "text/plain": [
              "    number     value  ... user_attrs_threshold     state\n",
              "37      37  0.695312  ...             0.311554  COMPLETE\n",
              "28      28  0.694329  ...             0.283791  COMPLETE\n",
              "45      45  0.693683  ...             0.249740  COMPLETE\n",
              "15      15  0.693370  ...             0.355480  COMPLETE\n",
              "42      42  0.693092  ...             0.292264  COMPLETE\n",
              "\n",
              "[5 rows x 15 columns]"
            ],
            "text/html": [
              "<div>\n",
              "<style scoped>\n",
              "    .dataframe tbody tr th:only-of-type {\n",
              "        vertical-align: middle;\n",
              "    }\n",
              "\n",
              "    .dataframe tbody tr th {\n",
              "        vertical-align: top;\n",
              "    }\n",
              "\n",
              "    .dataframe thead th {\n",
              "        text-align: right;\n",
              "    }\n",
              "</style>\n",
              "<table border=\"1\" class=\"dataframe\">\n",
              "  <thead>\n",
              "    <tr style=\"text-align: right;\">\n",
              "      <th></th>\n",
              "      <th>number</th>\n",
              "      <th>value</th>\n",
              "      <th>datetime_start</th>\n",
              "      <th>datetime_complete</th>\n",
              "      <th>duration</th>\n",
              "      <th>params_dropout_p</th>\n",
              "      <th>params_embedding_dim</th>\n",
              "      <th>params_hidden_dim</th>\n",
              "      <th>params_lr</th>\n",
              "      <th>params_num_filters</th>\n",
              "      <th>user_attrs_f1</th>\n",
              "      <th>user_attrs_precision</th>\n",
              "      <th>user_attrs_recall</th>\n",
              "      <th>user_attrs_threshold</th>\n",
              "      <th>state</th>\n",
              "    </tr>\n",
              "  </thead>\n",
              "  <tbody>\n",
              "    <tr>\n",
              "      <th>37</th>\n",
              "      <td>37</td>\n",
              "      <td>0.695312</td>\n",
              "      <td>2021-09-01 01:34:02.033031</td>\n",
              "      <td>2021-09-01 01:35:54.231478</td>\n",
              "      <td>0 days 00:01:52.198447</td>\n",
              "      <td>0.417413</td>\n",
              "      <td>234</td>\n",
              "      <td>265</td>\n",
              "      <td>0.000439</td>\n",
              "      <td>383</td>\n",
              "      <td>0.695312</td>\n",
              "      <td>0.826838</td>\n",
              "      <td>0.618026</td>\n",
              "      <td>0.311554</td>\n",
              "      <td>COMPLETE</td>\n",
              "    </tr>\n",
              "    <tr>\n",
              "      <th>28</th>\n",
              "      <td>28</td>\n",
              "      <td>0.694329</td>\n",
              "      <td>2021-09-01 01:18:03.311366</td>\n",
              "      <td>2021-09-01 01:19:41.020192</td>\n",
              "      <td>0 days 00:01:37.708826</td>\n",
              "      <td>0.406399</td>\n",
              "      <td>232</td>\n",
              "      <td>370</td>\n",
              "      <td>0.000270</td>\n",
              "      <td>243</td>\n",
              "      <td>0.694329</td>\n",
              "      <td>0.801054</td>\n",
              "      <td>0.633047</td>\n",
              "      <td>0.283791</td>\n",
              "      <td>COMPLETE</td>\n",
              "    </tr>\n",
              "    <tr>\n",
              "      <th>45</th>\n",
              "      <td>45</td>\n",
              "      <td>0.693683</td>\n",
              "      <td>2021-09-01 01:52:42.628969</td>\n",
              "      <td>2021-09-01 01:54:51.377042</td>\n",
              "      <td>0 days 00:02:08.748073</td>\n",
              "      <td>0.434769</td>\n",
              "      <td>392</td>\n",
              "      <td>236</td>\n",
              "      <td>0.000351</td>\n",
              "      <td>341</td>\n",
              "      <td>0.693683</td>\n",
              "      <td>0.804193</td>\n",
              "      <td>0.633047</td>\n",
              "      <td>0.249740</td>\n",
              "      <td>COMPLETE</td>\n",
              "    </tr>\n",
              "    <tr>\n",
              "      <th>15</th>\n",
              "      <td>15</td>\n",
              "      <td>0.693370</td>\n",
              "      <td>2021-09-01 00:56:39.909775</td>\n",
              "      <td>2021-09-01 00:57:54.122352</td>\n",
              "      <td>0 days 00:01:14.212577</td>\n",
              "      <td>0.410317</td>\n",
              "      <td>332</td>\n",
              "      <td>503</td>\n",
              "      <td>0.000385</td>\n",
              "      <td>254</td>\n",
              "      <td>0.693370</td>\n",
              "      <td>0.838442</td>\n",
              "      <td>0.605150</td>\n",
              "      <td>0.355480</td>\n",
              "      <td>COMPLETE</td>\n",
              "    </tr>\n",
              "    <tr>\n",
              "      <th>42</th>\n",
              "      <td>42</td>\n",
              "      <td>0.693092</td>\n",
              "      <td>2021-09-01 01:44:54.128238</td>\n",
              "      <td>2021-09-01 01:47:03.797744</td>\n",
              "      <td>0 days 00:02:09.669506</td>\n",
              "      <td>0.433818</td>\n",
              "      <td>308</td>\n",
              "      <td>227</td>\n",
              "      <td>0.000331</td>\n",
              "      <td>379</td>\n",
              "      <td>0.693092</td>\n",
              "      <td>0.819735</td>\n",
              "      <td>0.620172</td>\n",
              "      <td>0.292264</td>\n",
              "      <td>COMPLETE</td>\n",
              "    </tr>\n",
              "  </tbody>\n",
              "</table>\n",
              "</div>"
            ]
          },
          "metadata": {},
          "execution_count": 209
        }
      ]
    },
    {
      "cell_type": "code",
      "metadata": {
        "id": "6mP99RFjiENR",
        "colab": {
          "base_uri": "https://localhost:8080/"
        },
        "outputId": "04fe04d8-3343-4a09-fc40-d476c9d1efdd"
      },
      "source": [
        "# Best trial\n",
        "print (f\"Best value (f1): {study.best_trial.value}\")\n",
        "print (f\"Best hyperparameters: {study.best_trial.params}\")"
      ],
      "execution_count": null,
      "outputs": [
        {
          "output_type": "stream",
          "name": "stdout",
          "text": [
            "Best value (f1): 0.6953118802537894\n",
            "Best hyperparameters: {'embedding_dim': 234, 'num_filters': 383, 'hidden_dim': 265, 'dropout_p': 0.4174131267446717, 'lr': 0.0004392663090337615}\n"
          ]
        }
      ]
    },
    {
      "cell_type": "markdown",
      "metadata": {
        "id": "Pggo1cnaix85"
      },
      "source": [
        "> Don't forget to save learned parameters (ex. decision threshold) during training which you'll need later for inference."
      ]
    },
    {
      "cell_type": "code",
      "metadata": {
        "id": "JZIS8RtfiuDc",
        "colab": {
          "base_uri": "https://localhost:8080/"
        },
        "outputId": "667241fc-111a-44ac-e302-5d78bb43c33c"
      },
      "source": [
        "# Save best parameters\n",
        "params = {**args.__dict__, **study.best_trial.params}\n",
        "params[\"threshold\"] = study.best_trial.user_attrs[\"threshold\"]\n",
        "print (json.dumps(params, indent=2, cls=NumpyEncoder))"
      ],
      "execution_count": null,
      "outputs": [
        {
          "output_type": "stream",
          "name": "stdout",
          "text": [
            "{\n",
            "  \"char_level\": true,\n",
            "  \"filter_sizes\": [\n",
            "    1,\n",
            "    2,\n",
            "    3,\n",
            "    4,\n",
            "    5,\n",
            "    6,\n",
            "    7,\n",
            "    8,\n",
            "    9,\n",
            "    10\n",
            "  ],\n",
            "  \"batch_size\": 64,\n",
            "  \"embedding_dim\": 234,\n",
            "  \"num_filters\": 383,\n",
            "  \"hidden_dim\": 265,\n",
            "  \"dropout_p\": 0.4174131267446717,\n",
            "  \"lr\": 0.0004392663090337615,\n",
            "  \"num_epochs\": 100,\n",
            "  \"patience\": 10,\n",
            "  \"threshold\": 0.3115537464618683\n",
            "}\n"
          ]
        }
      ]
    },
    {
      "cell_type": "markdown",
      "metadata": {
        "id": "KbxtdyENi78d"
      },
      "source": [
        "... and now we're finally ready to move from working in Jupyter notebooks to Python scripts. We'll be revisiting everything we did so far, but this time with proper software engineering prinicples such as object oriented programming (OOPs), styling, testing, etc. → [https://madewithml.com/#mlops](https://madewithml.com/#mlops)"
      ]
    }
  ]
}