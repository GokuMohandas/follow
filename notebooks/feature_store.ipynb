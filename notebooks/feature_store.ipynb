{
  "nbformat": 4,
  "nbformat_minor": 2,
  "metadata": {
    "accelerator": "GPU",
    "colab": {
      "name": "feature_store.ipynb",
      "provenance": [],
      "collapsed_sections": [],
      "toc_visible": true
    },
    "kernelspec": {
      "name": "python3",
      "display_name": "Python 3.7.10 64-bit ('venv': venv)"
    },
    "language_info": {
      "codemirror_mode": {
        "name": "ipython",
        "version": 3
      },
      "file_extension": ".py",
      "mimetype": "text/x-python",
      "name": "python",
      "nbconvert_exporter": "python",
      "pygments_lexer": "ipython3",
      "version": "3.7.10"
    },
    "interpreter": {
      "hash": "22f8bab1c7085fe2056d72ab0e6b738d313715ca65b58567ae1751fb5fd43032"
    }
  },
  "cells": [
    {
      "cell_type": "markdown",
      "source": [
        "<div align=\"center\">\n",
        "<h1><img width=\"30\" src=\"https://madewithml.com/static/images/rounded_logo.png\">&nbsp;<a href=\"https://madewithml.com/\">Made With ML</a></h1>\n",
        "Applied ML · MLOps · Production\n",
        "<br>\n",
        "Join 30K+ developers in learning how to responsibly <a href=\"https://madewithml.com/about/\">deliver value</a> with ML.\n",
        "    <br>\n",
        "</div>\n",
        "\n",
        "<br>\n",
        "\n",
        "<div align=\"center\">\n",
        "    <a target=\"_blank\" href=\"https://newsletter.madewithml.com\"><img src=\"https://img.shields.io/badge/Subscribe-30K-brightgreen\"></a>&nbsp;\n",
        "    <a target=\"_blank\" href=\"https://github.com/GokuMohandas/MadeWithML\"><img src=\"https://img.shields.io/github/stars/GokuMohandas/MadeWithML.svg?style=social&label=Star\"></a>&nbsp;\n",
        "    <a target=\"_blank\" href=\"https://www.linkedin.com/in/goku\"><img src=\"https://img.shields.io/badge/style--5eba00.svg?label=LinkedIn&logo=linkedin&style=social\"></a>&nbsp;\n",
        "    <a target=\"_blank\" href=\"https://twitter.com/GokuMohandas\"><img src=\"https://img.shields.io/twitter/follow/GokuMohandas.svg?label=Follow&style=social\"></a>\n",
        "    <br>\n",
        "    🔥&nbsp; Among the <a href=\"https://github.com/topics/mlops\" target=\"_blank\">top MLOps</a> repositories on GitHub\n",
        "</div>\n",
        "\n",
        "<br>\n",
        "<hr>"
      ],
      "metadata": {
        "id": "LPZmAUydQIC9"
      }
    },
    {
      "cell_type": "markdown",
      "source": [
        "# Set up"
      ],
      "metadata": {
        "id": "TD-OaOEB-nb6"
      }
    },
    {
      "cell_type": "markdown",
      "source": [
        "We're going to create a feature repository at the root of our project. [Feast](https://feast.dev/) will create a configuration file for us and we're going to add an additional [features.py](https://github.com/GokuMohandas/MLOps/blob/main/features/features.py) file to define our features.\n",
        "\n",
        "> Traditionally, the feature repository would be it's own isolated repository that other services will use to read/write features from but we're going to simplify it and create it directly in our application's repository."
      ],
      "metadata": {
        "id": "KTNvxXNd-nb9"
      }
    },
    {
      "cell_type": "code",
      "execution_count": null,
      "source": [
        "%%bash\n",
        "cd ../\n",
        "feast init --minimal --template local features\n",
        "cd features\n",
        "touch features.py"
      ],
      "outputs": [
        {
          "output_type": "stream",
          "name": "stdout",
          "text": [
            "\n",
            "Creating a new Feast repository in /Users/goku/Documents/madewithml/branches/features.\n",
            "\n"
          ]
        }
      ],
      "metadata": {
        "id": "kMJ3mS3c-nb9",
        "outputId": "09a1a527-2753-4890-b99f-d7ac634f2c86"
      }
    },
    {
      "cell_type": "markdown",
      "source": [
        "```bash\n",
        "features/\n",
        "├── feature_store.yaml  - configuration\n",
        "└── features.py         - feature definitions\n",
        "```"
      ],
      "metadata": {
        "id": "ydHCklfh-nb-"
      }
    },
    {
      "cell_type": "markdown",
      "source": [
        "We're going to configure the locations for our registry and online store (SQLite) in our [feature_store.yaml](https://github.com/GokuMohandas/MLOps/blob/main/features/feature_store.yaml) file. \n",
        "- **registry**: contains information about our feature repository, such as data sources, feature views, etc. Since it's in a DB, instead of a Python file, it can very quickly be accessed in production.\n",
        "- **online store**: DB (SQLite for local) that stores the (latest) features for defined entites to be used for online inference.\n",
        "\n",
        "If all definitions look valid, Feast will sync the metadata about Feast objects to the registry. The registry is a tiny database storing most of the same information you have in the feature repository. This step is necessary because the production feature serving infrastructure won't be able to access Python files in the feature repository at run time, but it will be able to efficiently and securely read the feature definitions from the registry.\n",
        "\n",
        "Paste the following into features/feature_store.yaml:\n",
        "```yaml\n",
        "# features/feature_store.yaml\n",
        "project: features\n",
        "registry: ../stores/feature/registry.db\n",
        "provider: local\n",
        "online_store:\n",
        "    path: ../stores/feature/online_store.db\n",
        "```"
      ],
      "metadata": {
        "id": "cqY4KpQJ-nb-"
      }
    },
    {
      "cell_type": "markdown",
      "source": [
        "# Data"
      ],
      "metadata": {
        "id": "4pAhyMAD-nb_"
      }
    },
    {
      "cell_type": "markdown",
      "source": [
        "Feast requires it's [data sources](https://github.com/feast-dev/feast/blob/master/sdk/python/feast/data_source.py) to either come from a file ([Parquet](https://databricks.com/glossary/what-is-parquet)), data warehouse ([BigQuery](https://cloud.google.com/bigquery)) or data stream ([Kafka](https://kafka.apache.org/) / [Kinesis](https://aws.amazon.com/kinesis/)). We'll convert our generated features file (`features.json`) into a Parquet file.\n",
        "\n",
        "> Read more about these data sources in our [pipelines](https://madewithml.com/courses/mlops/pipelines/#data) and [deployment](https://madewithml.com/courses/mlops/deployment/#batch-processing) lessons."
      ],
      "metadata": {
        "id": "NzcIUHTR-nb_"
      }
    },
    {
      "cell_type": "code",
      "execution_count": null,
      "source": [
        "import pandas as pd\n",
        "from pathlib import Path\n",
        "from config import config\n",
        "from tagifai import utils"
      ],
      "outputs": [],
      "metadata": {
        "id": "h2dLHojc-ncA"
      }
    },
    {
      "cell_type": "code",
      "execution_count": null,
      "source": [
        "# Load features to df\n",
        "features_fp = Path(config.DATA_DIR, \"features.json\")\n",
        "features = utils.load_dict(filepath=features_fp)\n",
        "df = pd.DataFrame(features)"
      ],
      "outputs": [],
      "metadata": {
        "id": "-4f04YHx-ncB"
      }
    },
    {
      "cell_type": "code",
      "execution_count": null,
      "source": [
        "# Format timestamp\n",
        "df.created_on = pd.to_datetime(df.created_on)"
      ],
      "outputs": [],
      "metadata": {
        "id": "NKMERPHU-ncB"
      }
    },
    {
      "cell_type": "code",
      "execution_count": null,
      "source": [
        "# Convert to parquet\n",
        "df.to_parquet(\n",
        "    Path(config.DATA_DIR, \"features.parquet\"),\n",
        "    compression=None,\n",
        "    allow_truncated_timestamps=True,\n",
        ")"
      ],
      "outputs": [],
      "metadata": {
        "id": "ThfxPpfl-ncB"
      }
    },
    {
      "cell_type": "markdown",
      "source": [
        "Since this is a new data file, we need to version it accordingly:"
      ],
      "metadata": {
        "id": "dUrkFR7--ncC"
      }
    },
    {
      "cell_type": "code",
      "execution_count": null,
      "source": [
        "%%bash\n",
        "cd ../\n",
        "dvc add data/features.parquet\n",
        "dvc push"
      ],
      "outputs": [
        {
          "output_type": "stream",
          "name": "stdout",
          "text": [
            "\n",
            "To track the changes with git, run:\n",
            "\n",
            "\tgit add data/.gitignore data/features.parquet.dvc\n",
            "1 file pushed\n"
          ]
        }
      ],
      "metadata": {
        "id": "lBo-8MNJ-ncC",
        "outputId": "9d604d37-e2d4-4c83-f731-38747c537a53"
      }
    },
    {
      "cell_type": "markdown",
      "source": [
        "And make the appropriate change to our Makefile as well:\n",
        "\n",
        "```bash\n",
        "# DVC\n",
        ".PHONY: dvc\n",
        "dvc:\n",
        "\tdvc add data/projects.json\n",
        "\tdvc add data/tags.json\n",
        "\tdvc add data/features.json\n",
        "\tdvc add data/features.parquet\n",
        "\tdvc push\n",
        "```"
      ],
      "metadata": {
        "id": "YVFjsmPb-ncC"
      }
    },
    {
      "cell_type": "markdown",
      "source": [
        "# Feature definitions"
      ],
      "metadata": {
        "id": "0_ltZDv2-ncD"
      }
    },
    {
      "cell_type": "markdown",
      "source": [
        "Now that we have our data source prepared, we can define our features for the feature store."
      ],
      "metadata": {
        "id": "T9O6fHlB-ncD"
      }
    },
    {
      "cell_type": "code",
      "execution_count": null,
      "source": [
        "from datetime import datetime\n",
        "from feast import Entity, Feature, FeatureView, ValueType\n",
        "from feast.data_source import FileSource\n",
        "from google.protobuf.duration_pb2 import Duration\n",
        "from config import config"
      ],
      "outputs": [],
      "metadata": {
        "id": "k9YqS7BE-ncD"
      }
    },
    {
      "cell_type": "markdown",
      "source": [
        "The first step is to define the location of the features (FileSource in our case) and the timestamp column for each data point."
      ],
      "metadata": {
        "id": "dAnaPyff-ncD"
      }
    },
    {
      "cell_type": "code",
      "execution_count": null,
      "source": [
        "# Read data\n",
        "START_TIME = \"2020-02-17\"\n",
        "project_details = FileSource(\n",
        "    path=str(Path(config.DATA_DIR, \"features.parquet\")),\n",
        "    event_timestamp_column=\"created_on\",\n",
        ")"
      ],
      "outputs": [],
      "metadata": {
        "id": "lwfMrwxm-ncD"
      }
    },
    {
      "cell_type": "markdown",
      "source": [
        "Next, we need to define the main entity that each data point pertains to. In our case, each project has a unique ID with features such as text and tags."
      ],
      "metadata": {
        "id": "QmigolLq-ncE"
      }
    },
    {
      "cell_type": "code",
      "execution_count": null,
      "source": [
        "# Define an entity\n",
        "project = Entity(\n",
        "    name=\"id\",\n",
        "    value_type=ValueType.INT64,\n",
        "    description=\"project id\",\n",
        ")"
      ],
      "outputs": [],
      "metadata": {
        "id": "cLTOs5nc-ncE"
      }
    },
    {
      "cell_type": "markdown",
      "source": [
        "Finally, we're ready to create a [FeatureView](https://docs.feast.dev/concepts/feature-views) that loads specific features (`features`), of various [value types](https://api.docs.feast.dev/python/feast.html?highlight=valuetype#feast.value_type.ValueType), from a data source (`input`) for a specific period of time (`ttl`)."
      ],
      "metadata": {
        "id": "OoaxD1S7-ncE"
      }
    },
    {
      "cell_type": "code",
      "execution_count": null,
      "source": [
        "# Define a Feature View for each project\n",
        "project_details_view = FeatureView(\n",
        "    name=\"project_details\",\n",
        "    entities=[\"id\"],\n",
        "    ttl=Duration(\n",
        "        seconds=(datetime.today() - datetime.strptime(START_TIME, \"%Y-%m-%d\")).days * 24 * 60 * 60\n",
        "    ),\n",
        "    features=[\n",
        "        Feature(name=\"text\", dtype=ValueType.STRING),\n",
        "        Feature(name=\"tags\", dtype=ValueType.STRING_LIST),\n",
        "    ],\n",
        "    online=True,\n",
        "    input=project_details,\n",
        "    tags={},\n",
        ")"
      ],
      "outputs": [],
      "metadata": {
        "id": "H0svQW5V-ncE"
      }
    },
    {
      "cell_type": "markdown",
      "source": [
        "So let's go ahead and define our feature views by moving this code into features/features.py:\n",
        "\n",
        "```python\n",
        "# Feature definition\n",
        "from datetime import datetime\n",
        "from pathlib import Path\n",
        "\n",
        "from feast import Entity, Feature, FeatureView, ValueType\n",
        "from feast.data_source import FileSource\n",
        "from google.protobuf.duration_pb2 import Duration\n",
        "\n",
        "from config import config\n",
        "\n",
        "# Read data\n",
        "START_TIME = \"2020-02-17\"\n",
        "project_details = FileSource(\n",
        "    path=str(Path(config.DATA_DIR, \"features.parquet\")),\n",
        "    event_timestamp_column=\"created_on\",\n",
        ")\n",
        "\n",
        "# Define an entity for the project\n",
        "project = Entity(\n",
        "    name=\"id\",\n",
        "    value_type=ValueType.INT64,\n",
        "    description=\"project id\",\n",
        ")\n",
        "\n",
        "# Define a Feature View for each project\n",
        "# Can be used for fetching historical data and online serving\n",
        "project_details_view = FeatureView(\n",
        "    name=\"project_details\",\n",
        "    entities=[\"id\"],\n",
        "    ttl=Duration(\n",
        "        seconds=(datetime.today() - datetime.strptime(START_TIME, \"%Y-%m-%d\")).days * 24 * 60 * 60\n",
        "    ),\n",
        "    features=[\n",
        "        Feature(name=\"text\", dtype=ValueType.STRING),\n",
        "        Feature(name=\"tags\", dtype=ValueType.STRING_LIST),\n",
        "    ],\n",
        "    online=True,\n",
        "    input=project_details,\n",
        "    tags={},\n",
        ")\n",
        "```"
      ],
      "metadata": {
        "id": "TNl9bKSW-ncE"
      }
    },
    {
      "cell_type": "markdown",
      "source": [
        "Once we've defined our feature views, we can `apply` it to push a version controlled definition of our features to the registry for fast access. It will also configure our registry and online stores that we've defined in our [feature_store.yaml](https://github.com/GokuMohandas/MLOps/blob/main/features/feature_store.yaml)"
      ],
      "metadata": {
        "id": "QwphPMCf-ncF"
      }
    },
    {
      "cell_type": "code",
      "execution_count": null,
      "source": [
        "%%bash\n",
        "cd ../features\n",
        "feast apply"
      ],
      "outputs": [
        {
          "output_type": "stream",
          "name": "stdout",
          "text": [
            "Registered entity id\n",
            "Registered feature view project_details\n",
            "Deploying infrastructure for project_details\n"
          ]
        }
      ],
      "metadata": {
        "id": "_21auGbo-ncF",
        "outputId": "86249d91-e1f8-49c4-bae7-a506c7f48985"
      }
    },
    {
      "cell_type": "markdown",
      "source": [
        "# Historical features"
      ],
      "metadata": {
        "id": "eahDP5K_-ncF"
      }
    },
    {
      "cell_type": "markdown",
      "source": [
        "Once we've registered our feature definition, along with the data source, entity definition, etc., we can use it to fetch historical features. This is done via joins using the provided timestamps using pandas (local) or BigQuery (production)."
      ],
      "metadata": {
        "id": "B0MqyUXJ-ncF"
      }
    },
    {
      "cell_type": "code",
      "execution_count": null,
      "source": [
        "import pandas as pd\n",
        "from feast import FeatureStore"
      ],
      "outputs": [],
      "metadata": {
        "id": "5m7DHJmA-ncF"
      }
    },
    {
      "cell_type": "code",
      "execution_count": null,
      "source": [
        "# Identify entities\n",
        "project_ids = [1, 2, 3]\n",
        "now = datetime.now()\n",
        "timestamps = [datetime(now.year, now.month, now.day)]*len(project_ids)\n",
        "entity_df = pd.DataFrame.from_dict({\"id\": project_ids, \"event_timestamp\": timestamps})\n",
        "entity_df.head()"
      ],
      "outputs": [
        {
          "output_type": "execute_result",
          "data": {
            "text/html": [
              "<div>\n",
              "<style scoped>\n",
              "    .dataframe tbody tr th:only-of-type {\n",
              "        vertical-align: middle;\n",
              "    }\n",
              "\n",
              "    .dataframe tbody tr th {\n",
              "        vertical-align: top;\n",
              "    }\n",
              "\n",
              "    .dataframe thead th {\n",
              "        text-align: right;\n",
              "    }\n",
              "</style>\n",
              "<table border=\"1\" class=\"dataframe\">\n",
              "  <thead>\n",
              "    <tr style=\"text-align: right;\">\n",
              "      <th></th>\n",
              "      <th>id</th>\n",
              "      <th>event_timestamp</th>\n",
              "    </tr>\n",
              "  </thead>\n",
              "  <tbody>\n",
              "    <tr>\n",
              "      <th>0</th>\n",
              "      <td>1</td>\n",
              "      <td>2021-10-13</td>\n",
              "    </tr>\n",
              "    <tr>\n",
              "      <th>1</th>\n",
              "      <td>2</td>\n",
              "      <td>2021-10-13</td>\n",
              "    </tr>\n",
              "    <tr>\n",
              "      <th>2</th>\n",
              "      <td>3</td>\n",
              "      <td>2021-10-13</td>\n",
              "    </tr>\n",
              "  </tbody>\n",
              "</table>\n",
              "</div>"
            ],
            "text/plain": [
              "   id event_timestamp\n",
              "0   1      2021-10-13\n",
              "1   2      2021-10-13\n",
              "2   3      2021-10-13"
            ]
          },
          "metadata": {},
          "execution_count": 28
        }
      ],
      "metadata": {
        "id": "N1cBiIF4-ncF",
        "outputId": "56c1e022-1787-4697-f675-c8af825e5eca"
      }
    },
    {
      "cell_type": "code",
      "execution_count": null,
      "source": [
        "# Get historical features\n",
        "store = FeatureStore(repo_path=Path(config.BASE_DIR, \"features\"))\n",
        "training_df = store.get_historical_features(\n",
        "    entity_df=entity_df,\n",
        "    feature_refs=[\"project_details:text\", \"project_details:tags\"],\n",
        ").to_df()\n",
        "training_df.head()"
      ],
      "outputs": [
        {
          "output_type": "execute_result",
          "data": {
            "text/html": [
              "<div>\n",
              "<style scoped>\n",
              "    .dataframe tbody tr th:only-of-type {\n",
              "        vertical-align: middle;\n",
              "    }\n",
              "\n",
              "    .dataframe tbody tr th {\n",
              "        vertical-align: top;\n",
              "    }\n",
              "\n",
              "    .dataframe thead th {\n",
              "        text-align: right;\n",
              "    }\n",
              "</style>\n",
              "<table border=\"1\" class=\"dataframe\">\n",
              "  <thead>\n",
              "    <tr style=\"text-align: right;\">\n",
              "      <th></th>\n",
              "      <th>event_timestamp</th>\n",
              "      <th>id</th>\n",
              "      <th>project_details__text</th>\n",
              "      <th>project_details__tags</th>\n",
              "    </tr>\n",
              "  </thead>\n",
              "  <tbody>\n",
              "    <tr>\n",
              "      <th>0</th>\n",
              "      <td>2021-10-13 00:00:00+00:00</td>\n",
              "      <td>1</td>\n",
              "      <td>Machine Learning Basics A practical set of not...</td>\n",
              "      <td>[code, tutorial, keras, pytorch, tensorflow, d...</td>\n",
              "    </tr>\n",
              "    <tr>\n",
              "      <th>1</th>\n",
              "      <td>2021-10-13 00:00:00+00:00</td>\n",
              "      <td>2</td>\n",
              "      <td>Deep Learning with Electronic Health Record (E...</td>\n",
              "      <td>[article, tutorial, deep-learning, health, ehr]</td>\n",
              "    </tr>\n",
              "    <tr>\n",
              "      <th>2</th>\n",
              "      <td>2021-10-13 00:00:00+00:00</td>\n",
              "      <td>3</td>\n",
              "      <td>Automatic Parking Management using computer vi...</td>\n",
              "      <td>[code, tutorial, video, python, machine-learni...</td>\n",
              "    </tr>\n",
              "  </tbody>\n",
              "</table>\n",
              "</div>"
            ],
            "text/plain": [
              "            event_timestamp  id  \\\n",
              "0 2021-10-13 00:00:00+00:00   1   \n",
              "1 2021-10-13 00:00:00+00:00   2   \n",
              "2 2021-10-13 00:00:00+00:00   3   \n",
              "\n",
              "                               project_details__text  \\\n",
              "0  Machine Learning Basics A practical set of not...   \n",
              "1  Deep Learning with Electronic Health Record (E...   \n",
              "2  Automatic Parking Management using computer vi...   \n",
              "\n",
              "                               project_details__tags  \n",
              "0  [code, tutorial, keras, pytorch, tensorflow, d...  \n",
              "1    [article, tutorial, deep-learning, health, ehr]  \n",
              "2  [code, tutorial, video, python, machine-learni...  "
            ]
          },
          "metadata": {},
          "execution_count": 29
        }
      ],
      "metadata": {
        "id": "nfZGQsq2-ncG",
        "outputId": "8e47a7d4-f6ba-45ef-9785-d95cb1fc39bd"
      }
    },
    {
      "cell_type": "markdown",
      "source": [
        "# Materialize"
      ],
      "metadata": {
        "id": "leE1-iUH-ncG"
      }
    },
    {
      "cell_type": "markdown",
      "source": [
        "For online inference, we want to retrieve features very quickly via our online store, as opposed to fetching them from slow joins. However, the features are not in our online store just yet, so we'll need to [materialize](https://docs.feast.dev/quickstart#4-materializing-features-to-the-online-store) them first."
      ],
      "metadata": {
        "id": "KbNyLuYr-ncG"
      }
    },
    {
      "cell_type": "code",
      "execution_count": null,
      "source": [
        "%%bash\n",
        "cd ../features\n",
        "CURRENT_TIME=$(date -u +\"%Y-%m-%dT%H:%M:%S\")\n",
        "feast materialize-incremental $CURRENT_TIME"
      ],
      "outputs": [
        {
          "output_type": "stream",
          "name": "stdout",
          "text": [
            "Materializing 1 feature views to 2021-10-13 23:24:43-07:00 into the sqlite online store.\n",
            "\n",
            "project_details from 2020-02-17 23:24:44-08:00 to 2021-10-13 23:24:43-07:00:\n"
          ]
        },
        {
          "output_type": "stream",
          "name": "stderr",
          "text": [
            "100%|████████████████████████████████████████████████████████| 2030/2030 [00:00<00:00, 14161.13it/s]\n"
          ]
        }
      ],
      "metadata": {
        "id": "Lkv3nJNe-ncG",
        "outputId": "958054c4-9731-4377-e0f7-8d8f2b334e62"
      }
    },
    {
      "cell_type": "markdown",
      "source": [
        "This has moved the features for all of our projects into the online store since this was first time materializing to the online store. When we subsequently run the [`materialize-incremental`](https://docs.feast.dev/how-to-guides/load-data-into-the-online-store#2-b-materialize-incremental-alternative) command, Feast keeps track of previous materializations and so we'll only materialize the new data since the last attempt."
      ],
      "metadata": {
        "id": "M59T4U8g-ncG"
      }
    },
    {
      "cell_type": "markdown",
      "source": [
        "# Online features"
      ],
      "metadata": {
        "id": "1NrP0YXZ-ncG"
      }
    },
    {
      "cell_type": "code",
      "execution_count": null,
      "source": [
        "# Get online features\n",
        "store = FeatureStore(repo_path=Path(config.BASE_DIR, \"features\"))\n",
        "feature_vector = store.get_online_features(\n",
        "    feature_refs=[\"project_details:text\", \"project_details:tags\"],\n",
        "    entity_rows=[{\"id\": 1000}],\n",
        ").to_dict()\n",
        "feature_vector"
      ],
      "outputs": [
        {
          "output_type": "execute_result",
          "data": {
            "text/plain": [
              "{'id': [1000],\n",
              " 'project_details__text': ['CMU LTI Low Resource NLP Bootcamp 2020 A low-resource natural language and speech processing bootcamp held by the Carnegie Mellon University Language Technologies Institute in May 2020.'],\n",
              " 'project_details__tags': [['code',\n",
              "   'course',\n",
              "   'tutorial',\n",
              "   'video',\n",
              "   'natural-language-processing',\n",
              "   'low-resource']]}"
            ]
          },
          "metadata": {},
          "execution_count": 31
        }
      ],
      "metadata": {
        "id": "27FcB2iy-ncH",
        "outputId": "b173e025-2f22-493d-fb52-7cc5f44d435d"
      }
    }
  ]
}